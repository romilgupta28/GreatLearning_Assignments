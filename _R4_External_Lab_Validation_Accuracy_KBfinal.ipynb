{
 "cells": [
  {
   "cell_type": "code",
   "execution_count": 26,
   "metadata": {
    "colab": {},
    "colab_type": "code",
    "id": "Y3vvEXP1_0og"
   },
   "outputs": [],
   "source": [
    "# Import important library\n",
    "import numpy as np\n",
    "import pandas as pd\n",
    "import matplotlib.pyplot as plt\n",
    "import seaborn as sns\n",
    "%matplotlib inline\n",
    "import warnings\n",
    "warnings.filterwarnings('ignore')"
   ]
  },
  {
   "cell_type": "markdown",
   "metadata": {
    "colab_type": "text",
    "id": "7O83uMqA_0ol"
   },
   "source": [
    "### Q1 Read the input file and check the data dimension"
   ]
  },
  {
   "cell_type": "code",
   "execution_count": 2,
   "metadata": {
    "colab": {},
    "colab_type": "code",
    "id": "1brbOfG_Enzy"
   },
   "outputs": [],
   "source": [
    "#Read input file and understand the data\n",
    "# \"default\" is my dependent variable"
   ]
  },
  {
   "cell_type": "code",
   "execution_count": 27,
   "metadata": {
    "colab": {},
    "colab_type": "code",
    "id": "_LGo1xnK_0ow"
   },
   "outputs": [
    {
     "data": {
      "text/html": [
       "<div>\n",
       "<style scoped>\n",
       "    .dataframe tbody tr th:only-of-type {\n",
       "        vertical-align: middle;\n",
       "    }\n",
       "\n",
       "    .dataframe tbody tr th {\n",
       "        vertical-align: top;\n",
       "    }\n",
       "\n",
       "    .dataframe thead th {\n",
       "        text-align: right;\n",
       "    }\n",
       "</style>\n",
       "<table border=\"1\" class=\"dataframe\">\n",
       "  <thead>\n",
       "    <tr style=\"text-align: right;\">\n",
       "      <th></th>\n",
       "      <th>default</th>\n",
       "      <th>account_check_status</th>\n",
       "      <th>duration_in_month</th>\n",
       "      <th>credit_history</th>\n",
       "      <th>purpose</th>\n",
       "      <th>credit_amount</th>\n",
       "      <th>savings</th>\n",
       "      <th>present_emp_since</th>\n",
       "      <th>installment_as_income_perc</th>\n",
       "      <th>personal_status_sex</th>\n",
       "      <th>...</th>\n",
       "      <th>present_res_since</th>\n",
       "      <th>property</th>\n",
       "      <th>age</th>\n",
       "      <th>other_installment_plans</th>\n",
       "      <th>housing</th>\n",
       "      <th>credits_this_bank</th>\n",
       "      <th>job</th>\n",
       "      <th>people_under_maintenance</th>\n",
       "      <th>telephone</th>\n",
       "      <th>foreign_worker</th>\n",
       "    </tr>\n",
       "  </thead>\n",
       "  <tbody>\n",
       "    <tr>\n",
       "      <th>0</th>\n",
       "      <td>0</td>\n",
       "      <td>&lt; 0 DM</td>\n",
       "      <td>6</td>\n",
       "      <td>critical account/ other credits existing (not ...</td>\n",
       "      <td>domestic appliances</td>\n",
       "      <td>1169</td>\n",
       "      <td>unknown/ no savings account</td>\n",
       "      <td>.. &gt;= 7 years</td>\n",
       "      <td>4</td>\n",
       "      <td>male : single</td>\n",
       "      <td>...</td>\n",
       "      <td>4</td>\n",
       "      <td>real estate</td>\n",
       "      <td>67</td>\n",
       "      <td>none</td>\n",
       "      <td>own</td>\n",
       "      <td>2</td>\n",
       "      <td>skilled employee / official</td>\n",
       "      <td>1</td>\n",
       "      <td>yes, registered under the customers name</td>\n",
       "      <td>yes</td>\n",
       "    </tr>\n",
       "    <tr>\n",
       "      <th>1</th>\n",
       "      <td>1</td>\n",
       "      <td>0 &lt;= ... &lt; 200 DM</td>\n",
       "      <td>48</td>\n",
       "      <td>existing credits paid back duly till now</td>\n",
       "      <td>domestic appliances</td>\n",
       "      <td>5951</td>\n",
       "      <td>... &lt; 100 DM</td>\n",
       "      <td>1 &lt;= ... &lt; 4 years</td>\n",
       "      <td>2</td>\n",
       "      <td>female : divorced/separated/married</td>\n",
       "      <td>...</td>\n",
       "      <td>2</td>\n",
       "      <td>real estate</td>\n",
       "      <td>22</td>\n",
       "      <td>none</td>\n",
       "      <td>own</td>\n",
       "      <td>1</td>\n",
       "      <td>skilled employee / official</td>\n",
       "      <td>1</td>\n",
       "      <td>none</td>\n",
       "      <td>yes</td>\n",
       "    </tr>\n",
       "    <tr>\n",
       "      <th>2</th>\n",
       "      <td>0</td>\n",
       "      <td>no checking account</td>\n",
       "      <td>12</td>\n",
       "      <td>critical account/ other credits existing (not ...</td>\n",
       "      <td>(vacation - does not exist?)</td>\n",
       "      <td>2096</td>\n",
       "      <td>... &lt; 100 DM</td>\n",
       "      <td>4 &lt;= ... &lt; 7 years</td>\n",
       "      <td>2</td>\n",
       "      <td>male : single</td>\n",
       "      <td>...</td>\n",
       "      <td>3</td>\n",
       "      <td>real estate</td>\n",
       "      <td>49</td>\n",
       "      <td>none</td>\n",
       "      <td>own</td>\n",
       "      <td>1</td>\n",
       "      <td>unskilled - resident</td>\n",
       "      <td>2</td>\n",
       "      <td>none</td>\n",
       "      <td>yes</td>\n",
       "    </tr>\n",
       "    <tr>\n",
       "      <th>3</th>\n",
       "      <td>0</td>\n",
       "      <td>&lt; 0 DM</td>\n",
       "      <td>42</td>\n",
       "      <td>existing credits paid back duly till now</td>\n",
       "      <td>radio/television</td>\n",
       "      <td>7882</td>\n",
       "      <td>... &lt; 100 DM</td>\n",
       "      <td>4 &lt;= ... &lt; 7 years</td>\n",
       "      <td>2</td>\n",
       "      <td>male : single</td>\n",
       "      <td>...</td>\n",
       "      <td>4</td>\n",
       "      <td>if not A121 : building society savings agreeme...</td>\n",
       "      <td>45</td>\n",
       "      <td>none</td>\n",
       "      <td>for free</td>\n",
       "      <td>1</td>\n",
       "      <td>skilled employee / official</td>\n",
       "      <td>2</td>\n",
       "      <td>none</td>\n",
       "      <td>yes</td>\n",
       "    </tr>\n",
       "    <tr>\n",
       "      <th>4</th>\n",
       "      <td>1</td>\n",
       "      <td>&lt; 0 DM</td>\n",
       "      <td>24</td>\n",
       "      <td>delay in paying off in the past</td>\n",
       "      <td>car (new)</td>\n",
       "      <td>4870</td>\n",
       "      <td>... &lt; 100 DM</td>\n",
       "      <td>1 &lt;= ... &lt; 4 years</td>\n",
       "      <td>3</td>\n",
       "      <td>male : single</td>\n",
       "      <td>...</td>\n",
       "      <td>4</td>\n",
       "      <td>unknown / no property</td>\n",
       "      <td>53</td>\n",
       "      <td>none</td>\n",
       "      <td>for free</td>\n",
       "      <td>2</td>\n",
       "      <td>skilled employee / official</td>\n",
       "      <td>2</td>\n",
       "      <td>none</td>\n",
       "      <td>yes</td>\n",
       "    </tr>\n",
       "  </tbody>\n",
       "</table>\n",
       "<p>5 rows × 21 columns</p>\n",
       "</div>"
      ],
      "text/plain": [
       "   default account_check_status  duration_in_month  \\\n",
       "0        0               < 0 DM                  6   \n",
       "1        1    0 <= ... < 200 DM                 48   \n",
       "2        0  no checking account                 12   \n",
       "3        0               < 0 DM                 42   \n",
       "4        1               < 0 DM                 24   \n",
       "\n",
       "                                      credit_history  \\\n",
       "0  critical account/ other credits existing (not ...   \n",
       "1           existing credits paid back duly till now   \n",
       "2  critical account/ other credits existing (not ...   \n",
       "3           existing credits paid back duly till now   \n",
       "4                    delay in paying off in the past   \n",
       "\n",
       "                        purpose  credit_amount                      savings  \\\n",
       "0           domestic appliances           1169  unknown/ no savings account   \n",
       "1           domestic appliances           5951                 ... < 100 DM   \n",
       "2  (vacation - does not exist?)           2096                 ... < 100 DM   \n",
       "3              radio/television           7882                 ... < 100 DM   \n",
       "4                     car (new)           4870                 ... < 100 DM   \n",
       "\n",
       "    present_emp_since  installment_as_income_perc  \\\n",
       "0       .. >= 7 years                           4   \n",
       "1  1 <= ... < 4 years                           2   \n",
       "2  4 <= ... < 7 years                           2   \n",
       "3  4 <= ... < 7 years                           2   \n",
       "4  1 <= ... < 4 years                           3   \n",
       "\n",
       "                   personal_status_sex      ...       present_res_since  \\\n",
       "0                        male : single      ...                       4   \n",
       "1  female : divorced/separated/married      ...                       2   \n",
       "2                        male : single      ...                       3   \n",
       "3                        male : single      ...                       4   \n",
       "4                        male : single      ...                       4   \n",
       "\n",
       "                                            property age  \\\n",
       "0                                        real estate  67   \n",
       "1                                        real estate  22   \n",
       "2                                        real estate  49   \n",
       "3  if not A121 : building society savings agreeme...  45   \n",
       "4                              unknown / no property  53   \n",
       "\n",
       "   other_installment_plans   housing credits_this_bank  \\\n",
       "0                     none       own                 2   \n",
       "1                     none       own                 1   \n",
       "2                     none       own                 1   \n",
       "3                     none  for free                 1   \n",
       "4                     none  for free                 2   \n",
       "\n",
       "                           job people_under_maintenance  \\\n",
       "0  skilled employee / official                        1   \n",
       "1  skilled employee / official                        1   \n",
       "2         unskilled - resident                        2   \n",
       "3  skilled employee / official                        2   \n",
       "4  skilled employee / official                        2   \n",
       "\n",
       "                                   telephone foreign_worker  \n",
       "0  yes, registered under the customers name             yes  \n",
       "1                                       none            yes  \n",
       "2                                       none            yes  \n",
       "3                                       none            yes  \n",
       "4                                       none            yes  \n",
       "\n",
       "[5 rows x 21 columns]"
      ]
     },
     "execution_count": 27,
     "metadata": {},
     "output_type": "execute_result"
    }
   ],
   "source": [
    "# Read source data, use the delimiter parameter as the file is separated by ;\n",
    "data = pd.read_csv('german_credit.csv', delimiter=',')\n",
    "data.head()"
   ]
  },
  {
   "cell_type": "code",
   "execution_count": 28,
   "metadata": {
    "colab": {},
    "colab_type": "code",
    "id": "gKaiZis__0o0"
   },
   "outputs": [
    {
     "name": "stdout",
     "output_type": "stream",
     "text": [
      "Index(['account_check_status', 'credit_history', 'purpose', 'savings',\n",
      "       'present_emp_since', 'personal_status_sex', 'other_debtors', 'property',\n",
      "       'other_installment_plans', 'housing', 'job', 'telephone',\n",
      "       'foreign_worker'],\n",
      "      dtype='object')\n"
     ]
    }
   ],
   "source": [
    "# Lets build a Ensemble model but need to modify the dataset first\n",
    "# Print attribute names which are not numerical\n",
    "print(data.select_dtypes(exclude =['float64','int64']).columns)"
   ]
  },
  {
   "cell_type": "code",
   "execution_count": 29,
   "metadata": {},
   "outputs": [
    {
     "name": "stdout",
     "output_type": "stream",
     "text": [
      "default                        int64\n",
      "account_check_status          object\n",
      "duration_in_month              int64\n",
      "credit_history                object\n",
      "purpose                       object\n",
      "credit_amount                  int64\n",
      "savings                       object\n",
      "present_emp_since             object\n",
      "installment_as_income_perc     int64\n",
      "personal_status_sex           object\n",
      "other_debtors                 object\n",
      "present_res_since              int64\n",
      "property                      object\n",
      "age                            int64\n",
      "other_installment_plans       object\n",
      "housing                       object\n",
      "credits_this_bank              int64\n",
      "job                           object\n",
      "people_under_maintenance       int64\n",
      "telephone                     object\n",
      "foreign_worker                object\n",
      "dtype: object\n"
     ]
    }
   ],
   "source": [
    "# Check for data types of all columns\n",
    "print(data.dtypes)"
   ]
  },
  {
   "cell_type": "code",
   "execution_count": 30,
   "metadata": {},
   "outputs": [
    {
     "data": {
      "text/plain": [
       "False"
      ]
     },
     "execution_count": 30,
     "metadata": {},
     "output_type": "execute_result"
    }
   ],
   "source": [
    "## Check missing values\n",
    "data.isnull().values.any()"
   ]
  },
  {
   "cell_type": "markdown",
   "metadata": {
    "colab_type": "text",
    "id": "utYEGBER_0o4"
   },
   "source": [
    "### Q2.Prepare the model data by converting non-numeric to dummy ( 1 Marks)\n",
    "##### Hint: Use get_dummies"
   ]
  },
  {
   "cell_type": "code",
   "execution_count": 31,
   "metadata": {},
   "outputs": [
    {
     "data": {
      "text/html": [
       "<div>\n",
       "<style scoped>\n",
       "    .dataframe tbody tr th:only-of-type {\n",
       "        vertical-align: middle;\n",
       "    }\n",
       "\n",
       "    .dataframe tbody tr th {\n",
       "        vertical-align: top;\n",
       "    }\n",
       "\n",
       "    .dataframe thead th {\n",
       "        text-align: right;\n",
       "    }\n",
       "</style>\n",
       "<table border=\"1\" class=\"dataframe\">\n",
       "  <thead>\n",
       "    <tr style=\"text-align: right;\">\n",
       "      <th></th>\n",
       "      <th>default</th>\n",
       "      <th>duration_in_month</th>\n",
       "      <th>credit_amount</th>\n",
       "      <th>age</th>\n",
       "      <th>account_check_status_0 &lt;= ... &lt; 200 DM</th>\n",
       "      <th>account_check_status_&lt; 0 DM</th>\n",
       "      <th>account_check_status_&gt;= 200 DM / salary assignments for at least 1 year</th>\n",
       "      <th>account_check_status_no checking account</th>\n",
       "      <th>credit_history_all credits at this bank paid back duly</th>\n",
       "      <th>credit_history_critical account/ other credits existing (not at this bank)</th>\n",
       "      <th>...</th>\n",
       "      <th>job_management/ self-employed/ highly qualified employee/ officer</th>\n",
       "      <th>job_skilled employee / official</th>\n",
       "      <th>job_unemployed/ unskilled - non-resident</th>\n",
       "      <th>job_unskilled - resident</th>\n",
       "      <th>people_under_maintenance_1</th>\n",
       "      <th>people_under_maintenance_2</th>\n",
       "      <th>telephone_none</th>\n",
       "      <th>telephone_yes, registered under the customers name</th>\n",
       "      <th>foreign_worker_no</th>\n",
       "      <th>foreign_worker_yes</th>\n",
       "    </tr>\n",
       "  </thead>\n",
       "  <tbody>\n",
       "    <tr>\n",
       "      <th>0</th>\n",
       "      <td>0</td>\n",
       "      <td>6</td>\n",
       "      <td>1169</td>\n",
       "      <td>67</td>\n",
       "      <td>0</td>\n",
       "      <td>1</td>\n",
       "      <td>0</td>\n",
       "      <td>0</td>\n",
       "      <td>0</td>\n",
       "      <td>1</td>\n",
       "      <td>...</td>\n",
       "      <td>0</td>\n",
       "      <td>1</td>\n",
       "      <td>0</td>\n",
       "      <td>0</td>\n",
       "      <td>1</td>\n",
       "      <td>0</td>\n",
       "      <td>0</td>\n",
       "      <td>1</td>\n",
       "      <td>0</td>\n",
       "      <td>1</td>\n",
       "    </tr>\n",
       "    <tr>\n",
       "      <th>1</th>\n",
       "      <td>1</td>\n",
       "      <td>48</td>\n",
       "      <td>5951</td>\n",
       "      <td>22</td>\n",
       "      <td>1</td>\n",
       "      <td>0</td>\n",
       "      <td>0</td>\n",
       "      <td>0</td>\n",
       "      <td>0</td>\n",
       "      <td>0</td>\n",
       "      <td>...</td>\n",
       "      <td>0</td>\n",
       "      <td>1</td>\n",
       "      <td>0</td>\n",
       "      <td>0</td>\n",
       "      <td>1</td>\n",
       "      <td>0</td>\n",
       "      <td>1</td>\n",
       "      <td>0</td>\n",
       "      <td>0</td>\n",
       "      <td>1</td>\n",
       "    </tr>\n",
       "    <tr>\n",
       "      <th>2</th>\n",
       "      <td>0</td>\n",
       "      <td>12</td>\n",
       "      <td>2096</td>\n",
       "      <td>49</td>\n",
       "      <td>0</td>\n",
       "      <td>0</td>\n",
       "      <td>0</td>\n",
       "      <td>1</td>\n",
       "      <td>0</td>\n",
       "      <td>1</td>\n",
       "      <td>...</td>\n",
       "      <td>0</td>\n",
       "      <td>0</td>\n",
       "      <td>0</td>\n",
       "      <td>1</td>\n",
       "      <td>0</td>\n",
       "      <td>1</td>\n",
       "      <td>1</td>\n",
       "      <td>0</td>\n",
       "      <td>0</td>\n",
       "      <td>1</td>\n",
       "    </tr>\n",
       "    <tr>\n",
       "      <th>3</th>\n",
       "      <td>0</td>\n",
       "      <td>42</td>\n",
       "      <td>7882</td>\n",
       "      <td>45</td>\n",
       "      <td>0</td>\n",
       "      <td>1</td>\n",
       "      <td>0</td>\n",
       "      <td>0</td>\n",
       "      <td>0</td>\n",
       "      <td>0</td>\n",
       "      <td>...</td>\n",
       "      <td>0</td>\n",
       "      <td>1</td>\n",
       "      <td>0</td>\n",
       "      <td>0</td>\n",
       "      <td>0</td>\n",
       "      <td>1</td>\n",
       "      <td>1</td>\n",
       "      <td>0</td>\n",
       "      <td>0</td>\n",
       "      <td>1</td>\n",
       "    </tr>\n",
       "    <tr>\n",
       "      <th>4</th>\n",
       "      <td>1</td>\n",
       "      <td>24</td>\n",
       "      <td>4870</td>\n",
       "      <td>53</td>\n",
       "      <td>0</td>\n",
       "      <td>1</td>\n",
       "      <td>0</td>\n",
       "      <td>0</td>\n",
       "      <td>0</td>\n",
       "      <td>0</td>\n",
       "      <td>...</td>\n",
       "      <td>0</td>\n",
       "      <td>1</td>\n",
       "      <td>0</td>\n",
       "      <td>0</td>\n",
       "      <td>0</td>\n",
       "      <td>1</td>\n",
       "      <td>1</td>\n",
       "      <td>0</td>\n",
       "      <td>0</td>\n",
       "      <td>1</td>\n",
       "    </tr>\n",
       "  </tbody>\n",
       "</table>\n",
       "<p>5 rows × 72 columns</p>\n",
       "</div>"
      ],
      "text/plain": [
       "   default  duration_in_month  credit_amount  age  \\\n",
       "0        0                  6           1169   67   \n",
       "1        1                 48           5951   22   \n",
       "2        0                 12           2096   49   \n",
       "3        0                 42           7882   45   \n",
       "4        1                 24           4870   53   \n",
       "\n",
       "   account_check_status_0 <= ... < 200 DM  account_check_status_< 0 DM  \\\n",
       "0                                       0                            1   \n",
       "1                                       1                            0   \n",
       "2                                       0                            0   \n",
       "3                                       0                            1   \n",
       "4                                       0                            1   \n",
       "\n",
       "   account_check_status_>= 200 DM / salary assignments for at least 1 year  \\\n",
       "0                                                  0                         \n",
       "1                                                  0                         \n",
       "2                                                  0                         \n",
       "3                                                  0                         \n",
       "4                                                  0                         \n",
       "\n",
       "   account_check_status_no checking account  \\\n",
       "0                                         0   \n",
       "1                                         0   \n",
       "2                                         1   \n",
       "3                                         0   \n",
       "4                                         0   \n",
       "\n",
       "   credit_history_all credits at this bank paid back duly  \\\n",
       "0                                                  0        \n",
       "1                                                  0        \n",
       "2                                                  0        \n",
       "3                                                  0        \n",
       "4                                                  0        \n",
       "\n",
       "   credit_history_critical account/ other credits existing (not at this bank)  \\\n",
       "0                                                  1                            \n",
       "1                                                  0                            \n",
       "2                                                  1                            \n",
       "3                                                  0                            \n",
       "4                                                  0                            \n",
       "\n",
       "          ...          \\\n",
       "0         ...           \n",
       "1         ...           \n",
       "2         ...           \n",
       "3         ...           \n",
       "4         ...           \n",
       "\n",
       "   job_management/ self-employed/ highly qualified employee/ officer  \\\n",
       "0                                                  0                   \n",
       "1                                                  0                   \n",
       "2                                                  0                   \n",
       "3                                                  0                   \n",
       "4                                                  0                   \n",
       "\n",
       "   job_skilled employee / official  job_unemployed/ unskilled - non-resident  \\\n",
       "0                                1                                         0   \n",
       "1                                1                                         0   \n",
       "2                                0                                         0   \n",
       "3                                1                                         0   \n",
       "4                                1                                         0   \n",
       "\n",
       "   job_unskilled - resident  people_under_maintenance_1  \\\n",
       "0                         0                           1   \n",
       "1                         0                           1   \n",
       "2                         1                           0   \n",
       "3                         0                           0   \n",
       "4                         0                           0   \n",
       "\n",
       "   people_under_maintenance_2  telephone_none  \\\n",
       "0                           0               0   \n",
       "1                           0               1   \n",
       "2                           1               1   \n",
       "3                           1               1   \n",
       "4                           1               1   \n",
       "\n",
       "   telephone_yes, registered under the customers name   foreign_worker_no  \\\n",
       "0                                                  1                    0   \n",
       "1                                                  0                    0   \n",
       "2                                                  0                    0   \n",
       "3                                                  0                    0   \n",
       "4                                                  0                    0   \n",
       "\n",
       "   foreign_worker_yes  \n",
       "0                   1  \n",
       "1                   1  \n",
       "2                   1  \n",
       "3                   1  \n",
       "4                   1  \n",
       "\n",
       "[5 rows x 72 columns]"
      ]
     },
     "execution_count": 31,
     "metadata": {},
     "output_type": "execute_result"
    }
   ],
   "source": [
    "cols_to_transform = ['account_check_status', 'credit_history', 'purpose', 'savings', 'present_emp_since', 'installment_as_income_perc','personal_status_sex','other_debtors','present_res_since','property','other_installment_plans','housing','credits_this_bank','job','people_under_maintenance','telephone','foreign_worker']\n",
    "df_with_dummies = pd.get_dummies( data, columns = cols_to_transform )\n",
    "df_with_dummies.head()"
   ]
  },
  {
   "cell_type": "code",
   "execution_count": 32,
   "metadata": {
    "colab": {},
    "colab_type": "code",
    "id": "wjyTJcA6_0o6",
    "outputId": "e6bf7e9d-5732-4836-c0bb-fe03ba34683e"
   },
   "outputs": [
    {
     "data": {
      "text/plain": [
       "(1000, 72)"
      ]
     },
     "execution_count": 32,
     "metadata": {},
     "output_type": "execute_result"
    }
   ],
   "source": [
    "# Print Shape of model data\n",
    "df_with_dummies.shape\n"
   ]
  },
  {
   "cell_type": "code",
   "execution_count": 33,
   "metadata": {},
   "outputs": [
    {
     "name": "stdout",
     "output_type": "stream",
     "text": [
      "default                                                                       int64\n",
      "duration_in_month                                                             int64\n",
      "credit_amount                                                                 int64\n",
      "age                                                                           int64\n",
      "account_check_status_0 <= ... < 200 DM                                        uint8\n",
      "account_check_status_< 0 DM                                                   uint8\n",
      "account_check_status_>= 200 DM / salary assignments for at least 1 year       uint8\n",
      "account_check_status_no checking account                                      uint8\n",
      "credit_history_all credits at this bank paid back duly                        uint8\n",
      "credit_history_critical account/ other credits existing (not at this bank)    uint8\n",
      "credit_history_delay in paying off in the past                                uint8\n",
      "credit_history_existing credits paid back duly till now                       uint8\n",
      "credit_history_no credits taken/ all credits paid back duly                   uint8\n",
      "purpose_(vacation - does not exist?)                                          uint8\n",
      "purpose_business                                                              uint8\n",
      "purpose_car (new)                                                             uint8\n",
      "purpose_car (used)                                                            uint8\n",
      "purpose_domestic appliances                                                   uint8\n",
      "purpose_education                                                             uint8\n",
      "purpose_furniture/equipment                                                   uint8\n",
      "purpose_radio/television                                                      uint8\n",
      "purpose_repairs                                                               uint8\n",
      "purpose_retraining                                                            uint8\n",
      "savings_.. >= 1000 DM                                                         uint8\n",
      "savings_... < 100 DM                                                          uint8\n",
      "savings_100 <= ... < 500 DM                                                   uint8\n",
      "savings_500 <= ... < 1000 DM                                                  uint8\n",
      "savings_unknown/ no savings account                                           uint8\n",
      "present_emp_since_.. >= 7 years                                               uint8\n",
      "present_emp_since_... < 1 year                                                uint8\n",
      "                                                                              ...  \n",
      "other_debtors_guarantor                                                       uint8\n",
      "other_debtors_none                                                            uint8\n",
      "present_res_since_1                                                           uint8\n",
      "present_res_since_2                                                           uint8\n",
      "present_res_since_3                                                           uint8\n",
      "present_res_since_4                                                           uint8\n",
      "property_if not A121 : building society savings agreement/ life insurance     uint8\n",
      "property_if not A121/A122 : car or other, not in attribute 6                  uint8\n",
      "property_real estate                                                          uint8\n",
      "property_unknown / no property                                                uint8\n",
      "other_installment_plans_bank                                                  uint8\n",
      "other_installment_plans_none                                                  uint8\n",
      "other_installment_plans_stores                                                uint8\n",
      "housing_for free                                                              uint8\n",
      "housing_own                                                                   uint8\n",
      "housing_rent                                                                  uint8\n",
      "credits_this_bank_1                                                           uint8\n",
      "credits_this_bank_2                                                           uint8\n",
      "credits_this_bank_3                                                           uint8\n",
      "credits_this_bank_4                                                           uint8\n",
      "job_management/ self-employed/ highly qualified employee/ officer             uint8\n",
      "job_skilled employee / official                                               uint8\n",
      "job_unemployed/ unskilled - non-resident                                      uint8\n",
      "job_unskilled - resident                                                      uint8\n",
      "people_under_maintenance_1                                                    uint8\n",
      "people_under_maintenance_2                                                    uint8\n",
      "telephone_none                                                                uint8\n",
      "telephone_yes, registered under the customers name                            uint8\n",
      "foreign_worker_no                                                             uint8\n",
      "foreign_worker_yes                                                            uint8\n",
      "Length: 72, dtype: object\n"
     ]
    }
   ],
   "source": [
    "# Check for data types of all columns\n",
    "print(df_with_dummies.dtypes)"
   ]
  },
  {
   "cell_type": "markdown",
   "metadata": {
    "colab_type": "text",
    "id": "ytl4nlUW_0pA"
   },
   "source": [
    "### Check for highly correlated variables but don't required any treatment for this use case"
   ]
  },
  {
   "cell_type": "code",
   "execution_count": 34,
   "metadata": {
    "colab": {},
    "colab_type": "code",
    "id": "0W02DKRx_0pA",
    "scrolled": false
   },
   "outputs": [
    {
     "data": {
      "text/html": [
       "<style  type=\"text/css\" >\n",
       "    #T_227d65cc_fd20_11e9_8542_c2ead7a7af8erow0_col0 {\n",
       "            background-color:  #b40426;\n",
       "        }    #T_227d65cc_fd20_11e9_8542_c2ead7a7af8erow0_col1 {\n",
       "            background-color:  #8badfd;\n",
       "        }    #T_227d65cc_fd20_11e9_8542_c2ead7a7af8erow0_col2 {\n",
       "            background-color:  #aac7fd;\n",
       "        }    #T_227d65cc_fd20_11e9_8542_c2ead7a7af8erow0_col3 {\n",
       "            background-color:  #94b6ff;\n",
       "        }    #T_227d65cc_fd20_11e9_8542_c2ead7a7af8erow0_col4 {\n",
       "            background-color:  #3b4cc0;\n",
       "        }    #T_227d65cc_fd20_11e9_8542_c2ead7a7af8erow0_col5 {\n",
       "            background-color:  #3b4cc0;\n",
       "        }    #T_227d65cc_fd20_11e9_8542_c2ead7a7af8erow0_col6 {\n",
       "            background-color:  #3b4cc0;\n",
       "        }    #T_227d65cc_fd20_11e9_8542_c2ead7a7af8erow0_col7 {\n",
       "            background-color:  #4e68d8;\n",
       "        }    #T_227d65cc_fd20_11e9_8542_c2ead7a7af8erow1_col0 {\n",
       "            background-color:  #97b8ff;\n",
       "        }    #T_227d65cc_fd20_11e9_8542_c2ead7a7af8erow1_col1 {\n",
       "            background-color:  #b40426;\n",
       "        }    #T_227d65cc_fd20_11e9_8542_c2ead7a7af8erow1_col2 {\n",
       "            background-color:  #f7aa8c;\n",
       "        }    #T_227d65cc_fd20_11e9_8542_c2ead7a7af8erow1_col3 {\n",
       "            background-color:  #94b6ff;\n",
       "        }    #T_227d65cc_fd20_11e9_8542_c2ead7a7af8erow1_col4 {\n",
       "            background-color:  #4358cb;\n",
       "        }    #T_227d65cc_fd20_11e9_8542_c2ead7a7af8erow1_col5 {\n",
       "            background-color:  #4961d2;\n",
       "        }    #T_227d65cc_fd20_11e9_8542_c2ead7a7af8erow1_col6 {\n",
       "            background-color:  #445acc;\n",
       "        }    #T_227d65cc_fd20_11e9_8542_c2ead7a7af8erow1_col7 {\n",
       "            background-color:  #485fd1;\n",
       "        }    #T_227d65cc_fd20_11e9_8542_c2ead7a7af8erow2_col0 {\n",
       "            background-color:  #84a7fc;\n",
       "        }    #T_227d65cc_fd20_11e9_8542_c2ead7a7af8erow2_col1 {\n",
       "            background-color:  #f5c0a7;\n",
       "        }    #T_227d65cc_fd20_11e9_8542_c2ead7a7af8erow2_col2 {\n",
       "            background-color:  #b40426;\n",
       "        }    #T_227d65cc_fd20_11e9_8542_c2ead7a7af8erow2_col3 {\n",
       "            background-color:  #3b4cc0;\n",
       "        }    #T_227d65cc_fd20_11e9_8542_c2ead7a7af8erow2_col4 {\n",
       "            background-color:  #4257c9;\n",
       "        }    #T_227d65cc_fd20_11e9_8542_c2ead7a7af8erow2_col5 {\n",
       "            background-color:  #5e7de7;\n",
       "        }    #T_227d65cc_fd20_11e9_8542_c2ead7a7af8erow2_col6 {\n",
       "            background-color:  #4e68d8;\n",
       "        }    #T_227d65cc_fd20_11e9_8542_c2ead7a7af8erow2_col7 {\n",
       "            background-color:  #5470de;\n",
       "        }    #T_227d65cc_fd20_11e9_8542_c2ead7a7af8erow3_col0 {\n",
       "            background-color:  #6a8bef;\n",
       "        }    #T_227d65cc_fd20_11e9_8542_c2ead7a7af8erow3_col1 {\n",
       "            background-color:  #5b7ae5;\n",
       "        }    #T_227d65cc_fd20_11e9_8542_c2ead7a7af8erow3_col2 {\n",
       "            background-color:  #3b4cc0;\n",
       "        }    #T_227d65cc_fd20_11e9_8542_c2ead7a7af8erow3_col3 {\n",
       "            background-color:  #b40426;\n",
       "        }    #T_227d65cc_fd20_11e9_8542_c2ead7a7af8erow3_col4 {\n",
       "            background-color:  #485fd1;\n",
       "        }    #T_227d65cc_fd20_11e9_8542_c2ead7a7af8erow3_col5 {\n",
       "            background-color:  #6687ed;\n",
       "        }    #T_227d65cc_fd20_11e9_8542_c2ead7a7af8erow3_col6 {\n",
       "            background-color:  #4e68d8;\n",
       "        }    #T_227d65cc_fd20_11e9_8542_c2ead7a7af8erow3_col7 {\n",
       "            background-color:  #3b4cc0;\n",
       "        }    #T_227d65cc_fd20_11e9_8542_c2ead7a7af8erow4_col0 {\n",
       "            background-color:  #5572df;\n",
       "        }    #T_227d65cc_fd20_11e9_8542_c2ead7a7af8erow4_col1 {\n",
       "            background-color:  #4f69d9;\n",
       "        }    #T_227d65cc_fd20_11e9_8542_c2ead7a7af8erow4_col2 {\n",
       "            background-color:  #88abfd;\n",
       "        }    #T_227d65cc_fd20_11e9_8542_c2ead7a7af8erow4_col3 {\n",
       "            background-color:  #8db0fe;\n",
       "        }    #T_227d65cc_fd20_11e9_8542_c2ead7a7af8erow4_col4 {\n",
       "            background-color:  #b40426;\n",
       "        }    #T_227d65cc_fd20_11e9_8542_c2ead7a7af8erow4_col5 {\n",
       "            background-color:  #a7c5fe;\n",
       "        }    #T_227d65cc_fd20_11e9_8542_c2ead7a7af8erow4_col6 {\n",
       "            background-color:  #6384eb;\n",
       "        }    #T_227d65cc_fd20_11e9_8542_c2ead7a7af8erow4_col7 {\n",
       "            background-color:  #5b7ae5;\n",
       "        }    #T_227d65cc_fd20_11e9_8542_c2ead7a7af8erow5_col0 {\n",
       "            background-color:  #3b4cc0;\n",
       "        }    #T_227d65cc_fd20_11e9_8542_c2ead7a7af8erow5_col1 {\n",
       "            background-color:  #3b4cc0;\n",
       "        }    #T_227d65cc_fd20_11e9_8542_c2ead7a7af8erow5_col2 {\n",
       "            background-color:  #89acfd;\n",
       "        }    #T_227d65cc_fd20_11e9_8542_c2ead7a7af8erow5_col3 {\n",
       "            background-color:  #90b2fe;\n",
       "        }    #T_227d65cc_fd20_11e9_8542_c2ead7a7af8erow5_col4 {\n",
       "            background-color:  #92b4fe;\n",
       "        }    #T_227d65cc_fd20_11e9_8542_c2ead7a7af8erow5_col5 {\n",
       "            background-color:  #b40426;\n",
       "        }    #T_227d65cc_fd20_11e9_8542_c2ead7a7af8erow5_col6 {\n",
       "            background-color:  #7699f6;\n",
       "        }    #T_227d65cc_fd20_11e9_8542_c2ead7a7af8erow5_col7 {\n",
       "            background-color:  #7396f5;\n",
       "        }    #T_227d65cc_fd20_11e9_8542_c2ead7a7af8erow6_col0 {\n",
       "            background-color:  #465ecf;\n",
       "        }    #T_227d65cc_fd20_11e9_8542_c2ead7a7af8erow6_col1 {\n",
       "            background-color:  #4257c9;\n",
       "        }    #T_227d65cc_fd20_11e9_8542_c2ead7a7af8erow6_col2 {\n",
       "            background-color:  #85a8fc;\n",
       "        }    #T_227d65cc_fd20_11e9_8542_c2ead7a7af8erow6_col3 {\n",
       "            background-color:  #85a8fc;\n",
       "        }    #T_227d65cc_fd20_11e9_8542_c2ead7a7af8erow6_col4 {\n",
       "            background-color:  #5572df;\n",
       "        }    #T_227d65cc_fd20_11e9_8542_c2ead7a7af8erow6_col5 {\n",
       "            background-color:  #82a6fb;\n",
       "        }    #T_227d65cc_fd20_11e9_8542_c2ead7a7af8erow6_col6 {\n",
       "            background-color:  #b40426;\n",
       "        }    #T_227d65cc_fd20_11e9_8542_c2ead7a7af8erow6_col7 {\n",
       "            background-color:  #7093f3;\n",
       "        }    #T_227d65cc_fd20_11e9_8542_c2ead7a7af8erow7_col0 {\n",
       "            background-color:  #536edd;\n",
       "        }    #T_227d65cc_fd20_11e9_8542_c2ead7a7af8erow7_col1 {\n",
       "            background-color:  #3e51c5;\n",
       "        }    #T_227d65cc_fd20_11e9_8542_c2ead7a7af8erow7_col2 {\n",
       "            background-color:  #85a8fc;\n",
       "        }    #T_227d65cc_fd20_11e9_8542_c2ead7a7af8erow7_col3 {\n",
       "            background-color:  #6c8ff1;\n",
       "        }    #T_227d65cc_fd20_11e9_8542_c2ead7a7af8erow7_col4 {\n",
       "            background-color:  #465ecf;\n",
       "        }    #T_227d65cc_fd20_11e9_8542_c2ead7a7af8erow7_col5 {\n",
       "            background-color:  #799cf8;\n",
       "        }    #T_227d65cc_fd20_11e9_8542_c2ead7a7af8erow7_col6 {\n",
       "            background-color:  #6a8bef;\n",
       "        }    #T_227d65cc_fd20_11e9_8542_c2ead7a7af8erow7_col7 {\n",
       "            background-color:  #b40426;\n",
       "        }</style>  \n",
       "<table id=\"T_227d65cc_fd20_11e9_8542_c2ead7a7af8e\" > \n",
       "<thead>    <tr> \n",
       "        <th class=\"blank level0\" ></th> \n",
       "        <th class=\"col_heading level0 col0\" >default</th> \n",
       "        <th class=\"col_heading level0 col1\" >duration_in_month</th> \n",
       "        <th class=\"col_heading level0 col2\" >credit_amount</th> \n",
       "        <th class=\"col_heading level0 col3\" >installment_as_income_perc</th> \n",
       "        <th class=\"col_heading level0 col4\" >present_res_since</th> \n",
       "        <th class=\"col_heading level0 col5\" >age</th> \n",
       "        <th class=\"col_heading level0 col6\" >credits_this_bank</th> \n",
       "        <th class=\"col_heading level0 col7\" >people_under_maintenance</th> \n",
       "    </tr></thead> \n",
       "<tbody>    <tr> \n",
       "        <th id=\"T_227d65cc_fd20_11e9_8542_c2ead7a7af8elevel0_row0\" class=\"row_heading level0 row0\" >default</th> \n",
       "        <td id=\"T_227d65cc_fd20_11e9_8542_c2ead7a7af8erow0_col0\" class=\"data row0 col0\" >1</td> \n",
       "        <td id=\"T_227d65cc_fd20_11e9_8542_c2ead7a7af8erow0_col1\" class=\"data row0 col1\" >0.214927</td> \n",
       "        <td id=\"T_227d65cc_fd20_11e9_8542_c2ead7a7af8erow0_col2\" class=\"data row0 col2\" >0.154739</td> \n",
       "        <td id=\"T_227d65cc_fd20_11e9_8542_c2ead7a7af8erow0_col3\" class=\"data row0 col3\" >0.0724039</td> \n",
       "        <td id=\"T_227d65cc_fd20_11e9_8542_c2ead7a7af8erow0_col4\" class=\"data row0 col4\" >0.00296716</td> \n",
       "        <td id=\"T_227d65cc_fd20_11e9_8542_c2ead7a7af8erow0_col5\" class=\"data row0 col5\" >-0.0911274</td> \n",
       "        <td id=\"T_227d65cc_fd20_11e9_8542_c2ead7a7af8erow0_col6\" class=\"data row0 col6\" >-0.0457325</td> \n",
       "        <td id=\"T_227d65cc_fd20_11e9_8542_c2ead7a7af8erow0_col7\" class=\"data row0 col7\" >-0.00301485</td> \n",
       "    </tr>    <tr> \n",
       "        <th id=\"T_227d65cc_fd20_11e9_8542_c2ead7a7af8elevel0_row1\" class=\"row_heading level0 row1\" >duration_in_month</th> \n",
       "        <td id=\"T_227d65cc_fd20_11e9_8542_c2ead7a7af8erow1_col0\" class=\"data row1 col0\" >0.214927</td> \n",
       "        <td id=\"T_227d65cc_fd20_11e9_8542_c2ead7a7af8erow1_col1\" class=\"data row1 col1\" >1</td> \n",
       "        <td id=\"T_227d65cc_fd20_11e9_8542_c2ead7a7af8erow1_col2\" class=\"data row1 col2\" >0.624984</td> \n",
       "        <td id=\"T_227d65cc_fd20_11e9_8542_c2ead7a7af8erow1_col3\" class=\"data row1 col3\" >0.0747488</td> \n",
       "        <td id=\"T_227d65cc_fd20_11e9_8542_c2ead7a7af8erow1_col4\" class=\"data row1 col4\" >0.0340672</td> \n",
       "        <td id=\"T_227d65cc_fd20_11e9_8542_c2ead7a7af8erow1_col5\" class=\"data row1 col5\" >-0.0361364</td> \n",
       "        <td id=\"T_227d65cc_fd20_11e9_8542_c2ead7a7af8erow1_col6\" class=\"data row1 col6\" >-0.0112836</td> \n",
       "        <td id=\"T_227d65cc_fd20_11e9_8542_c2ead7a7af8erow1_col7\" class=\"data row1 col7\" >-0.0238345</td> \n",
       "    </tr>    <tr> \n",
       "        <th id=\"T_227d65cc_fd20_11e9_8542_c2ead7a7af8elevel0_row2\" class=\"row_heading level0 row2\" >credit_amount</th> \n",
       "        <td id=\"T_227d65cc_fd20_11e9_8542_c2ead7a7af8erow2_col0\" class=\"data row2 col0\" >0.154739</td> \n",
       "        <td id=\"T_227d65cc_fd20_11e9_8542_c2ead7a7af8erow2_col1\" class=\"data row2 col1\" >0.624984</td> \n",
       "        <td id=\"T_227d65cc_fd20_11e9_8542_c2ead7a7af8erow2_col2\" class=\"data row2 col2\" >1</td> \n",
       "        <td id=\"T_227d65cc_fd20_11e9_8542_c2ead7a7af8erow2_col3\" class=\"data row2 col3\" >-0.271316</td> \n",
       "        <td id=\"T_227d65cc_fd20_11e9_8542_c2ead7a7af8erow2_col4\" class=\"data row2 col4\" >0.0289263</td> \n",
       "        <td id=\"T_227d65cc_fd20_11e9_8542_c2ead7a7af8erow2_col5\" class=\"data row2 col5\" >0.0327164</td> \n",
       "        <td id=\"T_227d65cc_fd20_11e9_8542_c2ead7a7af8erow2_col6\" class=\"data row2 col6\" >0.0207946</td> \n",
       "        <td id=\"T_227d65cc_fd20_11e9_8542_c2ead7a7af8erow2_col7\" class=\"data row2 col7\" >0.0171422</td> \n",
       "    </tr>    <tr> \n",
       "        <th id=\"T_227d65cc_fd20_11e9_8542_c2ead7a7af8elevel0_row3\" class=\"row_heading level0 row3\" >installment_as_income_perc</th> \n",
       "        <td id=\"T_227d65cc_fd20_11e9_8542_c2ead7a7af8erow3_col0\" class=\"data row3 col0\" >0.0724039</td> \n",
       "        <td id=\"T_227d65cc_fd20_11e9_8542_c2ead7a7af8erow3_col1\" class=\"data row3 col1\" >0.0747488</td> \n",
       "        <td id=\"T_227d65cc_fd20_11e9_8542_c2ead7a7af8erow3_col2\" class=\"data row3 col2\" >-0.271316</td> \n",
       "        <td id=\"T_227d65cc_fd20_11e9_8542_c2ead7a7af8erow3_col3\" class=\"data row3 col3\" >1</td> \n",
       "        <td id=\"T_227d65cc_fd20_11e9_8542_c2ead7a7af8erow3_col4\" class=\"data row3 col4\" >0.0493024</td> \n",
       "        <td id=\"T_227d65cc_fd20_11e9_8542_c2ead7a7af8erow3_col5\" class=\"data row3 col5\" >0.0582657</td> \n",
       "        <td id=\"T_227d65cc_fd20_11e9_8542_c2ead7a7af8erow3_col6\" class=\"data row3 col6\" >0.0216687</td> \n",
       "        <td id=\"T_227d65cc_fd20_11e9_8542_c2ead7a7af8erow3_col7\" class=\"data row3 col7\" >-0.0712069</td> \n",
       "    </tr>    <tr> \n",
       "        <th id=\"T_227d65cc_fd20_11e9_8542_c2ead7a7af8elevel0_row4\" class=\"row_heading level0 row4\" >present_res_since</th> \n",
       "        <td id=\"T_227d65cc_fd20_11e9_8542_c2ead7a7af8erow4_col0\" class=\"data row4 col0\" >0.00296716</td> \n",
       "        <td id=\"T_227d65cc_fd20_11e9_8542_c2ead7a7af8erow4_col1\" class=\"data row4 col1\" >0.0340672</td> \n",
       "        <td id=\"T_227d65cc_fd20_11e9_8542_c2ead7a7af8erow4_col2\" class=\"data row4 col2\" >0.0289263</td> \n",
       "        <td id=\"T_227d65cc_fd20_11e9_8542_c2ead7a7af8erow4_col3\" class=\"data row4 col3\" >0.0493024</td> \n",
       "        <td id=\"T_227d65cc_fd20_11e9_8542_c2ead7a7af8erow4_col4\" class=\"data row4 col4\" >1</td> \n",
       "        <td id=\"T_227d65cc_fd20_11e9_8542_c2ead7a7af8erow4_col5\" class=\"data row4 col5\" >0.266419</td> \n",
       "        <td id=\"T_227d65cc_fd20_11e9_8542_c2ead7a7af8erow4_col6\" class=\"data row4 col6\" >0.0896252</td> \n",
       "        <td id=\"T_227d65cc_fd20_11e9_8542_c2ead7a7af8erow4_col7\" class=\"data row4 col7\" >0.0426434</td> \n",
       "    </tr>    <tr> \n",
       "        <th id=\"T_227d65cc_fd20_11e9_8542_c2ead7a7af8elevel0_row5\" class=\"row_heading level0 row5\" >age</th> \n",
       "        <td id=\"T_227d65cc_fd20_11e9_8542_c2ead7a7af8erow5_col0\" class=\"data row5 col0\" >-0.0911274</td> \n",
       "        <td id=\"T_227d65cc_fd20_11e9_8542_c2ead7a7af8erow5_col1\" class=\"data row5 col1\" >-0.0361364</td> \n",
       "        <td id=\"T_227d65cc_fd20_11e9_8542_c2ead7a7af8erow5_col2\" class=\"data row5 col2\" >0.0327164</td> \n",
       "        <td id=\"T_227d65cc_fd20_11e9_8542_c2ead7a7af8erow5_col3\" class=\"data row5 col3\" >0.0582657</td> \n",
       "        <td id=\"T_227d65cc_fd20_11e9_8542_c2ead7a7af8erow5_col4\" class=\"data row5 col4\" >0.266419</td> \n",
       "        <td id=\"T_227d65cc_fd20_11e9_8542_c2ead7a7af8erow5_col5\" class=\"data row5 col5\" >1</td> \n",
       "        <td id=\"T_227d65cc_fd20_11e9_8542_c2ead7a7af8erow5_col6\" class=\"data row5 col6\" >0.149254</td> \n",
       "        <td id=\"T_227d65cc_fd20_11e9_8542_c2ead7a7af8erow5_col7\" class=\"data row5 col7\" >0.118201</td> \n",
       "    </tr>    <tr> \n",
       "        <th id=\"T_227d65cc_fd20_11e9_8542_c2ead7a7af8elevel0_row6\" class=\"row_heading level0 row6\" >credits_this_bank</th> \n",
       "        <td id=\"T_227d65cc_fd20_11e9_8542_c2ead7a7af8erow6_col0\" class=\"data row6 col0\" >-0.0457325</td> \n",
       "        <td id=\"T_227d65cc_fd20_11e9_8542_c2ead7a7af8erow6_col1\" class=\"data row6 col1\" >-0.0112836</td> \n",
       "        <td id=\"T_227d65cc_fd20_11e9_8542_c2ead7a7af8erow6_col2\" class=\"data row6 col2\" >0.0207946</td> \n",
       "        <td id=\"T_227d65cc_fd20_11e9_8542_c2ead7a7af8erow6_col3\" class=\"data row6 col3\" >0.0216687</td> \n",
       "        <td id=\"T_227d65cc_fd20_11e9_8542_c2ead7a7af8erow6_col4\" class=\"data row6 col4\" >0.0896252</td> \n",
       "        <td id=\"T_227d65cc_fd20_11e9_8542_c2ead7a7af8erow6_col5\" class=\"data row6 col5\" >0.149254</td> \n",
       "        <td id=\"T_227d65cc_fd20_11e9_8542_c2ead7a7af8erow6_col6\" class=\"data row6 col6\" >1</td> \n",
       "        <td id=\"T_227d65cc_fd20_11e9_8542_c2ead7a7af8erow6_col7\" class=\"data row6 col7\" >0.109667</td> \n",
       "    </tr>    <tr> \n",
       "        <th id=\"T_227d65cc_fd20_11e9_8542_c2ead7a7af8elevel0_row7\" class=\"row_heading level0 row7\" >people_under_maintenance</th> \n",
       "        <td id=\"T_227d65cc_fd20_11e9_8542_c2ead7a7af8erow7_col0\" class=\"data row7 col0\" >-0.00301485</td> \n",
       "        <td id=\"T_227d65cc_fd20_11e9_8542_c2ead7a7af8erow7_col1\" class=\"data row7 col1\" >-0.0238345</td> \n",
       "        <td id=\"T_227d65cc_fd20_11e9_8542_c2ead7a7af8erow7_col2\" class=\"data row7 col2\" >0.0171422</td> \n",
       "        <td id=\"T_227d65cc_fd20_11e9_8542_c2ead7a7af8erow7_col3\" class=\"data row7 col3\" >-0.0712069</td> \n",
       "        <td id=\"T_227d65cc_fd20_11e9_8542_c2ead7a7af8erow7_col4\" class=\"data row7 col4\" >0.0426434</td> \n",
       "        <td id=\"T_227d65cc_fd20_11e9_8542_c2ead7a7af8erow7_col5\" class=\"data row7 col5\" >0.118201</td> \n",
       "        <td id=\"T_227d65cc_fd20_11e9_8542_c2ead7a7af8erow7_col6\" class=\"data row7 col6\" >0.109667</td> \n",
       "        <td id=\"T_227d65cc_fd20_11e9_8542_c2ead7a7af8erow7_col7\" class=\"data row7 col7\" >1</td> \n",
       "    </tr></tbody> \n",
       "</table> "
      ],
      "text/plain": [
       "<pandas.io.formats.style.Styler at 0x18597202240>"
      ]
     },
     "execution_count": 34,
     "metadata": {},
     "output_type": "execute_result"
    }
   ],
   "source": [
    "\n",
    "# Get the correlation \n",
    "corr = data.corr()\n",
    "corr.style.background_gradient(cmap='coolwarm')"
   ]
  },
  {
   "cell_type": "markdown",
   "metadata": {
    "colab_type": "text",
    "id": "jeI1_7is_0pG"
   },
   "source": [
    "### Drop the original variables which are converted to dummy"
   ]
  },
  {
   "cell_type": "code",
   "execution_count": 35,
   "metadata": {},
   "outputs": [
    {
     "data": {
      "text/plain": [
       "default              int64\n",
       "duration_in_month    int64\n",
       "credit_amount        int64\n",
       "age                  int64\n",
       "dtype: object"
      ]
     },
     "execution_count": 35,
     "metadata": {},
     "output_type": "execute_result"
    }
   ],
   "source": [
    "model_data=data.drop(cols_to_transform, axis = 1)\n",
    "model_data.dtypes"
   ]
  },
  {
   "cell_type": "markdown",
   "metadata": {
    "colab_type": "text",
    "id": "XLtFcI1m_0pQ"
   },
   "source": [
    "### Q3 Split Train/Test data 70:30 ratio( 1 Marks)\n",
    "##### Hint:from sklearn.model_selection import train_test_split"
   ]
  },
  {
   "cell_type": "code",
   "execution_count": 36,
   "metadata": {
    "colab": {},
    "colab_type": "code",
    "id": "pHxXKL92_0pS"
   },
   "outputs": [],
   "source": [
    "# Split independent and dependent variables into X and y\n",
    "from sklearn.model_selection import train_test_split\n",
    "X = model_data.values[:,0:3]\n",
    "y = model_data.values[:,3]\n",
    "# Training and testing data split\n",
    "X_train, X_test, y_train, y_test = train_test_split(X, y, train_size=0.70, random_state=1211)"
   ]
  },
  {
   "cell_type": "markdown",
   "metadata": {
    "colab_type": "text",
    "id": "wWTpd4Ng_0pW"
   },
   "source": [
    "### Q4 Build Random Forest Model( 1 Marks)\n",
    "#### Hint:from sklearn.ensemble import RandomForestClassifier using n_jobs=2,n_estimators=500,criterion=\"entropy\",random_state=9999"
   ]
  },
  {
   "cell_type": "code",
   "execution_count": 37,
   "metadata": {
    "colab": {},
    "colab_type": "code",
    "id": "AHX5tgQm_0pY"
   },
   "outputs": [
    {
     "name": "stdout",
     "output_type": "stream",
     "text": [
      "[0.04681982 0.28240831 0.67077187]\n",
      "Mean  absolute error 12.57  Percentage\n",
      "Precision: 62.88 %.\n"
     ]
    }
   ],
   "source": [
    "from sklearn.ensemble import RandomForestClassifier\n",
    "clf = RandomForestClassifier(n_jobs=2,n_estimators=500, criterion=\"entropy\",random_state=9999)\n",
    "clf.fit(X_train, y_train)\n",
    "print(clf.feature_importances_)\n",
    "\n",
    "# Use the forest's predict method on the test data\n",
    "predictions = clf.predict(X_test)\n",
    "# Calculate the absolute errors\n",
    "errors = abs(predictions - y_test)\n",
    "# Print out the mean absolute error (mae)\n",
    "print('Mean  absolute error', round(np.mean(errors), 2), ' Percentage')\n",
    "\n",
    "# Calculate mean absolute percentage error (MAPE)\n",
    "mape = 100 * (errors / y_test)\n",
    "# Calculate and display accuracy\n",
    "accuracy = 100 - np.mean(mape)\n",
    "print('Precision:', round(accuracy, 2), '%.')"
   ]
  },
  {
   "cell_type": "markdown",
   "metadata": {
    "colab_type": "text",
    "id": "LuQwgG7T_0pa"
   },
   "source": [
    "### Q5 Calculate Confusion Matrix and Accuracy score (1 Marks)\n",
    "##### Hint: Use confusion_matrix and accuracy_score"
   ]
  },
  {
   "cell_type": "code",
   "execution_count": 38,
   "metadata": {
    "colab": {},
    "colab_type": "code",
    "id": "YgczdMEB_0pc"
   },
   "outputs": [
    {
     "name": "stdout",
     "output_type": "stream",
     "text": [
      "Confusion Matrix ::  [[0 0 0 ... 0 0 0]\n",
      " [0 0 0 ... 0 0 0]\n",
      " [0 0 0 ... 0 0 0]\n",
      " ...\n",
      " [0 0 0 ... 0 0 0]\n",
      " [0 0 0 ... 0 0 0]\n",
      " [0 0 0 ... 0 0 0]]\n",
      "Train Accuracy ::  0.9957142857142857\n",
      "Test Accuracy  ::  0.04\n"
     ]
    }
   ],
   "source": [
    "from sklearn.metrics import confusion_matrix\n",
    "from sklearn.metrics import accuracy_score\n",
    "conf_mat = confusion_matrix(y_test, predictions)\n",
    "print (\"Confusion Matrix :: \",(conf_mat))\n",
    "# Train and Test Accuracy\n",
    "print (\"Train Accuracy :: \", accuracy_score(y_train, clf.predict(X_train)))\n",
    "print (\"Test Accuracy  :: \", accuracy_score(y_test, predictions))\n",
    " \n"
   ]
  },
  {
   "cell_type": "markdown",
   "metadata": {
    "colab_type": "text",
    "id": "x2wDGYcC_0pf"
   },
   "source": [
    "### Q6 Show the list of the features importance( 1 Marks)"
   ]
  },
  {
   "cell_type": "code",
   "execution_count": 39,
   "metadata": {},
   "outputs": [
    {
     "name": "stdout",
     "output_type": "stream",
     "text": [
      "Feature ranking:\n",
      "1. feature 2 (0.670772)\n",
      "2. feature 1 (0.282408)\n",
      "3. feature 0 (0.046820)\n"
     ]
    }
   ],
   "source": [
    "importances = clf.feature_importances_\n",
    "std = np.std([tree.feature_importances_ for tree in clf.estimators_],\n",
    "             axis=0)\n",
    "indices = np.argsort(importances)[::-1]\n",
    "\n",
    "# Print the feature ranking\n",
    "print(\"Feature ranking:\")\n",
    "\n",
    "for f in range(X.shape[1]):\n",
    "    print(\"%d. feature %d (%f)\" % (f + 1, indices[f], importances[indices[f]]))"
   ]
  },
  {
   "cell_type": "markdown",
   "metadata": {
    "colab_type": "text",
    "id": "U7VnUE71_0pk"
   },
   "source": [
    "### Q7 K-fold cross-validation( 2 Marks)\n",
    "##### k-fold cross validation( without stratification)\n",
    "##### Usually k is set as 10-20 in practical settings, depends on data set size"
   ]
  },
  {
   "cell_type": "code",
   "execution_count": 40,
   "metadata": {
    "colab": {},
    "colab_type": "code",
    "id": "Pf6rIo-c_0pm"
   },
   "outputs": [],
   "source": [
    "from sklearn.model_selection import KFold\n",
    "from sklearn.model_selection import cross_val_score"
   ]
  },
  {
   "cell_type": "code",
   "execution_count": 41,
   "metadata": {
    "colab": {},
    "colab_type": "code",
    "id": "SLIiX3BP_0pp"
   },
   "outputs": [],
   "source": [
    "# Use below values\n",
    "num_folds = 10\n",
    "seed = 77"
   ]
  },
  {
   "cell_type": "code",
   "execution_count": 42,
   "metadata": {
    "colab": {},
    "colab_type": "code",
    "id": "lDyCh_OG_0pt"
   },
   "outputs": [
    {
     "name": "stdout",
     "output_type": "stream",
     "text": [
      "[0.024      0.01652893 0.         0.02777778 0.03960396 0.\n",
      " 0.03191489 0.03488372 0.0625     0.05263158]\n"
     ]
    }
   ],
   "source": [
    "#Validate the Random Forest model build above using k \n",
    "score = cross_val_score(clf, X, y, cv=10)\n",
    "print(score)"
   ]
  },
  {
   "cell_type": "code",
   "execution_count": 0,
   "metadata": {
    "colab": {},
    "colab_type": "code",
    "id": "6r8p73dT_0p6"
   },
   "outputs": [],
   "source": [
    "#Calculate Mean score"
   ]
  },
  {
   "cell_type": "code",
   "execution_count": 43,
   "metadata": {
    "colab": {},
    "colab_type": "code",
    "id": "qtGEiGuu_0qA"
   },
   "outputs": [
    {
     "name": "stdout",
     "output_type": "stream",
     "text": [
      "The mean score on cross validation is 0.028984085728827436\n"
     ]
    }
   ],
   "source": [
    "mean_score = np.mean(score)\n",
    "print(\"The mean score on cross validation is\", mean_score)\n"
   ]
  },
  {
   "cell_type": "code",
   "execution_count": 0,
   "metadata": {
    "colab": {},
    "colab_type": "code",
    "id": "Rr132f7H_0qD"
   },
   "outputs": [],
   "source": [
    "# Calculate score standard deviation using std()"
   ]
  },
  {
   "cell_type": "code",
   "execution_count": 44,
   "metadata": {
    "colab": {},
    "colab_type": "code",
    "id": "44JxPbHG_0qH"
   },
   "outputs": [
    {
     "name": "stdout",
     "output_type": "stream",
     "text": [
      "The std dev of the score on cross validation is 0.0192361099683011\n"
     ]
    }
   ],
   "source": [
    "std_score = np.std(score)\n",
    "print(\"The std dev of the score on cross validation is\", std_score)"
   ]
  },
  {
   "cell_type": "markdown",
   "metadata": {
    "colab_type": "text",
    "id": "kB0x5yLs_0qM"
   },
   "source": [
    "# Q8 Print the confusion matrix( 1 Marks)"
   ]
  },
  {
   "cell_type": "code",
   "execution_count": 45,
   "metadata": {
    "colab": {},
    "colab_type": "code",
    "id": "WiS5l8Cn_0qO"
   },
   "outputs": [
    {
     "name": "stdout",
     "output_type": "stream",
     "text": [
      "[[0 0 0 ... 0 0 0]\n",
      " [0 0 0 ... 0 0 0]\n",
      " [0 0 0 ... 0 0 0]\n",
      " ...\n",
      " [0 0 0 ... 0 0 0]\n",
      " [0 0 0 ... 0 0 0]\n",
      " [0 0 0 ... 0 0 0]]\n"
     ]
    }
   ],
   "source": [
    "conf_mat = confusion_matrix(y_test, predictions)\n",
    "print(conf_mat)"
   ]
  },
  {
   "cell_type": "markdown",
   "metadata": {
    "colab_type": "text",
    "id": "uMLxrkNg_0qR"
   },
   "source": [
    "# Q9.Classification accuracy: \n",
    "percentage of correct predictions and Calculate sensitivity (or True Positive Rate or Recall) and Precision.\n",
    "(2 Marks)"
   ]
  },
  {
   "cell_type": "markdown",
   "metadata": {
    "colab_type": "text",
    "id": "LeNbGgXbl-uj"
   },
   "source": []
  },
  {
   "cell_type": "code",
   "execution_count": 46,
   "metadata": {
    "colab": {},
    "colab_type": "code",
    "id": "IS9CZaZr_0qX"
   },
   "outputs": [
    {
     "name": "stdout",
     "output_type": "stream",
     "text": [
      "0.04\n"
     ]
    }
   ],
   "source": [
    "# calculate classification accuracy\n",
    "from sklearn import metrics\n",
    "print(metrics.accuracy_score(y_test, predictions))"
   ]
  },
  {
   "cell_type": "code",
   "execution_count": 47,
   "metadata": {},
   "outputs": [
    {
     "name": "stdout",
     "output_type": "stream",
     "text": [
      "[[0 0 0 ... 0 0 0]\n",
      " [0 0 0 ... 0 0 0]\n",
      " [0 0 0 ... 0 0 0]\n",
      " ...\n",
      " [0 0 0 ... 0 0 0]\n",
      " [0 0 0 ... 0 0 0]\n",
      " [0 0 0 ... 0 0 0]]\n"
     ]
    }
   ],
   "source": [
    "# save confusion matrix and slice into four pieces\n",
    "confusion = metrics.confusion_matrix(y_test, predictions)\n",
    "print(confusion)\n",
    "#[row, column]\n",
    "TP = confusion[1, 1]\n",
    "TN = confusion[0, 0]\n",
    "FP = confusion[0, 1]\n",
    "FN = confusion[1, 0]"
   ]
  },
  {
   "cell_type": "code",
   "execution_count": 48,
   "metadata": {},
   "outputs": [
    {
     "name": "stdout",
     "output_type": "stream",
     "text": [
      "nan\n"
     ]
    }
   ],
   "source": [
    "sensitivity = TP / float(FN + TP)\n",
    "print(sensitivity)"
   ]
  },
  {
   "cell_type": "code",
   "execution_count": 49,
   "metadata": {},
   "outputs": [
    {
     "name": "stdout",
     "output_type": "stream",
     "text": [
      "              precision    recall  f1-score   support\n",
      "\n",
      "          19       0.00      0.00      0.00         1\n",
      "          20       0.00      0.00      0.00         6\n",
      "          21       0.00      0.00      0.00         7\n",
      "          22       0.00      0.00      0.00        10\n",
      "          23       0.11      0.05      0.07        20\n",
      "          24       0.00      0.00      0.00        13\n",
      "          25       0.00      0.00      0.00         9\n",
      "          26       0.00      0.00      0.00        17\n",
      "          27       0.12      0.13      0.13        15\n",
      "          28       0.07      0.08      0.07        13\n",
      "          29       0.00      0.00      0.00        11\n",
      "          30       0.00      0.00      0.00         8\n",
      "          31       0.07      0.09      0.08        11\n",
      "          32       0.00      0.00      0.00         6\n",
      "          33       0.11      0.10      0.11        10\n",
      "          34       0.00      0.00      0.00         7\n",
      "          35       0.08      0.10      0.09        10\n",
      "          36       0.00      0.00      0.00         7\n",
      "          37       0.07      0.12      0.09         8\n",
      "          38       0.00      0.00      0.00         9\n",
      "          39       0.11      0.14      0.12         7\n",
      "          40       0.00      0.00      0.00         9\n",
      "          41       0.00      0.00      0.00         5\n",
      "          42       0.43      0.33      0.38         9\n",
      "          43       0.00      0.00      0.00         2\n",
      "          44       0.00      0.00      0.00         5\n",
      "          45       0.00      0.00      0.00         7\n",
      "          46       0.00      0.00      0.00         5\n",
      "          47       0.00      0.00      0.00         1\n",
      "          48       0.00      0.00      0.00         4\n",
      "          49       0.00      0.00      0.00         4\n",
      "          50       0.00      0.00      0.00         3\n",
      "          51       0.00      0.00      0.00         2\n",
      "          52       0.00      0.00      0.00         4\n",
      "          53       0.00      0.00      0.00         2\n",
      "          54       0.00      0.00      0.00         4\n",
      "          55       0.00      0.00      0.00         4\n",
      "          56       0.00      0.00      0.00         2\n",
      "          57       0.00      0.00      0.00         5\n",
      "          58       0.00      0.00      0.00         2\n",
      "          60       0.00      0.00      0.00         1\n",
      "          61       0.00      0.00      0.00         4\n",
      "          62       0.00      0.00      0.00         0\n",
      "          63       0.00      0.00      0.00         2\n",
      "          64       0.00      0.00      0.00         1\n",
      "          65       0.00      0.00      0.00         2\n",
      "          66       0.00      0.00      0.00         2\n",
      "          67       0.00      0.00      0.00         1\n",
      "          68       0.00      0.00      0.00         1\n",
      "          74       0.00      0.00      0.00         1\n",
      "          75       0.00      0.00      0.00         1\n",
      "\n",
      "   micro avg       0.04      0.04      0.04       300\n",
      "   macro avg       0.02      0.02      0.02       300\n",
      "weighted avg       0.04      0.04      0.04       300\n",
      "\n"
     ]
    }
   ],
   "source": [
    "from sklearn.metrics import classification_report\n",
    "print(classification_report(y_test, predictions))"
   ]
  },
  {
   "cell_type": "markdown",
   "metadata": {
    "colab_type": "text",
    "id": "BZ43LYtQ_0q9"
   },
   "source": [
    "[link text](https://)### Bootstrapping ( Bonus and Optional)\n",
    "##### Given a dataset of size n, a bootstrap sample is created by sampling n instances uniformly from the data (with/without replacement)\n",
    "##### Create a model with each bootstrap sample and validate it with the test set\n",
    "##### Final result is calculated by averaging the accuracy of models"
   ]
  },
  {
   "cell_type": "code",
   "execution_count": 50,
   "metadata": {
    "colab": {},
    "colab_type": "code",
    "id": "8KwXPTNE_0q9"
   },
   "outputs": [],
   "source": [
    "# Number of iterations for bootstrapping\n",
    "bootstrap_iteration = 10\n",
    "accuracy = []"
   ]
  },
  {
   "cell_type": "code",
   "execution_count": 53,
   "metadata": {
    "colab": {},
    "colab_type": "code",
    "id": "rVQTCij9_0rA"
   },
   "outputs": [],
   "source": [
    "from sklearn.utils import resample\n",
    "from sklearn.metrics import accuracy_score\n",
    "\n",
    "for i in range(bootstrap_iteration):\n",
    "    X_, y_ = resample(X_train, y_train)\n",
    "    clf.fit(X_, y_)\n",
    "    y_pred = clf.predict(X_test)\n",
    "    \n",
    "    acc = accuracy_score(y_pred, y_test)\n",
    "    accuracy.append(acc)"
   ]
  },
  {
   "cell_type": "code",
   "execution_count": 54,
   "metadata": {
    "colab": {},
    "colab_type": "code",
    "id": "lRtfc6p7_0rD",
    "outputId": "6b6e9b14-0652-4550-83e0-7bb2ca3f0481"
   },
   "outputs": [
    {
     "name": "stdout",
     "output_type": "stream",
     "text": [
      "Accuracy Score\n",
      "Avearge:  0.03333333333333333\n",
      "Standard deviation:  0.005055250296034367\n"
     ]
    }
   ],
   "source": [
    "accuracy = np.array(accuracy)\n",
    "print('Accuracy Score')\n",
    "print('Avearge: ', accuracy.mean())\n",
    "print('Standard deviation: ', accuracy.std())"
   ]
  },
  {
   "cell_type": "code",
   "execution_count": 0,
   "metadata": {
    "colab": {},
    "colab_type": "code",
    "id": "7ItbXIpd_0rH"
   },
   "outputs": [],
   "source": []
  }
 ],
 "metadata": {
  "colab": {
   "collapsed_sections": [
    "LuQwgG7T_0pa",
    "x2wDGYcC_0pf",
    "U7VnUE71_0pk",
    "BZ43LYtQ_0q9"
   ],
   "name": "R4_External_Lab_Validation_Accuracy (2).ipynb",
   "provenance": []
  },
  "kernelspec": {
   "display_name": "Python 3",
   "language": "python",
   "name": "python3"
  },
  "language_info": {
   "codemirror_mode": {
    "name": "ipython",
    "version": 3
   },
   "file_extension": ".py",
   "mimetype": "text/x-python",
   "name": "python",
   "nbconvert_exporter": "python",
   "pygments_lexer": "ipython3",
   "version": "3.7.1"
  }
 },
 "nbformat": 4,
 "nbformat_minor": 1
}
