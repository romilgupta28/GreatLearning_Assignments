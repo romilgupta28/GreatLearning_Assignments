{
 "cells": [
  {
   "cell_type": "markdown",
   "metadata": {
    "colab_type": "text",
    "id": "vXE926qT0jHg"
   },
   "source": [
    "# Time series prediction using LSTM"
   ]
  },
  {
   "cell_type": "markdown",
   "metadata": {
    "colab_type": "text",
    "id": "54u8ql4Z4kBE"
   },
   "source": [
    "## Dataset\n",
    "- Daily minimum temperatures in Melbourne, Australia, 1981-1990\n",
    "- Units: Degrees Celcius"
   ]
  },
  {
   "cell_type": "markdown",
   "metadata": {
    "colab_type": "text",
    "id": "IPkYyOzY77yl"
   },
   "source": [
    "## Question 1"
   ]
  },
  {
   "cell_type": "markdown",
   "metadata": {
    "colab_type": "text",
    "id": "aXEOY69f8B9d"
   },
   "source": [
    "### Load the data\n",
    "- load daily-minimum-temperatures-in-me.csv"
   ]
  },
  {
   "cell_type": "code",
   "execution_count": 92,
   "metadata": {
    "colab": {},
    "colab_type": "code",
    "id": "LA7R2II8-Jxh"
   },
   "outputs": [],
   "source": [
    "import pandas as pd"
   ]
  },
  {
   "cell_type": "code",
   "execution_count": 93,
   "metadata": {},
   "outputs": [],
   "source": [
    "temp_df = pd.read_csv(\"daily-minimum-temperatures-in-me.csv\")"
   ]
  },
  {
   "cell_type": "markdown",
   "metadata": {
    "colab_type": "text",
    "id": "pWcMgg69-T6k"
   },
   "source": [
    "### Print the data\n",
    "- First 5 rows only"
   ]
  },
  {
   "cell_type": "code",
   "execution_count": 94,
   "metadata": {
    "colab": {},
    "colab_type": "code",
    "id": "SM828gT_-Ra2"
   },
   "outputs": [
    {
     "data": {
      "text/html": [
       "<div>\n",
       "<style scoped>\n",
       "    .dataframe tbody tr th:only-of-type {\n",
       "        vertical-align: middle;\n",
       "    }\n",
       "\n",
       "    .dataframe tbody tr th {\n",
       "        vertical-align: top;\n",
       "    }\n",
       "\n",
       "    .dataframe thead th {\n",
       "        text-align: right;\n",
       "    }\n",
       "</style>\n",
       "<table border=\"1\" class=\"dataframe\">\n",
       "  <thead>\n",
       "    <tr style=\"text-align: right;\">\n",
       "      <th></th>\n",
       "      <th>Date</th>\n",
       "      <th>Temperature</th>\n",
       "    </tr>\n",
       "  </thead>\n",
       "  <tbody>\n",
       "    <tr>\n",
       "      <th>0</th>\n",
       "      <td>1981-01-01</td>\n",
       "      <td>20.7</td>\n",
       "    </tr>\n",
       "    <tr>\n",
       "      <th>1</th>\n",
       "      <td>1981-01-02</td>\n",
       "      <td>17.9</td>\n",
       "    </tr>\n",
       "    <tr>\n",
       "      <th>2</th>\n",
       "      <td>1981-01-03</td>\n",
       "      <td>18.8</td>\n",
       "    </tr>\n",
       "    <tr>\n",
       "      <th>3</th>\n",
       "      <td>1981-01-04</td>\n",
       "      <td>14.6</td>\n",
       "    </tr>\n",
       "    <tr>\n",
       "      <th>4</th>\n",
       "      <td>1981-01-05</td>\n",
       "      <td>15.8</td>\n",
       "    </tr>\n",
       "  </tbody>\n",
       "</table>\n",
       "</div>"
      ],
      "text/plain": [
       "         Date  Temperature\n",
       "0  1981-01-01         20.7\n",
       "1  1981-01-02         17.9\n",
       "2  1981-01-03         18.8\n",
       "3  1981-01-04         14.6\n",
       "4  1981-01-05         15.8"
      ]
     },
     "execution_count": 94,
     "metadata": {},
     "output_type": "execute_result"
    }
   ],
   "source": [
    "temp_df.head()"
   ]
  },
  {
   "cell_type": "markdown",
   "metadata": {
    "colab_type": "text",
    "id": "JGnWESz9BKx8"
   },
   "source": [
    "### Set index column\n",
    "- Set the DataFrame index using \"Date\" column"
   ]
  },
  {
   "cell_type": "code",
   "execution_count": 95,
   "metadata": {
    "colab": {},
    "colab_type": "code",
    "id": "nFrbd_vd-eZP"
   },
   "outputs": [],
   "source": [
    "temp_df = temp_df.set_index(\"Date\")"
   ]
  },
  {
   "cell_type": "code",
   "execution_count": 96,
   "metadata": {},
   "outputs": [
    {
     "data": {
      "text/html": [
       "<div>\n",
       "<style scoped>\n",
       "    .dataframe tbody tr th:only-of-type {\n",
       "        vertical-align: middle;\n",
       "    }\n",
       "\n",
       "    .dataframe tbody tr th {\n",
       "        vertical-align: top;\n",
       "    }\n",
       "\n",
       "    .dataframe thead th {\n",
       "        text-align: right;\n",
       "    }\n",
       "</style>\n",
       "<table border=\"1\" class=\"dataframe\">\n",
       "  <thead>\n",
       "    <tr style=\"text-align: right;\">\n",
       "      <th></th>\n",
       "      <th>Temperature</th>\n",
       "    </tr>\n",
       "    <tr>\n",
       "      <th>Date</th>\n",
       "      <th></th>\n",
       "    </tr>\n",
       "  </thead>\n",
       "  <tbody>\n",
       "    <tr>\n",
       "      <th>1981-01-01</th>\n",
       "      <td>20.7</td>\n",
       "    </tr>\n",
       "    <tr>\n",
       "      <th>1981-01-02</th>\n",
       "      <td>17.9</td>\n",
       "    </tr>\n",
       "    <tr>\n",
       "      <th>1981-01-03</th>\n",
       "      <td>18.8</td>\n",
       "    </tr>\n",
       "    <tr>\n",
       "      <th>1981-01-04</th>\n",
       "      <td>14.6</td>\n",
       "    </tr>\n",
       "    <tr>\n",
       "      <th>1981-01-05</th>\n",
       "      <td>15.8</td>\n",
       "    </tr>\n",
       "  </tbody>\n",
       "</table>\n",
       "</div>"
      ],
      "text/plain": [
       "            Temperature\n",
       "Date                   \n",
       "1981-01-01         20.7\n",
       "1981-01-02         17.9\n",
       "1981-01-03         18.8\n",
       "1981-01-04         14.6\n",
       "1981-01-05         15.8"
      ]
     },
     "execution_count": 96,
     "metadata": {},
     "output_type": "execute_result"
    }
   ],
   "source": [
    "temp_df.head()"
   ]
  },
  {
   "cell_type": "markdown",
   "metadata": {
    "colab_type": "text",
    "id": "sS7IVXq7B1P1"
   },
   "source": [
    "## Question 2"
   ]
  },
  {
   "cell_type": "markdown",
   "metadata": {
    "colab_type": "text",
    "id": "PcgAOybZCc5-"
   },
   "source": [
    "### Check the total count of null values in the data"
   ]
  },
  {
   "cell_type": "code",
   "execution_count": 97,
   "metadata": {
    "colab": {},
    "colab_type": "code",
    "id": "UTMe5jdCCj4k"
   },
   "outputs": [
    {
     "data": {
      "text/plain": [
       "Temperature    0\n",
       "dtype: int64"
      ]
     },
     "execution_count": 97,
     "metadata": {},
     "output_type": "execute_result"
    }
   ],
   "source": [
    "temp_df.isna().sum()"
   ]
  },
  {
   "cell_type": "markdown",
   "metadata": {
    "colab_type": "text",
    "id": "Ua-AeW2YC3kY"
   },
   "source": [
    "### Drop all the rows with null values\n",
    "- use dropna() method"
   ]
  },
  {
   "cell_type": "code",
   "execution_count": 98,
   "metadata": {
    "colab": {},
    "colab_type": "code",
    "id": "9l9UeA6YC8RV"
   },
   "outputs": [],
   "source": [
    "# There are no null values"
   ]
  },
  {
   "cell_type": "markdown",
   "metadata": {
    "colab_type": "text",
    "id": "SJam5Ho-DHK7"
   },
   "source": [
    "## Question 3"
   ]
  },
  {
   "cell_type": "markdown",
   "metadata": {
    "colab_type": "text",
    "id": "3esUPJAMDzCJ"
   },
   "source": [
    "### Describe your dataframe\n",
    "- use describe() method"
   ]
  },
  {
   "cell_type": "code",
   "execution_count": 99,
   "metadata": {
    "colab": {},
    "colab_type": "code",
    "id": "uhH8OwGVELyH"
   },
   "outputs": [
    {
     "data": {
      "text/html": [
       "<div>\n",
       "<style scoped>\n",
       "    .dataframe tbody tr th:only-of-type {\n",
       "        vertical-align: middle;\n",
       "    }\n",
       "\n",
       "    .dataframe tbody tr th {\n",
       "        vertical-align: top;\n",
       "    }\n",
       "\n",
       "    .dataframe thead th {\n",
       "        text-align: right;\n",
       "    }\n",
       "</style>\n",
       "<table border=\"1\" class=\"dataframe\">\n",
       "  <thead>\n",
       "    <tr style=\"text-align: right;\">\n",
       "      <th></th>\n",
       "      <th>Temperature</th>\n",
       "    </tr>\n",
       "  </thead>\n",
       "  <tbody>\n",
       "    <tr>\n",
       "      <th>count</th>\n",
       "      <td>3650.000000</td>\n",
       "    </tr>\n",
       "    <tr>\n",
       "      <th>mean</th>\n",
       "      <td>11.177753</td>\n",
       "    </tr>\n",
       "    <tr>\n",
       "      <th>std</th>\n",
       "      <td>4.071837</td>\n",
       "    </tr>\n",
       "    <tr>\n",
       "      <th>min</th>\n",
       "      <td>0.000000</td>\n",
       "    </tr>\n",
       "    <tr>\n",
       "      <th>25%</th>\n",
       "      <td>8.300000</td>\n",
       "    </tr>\n",
       "    <tr>\n",
       "      <th>50%</th>\n",
       "      <td>11.000000</td>\n",
       "    </tr>\n",
       "    <tr>\n",
       "      <th>75%</th>\n",
       "      <td>14.000000</td>\n",
       "    </tr>\n",
       "    <tr>\n",
       "      <th>max</th>\n",
       "      <td>26.300000</td>\n",
       "    </tr>\n",
       "  </tbody>\n",
       "</table>\n",
       "</div>"
      ],
      "text/plain": [
       "       Temperature\n",
       "count  3650.000000\n",
       "mean     11.177753\n",
       "std       4.071837\n",
       "min       0.000000\n",
       "25%       8.300000\n",
       "50%      11.000000\n",
       "75%      14.000000\n",
       "max      26.300000"
      ]
     },
     "execution_count": 99,
     "metadata": {},
     "output_type": "execute_result"
    }
   ],
   "source": [
    "temp_df.describe()"
   ]
  },
  {
   "cell_type": "markdown",
   "metadata": {
    "colab_type": "text",
    "id": "bizrToFMB4ix"
   },
   "source": [
    "### Plot the dataframe\n",
    "- use plot() method"
   ]
  },
  {
   "cell_type": "code",
   "execution_count": 100,
   "metadata": {
    "colab": {},
    "colab_type": "code",
    "id": "rNiXK6YZB30N"
   },
   "outputs": [
    {
     "data": {
      "text/plain": [
       "<matplotlib.axes._subplots.AxesSubplot at 0x1ea955eeba8>"
      ]
     },
     "execution_count": 100,
     "metadata": {},
     "output_type": "execute_result"
    },
    {
     "data": {
      "image/png": "[encoded data removed]",
      "text/plain": [
       "<Figure size 432x288 with 1 Axes>"
      ]
     },
     "metadata": {
      "needs_background": "light"
     },
     "output_type": "display_data"
    }
   ],
   "source": [
    "temp_df.plot()"
   ]
  },
  {
   "cell_type": "markdown",
   "metadata": {
    "colab_type": "text",
    "id": "OtI9ZGJqE1lh"
   },
   "source": [
    "### Get representation of the distribution of data using histogram\n",
    "- use hist() method"
   ]
  },
  {
   "cell_type": "code",
   "execution_count": 101,
   "metadata": {
    "colab": {},
    "colab_type": "code",
    "id": "qan611HdE9nR"
   },
   "outputs": [
    {
     "data": {
      "text/plain": [
       "array([[<matplotlib.axes._subplots.AxesSubplot object at 0x000001EA95F7A8D0>]],\n",
       "      dtype=object)"
      ]
     },
     "execution_count": 101,
     "metadata": {},
     "output_type": "execute_result"
    },
    {
     "data": {
      "image/png": "[encoded data removed]",
      "text/plain": [
       "<Figure size 432x288 with 1 Axes>"
      ]
     },
     "metadata": {
      "needs_background": "light"
     },
     "output_type": "display_data"
    }
   ],
   "source": [
    "temp_df.hist()"
   ]
  },
  {
   "cell_type": "markdown",
   "metadata": {
    "colab_type": "text",
    "id": "D8VDVRisHAsH"
   },
   "source": [
    "### Check minimum and maximum temperature\n",
    "- use min() and max() methods"
   ]
  },
  {
   "cell_type": "code",
   "execution_count": 102,
   "metadata": {
    "colab": {},
    "colab_type": "code",
    "id": "xlwlVtRfG_qX"
   },
   "outputs": [
    {
     "name": "stdout",
     "output_type": "stream",
     "text": [
      "min temperature : Temperature    0.0\n",
      "dtype: float64\n"
     ]
    }
   ],
   "source": [
    "print(\"min temperature :\",temp_df.min())"
   ]
  },
  {
   "cell_type": "code",
   "execution_count": 103,
   "metadata": {
    "colab": {},
    "colab_type": "code",
    "id": "abO5iWWAFFCJ"
   },
   "outputs": [
    {
     "name": "stdout",
     "output_type": "stream",
     "text": [
      "min temperature : Temperature    26.3\n",
      "dtype: float64\n"
     ]
    }
   ],
   "source": [
    "print(\"min temperature :\",temp_df.max())"
   ]
  },
  {
   "cell_type": "markdown",
   "metadata": {
    "colab_type": "text",
    "id": "qTjD3zhSI_BD"
   },
   "source": [
    "## Question 4"
   ]
  },
  {
   "cell_type": "markdown",
   "metadata": {
    "colab_type": "text",
    "id": "QSDmmRxBMOO7"
   },
   "source": [
    "### Split the dataset into training and testing\n",
    "- training data: 75%\n",
    "- testing data: 25%"
   ]
  },
  {
   "cell_type": "code",
   "execution_count": 104,
   "metadata": {
    "colab": {},
    "colab_type": "code",
    "id": "dbrspzBVM6Gg"
   },
   "outputs": [
    {
     "name": "stdout",
     "output_type": "stream",
     "text": [
      "2737\n",
      "913\n",
      "train: 2737\n",
      "test: 913\n"
     ]
    }
   ],
   "source": [
    "#75% examples will used for training (in the begining)\n",
    "train_size = int(len(temp_df) * 0.75)\n",
    "print(train_size)\n",
    "#30% will be used for Test\n",
    "test_size = len(temp_df) - train_size\n",
    "print(test_size)\n",
    "#Split the data\n",
    "train = temp_df[0:train_size]\n",
    "test = temp_df[train_size: len(temp_df)]\n",
    "print('train: {}\\ntest: {}'.format(len(train), len(test)))"
   ]
  },
  {
   "cell_type": "markdown",
   "metadata": {
    "colab_type": "text",
    "id": "eEgBn5JkKwrZ"
   },
   "source": [
    "### Normalize the data\n",
    "- normalize temperature values using MinMaxScaler\n",
    "- feature_range: 0-1\n",
    "- fit MinMaxScaler on train data and transform it\n",
    "  - use fit_transform() method\n",
    "- transform test data using MinMaxScaler object\n",
    "  - use transform() method"
   ]
  },
  {
   "cell_type": "code",
   "execution_count": 105,
   "metadata": {
    "colab": {},
    "colab_type": "code",
    "id": "OqDcm7tbI19Z"
   },
   "outputs": [],
   "source": [
    "from sklearn.preprocessing import MinMaxScaler\n",
    "scaler = MinMaxScaler(feature_range=(0, 1))\n",
    "scaled_df_train = scaler.fit_transform(train)\n",
    "scaled_df_test = scaler.transform(test)"
   ]
  },
  {
   "cell_type": "markdown",
   "metadata": {
    "colab_type": "text",
    "id": "4HjbO8gRQ3M1"
   },
   "source": [
    "### Print scaled train and test data\n",
    "- print only first 5 values"
   ]
  },
  {
   "cell_type": "code",
   "execution_count": 106,
   "metadata": {
    "colab": {},
    "colab_type": "code",
    "id": "U_WDZwKxRBRx"
   },
   "outputs": [
    {
     "data": {
      "text/plain": [
       "array([[0.78707224],\n",
       "       [0.68060837],\n",
       "       [0.7148289 ],\n",
       "       [0.55513308],\n",
       "       [0.60076046]])"
      ]
     },
     "execution_count": 106,
     "metadata": {},
     "output_type": "execute_result"
    }
   ],
   "source": [
    "scaled_df_train[0:5]"
   ]
  },
  {
   "cell_type": "code",
   "execution_count": 107,
   "metadata": {
    "colab": {},
    "colab_type": "code",
    "id": "vYlwALHrRGcX"
   },
   "outputs": [
    {
     "data": {
      "text/plain": [
       "array([[0.22813688],\n",
       "       [0.22053232],\n",
       "       [0.18631179],\n",
       "       [0.19011407],\n",
       "       [0.31939163]])"
      ]
     },
     "execution_count": 107,
     "metadata": {},
     "output_type": "execute_result"
    }
   ],
   "source": [
    "scaled_df_test[0:5]"
   ]
  },
  {
   "cell_type": "markdown",
   "metadata": {
    "colab_type": "text",
    "id": "JB5lHp94RQWY"
   },
   "source": [
    "## Question 5"
   ]
  },
  {
   "cell_type": "markdown",
   "metadata": {
    "colab_type": "text",
    "id": "kVqNUf00RSiv"
   },
   "source": [
    "### Create sequential data\n",
    "Map the temperature at a particular day 'd' to the temperature at day t\n",
    "'d+n', where n is any number you define.\n",
    "\n",
    "For example: to map temperatures of consecutive days, use d+1, i.e. lookback = 1\n",
    "- Below function takes data as input and returns sequential data.\n",
    "- X as features and y as labels"
   ]
  },
  {
   "cell_type": "code",
   "execution_count": 108,
   "metadata": {
    "colab": {},
    "colab_type": "code",
    "id": "AtxhXruAWws-"
   },
   "outputs": [],
   "source": [
    "import numpy as np\n",
    "def create_seq_data(data, lookback=1):\n",
    "  X, y = list(), list()\n",
    "  \n",
    "  for day in range((len(data)-lookback)):\n",
    "    X.append(data[day: day+lookback, 0])\n",
    "    y.append(data[day+lookback, 0])\n",
    "  return np.array(X), np.array(y)"
   ]
  },
  {
   "cell_type": "markdown",
   "metadata": {
    "colab_type": "text",
    "id": "VMBJpuDQJzcG"
   },
   "source": [
    "### Use the above function to create train and test sets\n",
    "- Get X_train and y_train\n",
    "- Get X_test and y_test\n",
    "- lookback = 1"
   ]
  },
  {
   "cell_type": "code",
   "execution_count": 109,
   "metadata": {
    "colab": {},
    "colab_type": "code",
    "id": "Uq6GGmJ0Zqem"
   },
   "outputs": [],
   "source": [
    "X_train, y_train = create_seq_data(scaled_df_train)"
   ]
  },
  {
   "cell_type": "code",
   "execution_count": 110,
   "metadata": {},
   "outputs": [
    {
     "data": {
      "text/plain": [
       "array([[0.78707224],\n",
       "       [0.68060837],\n",
       "       [0.7148289 ],\n",
       "       ...,\n",
       "       [0.38022814],\n",
       "       [0.25475285],\n",
       "       [0.35741445]])"
      ]
     },
     "execution_count": 110,
     "metadata": {},
     "output_type": "execute_result"
    }
   ],
   "source": [
    "X_train"
   ]
  },
  {
   "cell_type": "code",
   "execution_count": 111,
   "metadata": {},
   "outputs": [],
   "source": [
    "X_test, y_test = create_seq_data(scaled_df_test)"
   ]
  },
  {
   "cell_type": "code",
   "execution_count": 112,
   "metadata": {},
   "outputs": [
    {
     "data": {
      "text/plain": [
       "array([[0.22813688],\n",
       "       [0.22053232],\n",
       "       [0.18631179],\n",
       "       [0.19011407],\n",
       "       [0.31939163],\n",
       "       [0.46768061],\n",
       "       [0.49429658],\n",
       "       [0.43346008],\n",
       "       [0.25855513],\n",
       "       [0.28897338],\n",
       "       [0.47148289],\n",
       "       [0.26996198],\n",
       "       [0.2851711 ],\n",
       "       [0.38022814],\n",
       "       [0.20152091],\n",
       "       [0.23954373],\n",
       "       [0.30418251],\n",
       "       [0.31558935],\n",
       "       [0.35361217],\n",
       "       [0.36121673],\n",
       "       [0.21292776],\n",
       "       [0.2661597 ],\n",
       "       [0.32319392],\n",
       "       [0.32319392],\n",
       "       [0.31178707],\n",
       "       [0.32319392],\n",
       "       [0.36501901],\n",
       "       [0.36882129],\n",
       "       [0.26996198],\n",
       "       [0.31939163],\n",
       "       [0.34980989],\n",
       "       [0.37262357],\n",
       "       [0.30798479],\n",
       "       [0.35741445],\n",
       "       [0.38022814],\n",
       "       [0.19391635],\n",
       "       [0.25475285],\n",
       "       [0.26235741],\n",
       "       [0.25855513],\n",
       "       [0.3269962 ],\n",
       "       [0.3460076 ],\n",
       "       [0.14828897],\n",
       "       [0.18250951],\n",
       "       [0.31939163],\n",
       "       [0.44106464],\n",
       "       [0.46007605],\n",
       "       [0.47148289],\n",
       "       [0.38022814],\n",
       "       [0.38403042],\n",
       "       [0.36882129],\n",
       "       [0.44486692],\n",
       "       [0.30038023],\n",
       "       [0.3269962 ],\n",
       "       [0.29277567],\n",
       "       [0.22053232],\n",
       "       [0.33079848],\n",
       "       [0.40304183],\n",
       "       [0.25475285],\n",
       "       [0.33460076],\n",
       "       [0.36882129],\n",
       "       [0.34220532],\n",
       "       [0.4486692 ],\n",
       "       [0.57794677],\n",
       "       [0.38022814],\n",
       "       [0.39923954],\n",
       "       [0.20912548],\n",
       "       [0.35741445],\n",
       "       [0.33460076],\n",
       "       [0.20152091],\n",
       "       [0.49429658],\n",
       "       [0.57794677],\n",
       "       [0.50190114],\n",
       "       [0.43726236],\n",
       "       [0.25855513],\n",
       "       [0.17870722],\n",
       "       [0.19771863],\n",
       "       [0.25855513],\n",
       "       [0.40684411],\n",
       "       [0.38403042],\n",
       "       [0.38022814],\n",
       "       [0.37262357],\n",
       "       [0.20912548],\n",
       "       [0.51330798],\n",
       "       [0.63117871],\n",
       "       [0.31939163],\n",
       "       [0.31178707],\n",
       "       [0.42205323],\n",
       "       [0.41064639],\n",
       "       [0.33460076],\n",
       "       [0.41064639],\n",
       "       [0.33079848],\n",
       "       [0.47148289],\n",
       "       [0.34220532],\n",
       "       [0.51330798],\n",
       "       [0.55893536],\n",
       "       [0.41444867],\n",
       "       [0.32319392],\n",
       "       [0.22813688],\n",
       "       [0.48288973],\n",
       "       [0.42205323],\n",
       "       [0.33079848],\n",
       "       [0.46768061],\n",
       "       [0.50570342],\n",
       "       [0.21292776],\n",
       "       [0.52091255],\n",
       "       [0.32319392],\n",
       "       [0.42585551],\n",
       "       [0.33079848],\n",
       "       [0.44486692],\n",
       "       [0.47528517],\n",
       "       [0.31178707],\n",
       "       [0.59315589],\n",
       "       [0.39163498],\n",
       "       [0.43346008],\n",
       "       [0.36882129],\n",
       "       [0.23954373],\n",
       "       [0.54372624],\n",
       "       [0.42965779],\n",
       "       [0.27756654],\n",
       "       [0.48669202],\n",
       "       [0.45247148],\n",
       "       [0.54372624],\n",
       "       [0.44106464],\n",
       "       [0.50190114],\n",
       "       [0.58935361],\n",
       "       [0.53612167],\n",
       "       [0.36121673],\n",
       "       [0.27376426],\n",
       "       [0.4486692 ],\n",
       "       [0.63878327],\n",
       "       [0.47528517],\n",
       "       [0.35741445],\n",
       "       [0.45247148],\n",
       "       [0.39163498],\n",
       "       [0.64258555],\n",
       "       [0.66539924],\n",
       "       [0.2851711 ],\n",
       "       [0.3269962 ],\n",
       "       [0.42205323],\n",
       "       [0.43726236],\n",
       "       [0.40684411],\n",
       "       [0.59695817],\n",
       "       [0.48669202],\n",
       "       [0.49429658],\n",
       "       [0.4904943 ],\n",
       "       [0.54372624],\n",
       "       [0.52091255],\n",
       "       [0.46007605],\n",
       "       [0.45247148],\n",
       "       [0.4486692 ],\n",
       "       [0.43346008],\n",
       "       [0.39163498],\n",
       "       [0.44486692],\n",
       "       [0.45627376],\n",
       "       [0.66159696],\n",
       "       [0.63878327],\n",
       "       [0.61596958],\n",
       "       [0.49429658],\n",
       "       [0.47528517],\n",
       "       [0.47148289],\n",
       "       [0.6121673 ],\n",
       "       [0.76806084],\n",
       "       [0.54372624],\n",
       "       [0.41825095],\n",
       "       [0.54752852],\n",
       "       [0.59695817],\n",
       "       [0.74904943],\n",
       "       [0.78707224],\n",
       "       [0.90874525],\n",
       "       [0.63117871],\n",
       "       [0.66539924],\n",
       "       [0.56653992],\n",
       "       [0.51711027],\n",
       "       [0.45247148],\n",
       "       [0.57794677],\n",
       "       [0.65779468],\n",
       "       [0.75285171],\n",
       "       [0.60076046],\n",
       "       [0.36121673],\n",
       "       [0.4904943 ],\n",
       "       [0.4904943 ],\n",
       "       [0.56273764],\n",
       "       [0.53612167],\n",
       "       [0.54372624],\n",
       "       [0.66159696],\n",
       "       [0.70342205],\n",
       "       [0.63878327],\n",
       "       [0.43726236],\n",
       "       [0.36121673],\n",
       "       [0.46387833],\n",
       "       [0.59695817],\n",
       "       [0.61977186],\n",
       "       [0.51711027],\n",
       "       [0.47908745],\n",
       "       [0.52471483],\n",
       "       [0.46007605],\n",
       "       [0.5095057 ],\n",
       "       [0.65779468],\n",
       "       [0.73764259],\n",
       "       [0.63117871],\n",
       "       [0.52851711],\n",
       "       [0.49809886],\n",
       "       [0.60836502],\n",
       "       [0.5513308 ],\n",
       "       [0.57034221],\n",
       "       [0.47908745],\n",
       "       [0.47528517],\n",
       "       [0.57794677],\n",
       "       [0.61596958],\n",
       "       [0.62737643],\n",
       "       [0.76425856],\n",
       "       [0.78326996],\n",
       "       [0.64258555],\n",
       "       [0.62737643],\n",
       "       [0.6121673 ],\n",
       "       [0.54752852],\n",
       "       [0.61977186],\n",
       "       [0.59695817],\n",
       "       [0.53992395],\n",
       "       [0.50190114],\n",
       "       [0.63878327],\n",
       "       [0.70342205],\n",
       "       [0.63498099],\n",
       "       [0.58174905],\n",
       "       [0.60456274],\n",
       "       [0.57794677],\n",
       "       [0.66539924],\n",
       "       [0.69581749],\n",
       "       [0.73764259],\n",
       "       [0.73764259],\n",
       "       [0.74144487],\n",
       "       [0.77946768],\n",
       "       [0.59695817],\n",
       "       [0.57034221],\n",
       "       [0.6121673 ],\n",
       "       [0.54372624],\n",
       "       [0.49429658],\n",
       "       [0.61596958],\n",
       "       [0.6730038 ],\n",
       "       [0.50190114],\n",
       "       [0.60076046],\n",
       "       [0.70342205],\n",
       "       [0.7756654 ],\n",
       "       [0.8365019 ],\n",
       "       [0.74904943],\n",
       "       [0.74524715],\n",
       "       [0.77186312],\n",
       "       [0.69581749],\n",
       "       [0.71863118],\n",
       "       [0.77186312],\n",
       "       [0.81368821],\n",
       "       [0.69581749],\n",
       "       [0.67680608],\n",
       "       [0.6730038 ],\n",
       "       [0.48669202],\n",
       "       [0.57414449],\n",
       "       [0.57034221],\n",
       "       [0.56273764],\n",
       "       [0.45627376],\n",
       "       [0.47528517],\n",
       "       [0.57034221],\n",
       "       [0.65019011],\n",
       "       [0.65779468],\n",
       "       [0.64258555],\n",
       "       [0.62737643],\n",
       "       [0.51711027],\n",
       "       [0.50190114],\n",
       "       [0.35741445],\n",
       "       [0.36121673],\n",
       "       [0.4486692 ],\n",
       "       [0.39543726],\n",
       "       [0.36882129],\n",
       "       [0.47908745],\n",
       "       [0.50570342],\n",
       "       [0.57414449],\n",
       "       [0.53992395],\n",
       "       [0.53992395],\n",
       "       [0.73003802],\n",
       "       [0.47908745],\n",
       "       [0.53992395],\n",
       "       [0.45247148],\n",
       "       [0.52851711],\n",
       "       [0.51330798],\n",
       "       [0.58174905],\n",
       "       [0.52851711],\n",
       "       [0.53231939],\n",
       "       [0.4904943 ],\n",
       "       [0.32319392],\n",
       "       [0.43346008],\n",
       "       [0.41444867],\n",
       "       [0.45627376],\n",
       "       [0.3269962 ],\n",
       "       [0.34220532],\n",
       "       [0.36501901],\n",
       "       [0.3878327 ],\n",
       "       [0.37262357],\n",
       "       [0.31558935],\n",
       "       [0.41825095],\n",
       "       [0.45247148],\n",
       "       [0.53231939],\n",
       "       [0.60076046],\n",
       "       [0.5513308 ],\n",
       "       [0.50190114],\n",
       "       [0.53992395],\n",
       "       [0.55513308],\n",
       "       [0.4486692 ],\n",
       "       [0.54752852],\n",
       "       [0.39543726],\n",
       "       [0.39163498],\n",
       "       [0.41064639],\n",
       "       [0.39923954],\n",
       "       [0.36121673],\n",
       "       [0.47528517],\n",
       "       [0.52091255],\n",
       "       [0.48288973],\n",
       "       [0.45247148],\n",
       "       [0.43346008],\n",
       "       [0.36882129],\n",
       "       [0.31558935],\n",
       "       [0.30798479],\n",
       "       [0.44486692],\n",
       "       [0.44106464],\n",
       "       [0.28136882],\n",
       "       [0.19771863],\n",
       "       [0.41825095],\n",
       "       [0.36121673],\n",
       "       [0.34980989],\n",
       "       [0.40684411],\n",
       "       [0.34220532],\n",
       "       [0.3878327 ],\n",
       "       [0.39163498],\n",
       "       [0.46007605],\n",
       "       [0.50190114],\n",
       "       [0.25095057],\n",
       "       [0.08745247],\n",
       "       [0.05323194],\n",
       "       [0.07984791],\n",
       "       [0.25095057],\n",
       "       [0.33840304],\n",
       "       [0.29657795],\n",
       "       [0.34220532],\n",
       "       [0.39163498],\n",
       "       [0.30038023],\n",
       "       [0.27376426],\n",
       "       [0.3269962 ],\n",
       "       [0.33460076],\n",
       "       [0.23574144],\n",
       "       [0.36121673],\n",
       "       [0.3878327 ],\n",
       "       [0.36882129],\n",
       "       [0.42585551],\n",
       "       [0.3878327 ],\n",
       "       [0.38403042],\n",
       "       [0.30798479],\n",
       "       [0.25095057],\n",
       "       [0.19011407],\n",
       "       [0.17870722],\n",
       "       [0.20152091],\n",
       "       [0.17110266],\n",
       "       [0.08745247],\n",
       "       [0.05323194],\n",
       "       [0.01901141],\n",
       "       [0.09125475],\n",
       "       [0.30418251],\n",
       "       [0.22813688],\n",
       "       [0.26996198],\n",
       "       [0.36882129],\n",
       "       [0.26235741],\n",
       "       [0.20152091],\n",
       "       [0.2661597 ],\n",
       "       [0.23574144],\n",
       "       [0.2661597 ],\n",
       "       [0.36882129],\n",
       "       [0.30418251],\n",
       "       [0.32319392],\n",
       "       [0.26996198],\n",
       "       [0.2851711 ],\n",
       "       [0.12547529],\n",
       "       [0.06844106],\n",
       "       [0.09885932],\n",
       "       [0.20152091],\n",
       "       [0.22053232],\n",
       "       [0.22053232],\n",
       "       [0.27376426],\n",
       "       [0.20152091],\n",
       "       [0.0608365 ],\n",
       "       [0.11787072],\n",
       "       [0.20152091],\n",
       "       [0.29277567],\n",
       "       [0.15969582],\n",
       "       [0.20912548],\n",
       "       [0.34220532],\n",
       "       [0.42585551],\n",
       "       [0.30418251],\n",
       "       [0.28897338],\n",
       "       [0.14068441],\n",
       "       [0.2851711 ],\n",
       "       [0.30798479],\n",
       "       [0.31939163],\n",
       "       [0.26996198],\n",
       "       [0.28897338],\n",
       "       [0.28897338],\n",
       "       [0.21292776],\n",
       "       [0.2661597 ],\n",
       "       [0.39923954],\n",
       "       [0.27756654],\n",
       "       [0.29657795],\n",
       "       [0.22053232],\n",
       "       [0.14448669],\n",
       "       [0.22053232],\n",
       "       [0.25475285],\n",
       "       [0.25095057],\n",
       "       [0.25095057],\n",
       "       [0.34220532],\n",
       "       [0.30798479],\n",
       "       [0.19391635],\n",
       "       [0.3269962 ],\n",
       "       [0.2661597 ],\n",
       "       [0.20912548],\n",
       "       [0.28136882],\n",
       "       [0.23574144],\n",
       "       [0.15969582],\n",
       "       [0.23954373],\n",
       "       [0.2661597 ],\n",
       "       [0.15209125],\n",
       "       [0.30418251],\n",
       "       [0.33460076],\n",
       "       [0.33460076],\n",
       "       [0.23193916],\n",
       "       [0.3269962 ],\n",
       "       [0.33840304],\n",
       "       [0.29657795],\n",
       "       [0.19011407],\n",
       "       [0.2661597 ],\n",
       "       [0.50570342],\n",
       "       [0.30038023],\n",
       "       [0.2851711 ],\n",
       "       [0.31558935],\n",
       "       [0.27376426],\n",
       "       [0.24714829],\n",
       "       [0.33840304],\n",
       "       [0.28136882],\n",
       "       [0.37642586],\n",
       "       [0.35361217],\n",
       "       [0.40304183],\n",
       "       [0.3269962 ],\n",
       "       [0.27376426],\n",
       "       [0.47908745],\n",
       "       [0.29657795],\n",
       "       [0.23954373],\n",
       "       [0.34980989],\n",
       "       [0.22053232],\n",
       "       [0.34220532],\n",
       "       [0.19011407],\n",
       "       [0.45247148],\n",
       "       [0.5095057 ],\n",
       "       [0.39923954],\n",
       "       [0.23574144],\n",
       "       [0.19391635],\n",
       "       [0.36121673],\n",
       "       [0.44486692],\n",
       "       [0.34980989],\n",
       "       [0.27756654],\n",
       "       [0.36882129],\n",
       "       [0.35741445],\n",
       "       [0.38022814],\n",
       "       [0.41444867],\n",
       "       [0.41825095],\n",
       "       [0.41444867],\n",
       "       [0.30418251],\n",
       "       [0.42585551],\n",
       "       [0.2851711 ],\n",
       "       [0.27376426],\n",
       "       [0.50190114],\n",
       "       [0.4904943 ],\n",
       "       [0.35741445],\n",
       "       [0.3878327 ],\n",
       "       [0.36121673],\n",
       "       [0.47148289],\n",
       "       [0.3878327 ],\n",
       "       [0.5095057 ],\n",
       "       [0.44106464],\n",
       "       [0.30418251],\n",
       "       [0.34220532],\n",
       "       [0.35361217],\n",
       "       [0.51330798],\n",
       "       [0.30418251],\n",
       "       [0.30798479],\n",
       "       [0.38022814],\n",
       "       [0.32319392],\n",
       "       [0.47528517],\n",
       "       [0.57034221],\n",
       "       [0.50570342],\n",
       "       [0.41825095],\n",
       "       [0.45247148],\n",
       "       [0.31558935],\n",
       "       [0.36882129],\n",
       "       [0.42965779],\n",
       "       [0.47528517],\n",
       "       [0.35741445],\n",
       "       [0.43346008],\n",
       "       [0.50190114],\n",
       "       [0.52471483],\n",
       "       [0.60836502],\n",
       "       [0.41444867],\n",
       "       [0.45247148],\n",
       "       [0.47148289],\n",
       "       [0.50190114],\n",
       "       [0.58935361],\n",
       "       [0.82129278],\n",
       "       [0.56653992],\n",
       "       [0.54752852],\n",
       "       [0.4904943 ],\n",
       "       [0.49809886],\n",
       "       [0.53231939],\n",
       "       [0.68060837],\n",
       "       [0.6730038 ],\n",
       "       [0.61977186],\n",
       "       [0.69581749],\n",
       "       [0.52091255],\n",
       "       [0.50570342],\n",
       "       [0.40304183],\n",
       "       [0.53612167],\n",
       "       [0.60836502],\n",
       "       [0.62737643],\n",
       "       [0.53612167],\n",
       "       [0.71102662],\n",
       "       [0.61596958],\n",
       "       [0.56273764],\n",
       "       [0.47908745],\n",
       "       [0.39543726],\n",
       "       [0.46387833],\n",
       "       [0.47908745],\n",
       "       [0.46007605],\n",
       "       [0.65779468],\n",
       "       [0.62357414],\n",
       "       [0.47908745],\n",
       "       [0.46768061],\n",
       "       [0.4486692 ],\n",
       "       [0.45627376],\n",
       "       [0.48288973],\n",
       "       [0.62357414],\n",
       "       [0.60836502],\n",
       "       [0.50570342],\n",
       "       [0.44486692],\n",
       "       [0.39543726],\n",
       "       [0.54752852],\n",
       "       [0.48288973],\n",
       "       [0.56273764],\n",
       "       [0.50570342],\n",
       "       [0.59315589],\n",
       "       [0.5513308 ],\n",
       "       [0.54372624],\n",
       "       [0.58174905],\n",
       "       [0.62357414],\n",
       "       [0.56273764],\n",
       "       [0.66159696],\n",
       "       [0.7148289 ],\n",
       "       [0.84030418],\n",
       "       [0.72243346],\n",
       "       [0.58935361],\n",
       "       [0.60076046],\n",
       "       [0.55893536],\n",
       "       [0.40684411],\n",
       "       [0.43726236],\n",
       "       [0.57034221],\n",
       "       [0.5513308 ],\n",
       "       [0.5513308 ],\n",
       "       [0.50570342],\n",
       "       [0.54372624],\n",
       "       [0.54372624],\n",
       "       [0.77946768],\n",
       "       [0.57034221],\n",
       "       [0.65019011],\n",
       "       [0.64258555],\n",
       "       [0.64258555],\n",
       "       [0.51711027],\n",
       "       [0.62357414],\n",
       "       [0.6121673 ],\n",
       "       [0.45627376],\n",
       "       [0.46387833],\n",
       "       [0.56273764],\n",
       "       [0.56273764],\n",
       "       [0.54752852],\n",
       "       [0.4904943 ],\n",
       "       [0.5095057 ],\n",
       "       [0.60456274],\n",
       "       [0.6121673 ],\n",
       "       [0.66920152],\n",
       "       [0.59315589],\n",
       "       [0.57034221],\n",
       "       [0.49429658],\n",
       "       [0.53612167],\n",
       "       [0.65779468],\n",
       "       [0.59695817],\n",
       "       [0.70722433],\n",
       "       [0.48288973],\n",
       "       [0.53231939],\n",
       "       [0.52091255],\n",
       "       [0.61977186],\n",
       "       [0.76045627],\n",
       "       [0.64638783],\n",
       "       [0.57794677],\n",
       "       [0.62737643],\n",
       "       [0.62737643],\n",
       "       [0.65779468],\n",
       "       [0.72623574],\n",
       "       [0.7338403 ],\n",
       "       [0.65779468],\n",
       "       [0.72243346],\n",
       "       [0.75285171],\n",
       "       [0.7338403 ],\n",
       "       [0.6539924 ],\n",
       "       [0.53992395],\n",
       "       [0.39163498],\n",
       "       [0.49429658],\n",
       "       [0.58174905],\n",
       "       [0.57034221],\n",
       "       [0.46007605],\n",
       "       [0.34980989],\n",
       "       [0.41825095],\n",
       "       [0.57034221],\n",
       "       [0.44106464],\n",
       "       [0.44106464],\n",
       "       [0.57414449],\n",
       "       [0.57034221],\n",
       "       [0.51711027],\n",
       "       [0.47528517],\n",
       "       [0.54372624],\n",
       "       [0.60836502],\n",
       "       [0.66159696],\n",
       "       [0.64258555],\n",
       "       [0.68441065],\n",
       "       [0.78326996],\n",
       "       [0.53992395],\n",
       "       [0.41444867],\n",
       "       [0.45247148],\n",
       "       [0.50570342],\n",
       "       [0.58174905],\n",
       "       [0.55893536],\n",
       "       [0.41825095],\n",
       "       [0.46387833],\n",
       "       [0.53992395],\n",
       "       [0.64638783],\n",
       "       [0.60076046],\n",
       "       [0.57794677],\n",
       "       [0.57414449],\n",
       "       [0.55893536],\n",
       "       [0.70342205],\n",
       "       [0.62357414],\n",
       "       [0.69961977],\n",
       "       [0.57414449],\n",
       "       [0.37642586],\n",
       "       [0.3878327 ],\n",
       "       [0.47908745],\n",
       "       [0.50190114],\n",
       "       [0.43726236],\n",
       "       [0.52471483],\n",
       "       [0.5513308 ],\n",
       "       [0.55893536],\n",
       "       [0.42585551],\n",
       "       [0.48288973],\n",
       "       [0.52091255],\n",
       "       [0.43726236],\n",
       "       [0.39543726],\n",
       "       [0.33840304],\n",
       "       [0.42205323],\n",
       "       [0.36121673],\n",
       "       [0.49429658],\n",
       "       [0.52851711],\n",
       "       [0.47908745],\n",
       "       [0.54372624],\n",
       "       [0.60836502],\n",
       "       [0.50570342],\n",
       "       [0.2661597 ],\n",
       "       [0.18631179],\n",
       "       [0.26235741],\n",
       "       [0.52091255],\n",
       "       [0.40304183],\n",
       "       [0.46768061],\n",
       "       [0.42205323],\n",
       "       [0.3878327 ],\n",
       "       [0.36121673],\n",
       "       [0.33840304],\n",
       "       [0.5095057 ],\n",
       "       [0.3460076 ],\n",
       "       [0.35741445],\n",
       "       [0.33079848],\n",
       "       [0.22053232],\n",
       "       [0.17110266],\n",
       "       [0.27376426],\n",
       "       [0.38022814],\n",
       "       [0.39923954],\n",
       "       [0.40684411],\n",
       "       [0.31178707],\n",
       "       [0.23193916],\n",
       "       [0.17110266],\n",
       "       [0.23193916],\n",
       "       [0.37262357],\n",
       "       [0.36882129],\n",
       "       [0.31178707],\n",
       "       [0.31939163],\n",
       "       [0.32319392],\n",
       "       [0.39543726],\n",
       "       [0.25855513],\n",
       "       [0.22813688],\n",
       "       [0.25095057],\n",
       "       [0.29657795],\n",
       "       [0.39163498],\n",
       "       [0.27376426],\n",
       "       [0.28136882],\n",
       "       [0.43346008],\n",
       "       [0.20532319],\n",
       "       [0.16730038],\n",
       "       [0.24334601],\n",
       "       [0.35361217],\n",
       "       [0.29277567],\n",
       "       [0.30798479],\n",
       "       [0.31558935],\n",
       "       [0.3460076 ],\n",
       "       [0.29277567],\n",
       "       [0.40304183],\n",
       "       [0.31178707],\n",
       "       [0.30038023],\n",
       "       [0.19771863],\n",
       "       [0.2243346 ],\n",
       "       [0.14068441],\n",
       "       [0.21292776],\n",
       "       [0.35741445],\n",
       "       [0.28136882],\n",
       "       [0.27756654],\n",
       "       [0.29277567],\n",
       "       [0.29277567],\n",
       "       [0.35361217],\n",
       "       [0.16730038],\n",
       "       [0.21673004],\n",
       "       [0.3878327 ],\n",
       "       [0.3878327 ],\n",
       "       [0.35361217],\n",
       "       [0.20532319],\n",
       "       [0.19011407],\n",
       "       [0.28897338],\n",
       "       [0.36501901],\n",
       "       [0.39543726],\n",
       "       [0.42585551],\n",
       "       [0.3460076 ],\n",
       "       [0.42585551],\n",
       "       [0.25855513],\n",
       "       [0.31558935],\n",
       "       [0.36882129],\n",
       "       [0.36501901],\n",
       "       [0.37262357],\n",
       "       [0.41064639],\n",
       "       [0.34980989],\n",
       "       [0.24714829],\n",
       "       [0.30798479],\n",
       "       [0.27756654],\n",
       "       [0.30038023],\n",
       "       [0.22813688],\n",
       "       [0.19011407],\n",
       "       [0.25855513],\n",
       "       [0.37262357],\n",
       "       [0.21673004],\n",
       "       [0.3269962 ],\n",
       "       [0.40304183],\n",
       "       [0.29657795],\n",
       "       [0.29277567],\n",
       "       [0.3269962 ],\n",
       "       [0.24714829],\n",
       "       [0.26235741],\n",
       "       [0.24334601],\n",
       "       [0.32319392],\n",
       "       [0.29657795],\n",
       "       [0.35361217],\n",
       "       [0.31939163],\n",
       "       [0.29657795],\n",
       "       [0.28136882],\n",
       "       [0.29277567],\n",
       "       [0.33840304],\n",
       "       [0.36882129],\n",
       "       [0.37642586],\n",
       "       [0.23193916],\n",
       "       [0.25095057],\n",
       "       [0.28897338],\n",
       "       [0.28136882],\n",
       "       [0.30418251],\n",
       "       [0.07984791],\n",
       "       [0.2243346 ],\n",
       "       [0.44106464],\n",
       "       [0.3269962 ],\n",
       "       [0.30038023],\n",
       "       [0.22813688],\n",
       "       [0.36121673],\n",
       "       [0.3269962 ],\n",
       "       [0.28897338],\n",
       "       [0.39543726],\n",
       "       [0.39163498],\n",
       "       [0.2851711 ],\n",
       "       [0.11406844],\n",
       "       [0.20152091],\n",
       "       [0.39923954],\n",
       "       [0.55513308],\n",
       "       [0.47908745],\n",
       "       [0.37262357],\n",
       "       [0.27376426],\n",
       "       [0.38403042],\n",
       "       [0.39543726],\n",
       "       [0.14068441],\n",
       "       [0.27756654],\n",
       "       [0.44106464],\n",
       "       [0.61977186],\n",
       "       [0.36501901],\n",
       "       [0.25855513],\n",
       "       [0.19771863],\n",
       "       [0.40304183],\n",
       "       [0.61977186],\n",
       "       [0.37262357],\n",
       "       [0.17490494],\n",
       "       [0.42205323],\n",
       "       [0.33079848],\n",
       "       [0.38022814],\n",
       "       [0.42965779],\n",
       "       [0.39923954],\n",
       "       [0.37642586],\n",
       "       [0.41825095],\n",
       "       [0.53231939],\n",
       "       [0.34980989],\n",
       "       [0.37262357],\n",
       "       [0.22813688],\n",
       "       [0.37262357],\n",
       "       [0.34980989],\n",
       "       [0.4486692 ],\n",
       "       [0.39163498],\n",
       "       [0.2851711 ],\n",
       "       [0.29277567],\n",
       "       [0.60076046],\n",
       "       [0.55513308],\n",
       "       [0.39923954],\n",
       "       [0.42965779],\n",
       "       [0.41444867],\n",
       "       [0.24334601],\n",
       "       [0.41444867],\n",
       "       [0.34220532],\n",
       "       [0.41444867],\n",
       "       [0.47148289],\n",
       "       [0.44106464],\n",
       "       [0.50570342],\n",
       "       [0.54752852],\n",
       "       [0.69961977],\n",
       "       [0.51711027],\n",
       "       [0.56653992],\n",
       "       [0.56273764],\n",
       "       [0.58555133],\n",
       "       [0.4486692 ],\n",
       "       [0.49429658],\n",
       "       [0.42205323],\n",
       "       [0.47528517],\n",
       "       [0.69581749],\n",
       "       [0.73003802],\n",
       "       [0.58555133],\n",
       "       [0.49809886],\n",
       "       [0.43726236],\n",
       "       [0.3269962 ],\n",
       "       [0.47908745],\n",
       "       [0.52471483],\n",
       "       [0.55513308],\n",
       "       [0.50190114],\n",
       "       [0.46768061],\n",
       "       [0.33460076],\n",
       "       [0.40684411],\n",
       "       [0.37642586],\n",
       "       [0.31558935],\n",
       "       [0.57034221],\n",
       "       [0.46387833],\n",
       "       [0.39923954],\n",
       "       [0.42205323],\n",
       "       [0.49429658],\n",
       "       [0.4904943 ],\n",
       "       [0.33460076],\n",
       "       [0.55893536],\n",
       "       [0.55893536],\n",
       "       [0.48288973],\n",
       "       [0.50570342],\n",
       "       [0.50190114],\n",
       "       [0.61596958],\n",
       "       [0.65779468],\n",
       "       [0.77946768],\n",
       "       [0.76806084],\n",
       "       [0.73764259],\n",
       "       [0.58935361],\n",
       "       [0.53612167],\n",
       "       [0.41825095],\n",
       "       [0.42205323],\n",
       "       [0.53231939],\n",
       "       [0.43346008],\n",
       "       [0.47528517],\n",
       "       [0.5095057 ],\n",
       "       [0.51711027],\n",
       "       [0.52851711],\n",
       "       [0.6539924 ],\n",
       "       [0.55893536],\n",
       "       [0.58555133],\n",
       "       [0.49809886],\n",
       "       [0.50190114],\n",
       "       [0.52851711],\n",
       "       [0.38022814],\n",
       "       [0.4904943 ],\n",
       "       [0.55513308],\n",
       "       [0.53231939],\n",
       "       [0.51711027],\n",
       "       [0.51330798],\n",
       "       [0.59695817]])"
      ]
     },
     "execution_count": 112,
     "metadata": {},
     "output_type": "execute_result"
    }
   ],
   "source": [
    "X_test"
   ]
  },
  {
   "cell_type": "markdown",
   "metadata": {
    "colab_type": "text",
    "id": "-E2iixEfK0Px"
   },
   "source": [
    "### Reshape the data\n",
    "- Reshape X_train and X_test\n",
    "- use np.reshape() method\n",
    "- this is to be done to make the data ready for input in model"
   ]
  },
  {
   "cell_type": "code",
   "execution_count": 113,
   "metadata": {
    "colab": {},
    "colab_type": "code",
    "id": "X3qhXEqoZxQ3"
   },
   "outputs": [],
   "source": [
    "X_train = np.reshape(X_train, (X_train.shape[0], X_train.shape[1], 1))\n",
    "X_test = np.reshape(X_test, (X_test.shape[0], X_test.shape[1], 1))\n"
   ]
  },
  {
   "cell_type": "markdown",
   "metadata": {
    "colab_type": "text",
    "id": "zKZ8SALZcuNB"
   },
   "source": [
    "### Print shape of data\n",
    "- print shape of X_train and X_test"
   ]
  },
  {
   "cell_type": "code",
   "execution_count": 114,
   "metadata": {
    "colab": {},
    "colab_type": "code",
    "id": "OSg_rbP6c_HI"
   },
   "outputs": [
    {
     "name": "stdout",
     "output_type": "stream",
     "text": [
      "(2736, 1, 1)\n",
      "(912, 1, 1)\n"
     ]
    }
   ],
   "source": [
    "print(X_train.shape)\n",
    "print(X_test.shape)"
   ]
  },
  {
   "cell_type": "markdown",
   "metadata": {
    "colab_type": "text",
    "id": "emGjaYZ5dfRq"
   },
   "source": [
    "## Question 6"
   ]
  },
  {
   "cell_type": "markdown",
   "metadata": {
    "colab_type": "text",
    "id": "7fk2Ze24dsXw"
   },
   "source": [
    "### Define sequential model\n",
    "- initialize a Sequential model\n",
    "- add an LSTM layer\n",
    "  - units: 10\n",
    "  - stateful: True\n",
    "  - pass a `batch_input_shape` argument to your layer\n",
    "  - batch_input_shape: (batch_size, look_back, 1)\n",
    "    - batch_size: 1\n",
    "    - look_back: 1\n",
    "- add Dense layer with 1 neuron"
   ]
  },
  {
   "cell_type": "code",
   "execution_count": 134,
   "metadata": {
    "colab": {},
    "colab_type": "code",
    "id": "eXU6UNt4dhJz"
   },
   "outputs": [],
   "source": [
    "import tensorflow as tf\n",
    "tf.keras.backend.clear_session()\n",
    "model = tf.keras.Sequential()\n",
    "model.add(tf.keras.layers.LSTM(10, batch_input_shape =(1,1,1),stateful = True))\n",
    "model.add(tf.keras.layers.Dense(1))"
   ]
  },
  {
   "cell_type": "markdown",
   "metadata": {
    "colab_type": "text",
    "id": "cLymvPFzEQSp"
   },
   "source": [
    "## Question 7"
   ]
  },
  {
   "cell_type": "markdown",
   "metadata": {
    "colab_type": "text",
    "id": "AZmlvbcMrCTh"
   },
   "source": [
    "### compile your model\n",
    "- loss: mean_squared_error\n",
    "- optimizer: adam"
   ]
  },
  {
   "cell_type": "code",
   "execution_count": 135,
   "metadata": {
    "colab": {},
    "colab_type": "code",
    "id": "TrcHrSdtg62Q"
   },
   "outputs": [
    {
     "data": {
      "text/plain": [
       "<tf.Tensor 'dense/BiasAdd:0' shape=(1, 1) dtype=float32>"
      ]
     },
     "execution_count": 135,
     "metadata": {},
     "output_type": "execute_result"
    }
   ],
   "source": [
    "model.output"
   ]
  },
  {
   "cell_type": "code",
   "execution_count": 136,
   "metadata": {},
   "outputs": [],
   "source": [
    "model.compile(optimizer = 'adam',loss = 'mse')"
   ]
  },
  {
   "cell_type": "markdown",
   "metadata": {
    "colab_type": "text",
    "id": "WWAoHdFurJN5"
   },
   "source": [
    "### summarize your model\n",
    "- use summary() method"
   ]
  },
  {
   "cell_type": "code",
   "execution_count": 137,
   "metadata": {
    "colab": {},
    "colab_type": "code",
    "id": "UlIaCMtBrPU2"
   },
   "outputs": [
    {
     "name": "stdout",
     "output_type": "stream",
     "text": [
      "_________________________________________________________________\n",
      "Layer (type)                 Output Shape              Param #   \n",
      "=================================================================\n",
      "lstm (LSTM)                  (1, 10)                   480       \n",
      "_________________________________________________________________\n",
      "dense (Dense)                (1, 1)                    11        \n",
      "=================================================================\n",
      "Total params: 491\n",
      "Trainable params: 491\n",
      "Non-trainable params: 0\n",
      "_________________________________________________________________\n"
     ]
    }
   ],
   "source": [
    "model.summary()"
   ]
  },
  {
   "cell_type": "markdown",
   "metadata": {
    "colab_type": "text",
    "id": "dq5a3i6uEcJI"
   },
   "source": [
    "## Question 8"
   ]
  },
  {
   "cell_type": "markdown",
   "metadata": {
    "colab_type": "text",
    "id": "0Ca3CFhOrf83"
   },
   "source": [
    "### fit your model\n",
    "- epochs: 50\n",
    "- batch_size: 1"
   ]
  },
  {
   "cell_type": "code",
   "execution_count": 138,
   "metadata": {
    "colab": {},
    "colab_type": "code",
    "id": "BbuB-XGPhH6h"
   },
   "outputs": [
    {
     "name": "stdout",
     "output_type": "stream",
     "text": [
      "Epoch 1/50\n",
      "2736/2736 [==============================] - 4s 2ms/sample - loss: 0.0161\n",
      "Epoch 2/50\n",
      "2736/2736 [==============================] - 4s 1ms/sample - loss: 0.0102\n",
      "Epoch 3/50\n",
      "2736/2736 [==============================] - 4s 1ms/sample - loss: 0.0102\n",
      "Epoch 4/50\n",
      "2736/2736 [==============================] - 5s 2ms/sample - loss: 0.0101\n",
      "Epoch 5/50\n",
      "2736/2736 [==============================] - 6s 2ms/sample - loss: 0.0101\n",
      "Epoch 6/50\n",
      "2736/2736 [==============================] - 6s 2ms/sample - loss: 0.0101\n",
      "Epoch 7/50\n",
      "2736/2736 [==============================] - 6s 2ms/sample - loss: 0.0101\n",
      "Epoch 8/50\n",
      "2736/2736 [==============================] - 5s 2ms/sample - loss: 0.0100\n",
      "Epoch 9/50\n",
      "2736/2736 [==============================] - 6s 2ms/sample - loss: 0.0100\n",
      "Epoch 10/50\n",
      "2736/2736 [==============================] - 6s 2ms/sample - loss: 0.0100\n",
      "Epoch 11/50\n",
      "2736/2736 [==============================] - 6s 2ms/sample - loss: 0.0100\n",
      "Epoch 12/50\n",
      "2736/2736 [==============================] - 6s 2ms/sample - loss: 0.0100\n",
      "Epoch 13/50\n",
      "2736/2736 [==============================] - 6s 2ms/sample - loss: 0.0100\n",
      "Epoch 14/50\n",
      "2736/2736 [==============================] - 6s 2ms/sample - loss: 0.0100\n",
      "Epoch 15/50\n",
      "2736/2736 [==============================] - 6s 2ms/sample - loss: 0.0100\n",
      "Epoch 16/50\n",
      "2736/2736 [==============================] - 6s 2ms/sample - loss: 0.0101\n",
      "Epoch 17/50\n",
      "2736/2736 [==============================] - 6s 2ms/sample - loss: 0.0100\n",
      "Epoch 18/50\n",
      "2736/2736 [==============================] - 6s 2ms/sample - loss: 0.0099\n",
      "Epoch 19/50\n",
      "2736/2736 [==============================] - 6s 2ms/sample - loss: 0.0100\n",
      "Epoch 20/50\n",
      "2736/2736 [==============================] - 6s 2ms/sample - loss: 0.0100\n",
      "Epoch 21/50\n",
      "2736/2736 [==============================] - 6s 2ms/sample - loss: 0.0099\n",
      "Epoch 22/50\n",
      "2736/2736 [==============================] - 6s 2ms/sample - loss: 0.0100\n",
      "Epoch 23/50\n",
      "2736/2736 [==============================] - 6s 2ms/sample - loss: 0.0099\n",
      "Epoch 24/50\n",
      "2736/2736 [==============================] - 6s 2ms/sample - loss: 0.0100\n",
      "Epoch 25/50\n",
      "2736/2736 [==============================] - 6s 2ms/sample - loss: 0.0100\n",
      "Epoch 26/50\n",
      "2736/2736 [==============================] - 6s 2ms/sample - loss: 0.0100\n",
      "Epoch 27/50\n",
      "2736/2736 [==============================] - 6s 2ms/sample - loss: 0.0100\n",
      "Epoch 28/50\n",
      "2736/2736 [==============================] - 6s 2ms/sample - loss: 0.0100\n",
      "Epoch 29/50\n",
      "2736/2736 [==============================] - 6s 2ms/sample - loss: 0.0100\n",
      "Epoch 30/50\n",
      "2736/2736 [==============================] - 6s 2ms/sample - loss: 0.0099\n",
      "Epoch 31/50\n",
      "2736/2736 [==============================] - 6s 2ms/sample - loss: 0.0099\n",
      "Epoch 32/50\n",
      "2736/2736 [==============================] - 6s 2ms/sample - loss: 0.0099\n",
      "Epoch 33/50\n",
      "2736/2736 [==============================] - 6s 2ms/sample - loss: 0.0099\n",
      "Epoch 34/50\n",
      "2736/2736 [==============================] - 6s 2ms/sample - loss: 0.0099\n",
      "Epoch 35/50\n",
      "2736/2736 [==============================] - 6s 2ms/sample - loss: 0.0099\n",
      "Epoch 36/50\n",
      "2736/2736 [==============================] - 6s 2ms/sample - loss: 0.0100\n",
      "Epoch 37/50\n",
      "2736/2736 [==============================] - 6s 2ms/sample - loss: 0.0100\n",
      "Epoch 38/50\n",
      "2736/2736 [==============================] - 6s 2ms/sample - loss: 0.0099\n",
      "Epoch 39/50\n",
      "2736/2736 [==============================] - 6s 2ms/sample - loss: 0.0099\n",
      "Epoch 40/50\n",
      "2736/2736 [==============================] - 6s 2ms/sample - loss: 0.0100\n",
      "Epoch 41/50\n",
      "2736/2736 [==============================] - 6s 2ms/sample - loss: 0.0099\n",
      "Epoch 42/50\n",
      "2736/2736 [==============================] - 6s 2ms/sample - loss: 0.0100\n",
      "Epoch 43/50\n",
      "2736/2736 [==============================] - 6s 2ms/sample - loss: 0.0099\n",
      "Epoch 44/50\n",
      "2736/2736 [==============================] - 6s 2ms/sample - loss: 0.0099\n",
      "Epoch 45/50\n",
      "2736/2736 [==============================] - 6s 2ms/sample - loss: 0.0099\n",
      "Epoch 46/50\n",
      "2736/2736 [==============================] - 6s 2ms/sample - loss: 0.0099\n",
      "Epoch 47/50\n",
      "2736/2736 [==============================] - 6s 2ms/sample - loss: 0.0100\n",
      "Epoch 48/50\n",
      "2736/2736 [==============================] - 6s 2ms/sample - loss: 0.0099\n",
      "Epoch 49/50\n",
      "2736/2736 [==============================] - 6s 2ms/sample - loss: 0.0100\n",
      "Epoch 50/50\n",
      "2736/2736 [==============================] - 6s 2ms/sample - loss: 0.0100\n"
     ]
    },
    {
     "data": {
      "text/plain": [
       "<tensorflow.python.keras.callbacks.History at 0x1ea9b6cc518>"
      ]
     },
     "execution_count": 138,
     "metadata": {},
     "output_type": "execute_result"
    }
   ],
   "source": [
    "model.fit( epochs = 50, batch_size = 1, x= X_train, y = y_train)"
   ]
  },
  {
   "cell_type": "markdown",
   "metadata": {
    "colab_type": "text",
    "id": "hqRlEmbjEqyG"
   },
   "source": [
    "## Question 9"
   ]
  },
  {
   "cell_type": "markdown",
   "metadata": {
    "colab_type": "text",
    "id": "12IhOtvUHJBF"
   },
   "source": [
    "### make predictions on train data\n",
    "- use predict() method\n",
    "  - batch_size: 1\n",
    "- store predictions in a variable"
   ]
  },
  {
   "cell_type": "code",
   "execution_count": 139,
   "metadata": {
    "colab": {},
    "colab_type": "code",
    "id": "iXWuJikQHURm"
   },
   "outputs": [],
   "source": [
    "train_pred = model.predict(X_train,batch_size = 1)"
   ]
  },
  {
   "cell_type": "markdown",
   "metadata": {
    "colab_type": "text",
    "id": "XxxWOa-PsieH"
   },
   "source": [
    "### reset model state\n",
    "- if you are using stateful=True in your model then you should call reset_states every time, when you want to make consecutive model calls independent.\n",
    "- use reset_states() method"
   ]
  },
  {
   "cell_type": "code",
   "execution_count": 140,
   "metadata": {
    "colab": {},
    "colab_type": "code",
    "id": "ZdV5_F1Eo8SY"
   },
   "outputs": [],
   "source": [
    "model.reset_states()"
   ]
  },
  {
   "cell_type": "markdown",
   "metadata": {
    "colab_type": "text",
    "id": "KAhziPVBJD0u"
   },
   "source": [
    "### make predictions on test data\n",
    "- use predict() method\n",
    "  - batch_size: 1\n",
    "- store predictions in a variable"
   ]
  },
  {
   "cell_type": "code",
   "execution_count": 141,
   "metadata": {
    "colab": {},
    "colab_type": "code",
    "id": "HuHopEXNJU_y"
   },
   "outputs": [],
   "source": [
    "test_pred = model.predict(X_test,batch_size = 1)"
   ]
  },
  {
   "cell_type": "markdown",
   "metadata": {
    "colab_type": "text",
    "id": "pO81E-fsJruD"
   },
   "source": [
    "## Question 10"
   ]
  },
  {
   "cell_type": "markdown",
   "metadata": {
    "colab_type": "text",
    "id": "RImBG7sCtnlb"
   },
   "source": [
    "### Inverse train predictions and true labels\n",
    "- use your MinMaxSclarer object\n",
    "- use inverse_transform() method"
   ]
  },
  {
   "cell_type": "code",
   "execution_count": 142,
   "metadata": {
    "colab": {},
    "colab_type": "code",
    "id": "xXfce41cqN-h"
   },
   "outputs": [],
   "source": [
    "train_pred = scaler.inverse_transform(train_pred)\n",
    "#y_train_pred = scaler.inverse_transform(y_train)"
   ]
  },
  {
   "cell_type": "markdown",
   "metadata": {
    "colab_type": "text",
    "id": "5fWSzk8cuPbp"
   },
   "source": [
    "### Inverse test predictions and true labels\n",
    "- use your MinMaxSclarer object\n",
    "- use inverse_transform() method"
   ]
  },
  {
   "cell_type": "code",
   "execution_count": 143,
   "metadata": {
    "colab": {},
    "colab_type": "code",
    "id": "nVJ1wMupuPbu"
   },
   "outputs": [],
   "source": [
    "test_pred = scaler.inverse_transform(test_pred)\n"
   ]
  },
  {
   "cell_type": "markdown",
   "metadata": {
    "colab_type": "text",
    "id": "VtowvAItJv6c"
   },
   "source": [
    "### Evaluate train predictions\n",
    "- calculate RMSE\n",
    "- RMSE = sqrt(mean_squared_error(true_labels, predicted_labels))\n",
    "- use sqrt() and mean_squared_error() method\n",
    "- print training RMSE"
   ]
  },
  {
   "cell_type": "code",
   "execution_count": 146,
   "metadata": {
    "colab": {},
    "colab_type": "code",
    "id": "GjXbis_bJ9GL"
   },
   "outputs": [
    {
     "name": "stdout",
     "output_type": "stream",
     "text": [
      "training RMSE : 11.143722421583533\n"
     ]
    }
   ],
   "source": [
    "from math import sqrt\n",
    "from sklearn.metrics import mean_squared_error\n",
    "RMSE_train = sqrt(mean_squared_error(y_train, train_pred))\n",
    "print(\"training RMSE :\",RMSE_train)"
   ]
  },
  {
   "cell_type": "code",
   "execution_count": null,
   "metadata": {
    "colab": {},
    "colab_type": "code",
    "id": "pLb65-QiqMDX"
   },
   "outputs": [],
   "source": []
  },
  {
   "cell_type": "markdown",
   "metadata": {
    "colab_type": "text",
    "id": "DBOfSPRDvERE"
   },
   "source": [
    "### Evaluate test predictions\n",
    "- calculate RMSE\n",
    "- RMSE = sqrt(mean_squared_error(true_labels, predicted_labels))\n",
    "- use sqrt() and mean_squared_error() method\n",
    "- print testing RMSE"
   ]
  },
  {
   "cell_type": "code",
   "execution_count": 148,
   "metadata": {
    "colab": {},
    "colab_type": "code",
    "id": "8rQOereovERJ"
   },
   "outputs": [
    {
     "name": "stdout",
     "output_type": "stream",
     "text": [
      "test RMSE : 11.28937825976636\n"
     ]
    }
   ],
   "source": [
    "RMSE_test = sqrt(mean_squared_error(y_test, test_pred))\n",
    "print (\"test RMSE :\", RMSE_test)"
   ]
  },
  {
   "cell_type": "code",
   "execution_count": null,
   "metadata": {
    "colab": {},
    "colab_type": "code",
    "id": "8DhUsMnvvERT"
   },
   "outputs": [],
   "source": []
  },
  {
   "cell_type": "code",
   "execution_count": null,
   "metadata": {
    "colab": {},
    "colab_type": "code",
    "id": "PAnzxOyoy5Bj"
   },
   "outputs": [],
   "source": []
  },
  {
   "cell_type": "markdown",
   "metadata": {
    "colab_type": "text",
    "id": "ueeUkE9Pvs91"
   },
   "source": [
    "# Neural Machine Translation\n",
    "\n",
    "- Translate a given sentence in one language to another desired language.\n",
    "\n",
    "#### In this notebook, we aim to build a model which can translate German sentences to English."
   ]
  },
  {
   "cell_type": "markdown",
   "metadata": {
    "colab_type": "text",
    "id": "HphxvZ0fv_kr"
   },
   "source": [
    "## Dataset\n",
    "\n",
    "Dataset is taken from http://www.manythings.org/anki/.\n",
    "\n",
    "We are considering German – English deu-eng.zip file from the above mentioned website.\n",
    "\n",
    "In the above zip file there is a file with name **`deu.txt`** that contains **152,820** pairs of English to German phrases, one pair per line with a tab separating the phrases.\n",
    "\n",
    "\n",
    "For example,\n",
    "\n",
    "The first 5 lines in deu.txt are as given below.\n",
    "\n",
    "***\n",
    "```\n",
    "Hi.    Hallo!\n",
    "Hi.    Grüß Gott!\n",
    "Run!    Lauf!\n",
    "Wow!    Potzdonner!\n",
    "Wow!    Donnerwetter!\n",
    "```\n",
    "***\n"
   ]
  },
  {
   "cell_type": "markdown",
   "metadata": {
    "colab_type": "text",
    "id": "KzhjY_3MxlCT"
   },
   "source": [
    "## Problem\n",
    "\n",
    "### Given a sequence of words in German as input, predict the sequence of words in English."
   ]
  },
  {
   "cell_type": "markdown",
   "metadata": {
    "colab_type": "text",
    "id": "STq1sKSHywCQ"
   },
   "source": [
    "### 1. Prepare Data\n",
    "\n",
    "\n",
    "The preprocessing of the data involves:\n",
    "\n",
    "1. Removing punctuation marks from the data.\n",
    "\n",
    "2. Converting text corpus into lower case characters.\n",
    "\n",
    "3. Split into Train and Test sets.\n",
    "\n",
    "4. Shuffling the sentences.\n",
    "\n",
    "\n",
    "\n",
    "The above tasks are done  and full dataset is given as **``english-german-both.pkl``** respectively.\n",
    "\n",
    "Download dataset files from here: https://drive.google.com/open?id=1gWVk7SuuE93Cf_nT9Lb7GBCiwfAgdBiX\n",
    "\n",
    "\n"
   ]
  },
  {
   "cell_type": "markdown",
   "metadata": {
    "colab_type": "text",
    "id": "x9JDfVgWosMJ"
   },
   "source": [
    "# Character level Machine Translation"
   ]
  },
  {
   "cell_type": "markdown",
   "metadata": {
    "colab_type": "text",
    "id": "sP4P2nnAXD5G"
   },
   "source": [
    "## Initialize parameters\n",
    "Run the below code to initialize the variables required for the model."
   ]
  },
  {
   "cell_type": "code",
   "execution_count": null,
   "metadata": {
    "colab": {},
    "colab_type": "code",
    "id": "4jRTxBQ9owHH"
   },
   "outputs": [],
   "source": [
    "batch_size = 64  # Batch size for training.\n",
    "epochs = 10  # Number of epochs to train for.\n",
    "latent_dim = 256  # Latent dimensionality of the encoding space.\n",
    "num_samples = 10000  # Number of samples to train on.\n",
    "# Path to the data txt file on disk.\n",
    "data_path = 'fra.txt'"
   ]
  },
  {
   "cell_type": "markdown",
   "metadata": {
    "colab_type": "text",
    "id": "0N1Q-zzUJtO0"
   },
   "source": [
    "### Connect to google drive"
   ]
  },
  {
   "cell_type": "code",
   "execution_count": null,
   "metadata": {
    "colab": {},
    "colab_type": "code",
    "id": "SEtf-c5Fo7eF"
   },
   "outputs": [],
   "source": [
    "from google.colab import drive\n",
    "drive.mount('/content/drive/')"
   ]
  },
  {
   "cell_type": "markdown",
   "metadata": {
    "colab_type": "text",
    "id": "Mv0XAJSZJyOl"
   },
   "source": [
    "### Give the path for the folder in which the dataset is present in google drive"
   ]
  },
  {
   "cell_type": "code",
   "execution_count": null,
   "metadata": {
    "colab": {},
    "colab_type": "code",
    "id": "fXQOArlSo8SX"
   },
   "outputs": [],
   "source": [
    "project_path = \"\""
   ]
  },
  {
   "cell_type": "markdown",
   "metadata": {
    "colab_type": "text",
    "id": "SoEhVDh3qfuj"
   },
   "source": [
    "### Change present working directory"
   ]
  },
  {
   "cell_type": "code",
   "execution_count": null,
   "metadata": {
    "colab": {},
    "colab_type": "code",
    "id": "g-plftRTqlgB"
   },
   "outputs": [],
   "source": [
    "import os\n",
    "os.chdir(project_path)"
   ]
  },
  {
   "cell_type": "markdown",
   "metadata": {
    "colab_type": "text",
    "id": "GkAdNgJrKDvK"
   },
   "source": [
    "## Load the pickle file (`english-german-both.pkl`) into a variable with name `dataset`\n",
    "Run the below code to load the .pkl file."
   ]
  },
  {
   "cell_type": "code",
   "execution_count": null,
   "metadata": {
    "colab": {},
    "colab_type": "code",
    "id": "a8fpd1Lxo8VH"
   },
   "outputs": [],
   "source": [
    "import pickle\n",
    "\n",
    "with open(project_path + 'english-german-both.pkl', 'rb') as f:\n",
    "  dataset = pickle.load(f)"
   ]
  },
  {
   "cell_type": "markdown",
   "metadata": {
    "colab_type": "text",
    "id": "9pkL351SKaWb"
   },
   "source": [
    "## Check the `dataset` variable at this step. It should be as given below"
   ]
  },
  {
   "cell_type": "code",
   "execution_count": null,
   "metadata": {
    "colab": {},
    "colab_type": "code",
    "id": "D6kEL_65KmHe"
   },
   "outputs": [],
   "source": [
    "dataset"
   ]
  },
  {
   "cell_type": "markdown",
   "metadata": {
    "colab_type": "text",
    "id": "uQ270GmwK2Qt"
   },
   "source": [
    "## Feature set and target set division from the **dataset**\n",
    "\n",
    "### Run the below code to divide the dataset into feature set(input) and target set(output). \n",
    "\n",
    "1. We are creating two lists for storing input sentences and output sentences separately. \n",
    "2. We are storing each character in a list from both input and target sets separately. \n",
    "3. Print and check `input_texts` and `target_texts`.\n",
    "4. Print and check `input_characters` and `target_characters`."
   ]
  },
  {
   "cell_type": "code",
   "execution_count": null,
   "metadata": {
    "colab": {},
    "colab_type": "code",
    "id": "fJ95hstto8Xy"
   },
   "outputs": [],
   "source": [
    "# Vectorize the data.\n",
    "input_texts = []\n",
    "target_texts = []\n",
    "input_characters = set()\n",
    "target_characters = set()\n",
    "\n",
    "for line in dataset[: min(num_samples, len(dataset) - 1)]:\n",
    "    input_text, target_text = line[0], line[1]\n",
    "    # We use \"tab\" as the \"start sequence\" character\n",
    "    # for the targets, and \"\\n\" as \"end sequence\" character.\n",
    "    target_text = '\\t' + target_text + '\\n'\n",
    "    input_texts.append(input_text)\n",
    "    target_texts.append(target_text)\n",
    "    for char in input_text:\n",
    "        if char not in input_characters:\n",
    "            input_characters.add(char)\n",
    "    for char in target_text:\n",
    "        if char not in target_characters:\n",
    "            target_characters.add(char)"
   ]
  },
  {
   "cell_type": "markdown",
   "metadata": {
    "colab_type": "text",
    "id": "wwWZMeVjlPjB"
   },
   "source": [
    "### Print input text"
   ]
  },
  {
   "cell_type": "code",
   "execution_count": null,
   "metadata": {
    "colab": {},
    "colab_type": "code",
    "id": "S-1OyZSULuJY"
   },
   "outputs": [],
   "source": []
  },
  {
   "cell_type": "markdown",
   "metadata": {
    "colab_type": "text",
    "id": "fo7Mno1JlVWP"
   },
   "source": [
    "### Print target text"
   ]
  },
  {
   "cell_type": "code",
   "execution_count": null,
   "metadata": {
    "colab": {},
    "colab_type": "code",
    "id": "_pnLXkk8LzBx"
   },
   "outputs": [],
   "source": []
  },
  {
   "cell_type": "markdown",
   "metadata": {
    "colab_type": "text",
    "id": "u7IhmN_hlb1K"
   },
   "source": [
    "### Print input character"
   ]
  },
  {
   "cell_type": "code",
   "execution_count": null,
   "metadata": {
    "colab": {},
    "colab_type": "code",
    "id": "9az5VYFjNe7I"
   },
   "outputs": [],
   "source": []
  },
  {
   "cell_type": "markdown",
   "metadata": {
    "colab_type": "text",
    "id": "CX30Y8dZlfGQ"
   },
   "source": [
    "### Print target character"
   ]
  },
  {
   "cell_type": "code",
   "execution_count": null,
   "metadata": {
    "colab": {},
    "colab_type": "code",
    "id": "kxg3509lNjnU"
   },
   "outputs": [],
   "source": []
  },
  {
   "cell_type": "markdown",
   "metadata": {
    "colab_type": "text",
    "id": "Dw10uDT3Oc1N"
   },
   "source": [
    "## Stats from the dataset\n",
    "\n",
    "### Run the below code to check the stats from the dataset"
   ]
  },
  {
   "cell_type": "code",
   "execution_count": null,
   "metadata": {
    "colab": {},
    "colab_type": "code",
    "id": "T4stnzMpo8ci"
   },
   "outputs": [],
   "source": [
    "input_characters = sorted(list(input_characters))\n",
    "target_characters = sorted(list(target_characters))\n",
    "num_encoder_tokens = len(input_characters)\n",
    "num_decoder_tokens = len(target_characters)\n",
    "max_encoder_seq_length = max([len(txt) for txt in input_texts])\n",
    "max_decoder_seq_length = max([len(txt) for txt in target_texts])"
   ]
  },
  {
   "cell_type": "code",
   "execution_count": null,
   "metadata": {
    "colab": {},
    "colab_type": "code",
    "id": "VfbreAAUo8e6"
   },
   "outputs": [],
   "source": [
    "print('Number of samples:', len(input_texts))\n",
    "print('Number of unique input tokens:', num_encoder_tokens)\n",
    "print('Number of unique output tokens:', num_decoder_tokens)\n",
    "print('Max sequence length for inputs:', max_encoder_seq_length)\n",
    "print('Max sequence length for outputs:', max_decoder_seq_length)"
   ]
  },
  {
   "cell_type": "markdown",
   "metadata": {
    "colab_type": "text",
    "id": "mVuwMY0UTVKD"
   },
   "source": [
    "## Build character to index dictionary names `input_token_index` and `target_token_index` for input and target sets respectively."
   ]
  },
  {
   "cell_type": "code",
   "execution_count": null,
   "metadata": {
    "colab": {},
    "colab_type": "code",
    "id": "QYXSW9zOo8hl"
   },
   "outputs": [],
   "source": []
  },
  {
   "cell_type": "markdown",
   "metadata": {
    "colab_type": "text",
    "id": "9aUS5gEamGiC"
   },
   "source": [
    "### Print input_index_token"
   ]
  },
  {
   "cell_type": "code",
   "execution_count": null,
   "metadata": {
    "colab": {},
    "colab_type": "code",
    "id": "__ga4KfKTijk"
   },
   "outputs": [],
   "source": [
    "input_token_index"
   ]
  },
  {
   "cell_type": "markdown",
   "metadata": {
    "colab_type": "text",
    "id": "zGs66ZhjmNBA"
   },
   "source": [
    "### Print target_token_index"
   ]
  },
  {
   "cell_type": "code",
   "execution_count": null,
   "metadata": {
    "colab": {},
    "colab_type": "code",
    "id": "Sa3DArDrTm1z"
   },
   "outputs": [],
   "source": [
    "target_token_index"
   ]
  },
  {
   "cell_type": "markdown",
   "metadata": {
    "colab_type": "text",
    "id": "UB7uI724TrlM"
   },
   "source": [
    "## Build Model\n",
    "Initialize the required layers from keras\n",
    "\n",
    "### Import libraries"
   ]
  },
  {
   "cell_type": "code",
   "execution_count": null,
   "metadata": {
    "colab": {},
    "colab_type": "code",
    "id": "T1GuGnDiqOz3"
   },
   "outputs": [],
   "source": [
    "from __future__ import print_function\n",
    "\n",
    "from keras.models import Model\n",
    "from keras.layers import Input, LSTM, Dense\n",
    "import numpy as np"
   ]
  },
  {
   "cell_type": "markdown",
   "metadata": {
    "colab_type": "text",
    "id": "3q9GVu-pT9UR"
   },
   "source": [
    "### Run the below code to build one-hot vectors for the characters"
   ]
  },
  {
   "cell_type": "code",
   "execution_count": null,
   "metadata": {
    "colab": {},
    "colab_type": "code",
    "id": "uatzEBy5qIpI"
   },
   "outputs": [],
   "source": [
    "encoder_input_data = np.zeros(\n",
    "    (len(input_texts), max_encoder_seq_length, num_encoder_tokens),\n",
    "    dtype='float32')\n",
    "decoder_input_data = np.zeros(\n",
    "    (len(input_texts), max_decoder_seq_length, num_decoder_tokens),\n",
    "    dtype='float32')\n",
    "decoder_target_data = np.zeros(\n",
    "    (len(input_texts), max_decoder_seq_length, num_decoder_tokens),\n",
    "    dtype='float32')"
   ]
  },
  {
   "cell_type": "code",
   "execution_count": null,
   "metadata": {
    "colab": {},
    "colab_type": "code",
    "id": "MDGoIZXuqLF7"
   },
   "outputs": [],
   "source": [
    "for i, (input_text, target_text) in enumerate(zip(input_texts, target_texts)):\n",
    "    for t, char in enumerate(input_text):\n",
    "        encoder_input_data[i, t, input_token_index[char]] = 1.\n",
    "    for t, char in enumerate(target_text):\n",
    "        # decoder_target_data is ahead of decoder_input_data by one timestep\n",
    "        decoder_input_data[i, t, target_token_index[char]] = 1.\n",
    "        if t > 0:\n",
    "            # decoder_target_data will be ahead by one timestep\n",
    "            # and will not include the start character.\n",
    "            decoder_target_data[i, t - 1, target_token_index[char]] = 1."
   ]
  },
  {
   "cell_type": "markdown",
   "metadata": {
    "colab_type": "text",
    "id": "i0ihyyfeW7le"
   },
   "source": [
    "### Build the encoder Model\n",
    "\n",
    "Define an input sequence and process it.\n",
    "\n",
    "Discard `encoder_outputs` and only keep the states."
   ]
  },
  {
   "cell_type": "code",
   "execution_count": null,
   "metadata": {
    "colab": {},
    "colab_type": "code",
    "id": "CQU4zjxdqXnG"
   },
   "outputs": [],
   "source": []
  },
  {
   "cell_type": "markdown",
   "metadata": {
    "colab_type": "text",
    "id": "X3PzX5oBXfGW"
   },
   "source": [
    "### Build the decoder Model\n",
    "\n",
    "Set up the decoder, using `encoder_states` as initial state.\n",
    "\n",
    "We set up our decoder to return full output sequences, and to return internal states as well. We don't use the return states in the training model, but we will use them in inference."
   ]
  },
  {
   "cell_type": "code",
   "execution_count": null,
   "metadata": {
    "colab": {},
    "colab_type": "code",
    "id": "ytn5MNCjqZuc"
   },
   "outputs": [],
   "source": []
  },
  {
   "cell_type": "markdown",
   "metadata": {
    "colab_type": "text",
    "id": "XpJnlQgvn8vN"
   },
   "source": [
    "### Define Model\n",
    "\n",
    "Define the model that will turn `encoder_input_data ` & ` decoder_input_data` into `decoder_target_data`"
   ]
  },
  {
   "cell_type": "code",
   "execution_count": null,
   "metadata": {
    "colab": {},
    "colab_type": "code",
    "id": "E24IW9wIqcYq"
   },
   "outputs": [],
   "source": []
  },
  {
   "cell_type": "markdown",
   "metadata": {
    "colab_type": "text",
    "id": "qvawc6CfXkzG"
   },
   "source": [
    "### Compile and fit the model"
   ]
  },
  {
   "cell_type": "code",
   "execution_count": null,
   "metadata": {
    "colab": {},
    "colab_type": "code",
    "id": "vhXLFmApqeU4"
   },
   "outputs": [],
   "source": []
  },
  {
   "cell_type": "markdown",
   "metadata": {
    "colab_type": "text",
    "id": "7o4khltlof6H"
   },
   "source": [
    "### Save the model"
   ]
  },
  {
   "cell_type": "code",
   "execution_count": null,
   "metadata": {
    "colab": {},
    "colab_type": "code",
    "id": "nVgGMc5Lojmo"
   },
   "outputs": [],
   "source": [
    "# Save model\n",
    "model.save('s2s.h5')"
   ]
  },
  {
   "cell_type": "markdown",
   "metadata": {
    "colab_type": "text",
    "id": "zbLdraJ1XpsR"
   },
   "source": [
    "## Run the below code for inferencing the model"
   ]
  },
  {
   "cell_type": "code",
   "execution_count": null,
   "metadata": {
    "colab": {},
    "colab_type": "code",
    "id": "4O7jtJYh29uo"
   },
   "outputs": [],
   "source": [
    "encoder_model = Model(encoder_inputs, encoder_states)\n",
    "\n",
    "decoder_state_input_h = Input(shape=(latent_dim,))\n",
    "decoder_state_input_c = Input(shape=(latent_dim,))\n",
    "decoder_states_inputs = [decoder_state_input_h, decoder_state_input_c]\n",
    "decoder_outputs, state_h, state_c = decoder_lstm(decoder_inputs, initial_state=decoder_states_inputs)\n",
    "decoder_states = [state_h, state_c]\n",
    "decoder_outputs = decoder_dense(decoder_outputs)\n",
    "\n",
    "decoder_model = Model(\n",
    "    [decoder_inputs] + decoder_states_inputs,\n",
    "    [decoder_outputs] + decoder_states)"
   ]
  },
  {
   "cell_type": "markdown",
   "metadata": {
    "colab_type": "text",
    "id": "scaoVQVapHLk"
   },
   "source": [
    "## Reverse-lookup token index to decode sequences back to something readable."
   ]
  },
  {
   "cell_type": "code",
   "execution_count": null,
   "metadata": {
    "colab": {},
    "colab_type": "code",
    "id": "_3t_ntoTq0fP"
   },
   "outputs": [],
   "source": [
    "# Reverse-lookup token index to decode sequences back to\n",
    "# something readable.\n",
    "reverse_input_char_index = dict(\n",
    "    (i, char) for char, i in input_token_index.items())\n",
    "reverse_target_char_index = dict(\n",
    "    (i, char) for char, i in target_token_index.items())"
   ]
  },
  {
   "cell_type": "code",
   "execution_count": null,
   "metadata": {
    "colab": {},
    "colab_type": "code",
    "id": "_9WAWX6ApcrG"
   },
   "outputs": [],
   "source": [
    "print(reverse_input_char_index)\n",
    "print(reverse_target_char_index)"
   ]
  },
  {
   "cell_type": "code",
   "execution_count": null,
   "metadata": {
    "colab": {},
    "colab_type": "code",
    "id": "FYJkd_AZq0iI"
   },
   "outputs": [],
   "source": [
    "def decode_sequence(input_seq):\n",
    "    # Encode the input as state vectors.\n",
    "    states_value = encoder_model.predict(input_seq)\n",
    "\n",
    "    # Generate empty target sequence of length 1.\n",
    "    target_seq = np.zeros((1, 1, num_decoder_tokens))\n",
    "    # Populate the first character of target sequence with the start character.\n",
    "    target_seq[0, 0, target_token_index['\\t']] = 1.\n",
    "\n",
    "    # Sampling loop for a batch of sequences\n",
    "    # (to simplify, here we assume a batch of size 1).\n",
    "    stop_condition = False\n",
    "    decoded_sentence = ''\n",
    "    while not stop_condition:\n",
    "        output_tokens, h, c = decoder_model.predict(\n",
    "            [target_seq] + states_value)\n",
    "\n",
    "        # Sample a token\n",
    "        sampled_token_index = np.argmax(output_tokens[0, -1, :])\n",
    "        sampled_char = reverse_target_char_index[sampled_token_index]\n",
    "        decoded_sentence += sampled_char\n",
    "\n",
    "        # Exit condition: either hit max length\n",
    "        # or find stop character.\n",
    "        if (sampled_char == '\\n' or\n",
    "           len(decoded_sentence) > max_decoder_seq_length):\n",
    "            stop_condition = True\n",
    "\n",
    "        # Update the target sequence (of length 1).\n",
    "        target_seq = np.zeros((1, 1, num_decoder_tokens))\n",
    "        target_seq[0, 0, sampled_token_index] = 1.\n",
    "\n",
    "        # Update states\n",
    "        states_value = [h, c]\n",
    "\n",
    "    return decoded_sentence"
   ]
  },
  {
   "cell_type": "markdown",
   "metadata": {
    "colab_type": "text",
    "id": "jiPl9MHkXv0z"
   },
   "source": [
    "## Run the below code for checking some outputs from the model."
   ]
  },
  {
   "cell_type": "code",
   "execution_count": null,
   "metadata": {
    "colab": {},
    "colab_type": "code",
    "id": "7IFQIeCGq0nk"
   },
   "outputs": [],
   "source": [
    "for seq_index in range(10):\n",
    "    # Take one sequence (part of the training set)\n",
    "    # for trying out decoding.\n",
    "    input_seq = encoder_input_data[seq_index: seq_index + 1]\n",
    "    decoded_sentence = decode_sequence(input_seq)\n",
    "    print('-')\n",
    "    print('Input sentence:', input_texts[seq_index])\n",
    "    print('Decoded sentence:', decoded_sentence)"
   ]
  }
 ],
 "metadata": {
  "colab": {
   "collapsed_sections": [],
   "name": "Questions - Internal - Sequential NLP Lab - 16 Hours.ipynb",
   "provenance": []
  },
  "kernelspec": {
   "display_name": "Python 3",
   "language": "python",
   "name": "python3"
  },
  "language_info": {
   "codemirror_mode": {
    "name": "ipython",
    "version": 3
   },
   "file_extension": ".py",
   "mimetype": "text/x-python",
   "name": "python",
   "nbconvert_exporter": "python",
   "pygments_lexer": "ipython3",
   "version": "3.7.3"
  }
 },
 "nbformat": 4,
 "nbformat_minor": 1
}
