{
 "cells": [
  {
   "cell_type": "markdown",
   "metadata": {
    "colab_type": "text",
    "id": "zUZjPnVXGz0Z"
   },
   "source": [
    "# The Iris Dataset\n",
    "The data set consists of 50 samples from each of three species of Iris (Iris setosa, Iris virginica and Iris versicolor). Four features were measured from each sample: the length and the width of the sepals and petals, in centimeters.\n",
    "\n",
    "The dataset contains a set of 150 records under five attributes - petal length, petal width, sepal length, sepal width and species."
   ]
  },
  {
   "cell_type": "markdown",
   "metadata": {
    "colab_type": "text",
    "id": "RMbmpriavLE9"
   },
   "source": [
    "### Specifying the TensorFlow version\n",
    "Running `import tensorflow` will import the default version (currently 1.x). You can use 2.x by running a cell with the `tensorflow_version` magic **before** you run `import tensorflow`."
   ]
  },
  {
   "cell_type": "code",
   "execution_count": 2,
   "metadata": {},
   "outputs": [
    {
     "name": "stdout",
     "output_type": "stream",
     "text": [
      "Collecting tensorflow==2.0\n",
      "  Downloading https://files.pythonhosted.org/packages/54/5f/e1b2d83b808f978f51b7ce109315154da3a3d4151aa59686002681f2e109/tensorflow-2.0.0-cp37-cp37m-win_amd64.whl (48.1MB)\n",
      "Requirement already satisfied, skipping upgrade: six>=1.10.0 in c:\\users\\skumarjh\\appdata\\local\\continuum\\anaconda3\\lib\\site-packages (from tensorflow==2.0) (1.12.0)\n",
      "Collecting tensorflow-estimator<2.1.0,>=2.0.0 (from tensorflow==2.0)\n",
      "  Downloading https://files.pythonhosted.org/packages/fc/08/8b927337b7019c374719145d1dceba21a8bb909b93b1ad6f8fb7d22c1ca1/tensorflow_estimator-2.0.1-py2.py3-none-any.whl (449kB)\n",
      "Collecting protobuf>=3.6.1 (from tensorflow==2.0)\n",
      "  Downloading https://files.pythonhosted.org/packages/30/c6/286db43e2d0d4b89d328a222365c7a253a99a24067812253f0d4f8eb0f1c/protobuf-3.11.2-cp37-cp37m-win_amd64.whl (1.0MB)\n",
      "Requirement already satisfied, skipping upgrade: wheel>=0.26 in c:\\users\\skumarjh\\appdata\\local\\continuum\\anaconda3\\lib\\site-packages (from tensorflow==2.0) (0.33.4)\n",
      "Requirement already satisfied, skipping upgrade: wrapt>=1.11.1 in c:\\users\\skumarjh\\appdata\\local\\continuum\\anaconda3\\lib\\site-packages (from tensorflow==2.0) (1.11.2)\n",
      "Collecting tensorboard<2.1.0,>=2.0.0 (from tensorflow==2.0)\n",
      "  Downloading https://files.pythonhosted.org/packages/76/54/99b9d5d52d5cb732f099baaaf7740403e83fe6b0cedde940fabd2b13d75a/tensorboard-2.0.2-py3-none-any.whl (3.8MB)\n",
      "Requirement already satisfied, skipping upgrade: numpy<2.0,>=1.16.0 in c:\\users\\skumarjh\\appdata\\local\\continuum\\anaconda3\\lib\\site-packages (from tensorflow==2.0) (1.16.4)\n",
      "Collecting grpcio>=1.8.6 (from tensorflow==2.0)\n",
      "  Downloading https://files.pythonhosted.org/packages/8b/14/ab1501cfff78b88d7368659b227c603d7599dd25226ff682c71334e78aed/grpcio-1.26.0-cp37-cp37m-win_amd64.whl (1.8MB)\n",
      "Collecting astor>=0.6.0 (from tensorflow==2.0)\n",
      "  Downloading https://files.pythonhosted.org/packages/c3/88/97eef84f48fa04fbd6750e62dcceafba6c63c81b7ac1420856c8dcc0a3f9/astor-0.8.1-py2.py3-none-any.whl\n",
      "Collecting gast==0.2.2 (from tensorflow==2.0)\n",
      "  Downloading https://files.pythonhosted.org/packages/4e/35/11749bf99b2d4e3cceb4d55ca22590b0d7c2c62b9de38ac4a4a7f4687421/gast-0.2.2.tar.gz\n",
      "Collecting absl-py>=0.7.0 (from tensorflow==2.0)\n",
      "  Downloading https://files.pythonhosted.org/packages/1a/53/9243c600e047bd4c3df9e69cfabc1e8004a82cac2e0c484580a78a94ba2a/absl-py-0.9.0.tar.gz (104kB)\n",
      "Collecting termcolor>=1.1.0 (from tensorflow==2.0)\n",
      "  Downloading https://files.pythonhosted.org/packages/8a/48/a76be51647d0eb9f10e2a4511bf3ffb8cc1e6b14e9e4fab46173aa79f981/termcolor-1.1.0.tar.gz\n",
      "Collecting keras-applications>=1.0.8 (from tensorflow==2.0)\n",
      "  Downloading https://files.pythonhosted.org/packages/71/e3/19762fdfc62877ae9102edf6342d71b28fbfd9dea3d2f96a882ce099b03f/Keras_Applications-1.0.8-py3-none-any.whl (50kB)\n",
      "Collecting keras-preprocessing>=1.0.5 (from tensorflow==2.0)\n",
      "  Downloading https://files.pythonhosted.org/packages/28/6a/8c1f62c37212d9fc441a7e26736df51ce6f0e38455816445471f10da4f0a/Keras_Preprocessing-1.1.0-py2.py3-none-any.whl (41kB)\n",
      "Collecting google-pasta>=0.1.6 (from tensorflow==2.0)\n",
      "  Downloading https://files.pythonhosted.org/packages/c3/fd/1e86bc4837cc9a3a5faf3db9b1854aa04ad35b5f381f9648fbe81a6f94e4/google_pasta-0.1.8-py3-none-any.whl (57kB)\n",
      "Collecting opt-einsum>=2.3.2 (from tensorflow==2.0)\n",
      "  Downloading https://files.pythonhosted.org/packages/b8/83/755bd5324777875e9dff19c2e59daec837d0378c09196634524a3d7269ac/opt_einsum-3.1.0.tar.gz (69kB)\n",
      "Requirement already satisfied, skipping upgrade: setuptools in c:\\users\\skumarjh\\appdata\\local\\continuum\\anaconda3\\lib\\site-packages (from protobuf>=3.6.1->tensorflow==2.0) (41.0.1)\n",
      "Requirement already satisfied, skipping upgrade: requests<3,>=2.21.0 in c:\\users\\skumarjh\\appdata\\local\\continuum\\anaconda3\\lib\\site-packages (from tensorboard<2.1.0,>=2.0.0->tensorflow==2.0) (2.22.0)\n",
      "Requirement already satisfied, skipping upgrade: werkzeug>=0.11.15 in c:\\users\\skumarjh\\appdata\\local\\continuum\\anaconda3\\lib\\site-packages (from tensorboard<2.1.0,>=2.0.0->tensorflow==2.0) (0.15.4)\n",
      "Collecting markdown>=2.6.8 (from tensorboard<2.1.0,>=2.0.0->tensorflow==2.0)\n",
      "  Downloading https://files.pythonhosted.org/packages/c0/4e/fd492e91abdc2d2fcb70ef453064d980688762079397f779758e055f6575/Markdown-3.1.1-py2.py3-none-any.whl (87kB)\n",
      "Collecting google-auth-oauthlib<0.5,>=0.4.1 (from tensorboard<2.1.0,>=2.0.0->tensorflow==2.0)\n",
      "  Downloading https://files.pythonhosted.org/packages/7b/b8/88def36e74bee9fce511c9519571f4e485e890093ab7442284f4ffaef60b/google_auth_oauthlib-0.4.1-py2.py3-none-any.whl\n",
      "Collecting google-auth<2,>=1.6.3 (from tensorboard<2.1.0,>=2.0.0->tensorflow==2.0)\n",
      "  Downloading https://files.pythonhosted.org/packages/1c/6d/7aae38a9022f982cf8167775c7fc299f203417b698c27080ce09060bba07/google_auth-1.11.0-py2.py3-none-any.whl (76kB)\n",
      "Requirement already satisfied, skipping upgrade: h5py in c:\\users\\skumarjh\\appdata\\local\\continuum\\anaconda3\\lib\\site-packages (from keras-applications>=1.0.8->tensorflow==2.0) (2.9.0)\n",
      "Requirement already satisfied, skipping upgrade: certifi>=2017.4.17 in c:\\users\\skumarjh\\appdata\\local\\continuum\\anaconda3\\lib\\site-packages (from requests<3,>=2.21.0->tensorboard<2.1.0,>=2.0.0->tensorflow==2.0) (2019.6.16)\n",
      "Requirement already satisfied, skipping upgrade: chardet<3.1.0,>=3.0.2 in c:\\users\\skumarjh\\appdata\\local\\continuum\\anaconda3\\lib\\site-packages (from requests<3,>=2.21.0->tensorboard<2.1.0,>=2.0.0->tensorflow==2.0) (3.0.4)\n",
      "Requirement already satisfied, skipping upgrade: idna<2.9,>=2.5 in c:\\users\\skumarjh\\appdata\\local\\continuum\\anaconda3\\lib\\site-packages (from requests<3,>=2.21.0->tensorboard<2.1.0,>=2.0.0->tensorflow==2.0) (2.8)\n",
      "Requirement already satisfied, skipping upgrade: urllib3!=1.25.0,!=1.25.1,<1.26,>=1.21.1 in c:\\users\\skumarjh\\appdata\\local\\continuum\\anaconda3\\lib\\site-packages (from requests<3,>=2.21.0->tensorboard<2.1.0,>=2.0.0->tensorflow==2.0) (1.24.2)\n",
      "Collecting requests-oauthlib>=0.7.0 (from google-auth-oauthlib<0.5,>=0.4.1->tensorboard<2.1.0,>=2.0.0->tensorflow==2.0)\n",
      "  Downloading https://files.pythonhosted.org/packages/a3/12/b92740d845ab62ea4edf04d2f4164d82532b5a0b03836d4d4e71c6f3d379/requests_oauthlib-1.3.0-py2.py3-none-any.whl\n",
      "Collecting pyasn1-modules>=0.2.1 (from google-auth<2,>=1.6.3->tensorboard<2.1.0,>=2.0.0->tensorflow==2.0)\n",
      "  Downloading https://files.pythonhosted.org/packages/95/de/214830a981892a3e286c3794f41ae67a4495df1108c3da8a9f62159b9a9d/pyasn1_modules-0.2.8-py2.py3-none-any.whl (155kB)\n",
      "Collecting cachetools<5.0,>=2.0.0 (from google-auth<2,>=1.6.3->tensorboard<2.1.0,>=2.0.0->tensorflow==2.0)\n",
      "  Downloading https://files.pythonhosted.org/packages/08/6a/abf83cb951617793fd49c98cb9456860f5df66ff89883c8660aa0672d425/cachetools-4.0.0-py3-none-any.whl\n",
      "Collecting rsa<4.1,>=3.1.4 (from google-auth<2,>=1.6.3->tensorboard<2.1.0,>=2.0.0->tensorflow==2.0)\n",
      "  Downloading https://files.pythonhosted.org/packages/02/e5/38518af393f7c214357079ce67a317307936896e961e35450b70fad2a9cf/rsa-4.0-py2.py3-none-any.whl\n",
      "Collecting oauthlib>=3.0.0 (from requests-oauthlib>=0.7.0->google-auth-oauthlib<0.5,>=0.4.1->tensorboard<2.1.0,>=2.0.0->tensorflow==2.0)\n",
      "  Downloading https://files.pythonhosted.org/packages/05/57/ce2e7a8fa7c0afb54a0581b14a65b56e62b5759dbc98e80627142b8a3704/oauthlib-3.1.0-py2.py3-none-any.whl (147kB)\n",
      "Collecting pyasn1<0.5.0,>=0.4.6 (from pyasn1-modules>=0.2.1->google-auth<2,>=1.6.3->tensorboard<2.1.0,>=2.0.0->tensorflow==2.0)\n",
      "  Downloading https://files.pythonhosted.org/packages/62/1e/a94a8d635fa3ce4cfc7f506003548d0a2447ae76fd5ca53932970fe3053f/pyasn1-0.4.8-py2.py3-none-any.whl (77kB)\n",
      "Building wheels for collected packages: gast, absl-py, termcolor, opt-einsum\n",
      "  Building wheel for gast (setup.py): started\n",
      "  Building wheel for gast (setup.py): finished with status 'done'\n",
      "  Stored in directory: C:\\Users\\SKUMARJH\\AppData\\Local\\pip\\Cache\\wheels\\5c\\2e\\7e\\a1d4d4fcebe6c381f378ce7743a3ced3699feb89bcfbdadadd\n",
      "  Building wheel for absl-py (setup.py): started\n",
      "  Building wheel for absl-py (setup.py): finished with status 'done'\n",
      "  Stored in directory: C:\\Users\\SKUMARJH\\AppData\\Local\\pip\\Cache\\wheels\\8e\\28\\49\\fad4e7f0b9a1227708cbbee4487ac8558a7334849cb81c813d\n",
      "  Building wheel for termcolor (setup.py): started\n",
      "  Building wheel for termcolor (setup.py): finished with status 'done'\n",
      "  Stored in directory: C:\\Users\\SKUMARJH\\AppData\\Local\\pip\\Cache\\wheels\\7c\\06\\54\\bc84598ba1daf8f970247f550b175aaaee85f68b4b0c5ab2c6\n",
      "  Building wheel for opt-einsum (setup.py): started\n",
      "  Building wheel for opt-einsum (setup.py): finished with status 'done'\n",
      "  Stored in directory: C:\\Users\\SKUMARJH\\AppData\\Local\\pip\\Cache\\wheels\\2c\\b1\\94\\43d03e130b929aae7ba3f8d15cbd7bc0d1cb5bb38a5c721833\n",
      "Successfully built gast absl-py termcolor opt-einsum\n",
      "Installing collected packages: tensorflow-estimator, protobuf, absl-py, markdown, grpcio, pyasn1, pyasn1-modules, cachetools, rsa, google-auth, oauthlib, requests-oauthlib, google-auth-oauthlib, tensorboard, astor, gast, termcolor, keras-applications, keras-preprocessing, google-pasta, opt-einsum, tensorflow\n",
      "Successfully installed absl-py-0.9.0 astor-0.8.1 cachetools-4.0.0 gast-0.2.2 google-auth-1.11.0 google-auth-oauthlib-0.4.1 google-pasta-0.1.8 grpcio-1.26.0 keras-applications-1.0.8 keras-preprocessing-1.1.0 markdown-3.1.1 oauthlib-3.1.0 opt-einsum-3.1.0 protobuf-3.11.2 pyasn1-0.4.8 pyasn1-modules-0.2.8 requests-oauthlib-1.3.0 rsa-4.0 tensorboard-2.0.2 tensorflow-2.0.0 tensorflow-estimator-2.0.1 termcolor-1.1.0\n"
     ]
    }
   ],
   "source": [
    "!pip install -U tensorflow==2.0"
   ]
  },
  {
   "cell_type": "code",
   "execution_count": 10,
   "metadata": {
    "colab": {},
    "colab_type": "code",
    "id": "fu8bUU__oa7h"
   },
   "outputs": [
    {
     "name": "stderr",
     "output_type": "stream",
     "text": [
      "UsageError: Line magic function `%tensorflow_version` not found.\n"
     ]
    }
   ],
   "source": [
    "%tensorflow_version 2.X"
   ]
  },
  {
   "cell_type": "code",
   "execution_count": null,
   "metadata": {},
   "outputs": [],
   "source": []
  },
  {
   "cell_type": "markdown",
   "metadata": {
    "colab_type": "text",
    "id": "bLz1Ckvfvn6D"
   },
   "source": [
    "### Import TensorFlow\n",
    "Once you have specified a version via this magic, you can run `import tensorflow` as normal and verify which version was imported as follows:"
   ]
  },
  {
   "cell_type": "code",
   "execution_count": 2,
   "metadata": {
    "colab": {},
    "colab_type": "code",
    "id": "CWrzVTLOvn6M"
   },
   "outputs": [
    {
     "name": "stdout",
     "output_type": "stream",
     "text": [
      "2.0.0\n"
     ]
    }
   ],
   "source": [
    "import tensorflow as tf\n",
    "print(tf.__version__)"
   ]
  },
  {
   "cell_type": "markdown",
   "metadata": {
    "colab_type": "text",
    "id": "_uYeJgkNuXNC"
   },
   "source": [
    "### Set random seed"
   ]
  },
  {
   "cell_type": "code",
   "execution_count": 3,
   "metadata": {
    "colab": {},
    "colab_type": "code",
    "id": "lcASNsewsfQX"
   },
   "outputs": [],
   "source": [
    "tf.random.set_seed(42)"
   ]
  },
  {
   "cell_type": "markdown",
   "metadata": {
    "colab_type": "text",
    "id": "5-vVQBBqg7DI"
   },
   "source": [
    "## Question 1"
   ]
  },
  {
   "cell_type": "markdown",
   "metadata": {
    "colab_type": "text",
    "id": "kE0EDKvQhEIe"
   },
   "source": [
    "### Import dataset\n",
    "- Import iris dataset\n",
    "- Import the dataset using sklearn library"
   ]
  },
  {
   "cell_type": "code",
   "execution_count": 4,
   "metadata": {
    "colab": {},
    "colab_type": "code",
    "id": "IOOWpD26Haq3"
   },
   "outputs": [],
   "source": [
    "from sklearn import datasets\n",
    "import pandas as pd\n",
    "import numpy as np"
   ]
  },
  {
   "cell_type": "code",
   "execution_count": 77,
   "metadata": {},
   "outputs": [],
   "source": [
    "iris = datasets.load_iris()"
   ]
  },
  {
   "cell_type": "code",
   "execution_count": 78,
   "metadata": {},
   "outputs": [],
   "source": [
    "x=iris.data"
   ]
  },
  {
   "cell_type": "code",
   "execution_count": 79,
   "metadata": {},
   "outputs": [
    {
     "data": {
      "text/plain": [
       "array([[5.1, 3.5, 1.4, 0.2],\n",
       "       [4.9, 3. , 1.4, 0.2],\n",
       "       [4.7, 3.2, 1.3, 0.2],\n",
       "       [4.6, 3.1, 1.5, 0.2],\n",
       "       [5. , 3.6, 1.4, 0.2],\n",
       "       [5.4, 3.9, 1.7, 0.4],\n",
       "       [4.6, 3.4, 1.4, 0.3],\n",
       "       [5. , 3.4, 1.5, 0.2],\n",
       "       [4.4, 2.9, 1.4, 0.2],\n",
       "       [4.9, 3.1, 1.5, 0.1],\n",
       "       [5.4, 3.7, 1.5, 0.2],\n",
       "       [4.8, 3.4, 1.6, 0.2],\n",
       "       [4.8, 3. , 1.4, 0.1],\n",
       "       [4.3, 3. , 1.1, 0.1],\n",
       "       [5.8, 4. , 1.2, 0.2],\n",
       "       [5.7, 4.4, 1.5, 0.4],\n",
       "       [5.4, 3.9, 1.3, 0.4],\n",
       "       [5.1, 3.5, 1.4, 0.3],\n",
       "       [5.7, 3.8, 1.7, 0.3],\n",
       "       [5.1, 3.8, 1.5, 0.3],\n",
       "       [5.4, 3.4, 1.7, 0.2],\n",
       "       [5.1, 3.7, 1.5, 0.4],\n",
       "       [4.6, 3.6, 1. , 0.2],\n",
       "       [5.1, 3.3, 1.7, 0.5],\n",
       "       [4.8, 3.4, 1.9, 0.2],\n",
       "       [5. , 3. , 1.6, 0.2],\n",
       "       [5. , 3.4, 1.6, 0.4],\n",
       "       [5.2, 3.5, 1.5, 0.2],\n",
       "       [5.2, 3.4, 1.4, 0.2],\n",
       "       [4.7, 3.2, 1.6, 0.2],\n",
       "       [4.8, 3.1, 1.6, 0.2],\n",
       "       [5.4, 3.4, 1.5, 0.4],\n",
       "       [5.2, 4.1, 1.5, 0.1],\n",
       "       [5.5, 4.2, 1.4, 0.2],\n",
       "       [4.9, 3.1, 1.5, 0.2],\n",
       "       [5. , 3.2, 1.2, 0.2],\n",
       "       [5.5, 3.5, 1.3, 0.2],\n",
       "       [4.9, 3.6, 1.4, 0.1],\n",
       "       [4.4, 3. , 1.3, 0.2],\n",
       "       [5.1, 3.4, 1.5, 0.2],\n",
       "       [5. , 3.5, 1.3, 0.3],\n",
       "       [4.5, 2.3, 1.3, 0.3],\n",
       "       [4.4, 3.2, 1.3, 0.2],\n",
       "       [5. , 3.5, 1.6, 0.6],\n",
       "       [5.1, 3.8, 1.9, 0.4],\n",
       "       [4.8, 3. , 1.4, 0.3],\n",
       "       [5.1, 3.8, 1.6, 0.2],\n",
       "       [4.6, 3.2, 1.4, 0.2],\n",
       "       [5.3, 3.7, 1.5, 0.2],\n",
       "       [5. , 3.3, 1.4, 0.2],\n",
       "       [7. , 3.2, 4.7, 1.4],\n",
       "       [6.4, 3.2, 4.5, 1.5],\n",
       "       [6.9, 3.1, 4.9, 1.5],\n",
       "       [5.5, 2.3, 4. , 1.3],\n",
       "       [6.5, 2.8, 4.6, 1.5],\n",
       "       [5.7, 2.8, 4.5, 1.3],\n",
       "       [6.3, 3.3, 4.7, 1.6],\n",
       "       [4.9, 2.4, 3.3, 1. ],\n",
       "       [6.6, 2.9, 4.6, 1.3],\n",
       "       [5.2, 2.7, 3.9, 1.4],\n",
       "       [5. , 2. , 3.5, 1. ],\n",
       "       [5.9, 3. , 4.2, 1.5],\n",
       "       [6. , 2.2, 4. , 1. ],\n",
       "       [6.1, 2.9, 4.7, 1.4],\n",
       "       [5.6, 2.9, 3.6, 1.3],\n",
       "       [6.7, 3.1, 4.4, 1.4],\n",
       "       [5.6, 3. , 4.5, 1.5],\n",
       "       [5.8, 2.7, 4.1, 1. ],\n",
       "       [6.2, 2.2, 4.5, 1.5],\n",
       "       [5.6, 2.5, 3.9, 1.1],\n",
       "       [5.9, 3.2, 4.8, 1.8],\n",
       "       [6.1, 2.8, 4. , 1.3],\n",
       "       [6.3, 2.5, 4.9, 1.5],\n",
       "       [6.1, 2.8, 4.7, 1.2],\n",
       "       [6.4, 2.9, 4.3, 1.3],\n",
       "       [6.6, 3. , 4.4, 1.4],\n",
       "       [6.8, 2.8, 4.8, 1.4],\n",
       "       [6.7, 3. , 5. , 1.7],\n",
       "       [6. , 2.9, 4.5, 1.5],\n",
       "       [5.7, 2.6, 3.5, 1. ],\n",
       "       [5.5, 2.4, 3.8, 1.1],\n",
       "       [5.5, 2.4, 3.7, 1. ],\n",
       "       [5.8, 2.7, 3.9, 1.2],\n",
       "       [6. , 2.7, 5.1, 1.6],\n",
       "       [5.4, 3. , 4.5, 1.5],\n",
       "       [6. , 3.4, 4.5, 1.6],\n",
       "       [6.7, 3.1, 4.7, 1.5],\n",
       "       [6.3, 2.3, 4.4, 1.3],\n",
       "       [5.6, 3. , 4.1, 1.3],\n",
       "       [5.5, 2.5, 4. , 1.3],\n",
       "       [5.5, 2.6, 4.4, 1.2],\n",
       "       [6.1, 3. , 4.6, 1.4],\n",
       "       [5.8, 2.6, 4. , 1.2],\n",
       "       [5. , 2.3, 3.3, 1. ],\n",
       "       [5.6, 2.7, 4.2, 1.3],\n",
       "       [5.7, 3. , 4.2, 1.2],\n",
       "       [5.7, 2.9, 4.2, 1.3],\n",
       "       [6.2, 2.9, 4.3, 1.3],\n",
       "       [5.1, 2.5, 3. , 1.1],\n",
       "       [5.7, 2.8, 4.1, 1.3],\n",
       "       [6.3, 3.3, 6. , 2.5],\n",
       "       [5.8, 2.7, 5.1, 1.9],\n",
       "       [7.1, 3. , 5.9, 2.1],\n",
       "       [6.3, 2.9, 5.6, 1.8],\n",
       "       [6.5, 3. , 5.8, 2.2],\n",
       "       [7.6, 3. , 6.6, 2.1],\n",
       "       [4.9, 2.5, 4.5, 1.7],\n",
       "       [7.3, 2.9, 6.3, 1.8],\n",
       "       [6.7, 2.5, 5.8, 1.8],\n",
       "       [7.2, 3.6, 6.1, 2.5],\n",
       "       [6.5, 3.2, 5.1, 2. ],\n",
       "       [6.4, 2.7, 5.3, 1.9],\n",
       "       [6.8, 3. , 5.5, 2.1],\n",
       "       [5.7, 2.5, 5. , 2. ],\n",
       "       [5.8, 2.8, 5.1, 2.4],\n",
       "       [6.4, 3.2, 5.3, 2.3],\n",
       "       [6.5, 3. , 5.5, 1.8],\n",
       "       [7.7, 3.8, 6.7, 2.2],\n",
       "       [7.7, 2.6, 6.9, 2.3],\n",
       "       [6. , 2.2, 5. , 1.5],\n",
       "       [6.9, 3.2, 5.7, 2.3],\n",
       "       [5.6, 2.8, 4.9, 2. ],\n",
       "       [7.7, 2.8, 6.7, 2. ],\n",
       "       [6.3, 2.7, 4.9, 1.8],\n",
       "       [6.7, 3.3, 5.7, 2.1],\n",
       "       [7.2, 3.2, 6. , 1.8],\n",
       "       [6.2, 2.8, 4.8, 1.8],\n",
       "       [6.1, 3. , 4.9, 1.8],\n",
       "       [6.4, 2.8, 5.6, 2.1],\n",
       "       [7.2, 3. , 5.8, 1.6],\n",
       "       [7.4, 2.8, 6.1, 1.9],\n",
       "       [7.9, 3.8, 6.4, 2. ],\n",
       "       [6.4, 2.8, 5.6, 2.2],\n",
       "       [6.3, 2.8, 5.1, 1.5],\n",
       "       [6.1, 2.6, 5.6, 1.4],\n",
       "       [7.7, 3. , 6.1, 2.3],\n",
       "       [6.3, 3.4, 5.6, 2.4],\n",
       "       [6.4, 3.1, 5.5, 1.8],\n",
       "       [6. , 3. , 4.8, 1.8],\n",
       "       [6.9, 3.1, 5.4, 2.1],\n",
       "       [6.7, 3.1, 5.6, 2.4],\n",
       "       [6.9, 3.1, 5.1, 2.3],\n",
       "       [5.8, 2.7, 5.1, 1.9],\n",
       "       [6.8, 3.2, 5.9, 2.3],\n",
       "       [6.7, 3.3, 5.7, 2.5],\n",
       "       [6.7, 3. , 5.2, 2.3],\n",
       "       [6.3, 2.5, 5. , 1.9],\n",
       "       [6.5, 3. , 5.2, 2. ],\n",
       "       [6.2, 3.4, 5.4, 2.3],\n",
       "       [5.9, 3. , 5.1, 1.8]])"
      ]
     },
     "execution_count": 79,
     "metadata": {},
     "output_type": "execute_result"
    }
   ],
   "source": [
    "x"
   ]
  },
  {
   "cell_type": "code",
   "execution_count": 80,
   "metadata": {},
   "outputs": [
    {
     "data": {
      "text/plain": [
       "['sepal length (cm)',\n",
       " 'sepal width (cm)',\n",
       " 'petal length (cm)',\n",
       " 'petal width (cm)']"
      ]
     },
     "execution_count": 80,
     "metadata": {},
     "output_type": "execute_result"
    }
   ],
   "source": [
    "iris.feature_names"
   ]
  },
  {
   "cell_type": "code",
   "execution_count": 81,
   "metadata": {},
   "outputs": [],
   "source": [
    "y=iris.target"
   ]
  },
  {
   "cell_type": "code",
   "execution_count": 82,
   "metadata": {},
   "outputs": [
    {
     "data": {
      "text/plain": [
       "array([0, 0, 0, 0, 0, 0, 0, 0, 0, 0, 0, 0, 0, 0, 0, 0, 0, 0, 0, 0, 0, 0,\n",
       "       0, 0, 0, 0, 0, 0, 0, 0, 0, 0, 0, 0, 0, 0, 0, 0, 0, 0, 0, 0, 0, 0,\n",
       "       0, 0, 0, 0, 0, 0, 1, 1, 1, 1, 1, 1, 1, 1, 1, 1, 1, 1, 1, 1, 1, 1,\n",
       "       1, 1, 1, 1, 1, 1, 1, 1, 1, 1, 1, 1, 1, 1, 1, 1, 1, 1, 1, 1, 1, 1,\n",
       "       1, 1, 1, 1, 1, 1, 1, 1, 1, 1, 1, 1, 2, 2, 2, 2, 2, 2, 2, 2, 2, 2,\n",
       "       2, 2, 2, 2, 2, 2, 2, 2, 2, 2, 2, 2, 2, 2, 2, 2, 2, 2, 2, 2, 2, 2,\n",
       "       2, 2, 2, 2, 2, 2, 2, 2, 2, 2, 2, 2, 2, 2, 2, 2, 2, 2])"
      ]
     },
     "execution_count": 82,
     "metadata": {},
     "output_type": "execute_result"
    }
   ],
   "source": [
    "y"
   ]
  },
  {
   "cell_type": "code",
   "execution_count": 83,
   "metadata": {},
   "outputs": [
    {
     "data": {
      "text/plain": [
       "array(['setosa', 'versicolor', 'virginica'], dtype='<U10')"
      ]
     },
     "execution_count": 83,
     "metadata": {},
     "output_type": "execute_result"
    }
   ],
   "source": [
    "iris.target_names"
   ]
  },
  {
   "cell_type": "markdown",
   "metadata": {
    "colab_type": "text",
    "id": "ta8YqInTh5v5"
   },
   "source": [
    "## Question 2"
   ]
  },
  {
   "cell_type": "markdown",
   "metadata": {
    "colab_type": "text",
    "id": "HERt3drbhX0i"
   },
   "source": [
    "### Get features and label from the dataset in separate variable\n",
    "- you can get the features using .data method\n",
    "- you can get the features using .target method"
   ]
  },
  {
   "cell_type": "code",
   "execution_count": null,
   "metadata": {},
   "outputs": [],
   "source": []
  },
  {
   "cell_type": "markdown",
   "metadata": {
    "colab_type": "text",
    "id": "Qg1A2lkUjFak"
   },
   "source": [
    "## Question 3"
   ]
  },
  {
   "cell_type": "markdown",
   "metadata": {
    "colab_type": "text",
    "id": "3YErwYLCH0N_"
   },
   "source": [
    "### Create train and test data\n",
    "- use train_test_split to get train and test set\n",
    "- set a random_state\n",
    "- test_size: 0.25"
   ]
  },
  {
   "cell_type": "code",
   "execution_count": 84,
   "metadata": {
    "colab": {},
    "colab_type": "code",
    "id": "TYKNJL85h7pQ"
   },
   "outputs": [],
   "source": [
    "from sklearn.model_selection import train_test_split  \n",
    "X_train, X_test, y_train, y_test = train_test_split(x, y, test_size=0.25,random_state=30)  "
   ]
  },
  {
   "cell_type": "code",
   "execution_count": 29,
   "metadata": {},
   "outputs": [
    {
     "name": "stdout",
     "output_type": "stream",
     "text": [
      "Collecting keras\n",
      "  Downloading https://files.pythonhosted.org/packages/ad/fd/6bfe87920d7f4fd475acd28500a42482b6b84479832bdc0fe9e589a60ceb/Keras-2.3.1-py2.py3-none-any.whl (377kB)\n",
      "Requirement already satisfied: keras-applications>=1.0.6 in c:\\users\\skumarjh\\appdata\\local\\continuum\\anaconda3\\lib\\site-packages (from keras) (1.0.8)\n",
      "Requirement already satisfied: scipy>=0.14 in c:\\users\\skumarjh\\appdata\\local\\continuum\\anaconda3\\lib\\site-packages (from keras) (1.2.1)\n",
      "Requirement already satisfied: keras-preprocessing>=1.0.5 in c:\\users\\skumarjh\\appdata\\local\\continuum\\anaconda3\\lib\\site-packages (from keras) (1.1.0)\n",
      "Requirement already satisfied: pyyaml in c:\\users\\skumarjh\\appdata\\local\\continuum\\anaconda3\\lib\\site-packages (from keras) (5.1.1)\n",
      "Requirement already satisfied: h5py in c:\\users\\skumarjh\\appdata\\local\\continuum\\anaconda3\\lib\\site-packages (from keras) (2.9.0)\n",
      "Requirement already satisfied: six>=1.9.0 in c:\\users\\skumarjh\\appdata\\local\\continuum\\anaconda3\\lib\\site-packages (from keras) (1.12.0)\n",
      "Requirement already satisfied: numpy>=1.9.1 in c:\\users\\skumarjh\\appdata\\local\\continuum\\anaconda3\\lib\\site-packages (from keras) (1.16.4)\n",
      "Installing collected packages: keras\n",
      "Successfully installed keras-2.3.1\n"
     ]
    }
   ],
   "source": [
    "!pip install keras"
   ]
  },
  {
   "cell_type": "code",
   "execution_count": 85,
   "metadata": {},
   "outputs": [],
   "source": [
    "from keras.datasets import mnist\n",
    "from keras.models import Sequential\n",
    "from keras.layers.core import Dense,Dropout,Activation,Flatten\n",
    "#from keras.layers.convolutional import Conv2D,MaxPooling2D\n",
    "from keras.utils import np_utils\n",
    "from sklearn import metrics\n",
    "import matplotlib.pyplot as plt\n",
    "%matplotlib inline"
   ]
  },
  {
   "cell_type": "markdown",
   "metadata": {
    "colab_type": "text",
    "id": "g0KVP17Ozaix"
   },
   "source": [
    "## Question 4"
   ]
  },
  {
   "cell_type": "markdown",
   "metadata": {
    "colab_type": "text",
    "id": "SIjqxbhWv1zv"
   },
   "source": [
    "### One-hot encode the labels\n",
    "- convert class vectors (integers) to binary class matrix\n",
    "- convert labels\n",
    "- number of classes: 3\n",
    "- we are doing this to use categorical_crossentropy as loss"
   ]
  },
  {
   "cell_type": "code",
   "execution_count": 86,
   "metadata": {},
   "outputs": [],
   "source": [
    "#Encoding the output class label (One-Hot Encoding)\n",
    "y_train=np_utils.to_categorical(y_train,3)\n",
    "y_test=np_utils.to_categorical(y_test,3)"
   ]
  },
  {
   "cell_type": "code",
   "execution_count": 87,
   "metadata": {},
   "outputs": [
    {
     "data": {
      "text/plain": [
       "array([[0., 1., 0.],\n",
       "       [0., 0., 1.],\n",
       "       [0., 0., 1.],\n",
       "       [0., 0., 1.],\n",
       "       [1., 0., 0.],\n",
       "       [0., 1., 0.],\n",
       "       [0., 0., 1.],\n",
       "       [0., 1., 0.],\n",
       "       [0., 1., 0.],\n",
       "       [0., 1., 0.],\n",
       "       [0., 1., 0.],\n",
       "       [0., 1., 0.],\n",
       "       [1., 0., 0.],\n",
       "       [0., 1., 0.],\n",
       "       [0., 0., 1.],\n",
       "       [0., 1., 0.],\n",
       "       [1., 0., 0.],\n",
       "       [0., 1., 0.],\n",
       "       [1., 0., 0.],\n",
       "       [0., 1., 0.],\n",
       "       [0., 1., 0.],\n",
       "       [0., 1., 0.],\n",
       "       [1., 0., 0.],\n",
       "       [0., 1., 0.],\n",
       "       [1., 0., 0.],\n",
       "       [0., 1., 0.],\n",
       "       [1., 0., 0.],\n",
       "       [0., 0., 1.],\n",
       "       [0., 0., 1.],\n",
       "       [0., 0., 1.],\n",
       "       [1., 0., 0.],\n",
       "       [0., 0., 1.],\n",
       "       [0., 1., 0.],\n",
       "       [0., 0., 1.],\n",
       "       [1., 0., 0.],\n",
       "       [1., 0., 0.],\n",
       "       [0., 1., 0.],\n",
       "       [1., 0., 0.],\n",
       "       [0., 0., 1.],\n",
       "       [0., 0., 1.],\n",
       "       [0., 0., 1.],\n",
       "       [0., 0., 1.],\n",
       "       [1., 0., 0.],\n",
       "       [0., 1., 0.],\n",
       "       [1., 0., 0.],\n",
       "       [0., 1., 0.],\n",
       "       [0., 1., 0.],\n",
       "       [0., 1., 0.],\n",
       "       [0., 0., 1.],\n",
       "       [1., 0., 0.],\n",
       "       [0., 1., 0.],\n",
       "       [1., 0., 0.],\n",
       "       [0., 1., 0.],\n",
       "       [0., 0., 1.],\n",
       "       [0., 1., 0.],\n",
       "       [1., 0., 0.],\n",
       "       [1., 0., 0.],\n",
       "       [1., 0., 0.],\n",
       "       [0., 0., 1.],\n",
       "       [0., 0., 1.],\n",
       "       [1., 0., 0.],\n",
       "       [0., 1., 0.],\n",
       "       [0., 1., 0.],\n",
       "       [0., 1., 0.],\n",
       "       [1., 0., 0.],\n",
       "       [1., 0., 0.],\n",
       "       [1., 0., 0.],\n",
       "       [1., 0., 0.],\n",
       "       [0., 0., 1.],\n",
       "       [1., 0., 0.],\n",
       "       [0., 0., 1.],\n",
       "       [1., 0., 0.],\n",
       "       [1., 0., 0.],\n",
       "       [0., 0., 1.],\n",
       "       [0., 0., 1.],\n",
       "       [0., 0., 1.],\n",
       "       [1., 0., 0.],\n",
       "       [0., 0., 1.],\n",
       "       [0., 1., 0.],\n",
       "       [0., 1., 0.],\n",
       "       [0., 0., 1.],\n",
       "       [0., 1., 0.],\n",
       "       [0., 1., 0.],\n",
       "       [0., 1., 0.],\n",
       "       [0., 1., 0.],\n",
       "       [0., 0., 1.],\n",
       "       [1., 0., 0.],\n",
       "       [0., 1., 0.],\n",
       "       [1., 0., 0.],\n",
       "       [0., 1., 0.],\n",
       "       [1., 0., 0.],\n",
       "       [1., 0., 0.],\n",
       "       [1., 0., 0.],\n",
       "       [0., 0., 1.],\n",
       "       [0., 1., 0.],\n",
       "       [1., 0., 0.],\n",
       "       [1., 0., 0.],\n",
       "       [0., 1., 0.],\n",
       "       [0., 0., 1.],\n",
       "       [0., 0., 1.],\n",
       "       [0., 0., 1.],\n",
       "       [0., 0., 1.],\n",
       "       [1., 0., 0.],\n",
       "       [0., 1., 0.],\n",
       "       [0., 0., 1.],\n",
       "       [1., 0., 0.],\n",
       "       [0., 0., 1.],\n",
       "       [0., 1., 0.],\n",
       "       [0., 0., 1.],\n",
       "       [0., 0., 1.],\n",
       "       [1., 0., 0.],\n",
       "       [1., 0., 0.]], dtype=float32)"
      ]
     },
     "execution_count": 87,
     "metadata": {},
     "output_type": "execute_result"
    }
   ],
   "source": [
    "y_train"
   ]
  },
  {
   "cell_type": "code",
   "execution_count": 88,
   "metadata": {},
   "outputs": [
    {
     "data": {
      "text/plain": [
       "array([[1., 0., 0.],\n",
       "       [1., 0., 0.],\n",
       "       [1., 0., 0.],\n",
       "       [0., 0., 1.],\n",
       "       [0., 1., 0.],\n",
       "       [0., 1., 0.],\n",
       "       [0., 0., 1.],\n",
       "       [0., 0., 1.],\n",
       "       [0., 1., 0.],\n",
       "       [0., 0., 1.],\n",
       "       [1., 0., 0.],\n",
       "       [0., 0., 1.],\n",
       "       [0., 1., 0.],\n",
       "       [0., 1., 0.],\n",
       "       [1., 0., 0.],\n",
       "       [0., 1., 0.],\n",
       "       [1., 0., 0.],\n",
       "       [1., 0., 0.],\n",
       "       [1., 0., 0.],\n",
       "       [0., 1., 0.],\n",
       "       [0., 0., 1.],\n",
       "       [1., 0., 0.],\n",
       "       [1., 0., 0.],\n",
       "       [1., 0., 0.],\n",
       "       [0., 0., 1.],\n",
       "       [0., 0., 1.],\n",
       "       [0., 1., 0.],\n",
       "       [0., 0., 1.],\n",
       "       [1., 0., 0.],\n",
       "       [0., 1., 0.],\n",
       "       [0., 0., 1.],\n",
       "       [0., 1., 0.],\n",
       "       [0., 0., 1.],\n",
       "       [0., 0., 1.],\n",
       "       [0., 0., 1.],\n",
       "       [0., 0., 1.],\n",
       "       [0., 1., 0.],\n",
       "       [0., 0., 1.]], dtype=float32)"
      ]
     },
     "execution_count": 88,
     "metadata": {},
     "output_type": "execute_result"
    }
   ],
   "source": [
    "y_test"
   ]
  },
  {
   "cell_type": "code",
   "execution_count": 0,
   "metadata": {
    "colab": {},
    "colab_type": "code",
    "id": "R9vv-_gpyLY9"
   },
   "outputs": [],
   "source": [
    "keras library "
   ]
  },
  {
   "cell_type": "markdown",
   "metadata": {
    "colab_type": "text",
    "id": "ovjLyYzWkO9s"
   },
   "source": [
    "## Question 5"
   ]
  },
  {
   "cell_type": "markdown",
   "metadata": {
    "colab_type": "text",
    "id": "hbIFzoPNSyYo"
   },
   "source": [
    "### Initialize a sequential model\n",
    "- Define a sequential model"
   ]
  },
  {
   "cell_type": "code",
   "execution_count": 16,
   "metadata": {
    "colab": {},
    "colab_type": "code",
    "id": "4FvSbf1UjHtl"
   },
   "outputs": [],
   "source": [
    "from tensorflow.keras import layers\n",
    "model=tf.keras.Sequential()"
   ]
  },
  {
   "cell_type": "markdown",
   "metadata": {
    "colab_type": "text",
    "id": "dGMy999vlacX"
   },
   "source": [
    "## Question 6"
   ]
  },
  {
   "cell_type": "markdown",
   "metadata": {
    "colab_type": "text",
    "id": "72ibK5Jxm8iL"
   },
   "source": [
    "### Add a layer\n",
    "- Use Dense Layer  with input shape of 4 (according to the feature set) and number of outputs set to 3\n",
    "- Apply Softmax on Dense Layer outputs"
   ]
  },
  {
   "cell_type": "code",
   "execution_count": 89,
   "metadata": {
    "colab": {},
    "colab_type": "code",
    "id": "uZKrBNSRm_o9"
   },
   "outputs": [],
   "source": [
    "from tensorflow.keras.layers import Dense\n"
   ]
  },
  {
   "cell_type": "code",
   "execution_count": 90,
   "metadata": {},
   "outputs": [],
   "source": [
    "model.add(Dense(4, activation='sigmoid', input_shape=(4,)))"
   ]
  },
  {
   "cell_type": "code",
   "execution_count": 91,
   "metadata": {},
   "outputs": [],
   "source": [
    "model.add(Dense(3, activation='softmax'))"
   ]
  },
  {
   "cell_type": "code",
   "execution_count": 92,
   "metadata": {},
   "outputs": [
    {
     "name": "stdout",
     "output_type": "stream",
     "text": [
      "Model: \"sequential\"\n",
      "_________________________________________________________________\n",
      "Layer (type)                 Output Shape              Param #   \n",
      "=================================================================\n",
      "dense (Dense)                (None, 4)                 20        \n",
      "_________________________________________________________________\n",
      "dense_1 (Dense)              (None, 3)                 15        \n",
      "_________________________________________________________________\n",
      "dense_2 (Dense)              (None, 4)                 16        \n",
      "_________________________________________________________________\n",
      "dense_3 (Dense)              (None, 3)                 15        \n",
      "=================================================================\n",
      "WARNING:tensorflow:Discrepancy between trainable weights and collected trainable weights, did you set `model.trainable` without calling `model.compile` after ?\n",
      "Total params: 35\n",
      "Trainable params: 35\n",
      "Non-trainable params: 0\n",
      "_________________________________________________________________\n"
     ]
    }
   ],
   "source": [
    "model.summary()"
   ]
  },
  {
   "cell_type": "markdown",
   "metadata": {
    "colab_type": "text",
    "id": "i4uiTH8plmNX"
   },
   "source": [
    "## Question 7"
   ]
  },
  {
   "cell_type": "markdown",
   "metadata": {
    "colab_type": "text",
    "id": "yJL8n8vcSyYz"
   },
   "source": [
    "### Compile the model\n",
    "- Use SGD as Optimizer\n",
    "- Use categorical_crossentropy as loss function\n",
    "- Use accuracy as metrics"
   ]
  },
  {
   "cell_type": "code",
   "execution_count": 93,
   "metadata": {
    "colab": {},
    "colab_type": "code",
    "id": "Tc_-fjIEk1ve"
   },
   "outputs": [],
   "source": [
    "model.compile(loss='categorical_crossentropy',optimizer='sgd',metrics=['accuracy'])"
   ]
  },
  {
   "cell_type": "markdown",
   "metadata": {
    "colab_type": "text",
    "id": "sihIGbRll_jT"
   },
   "source": [
    "## Question 8"
   ]
  },
  {
   "cell_type": "markdown",
   "metadata": {
    "colab_type": "text",
    "id": "54ZZCfNGlu0i"
   },
   "source": [
    "### Summarize the model\n",
    "- Check model layers\n",
    "- Understand number of trainable parameters"
   ]
  },
  {
   "cell_type": "code",
   "execution_count": 94,
   "metadata": {
    "colab": {},
    "colab_type": "code",
    "id": "elER3F_4ln8n"
   },
   "outputs": [
    {
     "name": "stdout",
     "output_type": "stream",
     "text": [
      "Model: \"sequential\"\n",
      "_________________________________________________________________\n",
      "Layer (type)                 Output Shape              Param #   \n",
      "=================================================================\n",
      "dense (Dense)                (None, 4)                 20        \n",
      "_________________________________________________________________\n",
      "dense_1 (Dense)              (None, 3)                 15        \n",
      "_________________________________________________________________\n",
      "dense_2 (Dense)              (None, 4)                 16        \n",
      "_________________________________________________________________\n",
      "dense_3 (Dense)              (None, 3)                 15        \n",
      "=================================================================\n",
      "Total params: 66\n",
      "Trainable params: 66\n",
      "Non-trainable params: 0\n",
      "_________________________________________________________________\n"
     ]
    }
   ],
   "source": [
    "model.summary()"
   ]
  },
  {
   "cell_type": "markdown",
   "metadata": {
    "colab_type": "text",
    "id": "2PiP7j3Vmj4p"
   },
   "source": [
    "## Question 9"
   ]
  },
  {
   "cell_type": "markdown",
   "metadata": {
    "colab_type": "text",
    "id": "rWdbfFCXmCHt"
   },
   "source": [
    "### Fit the model\n",
    "- Give train data as training features and labels\n",
    "- Epochs: 100\n",
    "- Give validation data as testing features and labels"
   ]
  },
  {
   "cell_type": "code",
   "execution_count": 101,
   "metadata": {
    "colab": {},
    "colab_type": "code",
    "id": "cO1c-5tjmBVZ"
   },
   "outputs": [
    {
     "name": "stdout",
     "output_type": "stream",
     "text": [
      "WARNING:tensorflow:The `nb_epoch` argument in `fit` has been renamed `epochs`.\n",
      "Train on 112 samples, validate on 38 samples\n",
      "Epoch 1/100\n",
      "112/112 [==============================] - 0s 321us/sample - loss: 1.0856 - accuracy: 0.6875 - val_loss: 1.0967 - val_accuracy: 0.6053\n",
      "Epoch 2/100\n",
      "112/112 [==============================] - 0s 285us/sample - loss: 1.0854 - accuracy: 0.6875 - val_loss: 1.0968 - val_accuracy: 0.6053\n",
      "Epoch 3/100\n",
      "112/112 [==============================] - 0s 205us/sample - loss: 1.0853 - accuracy: 0.6875 - val_loss: 1.0967 - val_accuracy: 0.6053\n",
      "Epoch 4/100\n",
      "112/112 [==============================] - 0s 205us/sample - loss: 1.0854 - accuracy: 0.6875 - val_loss: 1.0966 - val_accuracy: 0.6053\n",
      "Epoch 5/100\n",
      "112/112 [==============================] - 0s 187us/sample - loss: 1.0852 - accuracy: 0.6875 - val_loss: 1.0965 - val_accuracy: 0.6053\n",
      "Epoch 6/100\n",
      "112/112 [==============================] - 0s 321us/sample - loss: 1.0852 - accuracy: 0.6875 - val_loss: 1.0965 - val_accuracy: 0.6053\n",
      "Epoch 7/100\n",
      "112/112 [==============================] - 0s 205us/sample - loss: 1.0852 - accuracy: 0.6875 - val_loss: 1.0967 - val_accuracy: 0.6053\n",
      "Epoch 8/100\n",
      "112/112 [==============================] - 0s 205us/sample - loss: 1.0851 - accuracy: 0.6875 - val_loss: 1.0966 - val_accuracy: 0.6053\n",
      "Epoch 9/100\n",
      "112/112 [==============================] - 0s 232us/sample - loss: 1.0853 - accuracy: 0.6875 - val_loss: 1.0965 - val_accuracy: 0.6053\n",
      "Epoch 10/100\n",
      "112/112 [==============================] - 0s 240us/sample - loss: 1.0851 - accuracy: 0.6875 - val_loss: 1.0966 - val_accuracy: 0.6053\n",
      "Epoch 11/100\n",
      "112/112 [==============================] - 0s 196us/sample - loss: 1.0852 - accuracy: 0.6875 - val_loss: 1.0963 - val_accuracy: 0.6053\n",
      "Epoch 12/100\n",
      "112/112 [==============================] - 0s 383us/sample - loss: 1.0850 - accuracy: 0.6875 - val_loss: 1.0964 - val_accuracy: 0.6053\n",
      "Epoch 13/100\n",
      "112/112 [==============================] - 0s 303us/sample - loss: 1.0850 - accuracy: 0.6875 - val_loss: 1.0963 - val_accuracy: 0.6053\n",
      "Epoch 14/100\n",
      "112/112 [==============================] - 0s 249us/sample - loss: 1.0849 - accuracy: 0.6875 - val_loss: 1.0962 - val_accuracy: 0.6053\n",
      "Epoch 15/100\n",
      "112/112 [==============================] - 0s 347us/sample - loss: 1.0848 - accuracy: 0.6875 - val_loss: 1.0961 - val_accuracy: 0.6053\n",
      "Epoch 16/100\n",
      "112/112 [==============================] - 0s 223us/sample - loss: 1.0849 - accuracy: 0.6875 - val_loss: 1.0959 - val_accuracy: 0.6053\n",
      "Epoch 17/100\n",
      "112/112 [==============================] - 0s 356us/sample - loss: 1.0848 - accuracy: 0.6875 - val_loss: 1.0959 - val_accuracy: 0.6053\n",
      "Epoch 18/100\n",
      "112/112 [==============================] - 0s 222us/sample - loss: 1.0847 - accuracy: 0.6875 - val_loss: 1.0958 - val_accuracy: 0.6053\n",
      "Epoch 19/100\n",
      "112/112 [==============================] - 0s 196us/sample - loss: 1.0848 - accuracy: 0.6875 - val_loss: 1.0958 - val_accuracy: 0.6053\n",
      "Epoch 20/100\n",
      "112/112 [==============================] - 0s 240us/sample - loss: 1.0847 - accuracy: 0.6875 - val_loss: 1.0959 - val_accuracy: 0.6053\n",
      "Epoch 21/100\n",
      "112/112 [==============================] - 0s 419us/sample - loss: 1.0847 - accuracy: 0.6875 - val_loss: 1.0958 - val_accuracy: 0.6053\n",
      "Epoch 22/100\n",
      "112/112 [==============================] - 0s 196us/sample - loss: 1.0847 - accuracy: 0.6875 - val_loss: 1.0958 - val_accuracy: 0.6053\n",
      "Epoch 23/100\n",
      "112/112 [==============================] - 0s 205us/sample - loss: 1.0846 - accuracy: 0.6875 - val_loss: 1.0958 - val_accuracy: 0.6053\n",
      "Epoch 24/100\n",
      "112/112 [==============================] - 0s 294us/sample - loss: 1.0847 - accuracy: 0.6875 - val_loss: 1.0957 - val_accuracy: 0.6053\n",
      "Epoch 25/100\n",
      "112/112 [==============================] - 0s 205us/sample - loss: 1.0846 - accuracy: 0.6875 - val_loss: 1.0957 - val_accuracy: 0.6053\n",
      "Epoch 26/100\n",
      "112/112 [==============================] - 0s 205us/sample - loss: 1.0845 - accuracy: 0.6875 - val_loss: 1.0958 - val_accuracy: 0.6053\n",
      "Epoch 27/100\n",
      "112/112 [==============================] - 0s 267us/sample - loss: 1.0844 - accuracy: 0.6875 - val_loss: 1.0956 - val_accuracy: 0.6053\n",
      "Epoch 28/100\n",
      "112/112 [==============================] - 0s 205us/sample - loss: 1.0844 - accuracy: 0.6875 - val_loss: 1.0956 - val_accuracy: 0.6053\n",
      "Epoch 29/100\n",
      "112/112 [==============================] - 0s 196us/sample - loss: 1.0844 - accuracy: 0.6875 - val_loss: 1.0958 - val_accuracy: 0.6053\n",
      "Epoch 30/100\n",
      "112/112 [==============================] - 0s 232us/sample - loss: 1.0843 - accuracy: 0.6875 - val_loss: 1.0957 - val_accuracy: 0.6053\n",
      "Epoch 31/100\n",
      "112/112 [==============================] - 0s 214us/sample - loss: 1.0845 - accuracy: 0.6875 - val_loss: 1.0957 - val_accuracy: 0.6053\n",
      "Epoch 32/100\n",
      "112/112 [==============================] - 0s 187us/sample - loss: 1.0844 - accuracy: 0.6875 - val_loss: 1.0954 - val_accuracy: 0.6053\n",
      "Epoch 33/100\n",
      "112/112 [==============================] - 0s 231us/sample - loss: 1.0842 - accuracy: 0.6875 - val_loss: 1.0955 - val_accuracy: 0.6053\n",
      "Epoch 34/100\n",
      "112/112 [==============================] - 0s 214us/sample - loss: 1.0842 - accuracy: 0.6875 - val_loss: 1.0956 - val_accuracy: 0.6053\n",
      "Epoch 35/100\n",
      "112/112 [==============================] - 0s 196us/sample - loss: 1.0842 - accuracy: 0.6875 - val_loss: 1.0957 - val_accuracy: 0.6053\n",
      "Epoch 36/100\n",
      "112/112 [==============================] - 0s 240us/sample - loss: 1.0842 - accuracy: 0.6875 - val_loss: 1.0958 - val_accuracy: 0.6053\n",
      "Epoch 37/100\n",
      "112/112 [==============================] - 0s 267us/sample - loss: 1.0842 - accuracy: 0.6875 - val_loss: 1.0955 - val_accuracy: 0.6053\n",
      "Epoch 38/100\n",
      "112/112 [==============================] - 0s 187us/sample - loss: 1.0843 - accuracy: 0.6875 - val_loss: 1.0957 - val_accuracy: 0.6053\n",
      "Epoch 39/100\n",
      "112/112 [==============================] - 0s 196us/sample - loss: 1.0840 - accuracy: 0.6875 - val_loss: 1.0956 - val_accuracy: 0.6053\n",
      "Epoch 40/100\n",
      "112/112 [==============================] - 0s 214us/sample - loss: 1.0841 - accuracy: 0.6875 - val_loss: 1.0959 - val_accuracy: 0.6053\n",
      "Epoch 41/100\n",
      "112/112 [==============================] - 0s 258us/sample - loss: 1.0840 - accuracy: 0.6875 - val_loss: 1.0959 - val_accuracy: 0.6053\n",
      "Epoch 42/100\n",
      "112/112 [==============================] - 0s 329us/sample - loss: 1.0840 - accuracy: 0.6875 - val_loss: 1.0958 - val_accuracy: 0.6053\n",
      "Epoch 43/100\n",
      "112/112 [==============================] - 0s 383us/sample - loss: 1.0839 - accuracy: 0.6875 - val_loss: 1.0958 - val_accuracy: 0.6053\n",
      "Epoch 44/100\n",
      "112/112 [==============================] - 0s 267us/sample - loss: 1.0839 - accuracy: 0.6875 - val_loss: 1.0958 - val_accuracy: 0.6053\n",
      "Epoch 45/100\n",
      "112/112 [==============================] - 0s 276us/sample - loss: 1.0838 - accuracy: 0.6875 - val_loss: 1.0955 - val_accuracy: 0.6053\n",
      "Epoch 46/100\n",
      "112/112 [==============================] - 0s 232us/sample - loss: 1.0838 - accuracy: 0.6875 - val_loss: 1.0956 - val_accuracy: 0.6053\n",
      "Epoch 47/100\n",
      "112/112 [==============================] - 0s 285us/sample - loss: 1.0837 - accuracy: 0.6875 - val_loss: 1.0954 - val_accuracy: 0.6053\n",
      "Epoch 48/100\n",
      "112/112 [==============================] - 0s 267us/sample - loss: 1.0838 - accuracy: 0.6875 - val_loss: 1.0955 - val_accuracy: 0.6053\n",
      "Epoch 49/100\n",
      "112/112 [==============================] - 0s 312us/sample - loss: 1.0839 - accuracy: 0.6875 - val_loss: 1.0956 - val_accuracy: 0.6053\n",
      "Epoch 50/100\n",
      "112/112 [==============================] - 0s 321us/sample - loss: 1.0836 - accuracy: 0.6875 - val_loss: 1.0955 - val_accuracy: 0.6053\n",
      "Epoch 51/100\n",
      "112/112 [==============================] - 0s 303us/sample - loss: 1.0835 - accuracy: 0.6875 - val_loss: 1.0955 - val_accuracy: 0.6053\n",
      "Epoch 52/100\n",
      "112/112 [==============================] - 0s 347us/sample - loss: 1.0835 - accuracy: 0.6875 - val_loss: 1.0955 - val_accuracy: 0.6053\n",
      "Epoch 53/100\n",
      "112/112 [==============================] - 0s 472us/sample - loss: 1.0834 - accuracy: 0.6875 - val_loss: 1.0954 - val_accuracy: 0.6053\n",
      "Epoch 54/100\n",
      "112/112 [==============================] - 0s 329us/sample - loss: 1.0835 - accuracy: 0.6875 - val_loss: 1.0955 - val_accuracy: 0.6053\n",
      "Epoch 55/100\n"
     ]
    },
    {
     "name": "stdout",
     "output_type": "stream",
     "text": [
      "112/112 [==============================] - 0s 232us/sample - loss: 1.0835 - accuracy: 0.6875 - val_loss: 1.0954 - val_accuracy: 0.6053\n",
      "Epoch 56/100\n",
      "112/112 [==============================] - 0s 267us/sample - loss: 1.0836 - accuracy: 0.6875 - val_loss: 1.0955 - val_accuracy: 0.6053\n",
      "Epoch 57/100\n",
      "112/112 [==============================] - 0s 258us/sample - loss: 1.0833 - accuracy: 0.6875 - val_loss: 1.0956 - val_accuracy: 0.6053\n",
      "Epoch 58/100\n",
      "112/112 [==============================] - 0s 588us/sample - loss: 1.0833 - accuracy: 0.6875 - val_loss: 1.0953 - val_accuracy: 0.6053\n",
      "Epoch 59/100\n",
      "112/112 [==============================] - ETA: 0s - loss: 1.0870 - accuracy: 0.65 - 0s 338us/sample - loss: 1.0832 - accuracy: 0.6875 - val_loss: 1.0952 - val_accuracy: 0.6053\n",
      "Epoch 60/100\n",
      "112/112 [==============================] - 0s 196us/sample - loss: 1.0832 - accuracy: 0.6875 - val_loss: 1.0953 - val_accuracy: 0.6053\n",
      "Epoch 61/100\n",
      "112/112 [==============================] - 0s 356us/sample - loss: 1.0832 - accuracy: 0.6875 - val_loss: 1.0953 - val_accuracy: 0.6053\n",
      "Epoch 62/100\n",
      "112/112 [==============================] - 0s 285us/sample - loss: 1.0832 - accuracy: 0.6875 - val_loss: 1.0953 - val_accuracy: 0.6053\n",
      "Epoch 63/100\n",
      "112/112 [==============================] - 0s 285us/sample - loss: 1.0831 - accuracy: 0.6875 - val_loss: 1.0953 - val_accuracy: 0.6053\n",
      "Epoch 64/100\n",
      "112/112 [==============================] - 0s 285us/sample - loss: 1.0832 - accuracy: 0.6875 - val_loss: 1.0953 - val_accuracy: 0.6053\n",
      "Epoch 65/100\n",
      "112/112 [==============================] - 0s 276us/sample - loss: 1.0832 - accuracy: 0.6875 - val_loss: 1.0953 - val_accuracy: 0.6053\n",
      "Epoch 66/100\n",
      "112/112 [==============================] - 0s 338us/sample - loss: 1.0830 - accuracy: 0.6875 - val_loss: 1.0953 - val_accuracy: 0.6053\n",
      "Epoch 67/100\n",
      "112/112 [==============================] - 0s 303us/sample - loss: 1.0829 - accuracy: 0.6875 - val_loss: 1.0951 - val_accuracy: 0.6053\n",
      "Epoch 68/100\n",
      "112/112 [==============================] - 0s 320us/sample - loss: 1.0829 - accuracy: 0.6875 - val_loss: 1.0951 - val_accuracy: 0.6053\n",
      "Epoch 69/100\n",
      "112/112 [==============================] - 0s 347us/sample - loss: 1.0830 - accuracy: 0.6875 - val_loss: 1.0952 - val_accuracy: 0.6053\n",
      "Epoch 70/100\n",
      "112/112 [==============================] - 0s 321us/sample - loss: 1.0827 - accuracy: 0.6875 - val_loss: 1.0952 - val_accuracy: 0.6053\n",
      "Epoch 71/100\n",
      "112/112 [==============================] - 0s 329us/sample - loss: 1.0829 - accuracy: 0.6875 - val_loss: 1.0950 - val_accuracy: 0.6053\n",
      "Epoch 72/100\n",
      "112/112 [==============================] - 0s 267us/sample - loss: 1.0828 - accuracy: 0.6875 - val_loss: 1.0952 - val_accuracy: 0.6053\n",
      "Epoch 73/100\n",
      "112/112 [==============================] - 0s 321us/sample - loss: 1.0827 - accuracy: 0.6875 - val_loss: 1.0949 - val_accuracy: 0.6053\n",
      "Epoch 74/100\n",
      "112/112 [==============================] - 0s 410us/sample - loss: 1.0827 - accuracy: 0.6875 - val_loss: 1.0948 - val_accuracy: 0.6053\n",
      "Epoch 75/100\n",
      "112/112 [==============================] - 0s 356us/sample - loss: 1.0827 - accuracy: 0.6875 - val_loss: 1.0946 - val_accuracy: 0.6053\n",
      "Epoch 76/100\n",
      "112/112 [==============================] - 0s 365us/sample - loss: 1.0825 - accuracy: 0.6875 - val_loss: 1.0947 - val_accuracy: 0.6053\n",
      "Epoch 77/100\n",
      "112/112 [==============================] - 0s 329us/sample - loss: 1.0826 - accuracy: 0.6875 - val_loss: 1.0944 - val_accuracy: 0.6053\n",
      "Epoch 78/100\n",
      "112/112 [==============================] - 0s 312us/sample - loss: 1.0825 - accuracy: 0.6875 - val_loss: 1.0948 - val_accuracy: 0.6053\n",
      "Epoch 79/100\n",
      "112/112 [==============================] - 0s 232us/sample - loss: 1.0825 - accuracy: 0.6875 - val_loss: 1.0947 - val_accuracy: 0.6053\n",
      "Epoch 80/100\n",
      "112/112 [==============================] - 0s 321us/sample - loss: 1.0825 - accuracy: 0.6875 - val_loss: 1.0947 - val_accuracy: 0.6053\n",
      "Epoch 81/100\n",
      "112/112 [==============================] - 0s 401us/sample - loss: 1.0822 - accuracy: 0.6875 - val_loss: 1.0946 - val_accuracy: 0.6053\n",
      "Epoch 82/100\n",
      "112/112 [==============================] - 0s 321us/sample - loss: 1.0824 - accuracy: 0.6875 - val_loss: 1.0943 - val_accuracy: 0.6053\n",
      "Epoch 83/100\n",
      "112/112 [==============================] - 0s 258us/sample - loss: 1.0823 - accuracy: 0.6875 - val_loss: 1.0942 - val_accuracy: 0.6053\n",
      "Epoch 84/100\n",
      "112/112 [==============================] - 0s 312us/sample - loss: 1.0821 - accuracy: 0.6875 - val_loss: 1.0943 - val_accuracy: 0.6053\n",
      "Epoch 85/100\n",
      "112/112 [==============================] - 0s 330us/sample - loss: 1.0821 - accuracy: 0.6875 - val_loss: 1.0943 - val_accuracy: 0.6053\n",
      "Epoch 86/100\n",
      "112/112 [==============================] - 0s 267us/sample - loss: 1.0822 - accuracy: 0.6875 - val_loss: 1.0941 - val_accuracy: 0.6053\n",
      "Epoch 87/100\n",
      "112/112 [==============================] - 0s 321us/sample - loss: 1.0820 - accuracy: 0.6875 - val_loss: 1.0941 - val_accuracy: 0.6053\n",
      "Epoch 88/100\n",
      "112/112 [==============================] - 0s 267us/sample - loss: 1.0820 - accuracy: 0.6875 - val_loss: 1.0940 - val_accuracy: 0.6053\n",
      "Epoch 89/100\n",
      "112/112 [==============================] - 0s 303us/sample - loss: 1.0820 - accuracy: 0.6875 - val_loss: 1.0937 - val_accuracy: 0.6053\n",
      "Epoch 90/100\n",
      "112/112 [==============================] - 0s 240us/sample - loss: 1.0819 - accuracy: 0.6875 - val_loss: 1.0934 - val_accuracy: 0.6053\n",
      "Epoch 91/100\n",
      "112/112 [==============================] - 0s 276us/sample - loss: 1.0819 - accuracy: 0.6875 - val_loss: 1.0933 - val_accuracy: 0.6053\n",
      "Epoch 92/100\n",
      "112/112 [==============================] - ETA: 0s - loss: 1.0816 - accuracy: 0.68 - 0s 232us/sample - loss: 1.0818 - accuracy: 0.6875 - val_loss: 1.0933 - val_accuracy: 0.6053\n",
      "Epoch 93/100\n",
      "112/112 [==============================] - 0s 276us/sample - loss: 1.0818 - accuracy: 0.6875 - val_loss: 1.0932 - val_accuracy: 0.6053\n",
      "Epoch 94/100\n",
      "112/112 [==============================] - 0s 258us/sample - loss: 1.0818 - accuracy: 0.6875 - val_loss: 1.0931 - val_accuracy: 0.6053\n",
      "Epoch 95/100\n",
      "112/112 [==============================] - 0s 303us/sample - loss: 1.0818 - accuracy: 0.6875 - val_loss: 1.0931 - val_accuracy: 0.6053\n",
      "Epoch 96/100\n",
      "112/112 [==============================] - 0s 419us/sample - loss: 1.0817 - accuracy: 0.6875 - val_loss: 1.0933 - val_accuracy: 0.6053\n",
      "Epoch 97/100\n",
      "112/112 [==============================] - 0s 294us/sample - loss: 1.0816 - accuracy: 0.6875 - val_loss: 1.0933 - val_accuracy: 0.6053\n",
      "Epoch 98/100\n",
      "112/112 [==============================] - 0s 276us/sample - loss: 1.0816 - accuracy: 0.6875 - val_loss: 1.0931 - val_accuracy: 0.6053\n",
      "Epoch 99/100\n",
      "112/112 [==============================] - 0s 240us/sample - loss: 1.0815 - accuracy: 0.6875 - val_loss: 1.0931 - val_accuracy: 0.6053\n",
      "Epoch 100/100\n",
      "112/112 [==============================] - 0s 329us/sample - loss: 1.0816 - accuracy: 0.6875 - val_loss: 1.0930 - val_accuracy: 0.6053\n"
     ]
    },
    {
     "data": {
      "text/plain": [
       "<tensorflow.python.keras.callbacks.History at 0x280f650fa58>"
      ]
     },
     "execution_count": 101,
     "metadata": {},
     "output_type": "execute_result"
    }
   ],
   "source": [
    "model.fit(X_train,y_train,nb_epoch=100,verbose=1,validation_data=(X_test,y_test))"
   ]
  },
  {
   "cell_type": "markdown",
   "metadata": {
    "colab_type": "text",
    "id": "re9ItAR3yS3J"
   },
   "source": [
    "## Question 10"
   ]
  },
  {
   "cell_type": "markdown",
   "metadata": {
    "colab_type": "text",
    "id": "liw0IFf9yVqH"
   },
   "source": [
    "### Make predictions\n",
    "- Predict labels on one row"
   ]
  },
  {
   "cell_type": "code",
   "execution_count": 99,
   "metadata": {},
   "outputs": [
    {
     "data": {
      "text/plain": [
       "array([[0.35310364, 0.33868074, 0.30821568]], dtype=float32)"
      ]
     },
     "execution_count": 99,
     "metadata": {},
     "output_type": "execute_result"
    }
   ],
   "source": [
    "model.predict(X_test[0:1])"
   ]
  },
  {
   "cell_type": "code",
   "execution_count": 100,
   "metadata": {},
   "outputs": [
    {
     "data": {
      "text/plain": [
       "array([[1., 0., 0.]], dtype=float32)"
      ]
     },
     "execution_count": 100,
     "metadata": {},
     "output_type": "execute_result"
    }
   ],
   "source": [
    "y_test[0:1]"
   ]
  },
  {
   "cell_type": "markdown",
   "metadata": {
    "colab_type": "text",
    "id": "hSUgMq3m0bG7"
   },
   "source": [
    "### Compare the prediction with actual label\n",
    "- Print the same row as done in the previous step but of actual labels"
   ]
  },
  {
   "cell_type": "code",
   "execution_count": 73,
   "metadata": {},
   "outputs": [
    {
     "ename": "TypeError",
     "evalue": "'numpy.ndarray' object is not callable",
     "output_type": "error",
     "traceback": [
      "\u001b[1;31m---------------------------------------------------------------------------\u001b[0m",
      "\u001b[1;31mTypeError\u001b[0m                                 Traceback (most recent call last)",
      "\u001b[1;32m<ipython-input-73-c2dae542660a>\u001b[0m in \u001b[0;36m<module>\u001b[1;34m\u001b[0m\n\u001b[1;32m----> 1\u001b[1;33m \u001b[0mmodel\u001b[0m\u001b[1;33m.\u001b[0m\u001b[0mpredict_classes\u001b[0m\u001b[1;33m(\u001b[0m\u001b[0mX_test\u001b[0m\u001b[1;33m(\u001b[0m\u001b[1;36m0\u001b[0m\u001b[1;33m)\u001b[0m\u001b[1;33m)\u001b[0m\u001b[1;33m\u001b[0m\u001b[1;33m\u001b[0m\u001b[0m\n\u001b[0m",
      "\u001b[1;31mTypeError\u001b[0m: 'numpy.ndarray' object is not callable"
     ]
    }
   ],
   "source": []
  },
  {
   "cell_type": "code",
   "execution_count": 40,
   "metadata": {},
   "outputs": [
    {
     "name": "stdout",
     "output_type": "stream",
     "text": [
      "38/1 [====================================================================================================================================================================================================================================================================================================================================================================================================================================================================================================================================================================================================================================================================================================================================================================================================================================================================================================================================================================================================================================================================================================================================================================================] - 0s 131us/sample - loss: 0.9326 - accuracy: 0.6053\n",
      "[0.9791109091357181, 0.6052632]\n"
     ]
    }
   ],
   "source": [
    "score = model.evaluate(X_test, y_test,verbose=1)\n",
    "print(score)"
   ]
  },
  {
   "cell_type": "markdown",
   "metadata": {
    "colab_type": "text",
    "id": "FrTKwbgE7NFT"
   },
   "source": [
    "\n",
    "\n",
    "---\n",
    "\n"
   ]
  },
  {
   "cell_type": "markdown",
   "metadata": {
    "colab_type": "text",
    "id": "a1UBYPNp5Tn1"
   },
   "source": [
    "# Stock prices dataset\n",
    "The data is of tock exchange's stock listings for each trading day of 2010 to 2016.\n",
    "\n",
    "## Description\n",
    "A brief description of columns.\n",
    "- open: The opening market price of the equity symbol on the date\n",
    "- high: The highest market price of the equity symbol on the date\n",
    "- low: The lowest recorded market price of the equity symbol on the date\n",
    "- close: The closing recorded price of the equity symbol on the date\n",
    "- symbol: Symbol of the listed company\n",
    "- volume: Total traded volume of the equity symbol on the date\n",
    "- date: Date of record"
   ]
  },
  {
   "cell_type": "markdown",
   "metadata": {
    "colab_type": "text",
    "id": "ctH_ZW5g-M3g"
   },
   "source": [
    "### Specifying the TensorFlow version\n",
    "Running `import tensorflow` will import the default version (currently 1.x). You can use 2.x by running a cell with the `tensorflow_version` magic **before** you run `import tensorflow`."
   ]
  },
  {
   "cell_type": "code",
   "execution_count": 0,
   "metadata": {
    "colab": {},
    "colab_type": "code",
    "id": "vQbdODpH-M3r"
   },
   "outputs": [],
   "source": [
    "%tensorflow_version 2.x"
   ]
  },
  {
   "cell_type": "markdown",
   "metadata": {
    "colab_type": "text",
    "id": "nFQWH1tj-M38"
   },
   "source": [
    "### Import TensorFlow\n",
    "Once you have specified a version via this magic, you can run `import tensorflow` as normal and verify which version was imported as follows:"
   ]
  },
  {
   "cell_type": "code",
   "execution_count": 277,
   "metadata": {
    "colab": {},
    "colab_type": "code",
    "id": "Ho5n-xhd-M3_"
   },
   "outputs": [
    {
     "name": "stdout",
     "output_type": "stream",
     "text": [
      "2.0.0\n"
     ]
    }
   ],
   "source": [
    "import tensorflow as tf\n",
    "print(tf.__version__)"
   ]
  },
  {
   "cell_type": "markdown",
   "metadata": {
    "colab_type": "text",
    "id": "tgkl0qu6-M4F"
   },
   "source": [
    "### Set random seed"
   ]
  },
  {
   "cell_type": "code",
   "execution_count": 278,
   "metadata": {
    "colab": {},
    "colab_type": "code",
    "id": "TKgTyuA3-M4G"
   },
   "outputs": [],
   "source": [
    "tf.random.set_seed(42)"
   ]
  },
  {
   "cell_type": "markdown",
   "metadata": {
    "colab_type": "text",
    "id": "_88voqAH-O6J"
   },
   "source": [
    "## Question 1"
   ]
  },
  {
   "cell_type": "markdown",
   "metadata": {
    "colab_type": "text",
    "id": "dRHCeJqP-evf"
   },
   "source": [
    "### Load the data\n",
    "- load the csv file and read it using pandas\n",
    "- file name is prices.csv"
   ]
  },
  {
   "cell_type": "code",
   "execution_count": 0,
   "metadata": {
    "colab": {},
    "colab_type": "code",
    "id": "cKVH5v7r-RmC"
   },
   "outputs": [],
   "source": [
    "# run this cell to upload file if you are using google colab\n",
    "from google.colab import files\n",
    "files.upload()"
   ]
  },
  {
   "cell_type": "code",
   "execution_count": 46,
   "metadata": {
    "colab": {},
    "colab_type": "code",
    "id": "-gDC6cSW_FSK"
   },
   "outputs": [],
   "source": [
    "df1 = pd.read_csv(\"prices.csv\")"
   ]
  },
  {
   "cell_type": "code",
   "execution_count": 47,
   "metadata": {},
   "outputs": [
    {
     "data": {
      "text/html": [
       "<div>\n",
       "<style scoped>\n",
       "    .dataframe tbody tr th:only-of-type {\n",
       "        vertical-align: middle;\n",
       "    }\n",
       "\n",
       "    .dataframe tbody tr th {\n",
       "        vertical-align: top;\n",
       "    }\n",
       "\n",
       "    .dataframe thead th {\n",
       "        text-align: right;\n",
       "    }\n",
       "</style>\n",
       "<table border=\"1\" class=\"dataframe\">\n",
       "  <thead>\n",
       "    <tr style=\"text-align: right;\">\n",
       "      <th></th>\n",
       "      <th>date</th>\n",
       "      <th>symbol</th>\n",
       "      <th>open</th>\n",
       "      <th>close</th>\n",
       "      <th>low</th>\n",
       "      <th>high</th>\n",
       "      <th>volume</th>\n",
       "    </tr>\n",
       "  </thead>\n",
       "  <tbody>\n",
       "    <tr>\n",
       "      <th>0</th>\n",
       "      <td>2016-01-05 00:00:00</td>\n",
       "      <td>WLTW</td>\n",
       "      <td>123.430000</td>\n",
       "      <td>125.839996</td>\n",
       "      <td>122.309998</td>\n",
       "      <td>126.250000</td>\n",
       "      <td>2163600.0</td>\n",
       "    </tr>\n",
       "    <tr>\n",
       "      <th>1</th>\n",
       "      <td>2016-01-06 00:00:00</td>\n",
       "      <td>WLTW</td>\n",
       "      <td>125.239998</td>\n",
       "      <td>119.980003</td>\n",
       "      <td>119.940002</td>\n",
       "      <td>125.540001</td>\n",
       "      <td>2386400.0</td>\n",
       "    </tr>\n",
       "    <tr>\n",
       "      <th>2</th>\n",
       "      <td>2016-01-07 00:00:00</td>\n",
       "      <td>WLTW</td>\n",
       "      <td>116.379997</td>\n",
       "      <td>114.949997</td>\n",
       "      <td>114.930000</td>\n",
       "      <td>119.739998</td>\n",
       "      <td>2489500.0</td>\n",
       "    </tr>\n",
       "    <tr>\n",
       "      <th>3</th>\n",
       "      <td>2016-01-08 00:00:00</td>\n",
       "      <td>WLTW</td>\n",
       "      <td>115.480003</td>\n",
       "      <td>116.620003</td>\n",
       "      <td>113.500000</td>\n",
       "      <td>117.440002</td>\n",
       "      <td>2006300.0</td>\n",
       "    </tr>\n",
       "    <tr>\n",
       "      <th>4</th>\n",
       "      <td>2016-01-11 00:00:00</td>\n",
       "      <td>WLTW</td>\n",
       "      <td>117.010002</td>\n",
       "      <td>114.970001</td>\n",
       "      <td>114.089996</td>\n",
       "      <td>117.330002</td>\n",
       "      <td>1408600.0</td>\n",
       "    </tr>\n",
       "  </tbody>\n",
       "</table>\n",
       "</div>"
      ],
      "text/plain": [
       "                  date symbol        open       close         low        high  \\\n",
       "0  2016-01-05 00:00:00   WLTW  123.430000  125.839996  122.309998  126.250000   \n",
       "1  2016-01-06 00:00:00   WLTW  125.239998  119.980003  119.940002  125.540001   \n",
       "2  2016-01-07 00:00:00   WLTW  116.379997  114.949997  114.930000  119.739998   \n",
       "3  2016-01-08 00:00:00   WLTW  115.480003  116.620003  113.500000  117.440002   \n",
       "4  2016-01-11 00:00:00   WLTW  117.010002  114.970001  114.089996  117.330002   \n",
       "\n",
       "      volume  \n",
       "0  2163600.0  \n",
       "1  2386400.0  \n",
       "2  2489500.0  \n",
       "3  2006300.0  \n",
       "4  1408600.0  "
      ]
     },
     "execution_count": 47,
     "metadata": {},
     "output_type": "execute_result"
    }
   ],
   "source": [
    "df1.head()"
   ]
  },
  {
   "cell_type": "markdown",
   "metadata": {
    "colab_type": "text",
    "id": "HlLKVPVH_BCT"
   },
   "source": [
    "## Question 2"
   ]
  },
  {
   "cell_type": "markdown",
   "metadata": {
    "colab_type": "text",
    "id": "9J4BlzVA_gZd"
   },
   "source": [
    "### Drop columnns\n",
    "- drop \"date\" and \"symbol\" column from the data"
   ]
  },
  {
   "cell_type": "code",
   "execution_count": 48,
   "metadata": {
    "colab": {},
    "colab_type": "code",
    "id": "IKEK8aEE_Csx"
   },
   "outputs": [],
   "source": [
    "df1=df1.drop(labels=['date','symbol'],axis=1)"
   ]
  },
  {
   "cell_type": "code",
   "execution_count": 49,
   "metadata": {},
   "outputs": [
    {
     "data": {
      "text/html": [
       "<div>\n",
       "<style scoped>\n",
       "    .dataframe tbody tr th:only-of-type {\n",
       "        vertical-align: middle;\n",
       "    }\n",
       "\n",
       "    .dataframe tbody tr th {\n",
       "        vertical-align: top;\n",
       "    }\n",
       "\n",
       "    .dataframe thead th {\n",
       "        text-align: right;\n",
       "    }\n",
       "</style>\n",
       "<table border=\"1\" class=\"dataframe\">\n",
       "  <thead>\n",
       "    <tr style=\"text-align: right;\">\n",
       "      <th></th>\n",
       "      <th>open</th>\n",
       "      <th>close</th>\n",
       "      <th>low</th>\n",
       "      <th>high</th>\n",
       "      <th>volume</th>\n",
       "    </tr>\n",
       "  </thead>\n",
       "  <tbody>\n",
       "    <tr>\n",
       "      <th>0</th>\n",
       "      <td>123.430000</td>\n",
       "      <td>125.839996</td>\n",
       "      <td>122.309998</td>\n",
       "      <td>126.250000</td>\n",
       "      <td>2163600.0</td>\n",
       "    </tr>\n",
       "    <tr>\n",
       "      <th>1</th>\n",
       "      <td>125.239998</td>\n",
       "      <td>119.980003</td>\n",
       "      <td>119.940002</td>\n",
       "      <td>125.540001</td>\n",
       "      <td>2386400.0</td>\n",
       "    </tr>\n",
       "    <tr>\n",
       "      <th>2</th>\n",
       "      <td>116.379997</td>\n",
       "      <td>114.949997</td>\n",
       "      <td>114.930000</td>\n",
       "      <td>119.739998</td>\n",
       "      <td>2489500.0</td>\n",
       "    </tr>\n",
       "    <tr>\n",
       "      <th>3</th>\n",
       "      <td>115.480003</td>\n",
       "      <td>116.620003</td>\n",
       "      <td>113.500000</td>\n",
       "      <td>117.440002</td>\n",
       "      <td>2006300.0</td>\n",
       "    </tr>\n",
       "    <tr>\n",
       "      <th>4</th>\n",
       "      <td>117.010002</td>\n",
       "      <td>114.970001</td>\n",
       "      <td>114.089996</td>\n",
       "      <td>117.330002</td>\n",
       "      <td>1408600.0</td>\n",
       "    </tr>\n",
       "  </tbody>\n",
       "</table>\n",
       "</div>"
      ],
      "text/plain": [
       "         open       close         low        high     volume\n",
       "0  123.430000  125.839996  122.309998  126.250000  2163600.0\n",
       "1  125.239998  119.980003  119.940002  125.540001  2386400.0\n",
       "2  116.379997  114.949997  114.930000  119.739998  2489500.0\n",
       "3  115.480003  116.620003  113.500000  117.440002  2006300.0\n",
       "4  117.010002  114.970001  114.089996  117.330002  1408600.0"
      ]
     },
     "execution_count": 49,
     "metadata": {},
     "output_type": "execute_result"
    }
   ],
   "source": [
    "df1.head()"
   ]
  },
  {
   "cell_type": "code",
   "execution_count": 50,
   "metadata": {},
   "outputs": [
    {
     "name": "stdout",
     "output_type": "stream",
     "text": [
      "<class 'pandas.core.frame.DataFrame'>\n",
      "RangeIndex: 851264 entries, 0 to 851263\n",
      "Data columns (total 5 columns):\n",
      "open      851264 non-null float64\n",
      "close     851264 non-null float64\n",
      "low       851264 non-null float64\n",
      "high      851264 non-null float64\n",
      "volume    851264 non-null float64\n",
      "dtypes: float64(5)\n",
      "memory usage: 32.5 MB\n"
     ]
    }
   ],
   "source": [
    "df1.info()"
   ]
  },
  {
   "cell_type": "code",
   "execution_count": 51,
   "metadata": {},
   "outputs": [],
   "source": [
    "df1=df1.iloc[0:1000,:]"
   ]
  },
  {
   "cell_type": "code",
   "execution_count": 285,
   "metadata": {},
   "outputs": [
    {
     "data": {
      "text/plain": [
       "(1000, 5)"
      ]
     },
     "execution_count": 285,
     "metadata": {},
     "output_type": "execute_result"
    }
   ],
   "source": [
    "df1.shape"
   ]
  },
  {
   "cell_type": "markdown",
   "metadata": {
    "colab_type": "text",
    "id": "cTPhO6v-AiZt"
   },
   "source": [
    "## Question 3"
   ]
  },
  {
   "cell_type": "markdown",
   "metadata": {
    "colab_type": "text",
    "id": "SsZXmF3NAkna"
   },
   "source": [
    "### Take initial rows\n",
    "- Take first 1000 rows from the data\n",
    "- This step is done to make the execution faster"
   ]
  },
  {
   "cell_type": "code",
   "execution_count": 0,
   "metadata": {
    "colab": {},
    "colab_type": "code",
    "id": "aKs04iIHAjxN"
   },
   "outputs": [],
   "source": [
    "# covered in above step"
   ]
  },
  {
   "cell_type": "markdown",
   "metadata": {
    "colab_type": "text",
    "id": "6vGtnapgBIJm"
   },
   "source": [
    "## Question 4"
   ]
  },
  {
   "cell_type": "markdown",
   "metadata": {
    "colab_type": "text",
    "id": "C8u_jlbABTip"
   },
   "source": [
    "### Get features and label from the dataset in separate variable\n",
    "- Take \"open\", \"close\", \"low\", \"high\" columns as features\n",
    "- Take \"volume\" column as label\n",
    "- Normalize label column by dividing it with 1000000"
   ]
  },
  {
   "cell_type": "code",
   "execution_count": 52,
   "metadata": {
    "colab": {},
    "colab_type": "code",
    "id": "xQjCMzUXBJbg"
   },
   "outputs": [],
   "source": [
    "X = df1.drop('volume', axis=1)"
   ]
  },
  {
   "cell_type": "code",
   "execution_count": 53,
   "metadata": {},
   "outputs": [],
   "source": [
    "y = df1['volume']"
   ]
  },
  {
   "cell_type": "code",
   "execution_count": 54,
   "metadata": {},
   "outputs": [],
   "source": [
    "y = np.divide(y, 1000000)"
   ]
  },
  {
   "cell_type": "markdown",
   "metadata": {
    "colab_type": "text",
    "id": "aTAKzlxZBz0z"
   },
   "source": [
    "## Question 5"
   ]
  },
  {
   "cell_type": "markdown",
   "metadata": {
    "colab_type": "text",
    "id": "IfY8Km1Zzyt2"
   },
   "source": [
    "### Convert data\n",
    "- Convert features and labels to numpy array\n",
    "- Convert their data type to \"float32\""
   ]
  },
  {
   "cell_type": "code",
   "execution_count": 55,
   "metadata": {
    "colab": {},
    "colab_type": "code",
    "id": "Ko7nnQVbYENh"
   },
   "outputs": [],
   "source": [
    "X=X.to_numpy()"
   ]
  },
  {
   "cell_type": "code",
   "execution_count": 56,
   "metadata": {},
   "outputs": [
    {
     "name": "stdout",
     "output_type": "stream",
     "text": [
      "(1000, 4)\n"
     ]
    }
   ],
   "source": [
    "print(X.shape)"
   ]
  },
  {
   "cell_type": "code",
   "execution_count": 57,
   "metadata": {},
   "outputs": [],
   "source": [
    "y=y.to_numpy()"
   ]
  },
  {
   "cell_type": "code",
   "execution_count": 58,
   "metadata": {},
   "outputs": [
    {
     "name": "stdout",
     "output_type": "stream",
     "text": [
      "(1000,)\n"
     ]
    }
   ],
   "source": [
    "print(y.shape)"
   ]
  },
  {
   "cell_type": "code",
   "execution_count": 59,
   "metadata": {},
   "outputs": [],
   "source": [
    "X = X.astype('float32')"
   ]
  },
  {
   "cell_type": "code",
   "execution_count": 60,
   "metadata": {},
   "outputs": [
    {
     "name": "stdout",
     "output_type": "stream",
     "text": [
      "float32\n"
     ]
    }
   ],
   "source": [
    "print(X.dtype)"
   ]
  },
  {
   "cell_type": "code",
   "execution_count": 61,
   "metadata": {},
   "outputs": [],
   "source": [
    "y = y.astype('float32')"
   ]
  },
  {
   "cell_type": "code",
   "execution_count": 62,
   "metadata": {},
   "outputs": [
    {
     "name": "stdout",
     "output_type": "stream",
     "text": [
      "float32\n"
     ]
    }
   ],
   "source": [
    "print(y.dtype)"
   ]
  },
  {
   "cell_type": "markdown",
   "metadata": {
    "colab_type": "text",
    "id": "3TWpN0nVTpUx"
   },
   "source": [
    "## Question 6"
   ]
  },
  {
   "cell_type": "markdown",
   "metadata": {
    "colab_type": "text",
    "id": "WQ1FKEs-4btX"
   },
   "source": [
    "### Normalize data\n",
    "- Normalize features\n",
    "- Use tf.math.l2_normalize to normalize features\n",
    "- You can read more about it here https://www.tensorflow.org/api_docs/python/tf/math/l2_normalize"
   ]
  },
  {
   "cell_type": "code",
   "execution_count": 63,
   "metadata": {
    "colab": {},
    "colab_type": "code",
    "id": "V0Tfe00X78wB"
   },
   "outputs": [
    {
     "data": {
      "text/plain": [
       "<tf.Tensor: id=3557, shape=(1000, 4), dtype=float32, numpy=\n",
       "array([[0.02202894, 0.02245906, 0.02182905, 0.02253223],\n",
       "       [0.02235197, 0.02141321, 0.02140607, 0.02240551],\n",
       "       [0.0207707 , 0.02051548, 0.02051192, 0.02137037],\n",
       "       ...,\n",
       "       [0.00505436, 0.00513467, 0.00499903, 0.00514181],\n",
       "       [0.00785282, 0.0079956 , 0.0078082 , 0.00799738],\n",
       "       [0.00643931, 0.00662849, 0.00642682, 0.00664455]], dtype=float32)>"
      ]
     },
     "execution_count": 63,
     "metadata": {},
     "output_type": "execute_result"
    }
   ],
   "source": [
    "tf.math.l2_normalize(\n",
    "    X,\n",
    "    axis=None,\n",
    "    epsilon=1e-12,\n",
    "    name=None\n",
    ")"
   ]
  },
  {
   "cell_type": "markdown",
   "metadata": {
    "colab_type": "text",
    "id": "wmXUGc2oTspa"
   },
   "source": [
    "## Question 7"
   ]
  },
  {
   "cell_type": "markdown",
   "metadata": {
    "colab_type": "text",
    "id": "VJelDMpzxs0L"
   },
   "source": [
    "### Define weight and bias\n",
    "- Initialize weight and bias with tf.zeros\n",
    "- tf.zeros is an initializer that generates tensors initialized to 0\n",
    "- Specify the value for shape"
   ]
  },
  {
   "cell_type": "code",
   "execution_count": 177,
   "metadata": {
    "colab": {},
    "colab_type": "code",
    "id": "8o9RPWVTxs0O"
   },
   "outputs": [],
   "source": []
  },
  {
   "cell_type": "code",
   "execution_count": 298,
   "metadata": {},
   "outputs": [],
   "source": [
    "W = tf.Variable(tf.zeros(shape=[4,1]), name=\"Weights\")\n",
    "b = tf.Variable(tf.zeros(shape=[1]),name=\"Bias\")"
   ]
  },
  {
   "cell_type": "markdown",
   "metadata": {
    "colab_type": "text",
    "id": "8a0wr94aTyjg"
   },
   "source": [
    "## Question 8"
   ]
  },
  {
   "cell_type": "markdown",
   "metadata": {
    "colab_type": "text",
    "id": "zMXXYdOSxs0Q"
   },
   "source": [
    "### Get prediction\n",
    "- Define a function to get prediction\n",
    "- Approach: prediction = (X * W) + b; here is X is features"
   ]
  },
  {
   "cell_type": "code",
   "execution_count": null,
   "metadata": {},
   "outputs": [],
   "source": []
  },
  {
   "cell_type": "markdown",
   "metadata": {
    "colab_type": "text",
    "id": "lQmS3Tauxs0V"
   },
   "source": [
    "### Calculate loss\n",
    "- Calculate loss using predictions\n",
    "- Define a function to calculate loss\n",
    "- We are calculating mean squared error"
   ]
  },
  {
   "cell_type": "code",
   "execution_count": 299,
   "metadata": {
    "colab": {},
    "colab_type": "code",
    "id": "-FRXmDd5xs0X"
   },
   "outputs": [],
   "source": [
    "loss = tf.reduce_mean(tf.square(y_preds-y),name='Loss')\n"
   ]
  },
  {
   "cell_type": "code",
   "execution_count": 300,
   "metadata": {},
   "outputs": [
    {
     "data": {
      "text/plain": [
       "<tf.Tensor: id=47168, shape=(), dtype=float32, numpy=237.28665>"
      ]
     },
     "execution_count": 300,
     "metadata": {},
     "output_type": "execute_result"
    }
   ],
   "source": [
    "loss"
   ]
  },
  {
   "cell_type": "markdown",
   "metadata": {
    "colab_type": "text",
    "id": "ZbBpnOtfT0wd"
   },
   "source": [
    "## Question 9"
   ]
  },
  {
   "cell_type": "markdown",
   "metadata": {
    "colab_type": "text",
    "id": "bkOzAUUsTmF_"
   },
   "source": [
    "### Define a function to train the model\n",
    "1.   Record all the mathematical steps to calculate Loss\n",
    "2.   Calculate Gradients of Loss w.r.t weights and bias\n",
    "3.   Update Weights and Bias based on gradients and learning rate to minimize loss"
   ]
  },
  {
   "cell_type": "markdown",
   "metadata": {
    "colab_type": "text",
    "id": "AW4SEP8kT2ls"
   },
   "source": [
    "## Question 10"
   ]
  },
  {
   "cell_type": "markdown",
   "metadata": {
    "colab_type": "text",
    "id": "yeN0deOvT81N"
   },
   "source": [
    "### Train the model for 100 epochs \n",
    "- Observe the training loss at every iteration"
   ]
  },
  {
   "cell_type": "markdown",
   "metadata": {
    "colab_type": "text",
    "id": "vanvD93FV0_k"
   },
   "source": [
    "### Observe values of Weight\n",
    "- Print the updated values"
   ]
  },
  {
   "cell_type": "code",
   "execution_count": 301,
   "metadata": {
    "colab": {},
    "colab_type": "code",
    "id": "QSqpy4gtWaOD"
   },
   "outputs": [
    {
     "data": {
      "text/plain": [
       "array([[0.],\n",
       "       [0.],\n",
       "       [0.],\n",
       "       [0.]], dtype=float32)"
      ]
     },
     "execution_count": 301,
     "metadata": {},
     "output_type": "execute_result"
    }
   ],
   "source": [
    "w.numpy()"
   ]
  },
  {
   "cell_type": "markdown",
   "metadata": {
    "colab_type": "text",
    "id": "y9KpRupYUEwy"
   },
   "source": [
    "### Observe values of Bias\n",
    "- Print the updated values"
   ]
  },
  {
   "cell_type": "code",
   "execution_count": 64,
   "metadata": {},
   "outputs": [],
   "source": [
    "W = tf.zeros(shape=(4, 1000))\n",
    "b = tf.zeros(shape=(1000))"
   ]
  },
  {
   "cell_type": "code",
   "execution_count": 65,
   "metadata": {},
   "outputs": [],
   "source": [
    "def prediction(X, W, b):\n",
    "    \n",
    "    y_pred = tf.add(tf.matmul(X, W), b)\n",
    "    return y_pred"
   ]
  },
  {
   "cell_type": "code",
   "execution_count": 66,
   "metadata": {},
   "outputs": [],
   "source": [
    "def loss(y_actual, y_predicted):\n",
    "    diff = y_actual - y_predicted\n",
    "    sqr = tf.square(diff)\n",
    "    avg = tf.reduce_mean(sqr)\n",
    "    return avg\n",
    "    "
   ]
  },
  {
   "cell_type": "code",
   "execution_count": 67,
   "metadata": {},
   "outputs": [
    {
     "name": "stdout",
     "output_type": "stream",
     "text": [
      "Current Training Loss on iteration 0 121.451195\n",
      "Current Training Loss on iteration 1 105.40982\n",
      "Current Training Loss on iteration 2 103.18689\n",
      "Current Training Loss on iteration 3 102.877396\n",
      "Current Training Loss on iteration 4 102.83285\n",
      "Current Training Loss on iteration 5 102.825\n",
      "Current Training Loss on iteration 6 102.82224\n",
      "Current Training Loss on iteration 7 102.82016\n",
      "Current Training Loss on iteration 8 102.8182\n",
      "Current Training Loss on iteration 9 102.81624\n",
      "Current Training Loss on iteration 10 102.814285\n",
      "Current Training Loss on iteration 11 102.81234\n",
      "Current Training Loss on iteration 12 102.81039\n",
      "Current Training Loss on iteration 13 102.808426\n",
      "Current Training Loss on iteration 14 102.80648\n",
      "Current Training Loss on iteration 15 102.80451\n",
      "Current Training Loss on iteration 16 102.80256\n",
      "Current Training Loss on iteration 17 102.800606\n",
      "Current Training Loss on iteration 18 102.79866\n",
      "Current Training Loss on iteration 19 102.79671\n",
      "Current Training Loss on iteration 20 102.794754\n",
      "Current Training Loss on iteration 21 102.7928\n",
      "Current Training Loss on iteration 22 102.79085\n",
      "Current Training Loss on iteration 23 102.788895\n",
      "Current Training Loss on iteration 24 102.78694\n",
      "Current Training Loss on iteration 25 102.78499\n",
      "Current Training Loss on iteration 26 102.78304\n",
      "Current Training Loss on iteration 27 102.78108\n",
      "Current Training Loss on iteration 28 102.77914\n",
      "Current Training Loss on iteration 29 102.777176\n",
      "Current Training Loss on iteration 30 102.77522\n",
      "Current Training Loss on iteration 31 102.77327\n",
      "Current Training Loss on iteration 32 102.77133\n",
      "Current Training Loss on iteration 33 102.76937\n",
      "Current Training Loss on iteration 34 102.76742\n",
      "Current Training Loss on iteration 35 102.76546\n",
      "Current Training Loss on iteration 36 102.763504\n",
      "Current Training Loss on iteration 37 102.76156\n",
      "Current Training Loss on iteration 38 102.7596\n",
      "Current Training Loss on iteration 39 102.757645\n",
      "Current Training Loss on iteration 40 102.7557\n",
      "Current Training Loss on iteration 41 102.753746\n",
      "Current Training Loss on iteration 42 102.75179\n",
      "Current Training Loss on iteration 43 102.74984\n",
      "Current Training Loss on iteration 44 102.74789\n",
      "Current Training Loss on iteration 45 102.745926\n",
      "Current Training Loss on iteration 46 102.74397\n",
      "Current Training Loss on iteration 47 102.742035\n",
      "Current Training Loss on iteration 48 102.740074\n",
      "Current Training Loss on iteration 49 102.73813\n",
      "Current Training Loss on iteration 50 102.736176\n",
      "Current Training Loss on iteration 51 102.73422\n",
      "Current Training Loss on iteration 52 102.73227\n",
      "Current Training Loss on iteration 53 102.73032\n",
      "Current Training Loss on iteration 54 102.72837\n",
      "Current Training Loss on iteration 55 102.72642\n",
      "Current Training Loss on iteration 56 102.72446\n",
      "Current Training Loss on iteration 57 102.72251\n",
      "Current Training Loss on iteration 58 102.72056\n",
      "Current Training Loss on iteration 59 102.7186\n",
      "Current Training Loss on iteration 60 102.716644\n",
      "Current Training Loss on iteration 61 102.7147\n",
      "Current Training Loss on iteration 62 102.71275\n",
      "Current Training Loss on iteration 63 102.7108\n",
      "Current Training Loss on iteration 64 102.70885\n",
      "Current Training Loss on iteration 65 102.706894\n",
      "Current Training Loss on iteration 66 102.70494\n",
      "Current Training Loss on iteration 67 102.702995\n",
      "Current Training Loss on iteration 68 102.70105\n",
      "Current Training Loss on iteration 69 102.69909\n",
      "Current Training Loss on iteration 70 102.697136\n",
      "Current Training Loss on iteration 71 102.69519\n",
      "Current Training Loss on iteration 72 102.69324\n",
      "Current Training Loss on iteration 73 102.69128\n",
      "Current Training Loss on iteration 74 102.68934\n",
      "Current Training Loss on iteration 75 102.687386\n",
      "Current Training Loss on iteration 76 102.68543\n",
      "Current Training Loss on iteration 77 102.68348\n",
      "Current Training Loss on iteration 78 102.681526\n",
      "Current Training Loss on iteration 79 102.67957\n",
      "Current Training Loss on iteration 80 102.677635\n",
      "Current Training Loss on iteration 81 102.67568\n",
      "Current Training Loss on iteration 82 102.67373\n",
      "Current Training Loss on iteration 83 102.671776\n",
      "Current Training Loss on iteration 84 102.66982\n",
      "Current Training Loss on iteration 85 102.66788\n",
      "Current Training Loss on iteration 86 102.66593\n",
      "Current Training Loss on iteration 87 102.66398\n",
      "Current Training Loss on iteration 88 102.66202\n",
      "Current Training Loss on iteration 89 102.660065\n",
      "Current Training Loss on iteration 90 102.65811\n",
      "Current Training Loss on iteration 91 102.65616\n",
      "Current Training Loss on iteration 92 102.65422\n",
      "Current Training Loss on iteration 93 102.652275\n",
      "Current Training Loss on iteration 94 102.65032\n",
      "Current Training Loss on iteration 95 102.64836\n",
      "Current Training Loss on iteration 96 102.64641\n",
      "Current Training Loss on iteration 97 102.64447\n",
      "Current Training Loss on iteration 98 102.64251\n",
      "Current Training Loss on iteration 99 102.64056\n"
     ]
    }
   ],
   "source": [
    "def train(x, y_actual, w, b, learning_rate=0.01):\n",
    "    \n",
    "# Record mathematical operations on 'tape' to calculate loss\n",
    "     with tf.GradientTape() as t:\n",
    "        \n",
    "        t.watch([w,b])\n",
    "        current_prediction = prediction(x, w, b)\n",
    "        current_loss = loss(y_actual, current_prediction)\n",
    "        dw, db = t.gradient(current_loss,[w, b])\n",
    "    # Update Weights and Bias\n",
    "        w = w - learning_rate * dw\n",
    "        b = b - learning_rate * db\n",
    "        return w, b\n",
    "for i in range(100):\n",
    "    \n",
    "    W, b = train(X, y, W, b)\n",
    "    print('Current Training Loss on iteration', i, loss(y, prediction(X, W, b)).numpy())\n",
    "    "
   ]
  },
  {
   "cell_type": "code",
   "execution_count": 69,
   "metadata": {},
   "outputs": [
    {
     "data": {
      "text/plain": [
       "array([[0.00441789, 0.00487283, 0.00508335, ..., 0.07586285, 0.01341253,\n",
       "        0.01144351],\n",
       "       [0.00475111, 0.00524036, 0.00546676, ..., 0.08158487, 0.01442418,\n",
       "        0.01230664],\n",
       "       [0.0041793 , 0.00460967, 0.00480882, ..., 0.0717659 , 0.01268818,\n",
       "        0.01082549],\n",
       "       [0.00501202, 0.00552814, 0.00576698, ..., 0.08606518, 0.01521628,\n",
       "        0.01298247]], dtype=float32)"
      ]
     },
     "execution_count": 69,
     "metadata": {},
     "output_type": "execute_result"
    }
   ],
   "source": [
    "W.numpy()"
   ]
  },
  {
   "cell_type": "code",
   "execution_count": 70,
   "metadata": {},
   "outputs": [
    {
     "data": {
      "text/plain": [
       "array([1.91349909e-03, 2.11054459e-03, 2.20172619e-03, 1.77438138e-03,\n",
       "       1.24577386e-03, 9.71076603e-04, 8.39831016e-04, 6.94523100e-04,\n",
       "       9.67273954e-04, 1.34739140e-03, 1.46271777e-03, 8.35143961e-04,\n",
       "       6.58793200e-04, 6.22444612e-04, 4.98008565e-04, 7.92515464e-04,\n",
       "       6.01748936e-04, 6.63215178e-04, 5.07825462e-04, 6.14484539e-04,\n",
       "       7.92692008e-04, 8.45756556e-04, 8.81840242e-04, 1.06172787e-03,\n",
       "       1.52577541e-03, 1.72105199e-03, 1.16697210e-03, 8.15775245e-04,\n",
       "       1.04810868e-03, 8.14978965e-04, 3.89934081e-04, 1.10046519e-03,\n",
       "       6.02545275e-04, 3.63667379e-04, 3.95594281e-04, 4.94559295e-04,\n",
       "       4.06737789e-04, 8.59288033e-04, 6.13865326e-04, 1.02555624e-03,\n",
       "       7.82433024e-04, 6.12008269e-04, 7.94196036e-04, 7.46880018e-04,\n",
       "       7.04428763e-04, 3.68619949e-04, 5.21975919e-04, 4.37868963e-04,\n",
       "       4.56176174e-04, 4.97124158e-04, 7.15749047e-04, 1.42150430e-03,\n",
       "       8.85554531e-04, 6.29165617e-04, 3.92852759e-04, 4.72360756e-04,\n",
       "       7.05932092e-04, 5.22683316e-04, 3.91968118e-04, 5.11186081e-04,\n",
       "       6.76658179e-04, 4.54849447e-04, 1.01706584e-03, 1.80002965e-03,\n",
       "       6.21029059e-04, 6.09443523e-04, 4.89252969e-04, 6.86209940e-04,\n",
       "       5.49834629e-04, 3.16705235e-04, 8.30721634e-04, 6.50480040e-04,\n",
       "       8.17721244e-04, 5.82645996e-04, 9.33401403e-04, 6.14926801e-04,\n",
       "       4.06826148e-04, 4.71299514e-04, 4.09125787e-04, 8.05427844e-04,\n",
       "       7.86766468e-04, 6.49772352e-04, 1.15397153e-03, 1.41266035e-03,\n",
       "       1.69584609e-03, 2.84910994e-03, 8.13475577e-04, 1.76138105e-03,\n",
       "       5.26044169e-04, 4.20799828e-04, 6.32438168e-04, 4.67408216e-04,\n",
       "       5.12954895e-04, 5.56909770e-04, 5.29051118e-04, 7.22293684e-04,\n",
       "       5.66726783e-04, 6.73120725e-04, 4.08683700e-04, 5.54522092e-04,\n",
       "       6.38982805e-04, 1.22419372e-03, 3.90464877e-04, 3.74634081e-04,\n",
       "       4.39283758e-04, 4.74660163e-04, 3.79763485e-04, 6.35975681e-04,\n",
       "       3.48897796e-04, 4.84653952e-04, 2.32863880e-04, 2.91234610e-04,\n",
       "       3.34924145e-04, 3.58007237e-04, 5.83088200e-04, 4.86688019e-04,\n",
       "       4.29466978e-04, 4.96947148e-04, 4.53080516e-04, 1.44865515e-03,\n",
       "       7.82167946e-04, 7.03278754e-04, 9.28360270e-04, 1.02776708e-03,\n",
       "       7.59172952e-04, 6.73386210e-04, 6.63215178e-04, 5.22771792e-04,\n",
       "       6.12715667e-04, 4.26813756e-04, 7.46437872e-04, 5.57175081e-04,\n",
       "       5.01546077e-04, 4.52992273e-04, 4.08771913e-04, 6.24478387e-04,\n",
       "       4.72183834e-04, 3.31386691e-04, 3.30590672e-04, 3.23426852e-04,\n",
       "       2.77614774e-04, 3.54646356e-04, 2.43653543e-04, 3.77375574e-04,\n",
       "       5.08179131e-04, 7.01510115e-04, 3.95240466e-04, 6.78073498e-04,\n",
       "       1.64959242e-03, 8.23204115e-04, 4.44590492e-04, 6.27661997e-04,\n",
       "       4.98715905e-04, 3.03262495e-04, 4.23453021e-04, 4.43794590e-04,\n",
       "       3.62871506e-04, 3.92499060e-04, 1.25125528e-03, 5.04729920e-04,\n",
       "       3.46067769e-04, 3.76049051e-04, 4.65462537e-04, 4.55203262e-04,\n",
       "       4.03730752e-04, 3.66232096e-04, 4.10806126e-04, 4.65373771e-04,\n",
       "       4.30970598e-04, 6.65337720e-04, 5.59386041e-04, 6.44112180e-04,\n",
       "       5.66992094e-04, 5.79727406e-04, 4.32385539e-04, 6.56140270e-04,\n",
       "       6.30934490e-04, 1.63367263e-03, 2.74784688e-04, 2.75049941e-04,\n",
       "       8.20462650e-04, 6.33676013e-04, 7.04870734e-04, 3.62871506e-04,\n",
       "       4.45386395e-04, 5.01634611e-04, 1.33058790e-03, 1.29291171e-03,\n",
       "       1.01007894e-03, 9.44986939e-04, 6.19260420e-04, 6.78515527e-04,\n",
       "       7.56255060e-04, 3.74810887e-04, 5.09151898e-04, 6.03075838e-04,\n",
       "       4.77844093e-04, 4.84653952e-04, 4.99246526e-04, 4.47155093e-04,\n",
       "       3.85246822e-04, 4.90667881e-04, 4.39195428e-04, 2.75934290e-04,\n",
       "       3.66762746e-04, 4.23010846e-04, 3.68796900e-04, 3.94179311e-04,\n",
       "       4.06118779e-04, 4.20799828e-04, 6.13069336e-04, 6.51541050e-04,\n",
       "       3.12300981e-03, 1.19005539e-03, 8.55750113e-04, 1.14229799e-03,\n",
       "       1.34827523e-03, 6.67106942e-04, 9.63205530e-04, 5.65753900e-04,\n",
       "       7.23797246e-04, 4.63870470e-04, 7.24327576e-04, 4.20888420e-04,\n",
       "       8.94752622e-04, 3.36250843e-04, 2.51171004e-04, 3.89049848e-04,\n",
       "       3.12106538e-04, 5.98476967e-04, 7.94814958e-04, 7.56874215e-04,\n",
       "       5.34799823e-04, 1.15078758e-03, 8.20993213e-04, 8.74234131e-04,\n",
       "       8.34347564e-04, 7.27423001e-04, 1.03316247e-03, 7.48560647e-04,\n",
       "       7.31049280e-04, 1.09020632e-03, 8.29218247e-04, 5.76189952e-04,\n",
       "       5.43555245e-04, 4.92790481e-04, 3.20066116e-04, 3.38638609e-04,\n",
       "       3.80205660e-04, 1.91562125e-04, 4.12486406e-04, 3.37444665e-03,\n",
       "       8.70015845e-03, 1.50499144e-03, 1.09164238e-01, 2.17201025e-03,\n",
       "       9.57722310e-03, 3.22816661e-03, 4.16572299e-03, 1.85963849e-03,\n",
       "       3.07109626e-03, 3.47580109e-03, 7.02482939e-04, 1.97098567e-03,\n",
       "       1.14910782e-03, 3.60536575e-03, 4.06614086e-03, 5.01572387e-03,\n",
       "       2.08896468e-03, 7.57404545e-04, 6.85493508e-03, 1.08622620e-03,\n",
       "       3.35454883e-04, 2.66701169e-03, 6.30492228e-04, 1.59405114e-03,\n",
       "       2.32686941e-03, 9.97785595e-04, 1.64632909e-02, 7.75358058e-04,\n",
       "       2.70716468e-04, 4.66735847e-03, 1.97991705e-03, 2.43255612e-03,\n",
       "       6.72139088e-03, 1.45962241e-03, 4.10523033e-03, 3.01325670e-03,\n",
       "       2.09152931e-03, 2.94020493e-03, 1.00061577e-03, 2.17316020e-03,\n",
       "       1.01813534e-02, 8.23080447e-03, 1.31192640e-03, 4.76429093e-04,\n",
       "       1.15078758e-03, 1.92455412e-03, 6.09735167e-03, 7.33348832e-04,\n",
       "       3.61102575e-04, 5.47154993e-03, 1.59940347e-01, 1.01419194e-02,\n",
       "       2.62800907e-03, 4.02475148e-03, 5.69008384e-03, 1.21322670e-03,\n",
       "       1.58591452e-03, 3.31360078e-03, 5.20737655e-03, 2.18421547e-03,\n",
       "       5.41936792e-03, 2.11107428e-04, 1.09153287e-03, 1.27142919e-02,\n",
       "       1.26755554e-02, 1.13734487e-03, 1.33677828e-03, 3.59769873e-02,\n",
       "       2.99379998e-03, 3.54620023e-03, 3.38231889e-03, 6.47879904e-03,\n",
       "       2.36162706e-03, 4.02669562e-03, 5.93515439e-03, 1.73705909e-03,\n",
       "       4.75164456e-03, 4.27344488e-03, 2.70203478e-03, 5.45854727e-03,\n",
       "       1.97434588e-03, 2.75463834e-02, 7.27776904e-04, 2.85424036e-03,\n",
       "       1.11558847e-03, 4.31076763e-03, 8.97052232e-04, 1.27212901e-03,\n",
       "       1.20043801e-02, 2.35296017e-03, 2.77614774e-04, 1.01582764e-03,\n",
       "       5.19632222e-03, 5.83707355e-04, 1.98080158e-03, 3.93330213e-03,\n",
       "       3.99291189e-03, 2.96328752e-03, 7.32376007e-04, 4.25575679e-04,\n",
       "       1.22762471e-02, 2.90102488e-03, 1.39223004e-03, 6.99210586e-03,\n",
       "       5.29349186e-02, 7.42104417e-03, 9.29598231e-04, 1.82903802e-03,\n",
       "       5.09877456e-03, 1.48641923e-03, 1.29802339e-02, 8.99775792e-03,\n",
       "       2.67532596e-04, 1.92402292e-03, 1.28083928e-02, 5.32199536e-03,\n",
       "       3.51515715e-03, 6.67955633e-03, 3.86661792e-04, 9.25087603e-04,\n",
       "       5.12875151e-03, 4.60120384e-03, 1.21167032e-02, 2.51533464e-03,\n",
       "       4.73510358e-04, 1.15582859e-03, 2.70574889e-03, 4.41760349e-04,\n",
       "       1.32855377e-03, 1.49756297e-02, 1.06102065e-03, 1.97054283e-03,\n",
       "       1.25726929e-03, 3.67213832e-03, 1.68956700e-03, 3.73705383e-03,\n",
       "       3.40540195e-03, 1.99093837e-02, 8.92806856e-04, 1.89466053e-03,\n",
       "       6.63922809e-04, 1.70822779e-03, 3.10284575e-03, 1.27920334e-03,\n",
       "       3.34393512e-03, 2.12363317e-03, 3.63490381e-03, 5.09682752e-04,\n",
       "       2.91809347e-03, 6.84706494e-04, 1.06729986e-03, 3.26150889e-03,\n",
       "       3.96213378e-04, 4.62711835e-03, 2.07622931e-03, 9.28094669e-04,\n",
       "       9.11644718e-04, 3.86272673e-03, 9.39592312e-04, 1.93375221e-03,\n",
       "       6.84883038e-04, 5.38211875e-02, 3.03527736e-03, 1.59921683e-02,\n",
       "       2.84345145e-03, 1.62810099e-03, 5.96884987e-04, 4.08922415e-03,\n",
       "       2.24285084e-03, 1.36455745e-02, 1.65719842e-03, 2.00742250e-03,\n",
       "       3.14255548e-03, 1.91190711e-03, 1.58255466e-03, 2.52002547e-03,\n",
       "       1.46039110e-02, 5.85830072e-04, 1.44688645e-03, 1.68779842e-03,\n",
       "       3.56450537e-03, 1.05995941e-03, 5.93257993e-02, 2.65056151e-03,\n",
       "       1.48659665e-02, 4.56034578e-03, 1.46272629e-02, 3.47305811e-03,\n",
       "       3.45660769e-03, 7.40158779e-04, 2.24055257e-03, 8.12379178e-03,\n",
       "       1.85618934e-03, 8.07903986e-03, 3.45413154e-03, 4.73333464e-04,\n",
       "       1.02339862e-02, 5.37364394e-04, 1.46156782e-03, 9.25335288e-03,\n",
       "       3.23550776e-03, 1.26169203e-03, 3.78410332e-03, 1.16041880e-02,\n",
       "       3.29821068e-03, 6.14139438e-03, 2.56831245e-03, 3.54787917e-03,\n",
       "       6.53504441e-03, 8.13652296e-04, 2.47256737e-02, 2.66913371e-03,\n",
       "       2.39249226e-03, 5.78931649e-04, 7.02925201e-04, 6.18888997e-03,\n",
       "       9.26856534e-04, 1.77632773e-03, 5.44377789e-03, 3.21658142e-03,\n",
       "       2.87608593e-04, 2.52939964e-04, 1.58635771e-03, 4.22753394e-02,\n",
       "       2.08100467e-03, 3.56848678e-03, 3.93056124e-03, 2.62243766e-03,\n",
       "       8.80425447e-04, 2.98132945e-04, 2.41274526e-03, 3.76243657e-03,\n",
       "       1.65914407e-03, 7.71820173e-03, 1.52869429e-03, 8.40732921e-03,\n",
       "       2.94728018e-03, 3.13614421e-02, 2.49101687e-03, 2.43122876e-03,\n",
       "       1.31790442e-02, 5.53973485e-03, 2.50021205e-03, 1.44591380e-03,\n",
       "       1.87741476e-03, 1.22670485e-02, 1.12485709e-02, 2.86538340e-03,\n",
       "       5.42582595e-04, 1.95533084e-03, 3.50171141e-03, 1.09790068e-03,\n",
       "       3.97433899e-03, 7.81283248e-04, 1.46475201e-03, 7.94991618e-04,\n",
       "       2.55380804e-03, 5.36577404e-03, 2.12991284e-03, 3.37082217e-03,\n",
       "       1.17873517e-03, 8.50505941e-03, 1.64225185e-03, 8.29394907e-04,\n",
       "       8.51240102e-03, 1.00985821e-02, 7.80319236e-03, 8.24354030e-03,\n",
       "       3.41203442e-04, 2.33695167e-03, 2.52966397e-03, 2.98973126e-03,\n",
       "       2.63190060e-03, 5.16430847e-03, 1.34314632e-03, 1.79994071e-03,\n",
       "       1.64472812e-03, 7.03393947e-03, 5.40318480e-03, 4.21595853e-03,\n",
       "       4.39549360e-04, 5.31571498e-03, 4.33358422e-04, 4.03465616e-04,\n",
       "       3.25487670e-03, 2.69186427e-03, 3.43166781e-03, 9.77143366e-03,\n",
       "       3.02846800e-03, 3.60138714e-03, 1.22901341e-02, 8.14908464e-03,\n",
       "       3.39692011e-02, 6.64338470e-03, 6.37656311e-04, 8.41068904e-05,\n",
       "       3.04347649e-02, 1.45245832e-03, 3.19438311e-03, 1.97010068e-03,\n",
       "       1.92048575e-03, 2.30139866e-03, 4.97513404e-03, 1.52467862e-02,\n",
       "       1.03024347e-03, 6.10734802e-03, 1.05884476e-02, 1.42928667e-03,\n",
       "       4.76331590e-03, 1.48907292e-03, 1.66666147e-03, 4.70512453e-03,\n",
       "       1.73980126e-03, 4.35445691e-03, 1.76926088e-02, 2.58759153e-03,\n",
       "       7.75534660e-04, 1.55619939e-03, 1.47766387e-03, 2.36976258e-02,\n",
       "       1.13044633e-03, 3.20517109e-03, 3.29998136e-03, 2.59325234e-03,\n",
       "       1.80418580e-03, 2.32748874e-03, 1.80577824e-03, 7.63418502e-04,\n",
       "       1.34420744e-03, 4.53735050e-03, 5.82460128e-03, 4.60651219e-02,\n",
       "       3.06968065e-03, 8.12838972e-03, 4.08542063e-03, 8.49913340e-04,\n",
       "       5.41370781e-03, 1.66285888e-03, 1.03448844e-03, 6.93771616e-03,\n",
       "       4.32500709e-03, 6.30138617e-04, 7.72527826e-04, 2.13442254e-03,\n",
       "       9.96547285e-04, 4.83327429e-04, 2.65454152e-03, 1.39656360e-03,\n",
       "       4.78020869e-04, 2.17581284e-03, 1.09047117e-03, 1.34792179e-03,\n",
       "       1.28859598e-02, 5.66638191e-04, 2.87608500e-03, 2.46978947e-03,\n",
       "       4.51311964e-04, 1.03960056e-02, 9.01120424e-04, 1.82258175e-03,\n",
       "       3.50640039e-03, 7.95699190e-04, 7.99502188e-04, 8.20639252e-04,\n",
       "       1.39237205e-02, 1.98460487e-03, 1.26071938e-03, 1.67771592e-03,\n",
       "       1.44777093e-02, 7.66602403e-04, 1.24025429e-02, 2.74245138e-03,\n",
       "       8.14006373e-04, 1.18333404e-03, 2.60634202e-04, 6.84264116e-04,\n",
       "       5.10416832e-03, 2.13636900e-03, 2.37020518e-04, 1.17051031e-03,\n",
       "       4.52753436e-03, 3.05155083e-03, 1.39046146e-03, 3.54540395e-03,\n",
       "       4.12044174e-04, 1.84062333e-03, 5.89774409e-03, 3.04261898e-03,\n",
       "       9.83184110e-03, 1.25470571e-03, 1.79799495e-03, 4.34375508e-03,\n",
       "       3.07171536e-03, 3.52240819e-03, 7.36028422e-03, 2.17537093e-03,\n",
       "       2.57685557e-02, 1.15184917e-03, 2.59015709e-03, 1.58635771e-03,\n",
       "       7.50903971e-03, 4.05862276e-03, 1.71150023e-03, 1.11213904e-02,\n",
       "       1.53435452e-03, 6.35250332e-03, 2.06084060e-03, 3.28644901e-03,\n",
       "       1.16423122e-03, 2.96717929e-03, 7.81265460e-03, 1.58768415e-03,\n",
       "       6.21391600e-03, 9.17066261e-03, 3.21092014e-03, 3.78879230e-03,\n",
       "       7.77029572e-03, 1.62305951e-03, 1.37401128e-03, 5.25955693e-04,\n",
       "       1.07893003e-02, 2.75076553e-03, 5.21286018e-03, 3.44670285e-03,\n",
       "       3.03686946e-03, 1.49685517e-03, 1.14014819e-02, 5.39849652e-03,\n",
       "       1.78472903e-02, 6.90366840e-04, 1.80595543e-03, 2.77066394e-03,\n",
       "       1.36680352e-02, 9.97608760e-04, 1.64835423e-03, 3.44917935e-04,\n",
       "       2.34544207e-03, 1.54319895e-03, 1.05854438e-03, 1.43066626e-02,\n",
       "       8.44075868e-04, 7.22647319e-03, 2.75775255e-03, 1.36357557e-03,\n",
       "       3.47886756e-02, 4.66523692e-03, 8.93337477e-04, 1.82081305e-03,\n",
       "       6.20870152e-03, 1.83541458e-02, 3.78339575e-03, 1.62058335e-03,\n",
       "       1.83160347e-03, 4.19331761e-03, 5.54964005e-04, 2.36171484e-03,\n",
       "       2.26045144e-03, 2.49818084e-03, 2.45945100e-02, 9.29863483e-04,\n",
       "       1.19153224e-02, 1.46699818e-02, 2.61987327e-03, 6.91958645e-04,\n",
       "       3.51515715e-03, 1.71459583e-03, 3.70211923e-03, 2.22976245e-02,\n",
       "       1.70902407e-03, 1.33081913e-01, 2.19049514e-03, 9.34117567e-03,\n",
       "       2.31095031e-03, 6.28705788e-03, 1.80427451e-03, 3.05889198e-03,\n",
       "       2.87643936e-03, 3.26610840e-04, 2.66099768e-03, 1.25780213e-03,\n",
       "       4.52143373e-03, 4.50445293e-03, 4.04491462e-03, 3.50693194e-03,\n",
       "       5.15961845e-04, 7.88933598e-03, 1.21835642e-03, 4.82619740e-04,\n",
       "       4.79515595e-03, 3.52789066e-04, 2.69991229e-03, 4.72457986e-03,\n",
       "       8.20374000e-04, 1.34192510e-02, 6.31553645e-04, 2.87077826e-04,\n",
       "       6.97158650e-03, 2.46059103e-03, 2.27805064e-03, 7.82866403e-03,\n",
       "       2.23949039e-03, 7.41617754e-03, 4.40973183e-03, 2.17961613e-03,\n",
       "       3.61500564e-03, 6.98768592e-04, 2.39266944e-03, 1.96346734e-02,\n",
       "       1.00522470e-02, 1.18598703e-03, 2.66294373e-04, 2.39567645e-03,\n",
       "       1.63048855e-03, 9.41113196e-03, 6.19083468e-04, 1.08313083e-03,\n",
       "       7.84272514e-03, 1.85301691e-01, 5.30085852e-03, 3.89721827e-03,\n",
       "       6.21153228e-03, 6.17243908e-03, 9.67185362e-04, 9.92479152e-04,\n",
       "       2.89784186e-03, 9.43076424e-03, 4.33305465e-03, 6.35825470e-03,\n",
       "       1.75819689e-04, 1.35030912e-03, 1.50115415e-02, 7.60075403e-03,\n",
       "       2.34721112e-03, 1.92243129e-03, 5.91328070e-02, 3.04005458e-03,\n",
       "       4.87935124e-03, 2.67417589e-03, 5.03863255e-03, 8.20763409e-03,\n",
       "       3.98902129e-03, 4.81204549e-03, 1.87140028e-03, 2.83000642e-03,\n",
       "       5.93064493e-03, 6.47773687e-03, 5.89234941e-03, 1.71220768e-03,\n",
       "       2.53758784e-02, 2.08074041e-03, 8.84404926e-06, 4.03669104e-03,\n",
       "       1.24948716e-03, 4.68451809e-03, 2.99539231e-03, 1.18218362e-03,\n",
       "       1.56950951e-02, 2.50728708e-03, 4.51931031e-04, 1.40823866e-03,\n",
       "       3.79285845e-03, 7.50683073e-04, 3.73846991e-03, 7.10124196e-03,\n",
       "       5.58342366e-03, 2.85079074e-03, 4.55645437e-04, 2.74961494e-04,\n",
       "       8.91878083e-03, 2.45493115e-03, 2.20844825e-03, 7.02429656e-03,\n",
       "       3.99083532e-02, 1.05873886e-02, 1.28734030e-03, 3.05128563e-03,\n",
       "       7.95380771e-03, 1.90120575e-03, 6.64365198e-03, 9.36912186e-03,\n",
       "       1.06190518e-03, 2.47827917e-03, 2.21684929e-02, 8.14192183e-03,\n",
       "       2.65975995e-03, 6.86864182e-03, 2.50817306e-04, 1.35773851e-03,\n",
       "       9.06913448e-03, 3.98176862e-03, 9.11618397e-03, 2.82390555e-03,\n",
       "       7.58288836e-04, 7.44226913e-04, 3.05703492e-03, 3.65701591e-04,\n",
       "       9.08814487e-04, 1.66124851e-02, 8.46464245e-04, 2.41902540e-03,\n",
       "       1.88130722e-03, 3.42468079e-03, 1.36286812e-03, 3.28238029e-03,\n",
       "       5.86581463e-03, 2.35986635e-02, 9.71430214e-04, 2.52586021e-03,\n",
       "       8.39123386e-04, 2.19783466e-03, 2.87077809e-03, 2.00742250e-03,\n",
       "       2.39452650e-03, 2.07375363e-03, 3.93560249e-03, 6.03075838e-04,\n",
       "       4.01997380e-03, 6.74181967e-04, 1.78136863e-03, 3.85972019e-03,\n",
       "       4.79612820e-04, 5.07188356e-03, 2.60598888e-03, 1.02334504e-03,\n",
       "       8.21789494e-04, 4.61871689e-03, 1.23241916e-03, 2.15069624e-03,\n",
       "       5.68318879e-04, 1.90695554e-01, 2.56371289e-03, 1.53117059e-02,\n",
       "       2.20508734e-03, 2.58432026e-03, 1.89563388e-03, 4.30599181e-03,\n",
       "       2.36489880e-03, 1.12325614e-02, 2.57742265e-03, 1.25063665e-03,\n",
       "       2.63658818e-03, 2.08993722e-03, 9.41006874e-04, 2.36312998e-03,\n",
       "       1.96301602e-02, 6.88774744e-04, 2.22949637e-03, 1.95152860e-03,\n",
       "       2.89456919e-03, 1.35791569e-03, 5.70888855e-02, 2.04739813e-03,\n",
       "       1.83851924e-02, 6.57926733e-03, 1.59731507e-02, 5.33464085e-03,\n",
       "       5.30934893e-03, 8.33816826e-04, 1.13964453e-03, 1.61820445e-02,\n",
       "       1.52055803e-03, 1.03116268e-02, 6.08735951e-03, 5.25778742e-04,\n",
       "       1.67945847e-02, 7.27511477e-04, 1.45652716e-03, 1.87729131e-02,\n",
       "       2.03448557e-03, 1.03767251e-03, 3.69734457e-03, 1.37916766e-02,\n",
       "       2.82638194e-03, 1.09878452e-02, 2.48110946e-03, 1.95612712e-03,\n",
       "       5.73023688e-03, 2.68805958e-03, 2.54978370e-02, 7.37496465e-03,\n",
       "       1.64004066e-03, 7.88977602e-04, 4.50604304e-04, 5.36887115e-03,\n",
       "       3.38629866e-03, 1.64561218e-03, 6.05056994e-03, 6.90189563e-03,\n",
       "       1.97752976e-04, 3.08568939e-04, 2.68832594e-03, 4.63054180e-02,\n",
       "       2.77888868e-03, 4.64268215e-03, 5.42555796e-03, 2.23108940e-03,\n",
       "       9.90710570e-04, 3.62694496e-04, 1.98787777e-03, 2.39797612e-03,\n",
       "       1.93410530e-03, 4.35631443e-03, 1.33571669e-03, 9.43934359e-03,\n",
       "       8.45128670e-03, 3.64448391e-02, 4.43290360e-03, 1.30184414e-03,\n",
       "       1.47348931e-02, 5.30306809e-03, 1.88926631e-03, 2.18085456e-03,\n",
       "       1.49402558e-03, 2.04937905e-02, 1.76031962e-02, 2.24603433e-03,\n",
       "       9.98758478e-04, 1.74723018e-03, 8.04587360e-03, 1.98292406e-03,\n",
       "       5.48782013e-03, 7.64656637e-04, 6.27220084e-04, 9.99023905e-04,\n",
       "       3.05057876e-03, 6.64816145e-03, 2.08410015e-03, 4.27981187e-03,\n",
       "       3.25867767e-03, 1.27605479e-02, 1.29415002e-03, 6.62950042e-04,\n",
       "       1.18113188e-02, 1.02045294e-02, 8.78329296e-03, 1.14141339e-02,\n",
       "       3.27141373e-04, 2.38877814e-03, 2.32403958e-03, 2.88201054e-03,\n",
       "       4.60430188e-03, 6.27839146e-03, 6.89437985e-03, 1.88661297e-03,\n",
       "       1.75324478e-03, 3.28581184e-02, 5.80930291e-03, 4.95646941e-03],\n",
       "      dtype=float32)"
      ]
     },
     "execution_count": 70,
     "metadata": {},
     "output_type": "execute_result"
    }
   ],
   "source": [
    "b.numpy()"
   ]
  },
  {
   "cell_type": "code",
   "execution_count": null,
   "metadata": {},
   "outputs": [],
   "source": []
  }
 ],
 "metadata": {
  "colab": {
   "collapsed_sections": [],
   "name": "Questions - Internal - R6 - AIML Labs",
   "provenance": []
  },
  "kernelspec": {
   "display_name": "Python 3",
   "language": "python",
   "name": "python3"
  },
  "language_info": {
   "codemirror_mode": {
    "name": "ipython",
    "version": 3
   },
   "file_extension": ".py",
   "mimetype": "text/x-python",
   "name": "python",
   "nbconvert_exporter": "python",
   "pygments_lexer": "ipython3",
   "version": "3.7.3"
  }
 },
 "nbformat": 4,
 "nbformat_minor": 1
}
