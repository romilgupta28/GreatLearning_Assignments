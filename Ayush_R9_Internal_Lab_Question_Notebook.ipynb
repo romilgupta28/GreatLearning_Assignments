{
  "nbformat": 4,
  "nbformat_minor": 0,
  "metadata": {
    "colab": {
      "name": "R9 Internal Lab Question Notebook.ipynb",
      "provenance": [],
      "collapsed_sections": [],
      "machine_shape": "hm"
    },
    "kernelspec": {
      "name": "python3",
      "display_name": "Python 3"
    },
    "accelerator": "GPU"
  },
  "cells": [
    {
      "cell_type": "markdown",
      "metadata": {
        "id": "PHYs6Z84xV8E"
      },
      "source": [
        "<img src=\"http://drive.google.com/uc?export=view&id=1tpOCamr9aWz817atPnyXus8w5gJ3mIts\" width=500px>\n",
        "\n",
        "Proprietary content. © Great Learning. All Rights Reserved. Unauthorized use or distribution prohibited."
      ]
    },
    {
      "cell_type": "markdown",
      "metadata": {
        "id": "FbwHYUXhxaqD"
      },
      "source": [
        "## Problem Statement\n",
        "\n"
      ]
    },
    {
      "cell_type": "markdown",
      "metadata": {
        "id": "5QQxgAmWzSye"
      },
      "source": [
        "# Samsung Internal SSD Reviews prediction\n",
        "\n",
        "Rating predictions using reviews written by users can be a useful problem statement in E-commerce domain and can be used for recommending similar products that may interest users. The dataset in this problem statement comprises reviews pertaining to Samsung Internal SSD product specifically SAMSUNG 850 EVO 2.5\" 250GB SATA III 3D NAND Internal Solid State Drive (SSD) MZ-75E250B/AM from the NewEgg Store website.  We will build a Natural Language processing model using Glove embeddings which is trained on reviews given by customers that have used the product and try to predict ratings given a new rating.\n",
        "\n",
        "\n",
        "\n",
        "\n",
        "### Objective:\n",
        "Given the reviews provided by customers, can you train a model that accurately predicts the corresponding rating of a review?"
      ]
    },
    {
      "cell_type": "markdown",
      "metadata": {
        "id": "CI7usguRzeox"
      },
      "source": [
        "### Package version\n",
        "\n",
        "- tensorflow==2.3.0\n",
        "- scikit-learn==0.22.2.post1\n",
        "- pandas==1.0.5\n",
        "- numpy==1.18.5\n",
        "- matplotlib==3.2.2\n",
        "- google==2.0.3"
      ]
    },
    {
      "cell_type": "markdown",
      "metadata": {
        "id": "aiMdVjHRH7NR"
      },
      "source": [
        "### Data Dictionary \n",
        "\n",
        "- review_title : The Title for the customer review\n",
        "\n",
        "- overall_review: The whole customer review details\n",
        "\n",
        "- pros: The customer opinion about the good things in this product\n",
        "\n",
        "- cons: The customer opinion about the bad things in this product\n",
        "\n",
        "- ownership_pariod: How long the customer owned this product\n",
        "\n",
        "- date: When the review was written\n",
        "\n",
        "- rating_stars: The product rating from 1 to 5\n",
        "\n",
        "- year: In which year the review was written\n",
        "\n",
        "- month: In which month the review was written\n",
        "\n",
        "- day: In which day the review was written"
      ]
    },
    {
      "cell_type": "markdown",
      "metadata": {
        "id": "cEn52o8jznJK"
      },
      "source": [
        "## Table of Content\n",
        "\n",
        "1. Import Libraries\n",
        "\n",
        "2. Setting options\n",
        "\n",
        "3. Read Data\n",
        "\n",
        "4. Data Analysis and Preparation\n",
        "\n",
        "5. Model Building\n",
        "\n",
        "6. Conclusion and Interpretation\n",
        "\n",
        "7. Food for thought"
      ]
    },
    {
      "cell_type": "markdown",
      "metadata": {
        "id": "x_Lom6cXzqn7"
      },
      "source": [
        "## 1. Import Libraries"
      ]
    },
    {
      "cell_type": "markdown",
      "metadata": {
        "id": "FZtVstH8zre2"
      },
      "source": [
        "Let us start by mounting the drive"
      ]
    },
    {
      "cell_type": "code",
      "metadata": {
        "id": "jSsg8JHkIh2k",
        "colab": {
          "base_uri": "https://localhost:8080/"
        },
        "outputId": "f08b53e4-e23e-4044-9568-4e3943dafd1a"
      },
      "source": [
        "from google.colab import drive\n",
        "drive.mount('/content/drive')"
      ],
      "execution_count": 1,
      "outputs": [
        {
          "output_type": "stream",
          "text": [
            "Mounted at /content/drive\n"
          ],
          "name": "stdout"
        }
      ]
    },
    {
      "cell_type": "markdown",
      "metadata": {
        "id": "Gv-tZoFjz2WD"
      },
      "source": [
        "Let us check for the version of installed tensorflow."
      ]
    },
    {
      "cell_type": "code",
      "metadata": {
        "id": "eiuUVBuDzzn9",
        "colab": {
          "base_uri": "https://localhost:8080/"
        },
        "outputId": "8d1fe711-128c-40a7-d0fc-03570ceb1b6f"
      },
      "source": [
        "# used to supress display of warnings\n",
        "import warnings\n",
        "\n",
        "# os is used to provide a way of using operating system dependent functionality\n",
        "# We use it for setting working folder\n",
        "import os\n",
        "\n",
        "# Pandas is used for data manipulation and analysis\n",
        "import pandas as pd \n",
        "\n",
        "# Numpy is used for large, multi-dimensional arrays and matrices, along with mathematical operators on these arrays\n",
        "import numpy as np\n",
        "\n",
        "# Matplotlib is a data visualization library for 2D plots of arrays, built on NumPy arrays \n",
        "# and designed to work with the broader SciPy stack\n",
        "import matplotlib.pyplot as plt\n",
        "%matplotlib inline\n",
        "from matplotlib import pyplot\n",
        "\n",
        "# Seaborn is based on matplotlib, which aids in drawing attractive and informative statistical graphics.\n",
        "import seaborn as sns\n",
        "import tensorflow \n",
        "print(tensorflow.__version__)"
      ],
      "execution_count": 2,
      "outputs": [
        {
          "output_type": "stream",
          "text": [
            "2.5.0\n"
          ],
          "name": "stdout"
        }
      ]
    },
    {
      "cell_type": "markdown",
      "metadata": {
        "id": "fze-aokU0ukH"
      },
      "source": [
        "## 2. Setting Options"
      ]
    },
    {
      "cell_type": "code",
      "metadata": {
        "id": "T3FALggG0xXa"
      },
      "source": [
        "# suppress display of warnings\n",
        "warnings.filterwarnings('ignore')\n",
        "\n",
        "# display all dataframe columns\n",
        "pd.options.display.max_columns = None\n",
        "\n",
        "# to set the limit to 3 decimals\n",
        "pd.options.display.float_format = '{:.7f}'.format\n",
        "\n",
        "# display all dataframe rows\n",
        "pd.options.display.max_rows = None\n",
        "\n",
        "#Show complete word\n",
        "pd.set_option(\"display.max_colwidth\",-1)"
      ],
      "execution_count": 3,
      "outputs": []
    },
    {
      "cell_type": "markdown",
      "metadata": {
        "id": "ZT1P1WdK1vfZ"
      },
      "source": [
        "## 3. Read Data"
      ]
    },
    {
      "cell_type": "markdown",
      "metadata": {
        "id": "NnnvF56gfwav"
      },
      "source": [
        "### Read the dataset and check top 5 rows"
      ]
    },
    {
      "cell_type": "code",
      "metadata": {
        "id": "imj2VbNpf383"
      },
      "source": [
        "path = '/content/drive/MyDrive/001_Great_Learning/Lab Internal | Residency 9 Seq NLP/'"
      ],
      "execution_count": 4,
      "outputs": []
    },
    {
      "cell_type": "code",
      "metadata": {
        "id": "8F0K8JmLuUl-"
      },
      "source": [
        "df = pd.read_csv(path+'ssd_reviews.csv')"
      ],
      "execution_count": 5,
      "outputs": []
    },
    {
      "cell_type": "code",
      "metadata": {
        "colab": {
          "base_uri": "https://localhost:8080/",
          "height": 1000
        },
        "id": "UQW62Gjou8Ur",
        "outputId": "972fbf13-b6cb-4021-bc99-a01193d4a0c4"
      },
      "source": [
        "df.head(5)"
      ],
      "execution_count": 6,
      "outputs": [
        {
          "output_type": "execute_result",
          "data": {
            "text/html": [
              "<div>\n",
              "<style scoped>\n",
              "    .dataframe tbody tr th:only-of-type {\n",
              "        vertical-align: middle;\n",
              "    }\n",
              "\n",
              "    .dataframe tbody tr th {\n",
              "        vertical-align: top;\n",
              "    }\n",
              "\n",
              "    .dataframe thead th {\n",
              "        text-align: right;\n",
              "    }\n",
              "</style>\n",
              "<table border=\"1\" class=\"dataframe\">\n",
              "  <thead>\n",
              "    <tr style=\"text-align: right;\">\n",
              "      <th></th>\n",
              "      <th>Unnamed: 0</th>\n",
              "      <th>review_title</th>\n",
              "      <th>overall_review</th>\n",
              "      <th>pros</th>\n",
              "      <th>cons</th>\n",
              "      <th>ownership_pariod</th>\n",
              "      <th>date</th>\n",
              "      <th>rating_stars</th>\n",
              "      <th>year</th>\n",
              "      <th>month</th>\n",
              "      <th>day</th>\n",
              "    </tr>\n",
              "  </thead>\n",
              "  <tbody>\n",
              "    <tr>\n",
              "      <th>0</th>\n",
              "      <td>0</td>\n",
              "      <td>solid</td>\n",
              "      <td>buy it you will not regret this purchase</td>\n",
              "      <td>reliable fast silent cool running drive highly recommend</td>\n",
              "      <td>NaN</td>\n",
              "      <td>years</td>\n",
              "      <td>2019-12-05 12:58:58</td>\n",
              "      <td>5</td>\n",
              "      <td>2019</td>\n",
              "      <td>12</td>\n",
              "      <td>5</td>\n",
              "    </tr>\n",
              "    <tr>\n",
              "      <th>1</th>\n",
              "      <td>1</td>\n",
              "      <td>nice drive for price even cheaper by todays costs</td>\n",
              "      <td>good drive price</td>\n",
              "      <td>been running almost constantly since when i purchased it 24x7x365 with random power outages no issues to date with it will buy samsung evo s in future builds</td>\n",
              "      <td>NaN</td>\n",
              "      <td>years</td>\n",
              "      <td>2019-11-01 08:25:45</td>\n",
              "      <td>5</td>\n",
              "      <td>2019</td>\n",
              "      <td>11</td>\n",
              "      <td>1</td>\n",
              "    </tr>\n",
              "    <tr>\n",
              "      <th>2</th>\n",
              "      <td>2</td>\n",
              "      <td>perfect</td>\n",
              "      <td>used this drive as my boot drive and only data storage on my previous build and now 4 years later i m using it as my new rig s game library crystaldisk still shows it at 100 and it s still plenty fast vs the new 860 evo can t go wrong with this one</td>\n",
              "      <td>good value decently fast good longevity</td>\n",
              "      <td>none so far</td>\n",
              "      <td>years</td>\n",
              "      <td>2019-10-27 17:05:49</td>\n",
              "      <td>5</td>\n",
              "      <td>2019</td>\n",
              "      <td>10</td>\n",
              "      <td>27</td>\n",
              "    </tr>\n",
              "    <tr>\n",
              "      <th>3</th>\n",
              "      <td>3</td>\n",
              "      <td>very snappy</td>\n",
              "      <td>os boots quicker os menus pop up quicker gaming load screens go quicker</td>\n",
              "      <td>noticeable improvement in os performance over a spinning drive</td>\n",
              "      <td>samsung magician software causes some games to fail to launch if you leave it running in the background</td>\n",
              "      <td>years</td>\n",
              "      <td>2019-10-24 18:29:43</td>\n",
              "      <td>5</td>\n",
              "      <td>2019</td>\n",
              "      <td>10</td>\n",
              "      <td>24</td>\n",
              "    </tr>\n",
              "    <tr>\n",
              "      <th>4</th>\n",
              "      <td>4</td>\n",
              "      <td>worth the hype</td>\n",
              "      <td>this was the sdd that everyone said to get and it has yet to disappoint it is super speedy and has given me no troubles</td>\n",
              "      <td>NaN</td>\n",
              "      <td>NaN</td>\n",
              "      <td>years</td>\n",
              "      <td>2019-09-11 19:21:03</td>\n",
              "      <td>5</td>\n",
              "      <td>2019</td>\n",
              "      <td>9</td>\n",
              "      <td>11</td>\n",
              "    </tr>\n",
              "  </tbody>\n",
              "</table>\n",
              "</div>"
            ],
            "text/plain": [
              "   Unnamed: 0                                       review_title  \\\n",
              "0  0           solid                                               \n",
              "1  1           nice drive for price even cheaper by todays costs   \n",
              "2  2           perfect                                             \n",
              "3  3           very snappy                                         \n",
              "4  4           worth the hype                                      \n",
              "\n",
              "                                                                                                                                                                                                                                             overall_review  \\\n",
              "0  buy it you will not regret this purchase                                                                                                                                                                                                                   \n",
              "1  good drive price                                                                                                                                                                                                                                           \n",
              "2  used this drive as my boot drive and only data storage on my previous build and now 4 years later i m using it as my new rig s game library crystaldisk still shows it at 100 and it s still plenty fast vs the new 860 evo can t go wrong with this one   \n",
              "3  os boots quicker os menus pop up quicker gaming load screens go quicker                                                                                                                                                                                    \n",
              "4  this was the sdd that everyone said to get and it has yet to disappoint it is super speedy and has given me no troubles                                                                                                                                    \n",
              "\n",
              "                                                                                                                                                            pros  \\\n",
              "0  reliable fast silent cool running drive highly recommend                                                                                                        \n",
              "1  been running almost constantly since when i purchased it 24x7x365 with random power outages no issues to date with it will buy samsung evo s in future builds   \n",
              "2  good value decently fast good longevity                                                                                                                         \n",
              "3  noticeable improvement in os performance over a spinning drive                                                                                                  \n",
              "4  NaN                                                                                                                                                             \n",
              "\n",
              "                                                                                                      cons  \\\n",
              "0  NaN                                                                                                       \n",
              "1  NaN                                                                                                       \n",
              "2  none so far                                                                                               \n",
              "3  samsung magician software causes some games to fail to launch if you leave it running in the background   \n",
              "4  NaN                                                                                                       \n",
              "\n",
              "  ownership_pariod                 date  rating_stars  year  month  day  \n",
              "0  years            2019-12-05 12:58:58  5             2019  12     5    \n",
              "1  years            2019-11-01 08:25:45  5             2019  11     1    \n",
              "2  years            2019-10-27 17:05:49  5             2019  10     27   \n",
              "3  years            2019-10-24 18:29:43  5             2019  10     24   \n",
              "4  years            2019-09-11 19:21:03  5             2019  9      11   "
            ]
          },
          "metadata": {
            "tags": []
          },
          "execution_count": 6
        }
      ]
    },
    {
      "cell_type": "markdown",
      "metadata": {
        "id": "RGluIi5Sf5Rp"
      },
      "source": [
        "### Check info of the dataset and write your findings"
      ]
    },
    {
      "cell_type": "code",
      "metadata": {
        "colab": {
          "base_uri": "https://localhost:8080/"
        },
        "id": "LmdnclE0v0bu",
        "outputId": "b7ef0eb5-3cb0-4769-87ce-ac59517ab476"
      },
      "source": [
        "df.shape"
      ],
      "execution_count": 7,
      "outputs": [
        {
          "output_type": "execute_result",
          "data": {
            "text/plain": [
              "(2227, 11)"
            ]
          },
          "metadata": {
            "tags": []
          },
          "execution_count": 7
        }
      ]
    },
    {
      "cell_type": "code",
      "metadata": {
        "id": "Pldlew5Mf9gA",
        "colab": {
          "base_uri": "https://localhost:8080/"
        },
        "outputId": "ec313411-cec1-4eae-c8b3-d0c601bcc577"
      },
      "source": [
        "df.info()"
      ],
      "execution_count": 8,
      "outputs": [
        {
          "output_type": "stream",
          "text": [
            "<class 'pandas.core.frame.DataFrame'>\n",
            "RangeIndex: 2227 entries, 0 to 2226\n",
            "Data columns (total 11 columns):\n",
            " #   Column            Non-Null Count  Dtype \n",
            "---  ------            --------------  ----- \n",
            " 0   Unnamed: 0        2227 non-null   int64 \n",
            " 1   review_title      2131 non-null   object\n",
            " 2   overall_review    1448 non-null   object\n",
            " 3   pros              2205 non-null   object\n",
            " 4   cons              2216 non-null   object\n",
            " 5   ownership_pariod  2159 non-null   object\n",
            " 6   date              2227 non-null   object\n",
            " 7   rating_stars      2227 non-null   int64 \n",
            " 8   year              2227 non-null   int64 \n",
            " 9   month             2227 non-null   int64 \n",
            " 10  day               2227 non-null   int64 \n",
            "dtypes: int64(5), object(6)\n",
            "memory usage: 191.5+ KB\n"
          ],
          "name": "stdout"
        }
      ]
    },
    {
      "cell_type": "code",
      "metadata": {
        "colab": {
          "base_uri": "https://localhost:8080/"
        },
        "id": "ZDHBtpW2vt-t",
        "outputId": "4fb81fe2-9504-4c4c-eab6-4d7d108fbcd7"
      },
      "source": [
        "df.isnull().sum()"
      ],
      "execution_count": 9,
      "outputs": [
        {
          "output_type": "execute_result",
          "data": {
            "text/plain": [
              "Unnamed: 0          0  \n",
              "review_title        96 \n",
              "overall_review      779\n",
              "pros                22 \n",
              "cons                11 \n",
              "ownership_pariod    68 \n",
              "date                0  \n",
              "rating_stars        0  \n",
              "year                0  \n",
              "month               0  \n",
              "day                 0  \n",
              "dtype: int64"
            ]
          },
          "metadata": {
            "tags": []
          },
          "execution_count": 9
        }
      ]
    },
    {
      "cell_type": "markdown",
      "metadata": {
        "id": "_Tu-e2rK9md0"
      },
      "source": [
        "# Findings:\n",
        "1. There are 2227 number of data points with 11 columns\n",
        "2. There are few missings values in some of the columns\n",
        "3. The max. number of missing values are in the overall review\n",
        "4. Most of the data are object type with few numeric as well."
      ]
    },
    {
      "cell_type": "markdown",
      "metadata": {
        "id": "rED6DbDBKTjM"
      },
      "source": [
        "## 4.  Data Analysis and Preparation"
      ]
    },
    {
      "cell_type": "markdown",
      "metadata": {
        "id": "7VSqr0Seiy7g"
      },
      "source": [
        "### 4.1 Checking missing values\n",
        "#### Check for missing values (along with the percentage of null values)"
      ]
    },
    {
      "cell_type": "code",
      "metadata": {
        "id": "Il4yi7kdmnYQ",
        "colab": {
          "base_uri": "https://localhost:8080/"
        },
        "outputId": "31291be1-df48-4dbd-eb33-fabcc2b380d5"
      },
      "source": [
        "df.isna().sum() * 100 / len(df)"
      ],
      "execution_count": 10,
      "outputs": [
        {
          "output_type": "execute_result",
          "data": {
            "text/plain": [
              "Unnamed: 0         0.0000000 \n",
              "review_title       4.3107319 \n",
              "overall_review     34.9797934\n",
              "pros               0.9878761 \n",
              "cons               0.4939380 \n",
              "ownership_pariod   3.0534351 \n",
              "date               0.0000000 \n",
              "rating_stars       0.0000000 \n",
              "year               0.0000000 \n",
              "month              0.0000000 \n",
              "day                0.0000000 \n",
              "dtype: float64"
            ]
          },
          "metadata": {
            "tags": []
          },
          "execution_count": 10
        }
      ]
    },
    {
      "cell_type": "markdown",
      "metadata": {
        "id": "SB40EGirmVjo"
      },
      "source": [
        "### 4.2 Analyzing the target column (Rating_stars)"
      ]
    },
    {
      "cell_type": "markdown",
      "metadata": {
        "id": "MoRvWVk-is6Y"
      },
      "source": [
        "#### Check the value counts of 'rating_stars' and write your comments"
      ]
    },
    {
      "cell_type": "code",
      "metadata": {
        "id": "LOVFp6Diiy0n",
        "colab": {
          "base_uri": "https://localhost:8080/"
        },
        "outputId": "5d6f40d2-5025-45d6-e078-d0b96732f64d"
      },
      "source": [
        "df.rating_stars.value_counts()"
      ],
      "execution_count": 11,
      "outputs": [
        {
          "output_type": "execute_result",
          "data": {
            "text/plain": [
              "5    1756\n",
              "4    181 \n",
              "1    153 \n",
              "3    77  \n",
              "2    60  \n",
              "Name: rating_stars, dtype: int64"
            ]
          },
          "metadata": {
            "tags": []
          },
          "execution_count": 11
        }
      ]
    },
    {
      "cell_type": "code",
      "metadata": {
        "id": "Rhr2gnY2lc9h",
        "colab": {
          "base_uri": "https://localhost:8080/",
          "height": 280
        },
        "outputId": "fdec33f4-43e9-432d-9b5b-e8b581aa9d1d"
      },
      "source": [
        "df['rating_stars'].value_counts().sort_values(ascending=False).plot.bar()"
      ],
      "execution_count": 12,
      "outputs": [
        {
          "output_type": "execute_result",
          "data": {
            "text/plain": [
              "<matplotlib.axes._subplots.AxesSubplot at 0x7fd6f3646810>"
            ]
          },
          "metadata": {
            "tags": []
          },
          "execution_count": 12
        },
        {
          "output_type": "display_data",
          "data": {
            "image/png": "[encoded data removed]",
            "text/plain": [
              "<Figure size 432x288 with 1 Axes>"
            ]
          },
          "metadata": {
            "tags": [],
            "needs_background": "light"
          }
        }
      ]
    },
    {
      "cell_type": "markdown",
      "metadata": {
        "id": "0KmKG00x-UrB"
      },
      "source": [
        "# Findings:\n",
        "1. Most of the data are with 5 ratings.\n",
        "2. The data is unbalanced type and we have to do some preprocessing such as SMOTE to make data even.\n",
        "3. Apart from 5 rating rest all the data seems to be evenly distributed."
      ]
    },
    {
      "cell_type": "markdown",
      "metadata": {
        "id": "ZL_BQlb5mE4O"
      },
      "source": [
        "### 4.3 Let's analyze other features like year, month, and day etc.\n",
        "#### Check value counts of 'year' and write your observations., Comment on the range of years, frequency of ratings in each year."
      ]
    },
    {
      "cell_type": "code",
      "metadata": {
        "id": "YAtEigKEmM-Z",
        "colab": {
          "base_uri": "https://localhost:8080/"
        },
        "outputId": "58a07bf0-354e-47a7-8080-3dcc3ae2beff"
      },
      "source": [
        "df['year'].value_counts()"
      ],
      "execution_count": 13,
      "outputs": [
        {
          "output_type": "execute_result",
          "data": {
            "text/plain": [
              "2015    1006\n",
              "2016    605 \n",
              "2017    370 \n",
              "2018    187 \n",
              "2019    46  \n",
              "2014    13  \n",
              "Name: year, dtype: int64"
            ]
          },
          "metadata": {
            "tags": []
          },
          "execution_count": 13
        }
      ]
    },
    {
      "cell_type": "code",
      "metadata": {
        "colab": {
          "base_uri": "https://localhost:8080/",
          "height": 299
        },
        "id": "P7BXSfeu0uXR",
        "outputId": "0c1a7fed-c4b5-4955-bef4-17436e8ee12d"
      },
      "source": [
        "df['year'].value_counts().sort_values(ascending=False).plot.bar()"
      ],
      "execution_count": 14,
      "outputs": [
        {
          "output_type": "execute_result",
          "data": {
            "text/plain": [
              "<matplotlib.axes._subplots.AxesSubplot at 0x7fd6f3530410>"
            ]
          },
          "metadata": {
            "tags": []
          },
          "execution_count": 14
        },
        {
          "output_type": "display_data",
          "data": {
            "image/png": "[encoded data removed]",
            "text/plain": [
              "<Figure size 432x288 with 1 Axes>"
            ]
          },
          "metadata": {
            "tags": [],
            "needs_background": "light"
          }
        }
      ]
    },
    {
      "cell_type": "markdown",
      "metadata": {
        "id": "M-pWwPhRmsAz"
      },
      "source": [
        "#### Check mean rating for each year and write your findings"
      ]
    },
    {
      "cell_type": "code",
      "metadata": {
        "id": "sqWWhlLemwG8",
        "colab": {
          "base_uri": "https://localhost:8080/"
        },
        "outputId": "7454aef7-3880-40bc-f792-54fd3501059b"
      },
      "source": [
        "df.groupby(['year']).rating_stars.mean()"
      ],
      "execution_count": 15,
      "outputs": [
        {
          "output_type": "execute_result",
          "data": {
            "text/plain": [
              "year\n",
              "2014   4.9230769\n",
              "2015   4.4582505\n",
              "2016   4.5900826\n",
              "2017   4.5108108\n",
              "2018   4.3475936\n",
              "2019   4.3478261\n",
              "Name: rating_stars, dtype: float64"
            ]
          },
          "metadata": {
            "tags": []
          },
          "execution_count": 15
        }
      ]
    },
    {
      "cell_type": "markdown",
      "metadata": {
        "id": "enoYYTDunPsT"
      },
      "source": [
        "#### Check value counts of 'month' and write your observations. Comment on the frequency of ratings and discuss if the rating count and mean rating is higher/low on certain months."
      ]
    },
    {
      "cell_type": "code",
      "metadata": {
        "id": "T0yhG8s1pTZD",
        "colab": {
          "base_uri": "https://localhost:8080/",
          "height": 269
        },
        "outputId": "97a86e63-30b3-44ef-bce1-2b3ec36dd539"
      },
      "source": [
        "pd.crosstab(df.year,df.rating_stars)"
      ],
      "execution_count": 16,
      "outputs": [
        {
          "output_type": "execute_result",
          "data": {
            "text/html": [
              "<div>\n",
              "<style scoped>\n",
              "    .dataframe tbody tr th:only-of-type {\n",
              "        vertical-align: middle;\n",
              "    }\n",
              "\n",
              "    .dataframe tbody tr th {\n",
              "        vertical-align: top;\n",
              "    }\n",
              "\n",
              "    .dataframe thead th {\n",
              "        text-align: right;\n",
              "    }\n",
              "</style>\n",
              "<table border=\"1\" class=\"dataframe\">\n",
              "  <thead>\n",
              "    <tr style=\"text-align: right;\">\n",
              "      <th>rating_stars</th>\n",
              "      <th>1</th>\n",
              "      <th>2</th>\n",
              "      <th>3</th>\n",
              "      <th>4</th>\n",
              "      <th>5</th>\n",
              "    </tr>\n",
              "    <tr>\n",
              "      <th>year</th>\n",
              "      <th></th>\n",
              "      <th></th>\n",
              "      <th></th>\n",
              "      <th></th>\n",
              "      <th></th>\n",
              "    </tr>\n",
              "  </thead>\n",
              "  <tbody>\n",
              "    <tr>\n",
              "      <th>2014</th>\n",
              "      <td>0</td>\n",
              "      <td>0</td>\n",
              "      <td>0</td>\n",
              "      <td>1</td>\n",
              "      <td>12</td>\n",
              "    </tr>\n",
              "    <tr>\n",
              "      <th>2015</th>\n",
              "      <td>65</td>\n",
              "      <td>31</td>\n",
              "      <td>45</td>\n",
              "      <td>102</td>\n",
              "      <td>763</td>\n",
              "    </tr>\n",
              "    <tr>\n",
              "      <th>2016</th>\n",
              "      <td>37</td>\n",
              "      <td>10</td>\n",
              "      <td>17</td>\n",
              "      <td>36</td>\n",
              "      <td>505</td>\n",
              "    </tr>\n",
              "    <tr>\n",
              "      <th>2017</th>\n",
              "      <td>25</td>\n",
              "      <td>13</td>\n",
              "      <td>8</td>\n",
              "      <td>26</td>\n",
              "      <td>298</td>\n",
              "    </tr>\n",
              "    <tr>\n",
              "      <th>2018</th>\n",
              "      <td>22</td>\n",
              "      <td>4</td>\n",
              "      <td>5</td>\n",
              "      <td>12</td>\n",
              "      <td>144</td>\n",
              "    </tr>\n",
              "    <tr>\n",
              "      <th>2019</th>\n",
              "      <td>4</td>\n",
              "      <td>2</td>\n",
              "      <td>2</td>\n",
              "      <td>4</td>\n",
              "      <td>34</td>\n",
              "    </tr>\n",
              "  </tbody>\n",
              "</table>\n",
              "</div>"
            ],
            "text/plain": [
              "rating_stars   1   2   3    4    5\n",
              "year                              \n",
              "2014          0   0   0   1    12 \n",
              "2015          65  31  45  102  763\n",
              "2016          37  10  17  36   505\n",
              "2017          25  13  8   26   298\n",
              "2018          22  4   5   12   144\n",
              "2019          4   2   2   4    34 "
            ]
          },
          "metadata": {
            "tags": []
          },
          "execution_count": 16
        }
      ]
    },
    {
      "cell_type": "markdown",
      "metadata": {
        "id": "lWofLqeJpTtI"
      },
      "source": [
        "### 4.4 Combine text features\n",
        "#### Drop all the numerical features ['Unnamed: 0','date', 'year', 'month', 'day', 'ownership_pariod'] and ['rating_stars']"
      ]
    },
    {
      "cell_type": "code",
      "metadata": {
        "id": "5laewnAq7yWa"
      },
      "source": [
        "drop_col = ['Unnamed: 0', 'ownership_pariod', 'date', 'year', 'month', 'day']\n",
        "df.drop(labels=drop_col, axis=1, inplace=True)"
      ],
      "execution_count": 17,
      "outputs": []
    },
    {
      "cell_type": "code",
      "metadata": {
        "id": "8VAMgNJkqn0h",
        "colab": {
          "base_uri": "https://localhost:8080/",
          "height": 501
        },
        "outputId": "86a13c59-2e14-44f0-9f6f-e7482710240a"
      },
      "source": [
        "df.head(5)"
      ],
      "execution_count": 18,
      "outputs": [
        {
          "output_type": "execute_result",
          "data": {
            "text/html": [
              "<div>\n",
              "<style scoped>\n",
              "    .dataframe tbody tr th:only-of-type {\n",
              "        vertical-align: middle;\n",
              "    }\n",
              "\n",
              "    .dataframe tbody tr th {\n",
              "        vertical-align: top;\n",
              "    }\n",
              "\n",
              "    .dataframe thead th {\n",
              "        text-align: right;\n",
              "    }\n",
              "</style>\n",
              "<table border=\"1\" class=\"dataframe\">\n",
              "  <thead>\n",
              "    <tr style=\"text-align: right;\">\n",
              "      <th></th>\n",
              "      <th>review_title</th>\n",
              "      <th>overall_review</th>\n",
              "      <th>pros</th>\n",
              "      <th>cons</th>\n",
              "      <th>rating_stars</th>\n",
              "    </tr>\n",
              "  </thead>\n",
              "  <tbody>\n",
              "    <tr>\n",
              "      <th>0</th>\n",
              "      <td>solid</td>\n",
              "      <td>buy it you will not regret this purchase</td>\n",
              "      <td>reliable fast silent cool running drive highly recommend</td>\n",
              "      <td>NaN</td>\n",
              "      <td>5</td>\n",
              "    </tr>\n",
              "    <tr>\n",
              "      <th>1</th>\n",
              "      <td>nice drive for price even cheaper by todays costs</td>\n",
              "      <td>good drive price</td>\n",
              "      <td>been running almost constantly since when i purchased it 24x7x365 with random power outages no issues to date with it will buy samsung evo s in future builds</td>\n",
              "      <td>NaN</td>\n",
              "      <td>5</td>\n",
              "    </tr>\n",
              "    <tr>\n",
              "      <th>2</th>\n",
              "      <td>perfect</td>\n",
              "      <td>used this drive as my boot drive and only data storage on my previous build and now 4 years later i m using it as my new rig s game library crystaldisk still shows it at 100 and it s still plenty fast vs the new 860 evo can t go wrong with this one</td>\n",
              "      <td>good value decently fast good longevity</td>\n",
              "      <td>none so far</td>\n",
              "      <td>5</td>\n",
              "    </tr>\n",
              "    <tr>\n",
              "      <th>3</th>\n",
              "      <td>very snappy</td>\n",
              "      <td>os boots quicker os menus pop up quicker gaming load screens go quicker</td>\n",
              "      <td>noticeable improvement in os performance over a spinning drive</td>\n",
              "      <td>samsung magician software causes some games to fail to launch if you leave it running in the background</td>\n",
              "      <td>5</td>\n",
              "    </tr>\n",
              "    <tr>\n",
              "      <th>4</th>\n",
              "      <td>worth the hype</td>\n",
              "      <td>this was the sdd that everyone said to get and it has yet to disappoint it is super speedy and has given me no troubles</td>\n",
              "      <td>NaN</td>\n",
              "      <td>NaN</td>\n",
              "      <td>5</td>\n",
              "    </tr>\n",
              "  </tbody>\n",
              "</table>\n",
              "</div>"
            ],
            "text/plain": [
              "                                        review_title  \\\n",
              "0  solid                                               \n",
              "1  nice drive for price even cheaper by todays costs   \n",
              "2  perfect                                             \n",
              "3  very snappy                                         \n",
              "4  worth the hype                                      \n",
              "\n",
              "                                                                                                                                                                                                                                             overall_review  \\\n",
              "0  buy it you will not regret this purchase                                                                                                                                                                                                                   \n",
              "1  good drive price                                                                                                                                                                                                                                           \n",
              "2  used this drive as my boot drive and only data storage on my previous build and now 4 years later i m using it as my new rig s game library crystaldisk still shows it at 100 and it s still plenty fast vs the new 860 evo can t go wrong with this one   \n",
              "3  os boots quicker os menus pop up quicker gaming load screens go quicker                                                                                                                                                                                    \n",
              "4  this was the sdd that everyone said to get and it has yet to disappoint it is super speedy and has given me no troubles                                                                                                                                    \n",
              "\n",
              "                                                                                                                                                            pros  \\\n",
              "0  reliable fast silent cool running drive highly recommend                                                                                                        \n",
              "1  been running almost constantly since when i purchased it 24x7x365 with random power outages no issues to date with it will buy samsung evo s in future builds   \n",
              "2  good value decently fast good longevity                                                                                                                         \n",
              "3  noticeable improvement in os performance over a spinning drive                                                                                                  \n",
              "4  NaN                                                                                                                                                             \n",
              "\n",
              "                                                                                                      cons  \\\n",
              "0  NaN                                                                                                       \n",
              "1  NaN                                                                                                       \n",
              "2  none so far                                                                                               \n",
              "3  samsung magician software causes some games to fail to launch if you leave it running in the background   \n",
              "4  NaN                                                                                                       \n",
              "\n",
              "   rating_stars  \n",
              "0  5             \n",
              "1  5             \n",
              "2  5             \n",
              "3  5             \n",
              "4  5             "
            ]
          },
          "metadata": {
            "tags": []
          },
          "execution_count": 18
        }
      ]
    },
    {
      "cell_type": "markdown",
      "metadata": {
        "id": "HjRp0SgEqn9Z"
      },
      "source": [
        "#### Replace null values (NaN) with blanks"
      ]
    },
    {
      "cell_type": "code",
      "metadata": {
        "id": "CZr_sR_Tqs1x"
      },
      "source": [
        "df.replace(np.nan, \"\",inplace= True)"
      ],
      "execution_count": 19,
      "outputs": []
    },
    {
      "cell_type": "code",
      "metadata": {
        "colab": {
          "base_uri": "https://localhost:8080/"
        },
        "id": "NLI-6dYF4_wi",
        "outputId": "e5dd2b1e-4708-482c-894e-353db3568b17"
      },
      "source": [
        "df.isna().sum()"
      ],
      "execution_count": 20,
      "outputs": [
        {
          "output_type": "execute_result",
          "data": {
            "text/plain": [
              "review_title      0\n",
              "overall_review    0\n",
              "pros              0\n",
              "cons              0\n",
              "rating_stars      0\n",
              "dtype: int64"
            ]
          },
          "metadata": {
            "tags": []
          },
          "execution_count": 20
        }
      ]
    },
    {
      "cell_type": "markdown",
      "metadata": {
        "id": "ykjSdW1tqs-z"
      },
      "source": [
        "#### Join all text items in a row that have a space in between and Add a new column (with the newly created combined reviews) to the dataframe."
      ]
    },
    {
      "cell_type": "code",
      "metadata": {
        "id": "9fJpSb-ZuSTr"
      },
      "source": [
        "dataframe=pd.DataFrame(df['rating_stars'])"
      ],
      "execution_count": 21,
      "outputs": []
    },
    {
      "cell_type": "code",
      "metadata": {
        "id": "0VHzRd1gq1lY"
      },
      "source": [
        "df.drop(labels='rating_stars', axis=1, inplace=True)"
      ],
      "execution_count": 22,
      "outputs": []
    },
    {
      "cell_type": "code",
      "metadata": {
        "colab": {
          "base_uri": "https://localhost:8080/",
          "height": 467
        },
        "id": "bORlliVE9C_Z",
        "outputId": "111ff25d-7d6c-408d-eb82-e6b4e7cb86a8"
      },
      "source": [
        "df.head()"
      ],
      "execution_count": 23,
      "outputs": [
        {
          "output_type": "execute_result",
          "data": {
            "text/html": [
              "<div>\n",
              "<style scoped>\n",
              "    .dataframe tbody tr th:only-of-type {\n",
              "        vertical-align: middle;\n",
              "    }\n",
              "\n",
              "    .dataframe tbody tr th {\n",
              "        vertical-align: top;\n",
              "    }\n",
              "\n",
              "    .dataframe thead th {\n",
              "        text-align: right;\n",
              "    }\n",
              "</style>\n",
              "<table border=\"1\" class=\"dataframe\">\n",
              "  <thead>\n",
              "    <tr style=\"text-align: right;\">\n",
              "      <th></th>\n",
              "      <th>review_title</th>\n",
              "      <th>overall_review</th>\n",
              "      <th>pros</th>\n",
              "      <th>cons</th>\n",
              "    </tr>\n",
              "  </thead>\n",
              "  <tbody>\n",
              "    <tr>\n",
              "      <th>0</th>\n",
              "      <td>solid</td>\n",
              "      <td>buy it you will not regret this purchase</td>\n",
              "      <td>reliable fast silent cool running drive highly recommend</td>\n",
              "      <td></td>\n",
              "    </tr>\n",
              "    <tr>\n",
              "      <th>1</th>\n",
              "      <td>nice drive for price even cheaper by todays costs</td>\n",
              "      <td>good drive price</td>\n",
              "      <td>been running almost constantly since when i purchased it 24x7x365 with random power outages no issues to date with it will buy samsung evo s in future builds</td>\n",
              "      <td></td>\n",
              "    </tr>\n",
              "    <tr>\n",
              "      <th>2</th>\n",
              "      <td>perfect</td>\n",
              "      <td>used this drive as my boot drive and only data storage on my previous build and now 4 years later i m using it as my new rig s game library crystaldisk still shows it at 100 and it s still plenty fast vs the new 860 evo can t go wrong with this one</td>\n",
              "      <td>good value decently fast good longevity</td>\n",
              "      <td>none so far</td>\n",
              "    </tr>\n",
              "    <tr>\n",
              "      <th>3</th>\n",
              "      <td>very snappy</td>\n",
              "      <td>os boots quicker os menus pop up quicker gaming load screens go quicker</td>\n",
              "      <td>noticeable improvement in os performance over a spinning drive</td>\n",
              "      <td>samsung magician software causes some games to fail to launch if you leave it running in the background</td>\n",
              "    </tr>\n",
              "    <tr>\n",
              "      <th>4</th>\n",
              "      <td>worth the hype</td>\n",
              "      <td>this was the sdd that everyone said to get and it has yet to disappoint it is super speedy and has given me no troubles</td>\n",
              "      <td></td>\n",
              "      <td></td>\n",
              "    </tr>\n",
              "  </tbody>\n",
              "</table>\n",
              "</div>"
            ],
            "text/plain": [
              "                                        review_title  \\\n",
              "0  solid                                               \n",
              "1  nice drive for price even cheaper by todays costs   \n",
              "2  perfect                                             \n",
              "3  very snappy                                         \n",
              "4  worth the hype                                      \n",
              "\n",
              "                                                                                                                                                                                                                                             overall_review  \\\n",
              "0  buy it you will not regret this purchase                                                                                                                                                                                                                   \n",
              "1  good drive price                                                                                                                                                                                                                                           \n",
              "2  used this drive as my boot drive and only data storage on my previous build and now 4 years later i m using it as my new rig s game library crystaldisk still shows it at 100 and it s still plenty fast vs the new 860 evo can t go wrong with this one   \n",
              "3  os boots quicker os menus pop up quicker gaming load screens go quicker                                                                                                                                                                                    \n",
              "4  this was the sdd that everyone said to get and it has yet to disappoint it is super speedy and has given me no troubles                                                                                                                                    \n",
              "\n",
              "                                                                                                                                                            pros  \\\n",
              "0  reliable fast silent cool running drive highly recommend                                                                                                        \n",
              "1  been running almost constantly since when i purchased it 24x7x365 with random power outages no issues to date with it will buy samsung evo s in future builds   \n",
              "2  good value decently fast good longevity                                                                                                                         \n",
              "3  noticeable improvement in os performance over a spinning drive                                                                                                  \n",
              "4                                                                                                                                                                  \n",
              "\n",
              "                                                                                                      cons  \n",
              "0                                                                                                           \n",
              "1                                                                                                           \n",
              "2  none so far                                                                                              \n",
              "3  samsung magician software causes some games to fail to launch if you leave it running in the background  \n",
              "4                                                                                                           "
            ]
          },
          "metadata": {
            "tags": []
          },
          "execution_count": 23
        }
      ]
    },
    {
      "cell_type": "code",
      "metadata": {
        "id": "rJEYxeZS9KhQ"
      },
      "source": [
        "data_modified = df[df.columns].apply(lambda x: ' '.join(x),axis=1)"
      ],
      "execution_count": 24,
      "outputs": []
    },
    {
      "cell_type": "code",
      "metadata": {
        "id": "BucEGjdl9Ksj"
      },
      "source": [
        "data=pd.DataFrame(data_modified,columns=['combined_reviews'])"
      ],
      "execution_count": 25,
      "outputs": []
    },
    {
      "cell_type": "code",
      "metadata": {
        "id": "UMhywJYm9O7m"
      },
      "source": [
        "data['rating_stars']=dataframe['rating_stars']"
      ],
      "execution_count": 26,
      "outputs": []
    },
    {
      "cell_type": "code",
      "metadata": {
        "colab": {
          "base_uri": "https://localhost:8080/",
          "height": 196
        },
        "id": "zhLU5M2-9X2c",
        "outputId": "088c951f-4bda-4477-bd75-8b0bf17e45c2"
      },
      "source": [
        "data.head(3)"
      ],
      "execution_count": 27,
      "outputs": [
        {
          "output_type": "execute_result",
          "data": {
            "text/html": [
              "<div>\n",
              "<style scoped>\n",
              "    .dataframe tbody tr th:only-of-type {\n",
              "        vertical-align: middle;\n",
              "    }\n",
              "\n",
              "    .dataframe tbody tr th {\n",
              "        vertical-align: top;\n",
              "    }\n",
              "\n",
              "    .dataframe thead th {\n",
              "        text-align: right;\n",
              "    }\n",
              "</style>\n",
              "<table border=\"1\" class=\"dataframe\">\n",
              "  <thead>\n",
              "    <tr style=\"text-align: right;\">\n",
              "      <th></th>\n",
              "      <th>combined_reviews</th>\n",
              "      <th>rating_stars</th>\n",
              "    </tr>\n",
              "  </thead>\n",
              "  <tbody>\n",
              "    <tr>\n",
              "      <th>0</th>\n",
              "      <td>solid buy it you will not regret this purchase reliable fast silent cool running drive highly recommend</td>\n",
              "      <td>5</td>\n",
              "    </tr>\n",
              "    <tr>\n",
              "      <th>1</th>\n",
              "      <td>nice drive for price even cheaper by todays costs good drive price been running almost constantly since when i purchased it 24x7x365 with random power outages no issues to date with it will buy samsung evo s in future builds</td>\n",
              "      <td>5</td>\n",
              "    </tr>\n",
              "    <tr>\n",
              "      <th>2</th>\n",
              "      <td>perfect used this drive as my boot drive and only data storage on my previous build and now 4 years later i m using it as my new rig s game library crystaldisk still shows it at 100 and it s still plenty fast vs the new 860 evo can t go wrong with this one good value decently fast good longevity none so far</td>\n",
              "      <td>5</td>\n",
              "    </tr>\n",
              "  </tbody>\n",
              "</table>\n",
              "</div>"
            ],
            "text/plain": [
              "                                                                                                                                                                                                                                                                                                       combined_reviews  \\\n",
              "0  solid buy it you will not regret this purchase reliable fast silent cool running drive highly recommend                                                                                                                                                                                                                \n",
              "1  nice drive for price even cheaper by todays costs good drive price been running almost constantly since when i purchased it 24x7x365 with random power outages no issues to date with it will buy samsung evo s in future builds                                                                                       \n",
              "2  perfect used this drive as my boot drive and only data storage on my previous build and now 4 years later i m using it as my new rig s game library crystaldisk still shows it at 100 and it s still plenty fast vs the new 860 evo can t go wrong with this one good value decently fast good longevity none so far   \n",
              "\n",
              "   rating_stars  \n",
              "0  5             \n",
              "1  5             \n",
              "2  5             "
            ]
          },
          "metadata": {
            "tags": []
          },
          "execution_count": 27
        }
      ]
    },
    {
      "cell_type": "markdown",
      "metadata": {
        "id": "QLnNIq2iJQBn"
      },
      "source": [
        "#### Check if there are any null values and drop NaN values if any"
      ]
    },
    {
      "cell_type": "code",
      "metadata": {
        "id": "QOf3hTpcszKC",
        "colab": {
          "base_uri": "https://localhost:8080/"
        },
        "outputId": "07514470-efb5-483a-fc1c-5f71c5b71392"
      },
      "source": [
        "data.isna().sum()"
      ],
      "execution_count": 28,
      "outputs": [
        {
          "output_type": "execute_result",
          "data": {
            "text/plain": [
              "combined_reviews    0\n",
              "rating_stars        0\n",
              "dtype: int64"
            ]
          },
          "metadata": {
            "tags": []
          },
          "execution_count": 28
        }
      ]
    },
    {
      "cell_type": "markdown",
      "metadata": {
        "id": "qS5NmyvzHMws"
      },
      "source": [
        "#### Calculate the length of each review and add it to the dataframe"
      ]
    },
    {
      "cell_type": "code",
      "metadata": {
        "id": "TdMWM0jBHNzO"
      },
      "source": [
        "data['len']=data['combined_reviews'].apply(lambda x: len(x.split(\" \")))"
      ],
      "execution_count": 29,
      "outputs": []
    },
    {
      "cell_type": "code",
      "metadata": {
        "colab": {
          "base_uri": "https://localhost:8080/",
          "height": 310
        },
        "id": "w3wwFHZe-4Oz",
        "outputId": "b60fa3a1-3836-4bbe-ad67-6f75aec99fd1"
      },
      "source": [
        "data.head()"
      ],
      "execution_count": 30,
      "outputs": [
        {
          "output_type": "execute_result",
          "data": {
            "text/html": [
              "<div>\n",
              "<style scoped>\n",
              "    .dataframe tbody tr th:only-of-type {\n",
              "        vertical-align: middle;\n",
              "    }\n",
              "\n",
              "    .dataframe tbody tr th {\n",
              "        vertical-align: top;\n",
              "    }\n",
              "\n",
              "    .dataframe thead th {\n",
              "        text-align: right;\n",
              "    }\n",
              "</style>\n",
              "<table border=\"1\" class=\"dataframe\">\n",
              "  <thead>\n",
              "    <tr style=\"text-align: right;\">\n",
              "      <th></th>\n",
              "      <th>combined_reviews</th>\n",
              "      <th>rating_stars</th>\n",
              "      <th>len</th>\n",
              "    </tr>\n",
              "  </thead>\n",
              "  <tbody>\n",
              "    <tr>\n",
              "      <th>0</th>\n",
              "      <td>solid buy it you will not regret this purchase reliable fast silent cool running drive highly recommend</td>\n",
              "      <td>5</td>\n",
              "      <td>18</td>\n",
              "    </tr>\n",
              "    <tr>\n",
              "      <th>1</th>\n",
              "      <td>nice drive for price even cheaper by todays costs good drive price been running almost constantly since when i purchased it 24x7x365 with random power outages no issues to date with it will buy samsung evo s in future builds</td>\n",
              "      <td>5</td>\n",
              "      <td>41</td>\n",
              "    </tr>\n",
              "    <tr>\n",
              "      <th>2</th>\n",
              "      <td>perfect used this drive as my boot drive and only data storage on my previous build and now 4 years later i m using it as my new rig s game library crystaldisk still shows it at 100 and it s still plenty fast vs the new 860 evo can t go wrong with this one good value decently fast good longevity none so far</td>\n",
              "      <td>5</td>\n",
              "      <td>65</td>\n",
              "    </tr>\n",
              "    <tr>\n",
              "      <th>3</th>\n",
              "      <td>very snappy os boots quicker os menus pop up quicker gaming load screens go quicker noticeable improvement in os performance over a spinning drive samsung magician software causes some games to fail to launch if you leave it running in the background</td>\n",
              "      <td>5</td>\n",
              "      <td>42</td>\n",
              "    </tr>\n",
              "    <tr>\n",
              "      <th>4</th>\n",
              "      <td>worth the hype this was the sdd that everyone said to get and it has yet to disappoint it is super speedy and has given me no troubles</td>\n",
              "      <td>5</td>\n",
              "      <td>30</td>\n",
              "    </tr>\n",
              "  </tbody>\n",
              "</table>\n",
              "</div>"
            ],
            "text/plain": [
              "                                                                                                                                                                                                                                                                                                       combined_reviews  \\\n",
              "0  solid buy it you will not regret this purchase reliable fast silent cool running drive highly recommend                                                                                                                                                                                                                \n",
              "1  nice drive for price even cheaper by todays costs good drive price been running almost constantly since when i purchased it 24x7x365 with random power outages no issues to date with it will buy samsung evo s in future builds                                                                                       \n",
              "2  perfect used this drive as my boot drive and only data storage on my previous build and now 4 years later i m using it as my new rig s game library crystaldisk still shows it at 100 and it s still plenty fast vs the new 860 evo can t go wrong with this one good value decently fast good longevity none so far   \n",
              "3  very snappy os boots quicker os menus pop up quicker gaming load screens go quicker noticeable improvement in os performance over a spinning drive samsung magician software causes some games to fail to launch if you leave it running in the background                                                             \n",
              "4  worth the hype this was the sdd that everyone said to get and it has yet to disappoint it is super speedy and has given me no troubles                                                                                                                                                                                 \n",
              "\n",
              "   rating_stars  len  \n",
              "0  5             18   \n",
              "1  5             41   \n",
              "2  5             65   \n",
              "3  5             42   \n",
              "4  5             30   "
            ]
          },
          "metadata": {
            "tags": []
          },
          "execution_count": 30
        }
      ]
    },
    {
      "cell_type": "markdown",
      "metadata": {
        "id": "8FyfpsW4uNN-"
      },
      "source": [
        "#### Check summary stats of the length column"
      ]
    },
    {
      "cell_type": "code",
      "metadata": {
        "id": "cMEp309bHPSm",
        "colab": {
          "base_uri": "https://localhost:8080/"
        },
        "outputId": "9671aee2-8b3f-4344-f953-e3a1f40f9bcd"
      },
      "source": [
        "data['len'].describe()"
      ],
      "execution_count": 31,
      "outputs": [
        {
          "output_type": "execute_result",
          "data": {
            "text/plain": [
              "count   2227.0000000\n",
              "mean    84.8675348  \n",
              "std     87.4983350  \n",
              "min     4.0000000   \n",
              "25%     30.0000000  \n",
              "50%     59.0000000  \n",
              "75%     109.0000000 \n",
              "max     1615.0000000\n",
              "Name: len, dtype: float64"
            ]
          },
          "metadata": {
            "tags": []
          },
          "execution_count": 31
        }
      ]
    },
    {
      "cell_type": "markdown",
      "metadata": {
        "id": "JtFWZfZjJSJY"
      },
      "source": [
        "### 4.5 Analyzing and preparing the text data\n"
      ]
    },
    {
      "cell_type": "markdown",
      "metadata": {
        "id": "FL0mW8oPJVyq"
      },
      "source": [
        "#### Set the max length of each review to 25 since it results in faster training (however, you are free to change this)\n",
        "#### Set max_features to 10000 and embedding size to 50"
      ]
    },
    {
      "cell_type": "code",
      "metadata": {
        "id": "T7Ma4u3kSOD3"
      },
      "source": [
        "max_features = 10000\n",
        "maxlen = 25\n",
        "embedding_size = 50"
      ],
      "execution_count": 32,
      "outputs": []
    },
    {
      "cell_type": "markdown",
      "metadata": {
        "id": "qph71mXtJyWM"
      },
      "source": [
        "#### Tokenize the cobined text data. You can use the Tokenizer from tensorflow.keras.preprocessing.text. Check the number of samples post tokenization."
      ]
    },
    {
      "cell_type": "code",
      "metadata": {
        "id": "hvn5Bssu6MoQ"
      },
      "source": [
        "from tensorflow.keras.preprocessing.text import Tokenizer"
      ],
      "execution_count": 33,
      "outputs": []
    },
    {
      "cell_type": "code",
      "metadata": {
        "id": "9dgdB2tJCwNv"
      },
      "source": [
        "tokenizer = Tokenizer(num_words=max_features)\n",
        "tokenizer.fit_on_texts(list(data['combined_reviews']))\n",
        "X = tokenizer.texts_to_sequences(data['combined_reviews'])\n"
      ],
      "execution_count": 34,
      "outputs": []
    },
    {
      "cell_type": "code",
      "metadata": {
        "colab": {
          "base_uri": "https://localhost:8080/"
        },
        "id": "mCR4Pnm1DW_n",
        "outputId": "d5b1174f-01a7-452a-e443-89e09c3123c0"
      },
      "source": [
        "X[0]"
      ],
      "execution_count": 35,
      "outputs": [
        {
          "output_type": "execute_result",
          "data": {
            "text/plain": [
              "[232, 93, 6, 19, 54, 22, 829, 10, 248, 162, 16, 830, 550, 145, 7, 264, 126]"
            ]
          },
          "metadata": {
            "tags": []
          },
          "execution_count": 35
        }
      ]
    },
    {
      "cell_type": "markdown",
      "metadata": {
        "id": "HXy2gZrkJ0f_"
      },
      "source": [
        "#### Pad the above tokenized reviews data save it as independent features. Use max_len for the same."
      ]
    },
    {
      "cell_type": "code",
      "metadata": {
        "id": "mV-KtcR06OAr"
      },
      "source": [
        "from tensorflow.keras.preprocessing.sequence import pad_sequences\n",
        "\n",
        "X=pad_sequences(X,maxlen=maxlen)\n",
        "y=np.asarray(data['rating_stars'])\n"
      ],
      "execution_count": 36,
      "outputs": []
    },
    {
      "cell_type": "code",
      "metadata": {
        "colab": {
          "base_uri": "https://localhost:8080/"
        },
        "id": "pn1OHAzkEnAT",
        "outputId": "cac12c47-d509-4ca9-b843-3ac5d61e0d33"
      },
      "source": [
        "y[0]"
      ],
      "execution_count": 37,
      "outputs": [
        {
          "output_type": "execute_result",
          "data": {
            "text/plain": [
              "5"
            ]
          },
          "metadata": {
            "tags": []
          },
          "execution_count": 37
        }
      ]
    },
    {
      "cell_type": "markdown",
      "metadata": {
        "id": "XVT7dRRUHsgR"
      },
      "source": [
        "#### Check the shape of X (padded tokenized review data) and y (rating_stars) data."
      ]
    },
    {
      "cell_type": "code",
      "metadata": {
        "id": "SXc3DOi9Hz6O",
        "colab": {
          "base_uri": "https://localhost:8080/"
        },
        "outputId": "4c332f3e-fbba-443e-e828-f6e76fefb91c"
      },
      "source": [
        "X.shape"
      ],
      "execution_count": 38,
      "outputs": [
        {
          "output_type": "execute_result",
          "data": {
            "text/plain": [
              "(2227, 25)"
            ]
          },
          "metadata": {
            "tags": []
          },
          "execution_count": 38
        }
      ]
    },
    {
      "cell_type": "markdown",
      "metadata": {
        "id": "A5GlWwKnJ7ie"
      },
      "source": [
        "#### Check the total number of words in the dictionary (of tekenizer)"
      ]
    },
    {
      "cell_type": "code",
      "metadata": {
        "id": "oR0W8MdX6V3A",
        "colab": {
          "base_uri": "https://localhost:8080/"
        },
        "outputId": "5a5806d1-9cd5-41a8-eb44-b24d94d1e6dc"
      },
      "source": [
        "num_words=len(tokenizer.word_counts)+1\n",
        "num_words"
      ],
      "execution_count": 39,
      "outputs": [
        {
          "output_type": "execute_result",
          "data": {
            "text/plain": [
              "8839"
            ]
          },
          "metadata": {
            "tags": []
          },
          "execution_count": 39
        }
      ]
    },
    {
      "cell_type": "markdown",
      "metadata": {
        "id": "RKa3eYLDJ_yO"
      },
      "source": [
        "### 4.6 Compute the glove embeddings. Use the provided txt file for the same."
      ]
    },
    {
      "cell_type": "markdown",
      "metadata": {
        "id": "WNwPD9EmIbMt"
      },
      "source": [
        "#### Read the glove embeddings from the file provided titled ‘glove.6B.50d.txt’. And save it to a dictotionary having word and corresponding embedding vector."
      ]
    },
    {
      "cell_type": "code",
      "metadata": {
        "id": "bNd9ZFjuIp3g"
      },
      "source": [
        "embedding_file = '/content/drive/MyDrive/001_Great_Learning/Lab Internal | Residency 9 Seq NLP/glove.6B.50d.txt'\n",
        "\n",
        "embeddings = {}\n",
        "\n",
        "with open(embedding_file, 'r', encoding=\"utf-8\") as f:\n",
        "    for line in f:\n",
        "        values = line.split(\" \")\n",
        "        word = values[0]\n",
        "        vector = np.asarray(values[1:], \"float32\")\n",
        "        embeddings[word] = vector"
      ],
      "execution_count": 40,
      "outputs": []
    },
    {
      "cell_type": "markdown",
      "metadata": {
        "id": "EuolWkfmIqCJ"
      },
      "source": [
        "#### Create a weight matrix for words in the training docs"
      ]
    },
    {
      "cell_type": "code",
      "metadata": {
        "id": "BGHZ0nIaI0Ar"
      },
      "source": [
        "# create a weight matrix for words in training docs\n",
        "embedding_matrix = np.zeros((num_words, 50))\n",
        "\n",
        "for word, i in tokenizer.word_index.items():\n",
        "\tembedding_vector = embeddings.get(word)\n",
        "\tif embedding_vector is not None:\n",
        "\t\tembedding_matrix[i] = embedding_vector"
      ],
      "execution_count": 41,
      "outputs": []
    },
    {
      "cell_type": "markdown",
      "metadata": {
        "id": "-DdpiQZ9_Fiq"
      },
      "source": [
        "#### Check length of the embedding"
      ]
    },
    {
      "cell_type": "code",
      "metadata": {
        "id": "8bcs-LtYILlO"
      },
      "source": [
        "num_words=len(tokenizer.word_counts)+1"
      ],
      "execution_count": 42,
      "outputs": []
    },
    {
      "cell_type": "markdown",
      "metadata": {
        "id": "xVPf3X5MKGpm"
      },
      "source": [
        "### 4.7 Target Feature:- One hot encode the target variable (rating_stars)"
      ]
    },
    {
      "cell_type": "code",
      "metadata": {
        "id": "7PVDBmkjJC4n"
      },
      "source": [
        "from sklearn.preprocessing import OneHotEncoder\n",
        "enc = OneHotEncoder()\n",
        "y_encoded = enc.fit_transform(y.reshape(-1,1))"
      ],
      "execution_count": 43,
      "outputs": []
    },
    {
      "cell_type": "code",
      "metadata": {
        "colab": {
          "base_uri": "https://localhost:8080/"
        },
        "id": "98I7VucwTE1V",
        "outputId": "b6a1f697-0ab1-4456-ab8c-7728a0ee0468"
      },
      "source": [
        "y_encoded=y_encoded.todense()\n",
        "y_encoded"
      ],
      "execution_count": 44,
      "outputs": [
        {
          "output_type": "execute_result",
          "data": {
            "text/plain": [
              "matrix([[0., 0., 0., 0., 1.],\n",
              "        [0., 0., 0., 0., 1.],\n",
              "        [0., 0., 0., 0., 1.],\n",
              "        ...,\n",
              "        [0., 0., 0., 0., 1.],\n",
              "        [0., 0., 0., 0., 1.],\n",
              "        [0., 0., 0., 0., 1.]])"
            ]
          },
          "metadata": {
            "tags": []
          },
          "execution_count": 44
        }
      ]
    },
    {
      "cell_type": "code",
      "metadata": {
        "colab": {
          "base_uri": "https://localhost:8080/"
        },
        "id": "X8HCqwa6TNj9",
        "outputId": "67b76377-b5e2-44a0-8b55-9c929bdc28ad"
      },
      "source": [
        "X"
      ],
      "execution_count": 45,
      "outputs": [
        {
          "output_type": "execute_result",
          "data": {
            "text/plain": [
              "array([[   0,    0,    0, ...,    7,  264,  126],\n",
              "       [1541,  209,   77, ...,   14,  612,  931],\n",
              "       [  21,   99,  472, ...,   31,   27,   87],\n",
              "       ...,\n",
              "       [   1,    8,   12, ...,   31,   27,   87],\n",
              "       [ 247,   34,   20, ...,   14,    1,  612],\n",
              "       [   5,  294,   13, ...,   10,  248,   31]], dtype=int32)"
            ]
          },
          "metadata": {
            "tags": []
          },
          "execution_count": 45
        }
      ]
    },
    {
      "cell_type": "markdown",
      "metadata": {
        "id": "5dqPXETLKN0h"
      },
      "source": [
        "### 4.8 Split the data into Train & Test sets"
      ]
    },
    {
      "cell_type": "code",
      "metadata": {
        "id": "FFJ1oEUmJEEW"
      },
      "source": [
        "from sklearn.model_selection import train_test_split\n",
        "\n",
        "X_train, X_test, y_train, y_test = train_test_split(\n",
        "    X,\n",
        "    y_encoded,\n",
        "    test_size=0.3, \n",
        "    random_state=42,\n",
        "    stratify=y_encoded\n",
        ")"
      ],
      "execution_count": 46,
      "outputs": []
    },
    {
      "cell_type": "markdown",
      "metadata": {
        "id": "rhD1a-beKvE7"
      },
      "source": [
        "## 5. Model building"
      ]
    },
    {
      "cell_type": "markdown",
      "metadata": {
        "id": "bRmxklYnKvxk"
      },
      "source": [
        "### 5.1 Construct a neural network architecture using embedding and LSTM layers for building the rating prediction model.\n",
        "- Use the num_words, embedding_size from the above tokenizer and embeddings respectively\n",
        "- Use weights from the above embedding matrix\n",
        "- Use input length as the maxlen\n",
        "- Add LSTM layers"
      ]
    },
    {
      "cell_type": "code",
      "metadata": {
        "id": "gSGsebsiNA78"
      },
      "source": [
        "import tensorflow as tf\n",
        "from tensorflow.keras.models import Sequential\n",
        "from tensorflow.keras.layers import Embedding, Bidirectional, LSTM, Dense, Dropout, Flatten\n",
        "from functools import partial\n",
        "\n",
        "model = Sequential()\n",
        "model.add(Embedding(num_words, embedding_size, weights = [embedding_matrix], input_length=maxlen))\n",
        "model.add(LSTM(128, return_sequences = True))\n",
        "model.add(Flatten())\n",
        "model.add(Dense(512, activation='relu'))\n",
        "model.add(Dense(256, activation = 'relu'))\n",
        "model.add(Dense(128, activation = 'relu'))\n",
        "model.add(Dense(64, activation= 'relu'))\n",
        "model.add(Dropout(0.5))\n",
        "model.add(Dense(5, activation=\"softmax\"))"
      ],
      "execution_count": 47,
      "outputs": []
    },
    {
      "cell_type": "markdown",
      "metadata": {
        "id": "iN0P-a6X_jAb"
      },
      "source": [
        "### 5.2 Compile the model using appropriate loss, optimizer, and accuracy metric"
      ]
    },
    {
      "cell_type": "code",
      "metadata": {
        "id": "8Kyk9kPxNCMb"
      },
      "source": [
        "model.compile(loss='categorical_crossentropy', optimizer='adam', metrics=['accuracy'])"
      ],
      "execution_count": 48,
      "outputs": []
    },
    {
      "cell_type": "markdown",
      "metadata": {
        "id": "tIODqXJK_qrQ"
      },
      "source": [
        "### 5.3 Fit the model"
      ]
    },
    {
      "cell_type": "code",
      "metadata": {
        "id": "fEX-_bd2NDPW",
        "colab": {
          "base_uri": "https://localhost:8080/"
        },
        "outputId": "bbe1473e-095a-447b-e5b0-40455e9181b8"
      },
      "source": [
        "model.summary()"
      ],
      "execution_count": 49,
      "outputs": [
        {
          "output_type": "stream",
          "text": [
            "Model: \"sequential\"\n",
            "_________________________________________________________________\n",
            "Layer (type)                 Output Shape              Param #   \n",
            "=================================================================\n",
            "embedding (Embedding)        (None, 25, 50)            441950    \n",
            "_________________________________________________________________\n",
            "lstm (LSTM)                  (None, 25, 128)           91648     \n",
            "_________________________________________________________________\n",
            "flatten (Flatten)            (None, 3200)              0         \n",
            "_________________________________________________________________\n",
            "dense (Dense)                (None, 512)               1638912   \n",
            "_________________________________________________________________\n",
            "dense_1 (Dense)              (None, 256)               131328    \n",
            "_________________________________________________________________\n",
            "dense_2 (Dense)              (None, 128)               32896     \n",
            "_________________________________________________________________\n",
            "dense_3 (Dense)              (None, 64)                8256      \n",
            "_________________________________________________________________\n",
            "dropout (Dropout)            (None, 64)                0         \n",
            "_________________________________________________________________\n",
            "dense_4 (Dense)              (None, 5)                 325       \n",
            "=================================================================\n",
            "Total params: 2,345,315\n",
            "Trainable params: 2,345,315\n",
            "Non-trainable params: 0\n",
            "_________________________________________________________________\n"
          ],
          "name": "stdout"
        }
      ]
    },
    {
      "cell_type": "code",
      "metadata": {
        "colab": {
          "base_uri": "https://localhost:8080/"
        },
        "id": "qw-yo8jCZw5i",
        "outputId": "df4d4595-16d7-416f-d37a-d599537b44e6"
      },
      "source": [
        "batch_size = 100\n",
        "epochs = 20\n",
        "\n",
        "training_history = model.fit(X_train, y_train, batch_size=batch_size, epochs=epochs, validation_data=(X_test, y_test))"
      ],
      "execution_count": 50,
      "outputs": [
        {
          "output_type": "stream",
          "text": [
            "Epoch 1/20\n",
            "16/16 [==============================] - 5s 36ms/step - loss: 1.0416 - accuracy: 0.7330 - val_loss: 0.7733 - val_accuracy: 0.7892\n",
            "Epoch 2/20\n",
            "16/16 [==============================] - 0s 10ms/step - loss: 0.8023 - accuracy: 0.7869 - val_loss: 0.7395 - val_accuracy: 0.7892\n",
            "Epoch 3/20\n",
            "16/16 [==============================] - 0s 9ms/step - loss: 0.7273 - accuracy: 0.7882 - val_loss: 0.7582 - val_accuracy: 0.7892\n",
            "Epoch 4/20\n",
            "16/16 [==============================] - 0s 9ms/step - loss: 0.6894 - accuracy: 0.7882 - val_loss: 0.6951 - val_accuracy: 0.7892\n",
            "Epoch 5/20\n",
            "16/16 [==============================] - 0s 9ms/step - loss: 0.6241 - accuracy: 0.7920 - val_loss: 0.7210 - val_accuracy: 0.7892\n",
            "Epoch 6/20\n",
            "16/16 [==============================] - 0s 10ms/step - loss: 0.5467 - accuracy: 0.8062 - val_loss: 0.7423 - val_accuracy: 0.8012\n",
            "Epoch 7/20\n",
            "16/16 [==============================] - 0s 9ms/step - loss: 0.4638 - accuracy: 0.8299 - val_loss: 0.7673 - val_accuracy: 0.8012\n",
            "Epoch 8/20\n",
            "16/16 [==============================] - 0s 10ms/step - loss: 0.3744 - accuracy: 0.8492 - val_loss: 0.8649 - val_accuracy: 0.7578\n",
            "Epoch 9/20\n",
            "16/16 [==============================] - 0s 9ms/step - loss: 0.3025 - accuracy: 0.8915 - val_loss: 0.9604 - val_accuracy: 0.7339\n",
            "Epoch 10/20\n",
            "16/16 [==============================] - 0s 10ms/step - loss: 0.2272 - accuracy: 0.9243 - val_loss: 1.2965 - val_accuracy: 0.7653\n",
            "Epoch 11/20\n",
            "16/16 [==============================] - 0s 9ms/step - loss: 0.1443 - accuracy: 0.9499 - val_loss: 1.5341 - val_accuracy: 0.7653\n",
            "Epoch 12/20\n",
            "16/16 [==============================] - 0s 9ms/step - loss: 0.1082 - accuracy: 0.9685 - val_loss: 1.3897 - val_accuracy: 0.7175\n",
            "Epoch 13/20\n",
            "16/16 [==============================] - 0s 10ms/step - loss: 0.0738 - accuracy: 0.9801 - val_loss: 1.6138 - val_accuracy: 0.7444\n",
            "Epoch 14/20\n",
            "16/16 [==============================] - 0s 9ms/step - loss: 0.0896 - accuracy: 0.9705 - val_loss: 1.8472 - val_accuracy: 0.7534\n",
            "Epoch 15/20\n",
            "16/16 [==============================] - 0s 9ms/step - loss: 0.0611 - accuracy: 0.9852 - val_loss: 2.0321 - val_accuracy: 0.7668\n",
            "Epoch 16/20\n",
            "16/16 [==============================] - 0s 9ms/step - loss: 0.0502 - accuracy: 0.9897 - val_loss: 1.9293 - val_accuracy: 0.7788\n",
            "Epoch 17/20\n",
            "16/16 [==============================] - 0s 9ms/step - loss: 0.0181 - accuracy: 0.9949 - val_loss: 2.1203 - val_accuracy: 0.7877\n",
            "Epoch 18/20\n",
            "16/16 [==============================] - 0s 9ms/step - loss: 0.0103 - accuracy: 0.9987 - val_loss: 2.1747 - val_accuracy: 0.7339\n",
            "Epoch 19/20\n",
            "16/16 [==============================] - 0s 9ms/step - loss: 0.0108 - accuracy: 0.9968 - val_loss: 2.3289 - val_accuracy: 0.7638\n",
            "Epoch 20/20\n",
            "16/16 [==============================] - 0s 9ms/step - loss: 0.0165 - accuracy: 0.9961 - val_loss: 2.0591 - val_accuracy: 0.7504\n"
          ],
          "name": "stdout"
        }
      ]
    },
    {
      "cell_type": "markdown",
      "metadata": {
        "id": "1iakHzMFNDsz"
      },
      "source": [
        "### 5.4 Predict ratings for test data and check accuracy and confusion matrix"
      ]
    },
    {
      "cell_type": "code",
      "metadata": {
        "id": "erNFghTpNK-j"
      },
      "source": [
        "predictions = model.predict(X_test.reshape(len(X_test),25))"
      ],
      "execution_count": 51,
      "outputs": []
    },
    {
      "cell_type": "code",
      "metadata": {
        "id": "glNaXRZqNLBN"
      },
      "source": [
        "y_test_inv = enc.inverse_transform(y_test)"
      ],
      "execution_count": 52,
      "outputs": []
    },
    {
      "cell_type": "code",
      "metadata": {
        "id": "9biATnfcak_F"
      },
      "source": [
        "y_pred_inv = enc.inverse_transform(np.around(predictions))"
      ],
      "execution_count": 53,
      "outputs": []
    },
    {
      "cell_type": "code",
      "metadata": {
        "colab": {
          "base_uri": "https://localhost:8080/"
        },
        "id": "i_WwCcXYamto",
        "outputId": "7a242e8b-b2c4-4b76-c64d-9118f08b1953"
      },
      "source": [
        "from sklearn.metrics import confusion_matrix\n",
        "confusion_matrix(y_test_inv, y_pred_inv)"
      ],
      "execution_count": 54,
      "outputs": [
        {
          "output_type": "execute_result",
          "data": {
            "text/plain": [
              "array([[ 22,   2,   3,   5,  14],\n",
              "       [  5,   4,   0,   1,   8],\n",
              "       [  3,   0,   4,   1,  15],\n",
              "       [  1,   1,   5,  13,  34],\n",
              "       [ 19,   6,  16,  30, 457]])"
            ]
          },
          "metadata": {
            "tags": []
          },
          "execution_count": 54
        }
      ]
    },
    {
      "cell_type": "code",
      "metadata": {
        "colab": {
          "base_uri": "https://localhost:8080/"
        },
        "id": "mZ6hK0IycAkY",
        "outputId": "8de2ac77-665d-4514-e0aa-963ea0e076d5"
      },
      "source": [
        "from sklearn.metrics import classification_report\n",
        "print(classification_report(y_test_inv, y_pred_inv))"
      ],
      "execution_count": 55,
      "outputs": [
        {
          "output_type": "stream",
          "text": [
            "              precision    recall  f1-score   support\n",
            "\n",
            "           1       0.44      0.48      0.46        46\n",
            "           2       0.31      0.22      0.26        18\n",
            "           3       0.14      0.17      0.16        23\n",
            "           4       0.26      0.24      0.25        54\n",
            "           5       0.87      0.87      0.87       528\n",
            "\n",
            "    accuracy                           0.75       669\n",
            "   macro avg       0.40      0.40      0.40       669\n",
            "weighted avg       0.75      0.75      0.75       669\n",
            "\n"
          ],
          "name": "stdout"
        }
      ]
    },
    {
      "cell_type": "code",
      "metadata": {
        "colab": {
          "base_uri": "https://localhost:8080/"
        },
        "id": "2XB0aVy7c8OU",
        "outputId": "723fe922-4c73-43fa-9c6d-b106378e9519"
      },
      "source": [
        "from sklearn.metrics import accuracy_score\n",
        "accuracy_score(y_test_inv, y_pred_inv)"
      ],
      "execution_count": 56,
      "outputs": [
        {
          "output_type": "execute_result",
          "data": {
            "text/plain": [
              "0.7473841554559043"
            ]
          },
          "metadata": {
            "tags": []
          },
          "execution_count": 56
        }
      ]
    },
    {
      "cell_type": "markdown",
      "metadata": {
        "id": "lHyQA-RsNOXT"
      },
      "source": [
        "### 5.5 Display plot of training and validation loss/accuracy wrt to epochs"
      ]
    },
    {
      "cell_type": "code",
      "metadata": {
        "id": "gC7Lb0eSNawO",
        "colab": {
          "base_uri": "https://localhost:8080/",
          "height": 563
        },
        "outputId": "04f15aa7-2429-4601-8ae2-e2d94844ad4c"
      },
      "source": [
        "import matplotlib.pyplot as plt\n",
        "accuracy      = training_history.history['accuracy']\n",
        "val_accuracy  = training_history.history['val_accuracy']\n",
        "loss     = training_history.history['loss']\n",
        "val_loss = training_history.history['val_loss']\n",
        "\n",
        "epochs   = range(len(accuracy)) # Get number of epochs\n",
        "\n",
        "plt.plot  ( epochs, accuracy, label = 'training accuracy' )\n",
        "plt.plot  ( epochs, val_accuracy, label = 'validation accuracy' )\n",
        "plt.title ('Training and validation accuracy')\n",
        "plt.legend(loc = 'lower right')\n",
        "plt.figure()\n",
        "\n",
        "plt.plot  ( epochs, loss, label = 'training loss' )\n",
        "plt.plot  ( epochs, val_loss, label = 'validation loss' )\n",
        "plt.legend(loc = 'upper right')\n",
        "plt.title ('Training and validation loss'   )"
      ],
      "execution_count": 57,
      "outputs": [
        {
          "output_type": "execute_result",
          "data": {
            "text/plain": [
              "Text(0.5, 1.0, 'Training and validation loss')"
            ]
          },
          "metadata": {
            "tags": []
          },
          "execution_count": 57
        },
        {
          "output_type": "display_data",
          "data": {
            "image/png": "[encoded data removed]",
            "text/plain": [
              "<Figure size 432x288 with 1 Axes>"
            ]
          },
          "metadata": {
            "tags": [],
            "needs_background": "light"
          }
        },
        {
          "output_type": "display_data",
          "data": {
            "image/png": "[encoded data removed]",
            "text/plain": [
              "<Figure size 432x288 with 1 Axes>"
            ]
          },
          "metadata": {
            "tags": [],
            "needs_background": "light"
          }
        }
      ]
    },
    {
      "cell_type": "markdown",
      "metadata": {
        "id": "Ey7an7ukLxWB"
      },
      "source": [
        "## 6. Conclusion and Interpretation"
      ]
    },
    {
      "cell_type": "markdown",
      "metadata": {
        "id": "KjN-ZPCi_2TA"
      },
      "source": [
        "1. The model is highlt overfitting after 3~4 epoch\n",
        "2. We need more data for the better performance of the model.\n",
        "3. The data are highly imbalanced in the target categories .\n",
        "4. Steps such as SMOTE to be taken in the pre processing steps to make it more balanced.\n",
        "5. Or more data points to be added such that there will be more holistic picture comes out from the data.\n",
        "6. More state of the art architecture to be used for the better resulst."
      ]
    },
    {
      "cell_type": "markdown",
      "metadata": {
        "id": "9nwOCcvqxVCH"
      },
      "source": [
        "## 7. Food for thought:\n",
        "\n",
        "1.) Change activation function (try leaky_relu or tanh) and see if it helps in improving model performance with the dataset that is highly imbalanced\n",
        "\n",
        "2.) Try with only the overall review feature and see if it leads to improvement in model performace\n",
        "\n",
        "3.) Change the hyperparameters of the model and compare the results "
      ]
    },
    {
      "cell_type": "markdown",
      "metadata": {
        "id": "FyeN8wseAjUG"
      },
      "source": [
        "### A. With Leaky_relu"
      ]
    },
    {
      "cell_type": "code",
      "metadata": {
        "id": "_gpYExSvAmtK"
      },
      "source": [
        "\n",
        "model = Sequential()\n",
        "model.add(Embedding(num_words, embedding_size, weights = [embedding_matrix], input_length=maxlen))\n",
        "model.add(LSTM(128, return_sequences = True))\n",
        "model.add(Flatten())\n",
        "model.add(Dense(512, activation='LeakyReLU'))\n",
        "model.add(Dense(256, activation = 'LeakyReLU'))\n",
        "model.add(Dense(128, activation = 'LeakyReLU'))\n",
        "model.add(Dense(64, activation= 'LeakyReLU'))\n",
        "model.add(Dropout(0.5))\n",
        "model.add(Dense(5, activation=\"softmax\"))"
      ],
      "execution_count": 60,
      "outputs": []
    },
    {
      "cell_type": "code",
      "metadata": {
        "id": "L1rf7OZrBcAU"
      },
      "source": [
        "model.compile(loss='categorical_crossentropy', optimizer='adam', metrics=['accuracy'])"
      ],
      "execution_count": 61,
      "outputs": []
    },
    {
      "cell_type": "code",
      "metadata": {
        "colab": {
          "base_uri": "https://localhost:8080/"
        },
        "id": "bmPu9_F4Bb9y",
        "outputId": "5694e7a0-382c-41d3-bba7-ce7240eff22b"
      },
      "source": [
        "model.summary()"
      ],
      "execution_count": 62,
      "outputs": [
        {
          "output_type": "stream",
          "text": [
            "Model: \"sequential_3\"\n",
            "_________________________________________________________________\n",
            "Layer (type)                 Output Shape              Param #   \n",
            "=================================================================\n",
            "embedding_3 (Embedding)      (None, 25, 50)            441950    \n",
            "_________________________________________________________________\n",
            "lstm_3 (LSTM)                (None, 25, 128)           91648     \n",
            "_________________________________________________________________\n",
            "flatten_3 (Flatten)          (None, 3200)              0         \n",
            "_________________________________________________________________\n",
            "dense_7 (Dense)              (None, 512)               1638912   \n",
            "_________________________________________________________________\n",
            "dense_8 (Dense)              (None, 256)               131328    \n",
            "_________________________________________________________________\n",
            "dense_9 (Dense)              (None, 128)               32896     \n",
            "_________________________________________________________________\n",
            "dense_10 (Dense)             (None, 64)                8256      \n",
            "_________________________________________________________________\n",
            "dropout_1 (Dropout)          (None, 64)                0         \n",
            "_________________________________________________________________\n",
            "dense_11 (Dense)             (None, 5)                 325       \n",
            "=================================================================\n",
            "Total params: 2,345,315\n",
            "Trainable params: 2,345,315\n",
            "Non-trainable params: 0\n",
            "_________________________________________________________________\n"
          ],
          "name": "stdout"
        }
      ]
    },
    {
      "cell_type": "code",
      "metadata": {
        "colab": {
          "base_uri": "https://localhost:8080/"
        },
        "id": "0vZV4D63Bb7U",
        "outputId": "af915a19-5226-4fe6-e46f-7cd9adb2966e"
      },
      "source": [
        "batch_size = 100\n",
        "epochs = 20\n",
        "\n",
        "training_history = model.fit(X_train, y_train, batch_size=batch_size, epochs=epochs, validation_data=(X_test, y_test))"
      ],
      "execution_count": 63,
      "outputs": [
        {
          "output_type": "stream",
          "text": [
            "Epoch 1/20\n",
            "16/16 [==============================] - 2s 34ms/step - loss: 0.9964 - accuracy: 0.7413 - val_loss: 0.7608 - val_accuracy: 0.7892\n",
            "Epoch 2/20\n",
            "16/16 [==============================] - 0s 9ms/step - loss: 0.7619 - accuracy: 0.7869 - val_loss: 0.7235 - val_accuracy: 0.7892\n",
            "Epoch 3/20\n",
            "16/16 [==============================] - 0s 9ms/step - loss: 0.6619 - accuracy: 0.7908 - val_loss: 0.6878 - val_accuracy: 0.7892\n",
            "Epoch 4/20\n",
            "16/16 [==============================] - 0s 9ms/step - loss: 0.6007 - accuracy: 0.7991 - val_loss: 0.6745 - val_accuracy: 0.7877\n",
            "Epoch 5/20\n",
            "16/16 [==============================] - 0s 9ms/step - loss: 0.5041 - accuracy: 0.8261 - val_loss: 0.8102 - val_accuracy: 0.7877\n",
            "Epoch 6/20\n",
            "16/16 [==============================] - 0s 9ms/step - loss: 0.4096 - accuracy: 0.8556 - val_loss: 0.7897 - val_accuracy: 0.7489\n",
            "Epoch 7/20\n",
            "16/16 [==============================] - 0s 9ms/step - loss: 0.3053 - accuracy: 0.9012 - val_loss: 0.9682 - val_accuracy: 0.7459\n",
            "Epoch 8/20\n",
            "16/16 [==============================] - 0s 9ms/step - loss: 0.1746 - accuracy: 0.9384 - val_loss: 1.2181 - val_accuracy: 0.7698\n",
            "Epoch 9/20\n",
            "16/16 [==============================] - 0s 9ms/step - loss: 0.1073 - accuracy: 0.9641 - val_loss: 1.3309 - val_accuracy: 0.7683\n",
            "Epoch 10/20\n",
            "16/16 [==============================] - 0s 9ms/step - loss: 0.0499 - accuracy: 0.9865 - val_loss: 1.7664 - val_accuracy: 0.7698\n",
            "Epoch 11/20\n",
            "16/16 [==============================] - 0s 9ms/step - loss: 0.0329 - accuracy: 0.9929 - val_loss: 1.9040 - val_accuracy: 0.7474\n",
            "Epoch 12/20\n",
            "16/16 [==============================] - 0s 9ms/step - loss: 0.0216 - accuracy: 0.9929 - val_loss: 1.8987 - val_accuracy: 0.7309\n",
            "Epoch 13/20\n",
            "16/16 [==============================] - 0s 9ms/step - loss: 0.0205 - accuracy: 0.9917 - val_loss: 2.0221 - val_accuracy: 0.7414\n",
            "Epoch 14/20\n",
            "16/16 [==============================] - 0s 9ms/step - loss: 0.0194 - accuracy: 0.9942 - val_loss: 2.3499 - val_accuracy: 0.7638\n",
            "Epoch 15/20\n",
            "16/16 [==============================] - 0s 9ms/step - loss: 0.0259 - accuracy: 0.9929 - val_loss: 2.2943 - val_accuracy: 0.7698\n",
            "Epoch 16/20\n",
            "16/16 [==============================] - 0s 9ms/step - loss: 0.0210 - accuracy: 0.9961 - val_loss: 2.3551 - val_accuracy: 0.7593\n",
            "Epoch 17/20\n",
            "16/16 [==============================] - 0s 9ms/step - loss: 0.0346 - accuracy: 0.9884 - val_loss: 2.3536 - val_accuracy: 0.7280\n",
            "Epoch 18/20\n",
            "16/16 [==============================] - 0s 9ms/step - loss: 0.0264 - accuracy: 0.9923 - val_loss: 2.2735 - val_accuracy: 0.7190\n",
            "Epoch 19/20\n",
            "16/16 [==============================] - 0s 9ms/step - loss: 0.0328 - accuracy: 0.9897 - val_loss: 2.0149 - val_accuracy: 0.7743\n",
            "Epoch 20/20\n",
            "16/16 [==============================] - 0s 9ms/step - loss: 0.0145 - accuracy: 0.9942 - val_loss: 2.3663 - val_accuracy: 0.7892\n"
          ],
          "name": "stdout"
        }
      ]
    },
    {
      "cell_type": "code",
      "metadata": {
        "id": "apbPs3ApBv1Q"
      },
      "source": [
        "predictions = model.predict(X_test.reshape(len(X_test),25))"
      ],
      "execution_count": 64,
      "outputs": []
    },
    {
      "cell_type": "code",
      "metadata": {
        "id": "5A1FLt2lBv1T"
      },
      "source": [
        "y_test_inv = enc.inverse_transform(y_test)"
      ],
      "execution_count": 65,
      "outputs": []
    },
    {
      "cell_type": "code",
      "metadata": {
        "id": "2IvAy5CcBv1U"
      },
      "source": [
        "y_pred_inv = enc.inverse_transform(np.around(predictions))"
      ],
      "execution_count": 66,
      "outputs": []
    },
    {
      "cell_type": "code",
      "metadata": {
        "colab": {
          "base_uri": "https://localhost:8080/"
        },
        "id": "zMkCMs0kBv1W",
        "outputId": "38b1ce8c-86af-4cd7-b311-9b97ff725447"
      },
      "source": [
        "from sklearn.metrics import confusion_matrix\n",
        "confusion_matrix(y_test_inv, y_pred_inv)"
      ],
      "execution_count": 67,
      "outputs": [
        {
          "output_type": "execute_result",
          "data": {
            "text/plain": [
              "array([[ 17,   1,   0,   8,  20],\n",
              "       [  3,   4,   1,   1,   9],\n",
              "       [  2,   0,   3,   2,  16],\n",
              "       [  0,   0,   1,  10,  43],\n",
              "       [  6,   0,   6,  23, 493]])"
            ]
          },
          "metadata": {
            "tags": []
          },
          "execution_count": 67
        }
      ]
    },
    {
      "cell_type": "code",
      "metadata": {
        "colab": {
          "base_uri": "https://localhost:8080/"
        },
        "id": "pB6CpNelBv1Y",
        "outputId": "5d2af096-e4f3-42b6-eee1-7f054df6a273"
      },
      "source": [
        "from sklearn.metrics import classification_report\n",
        "print(classification_report(y_test_inv, y_pred_inv))"
      ],
      "execution_count": 68,
      "outputs": [
        {
          "output_type": "stream",
          "text": [
            "              precision    recall  f1-score   support\n",
            "\n",
            "           1       0.61      0.37      0.46        46\n",
            "           2       0.80      0.22      0.35        18\n",
            "           3       0.27      0.13      0.18        23\n",
            "           4       0.23      0.19      0.20        54\n",
            "           5       0.85      0.93      0.89       528\n",
            "\n",
            "    accuracy                           0.79       669\n",
            "   macro avg       0.55      0.37      0.42       669\n",
            "weighted avg       0.76      0.79      0.77       669\n",
            "\n"
          ],
          "name": "stdout"
        }
      ]
    },
    {
      "cell_type": "code",
      "metadata": {
        "colab": {
          "base_uri": "https://localhost:8080/"
        },
        "id": "BRdmtlF2Bv1a",
        "outputId": "c91ee8bd-48e0-4726-d961-a391b5f7d419"
      },
      "source": [
        "from sklearn.metrics import accuracy_score\n",
        "accuracy_score(y_test_inv, y_pred_inv)"
      ],
      "execution_count": 69,
      "outputs": [
        {
          "output_type": "execute_result",
          "data": {
            "text/plain": [
              "0.7877428998505231"
            ]
          },
          "metadata": {
            "tags": []
          },
          "execution_count": 69
        }
      ]
    },
    {
      "cell_type": "code",
      "metadata": {
        "colab": {
          "base_uri": "https://localhost:8080/",
          "height": 563
        },
        "id": "7O8PqhIGCG5H",
        "outputId": "26637745-1f73-453b-d312-2d1bc427ebc2"
      },
      "source": [
        "accuracy      = training_history.history['accuracy']\n",
        "val_accuracy  = training_history.history['val_accuracy']\n",
        "loss     = training_history.history['loss']\n",
        "val_loss = training_history.history['val_loss']\n",
        "\n",
        "epochs   = range(len(accuracy)) # Get number of epochs\n",
        "\n",
        "plt.plot  ( epochs, accuracy, label = 'training accuracy' )\n",
        "plt.plot  ( epochs, val_accuracy, label = 'validation accuracy' )\n",
        "plt.title ('Training and validation accuracy')\n",
        "plt.legend(loc = 'lower right')\n",
        "plt.figure()\n",
        "\n",
        "plt.plot  ( epochs, loss, label = 'training loss' )\n",
        "plt.plot  ( epochs, val_loss, label = 'validation loss' )\n",
        "plt.legend(loc = 'upper right')\n",
        "plt.title ('Training and validation loss'   )"
      ],
      "execution_count": 70,
      "outputs": [
        {
          "output_type": "execute_result",
          "data": {
            "text/plain": [
              "Text(0.5, 1.0, 'Training and validation loss')"
            ]
          },
          "metadata": {
            "tags": []
          },
          "execution_count": 70
        },
        {
          "output_type": "display_data",
          "data": {
            "image/png": "[encoded data removed]",
            "text/plain": [
              "<Figure size 432x288 with 1 Axes>"
            ]
          },
          "metadata": {
            "tags": [],
            "needs_background": "light"
          }
        },
        {
          "output_type": "display_data",
          "data": {
            "image/png": "[encoded data removed]",
            "text/plain": [
              "<Figure size 432x288 with 1 Axes>"
            ]
          },
          "metadata": {
            "tags": [],
            "needs_background": "light"
          }
        }
      ]
    },
    {
      "cell_type": "markdown",
      "metadata": {
        "id": "qNab6ODjCUrE"
      },
      "source": [
        "The model performace has slightly increased, still the model in over fitting and we have to implement few suggestions for better performing model"
      ]
    }
  ]
}