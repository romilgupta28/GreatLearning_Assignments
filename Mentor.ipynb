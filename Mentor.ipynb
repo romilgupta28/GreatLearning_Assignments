{
 "cells": [
  {
   "cell_type": "markdown",
   "metadata": {},
   "source": [
    "# PGPDSE-FT-Bangalore-Dec19-Group 4"
   ]
  },
  {
   "cell_type": "markdown",
   "metadata": {},
   "source": [
    "<b>Problem Statement</b>\n",
    "\n",
    "Predict whether income exceeds $50K/yr based on census data. Also known as \"Adult\" dataset.\n",
    "Prediction task is to determine whether a person makes over 50K a year.\n",
    "\n",
    "<b>Data Set</b>\n",
    "\n",
    "Link : http://archive.ics.uci.edu/ml/datasets/Census+Income\n",
    "\n",
    "Data set was extracted from the census bureau database. There are 48842 instances of data set, mix of continuous and discrete. The data set has 15 attribute which include age, sex, education level and other relevant details of a person.\n",
    "\n",
    "Listing of attributes:\n",
    "\n",
    ">50K, <=50K.\n",
    "\n",
    "age: continuous.<br />\n",
    "workclass: Private, Self-emp-not-inc, Self-emp-inc, Federal-gov, Local-gov, State-gov, Without-pay, Never-worked.<br />\n",
    "fnlwgt: continuous.<br />\n",
    "education: Bachelors, Some-college, 11th, HS-grad, Prof-school, Assoc-acdm, Assoc-voc, 9th, 7th-8th, 12th, Masters, 1st-4th, 10th, Doctorate, 5th-6th, Preschool.<br />\n",
    "education-num: continuous.<br />\n",
    "marital-status: Married-civ-spouse, Divorced, Never-married, Separated, Widowed, Married-spouse-absent, Married-AF-spouse. Married-civ-spouse corresponds to a civilian spouse while Married-AF-spouse is a spouse in the Armed Forces.<br />\n",
    "occupation: Tech-support, Craft-repair, Other-service, Sales, Exec-managerial, Prof-specialty, Handlers-cleaners, Machine-op-inspct, Adm-clerical, Farming-fishing, Transport-moving, Priv-house-serv, Protective-serv, Armed-Forces.<br />\n",
    "relationship: Wife, Own-child, Husband, Not-in-family, Other-relative, Unmarried.<br />\n",
    "race: White, Asian-Pac-Islander, Amer-Indian-Eskimo, Other, Black.<br />\n",
    "sex: Female, Male.<br />\n",
    "capital-gain: continuous.<br />\n",
    "capital-loss: continuous.<br />\n",
    "hours-per-week: continuous.<br />\n",
    "native-country: United-States, Cambodia, England, Puerto-Rico, Canada, Germany, Outlying-US(Guam-USVI-etc), India, Japan, Greece, South, China, Cuba, Iran, Honduras, Philippines, Italy, Poland, Jamaica, Vietnam, Mexico, Portugal, Ireland, France, Dominican-Republic, Laos, Ecuador, Taiwan, Haiti, Columbia, Hungary, Guatemala, Nicaragua, Scotland, Thailand, Yugoslavia, El-Salvador, Trinadad&Tobago, Peru, Hong, Holand-Netherlands.\n"
   ]
  },
  {
   "cell_type": "markdown",
   "metadata": {},
   "source": [
    "<b>Hypothesis</b>\n",
    "\n",
    "1. Age : Mid-level age has higher probability to earn more than Low-Level and High-Level aged people<br />\n",
    "2. Workclass : Private and Self Employed with income have better chances to have higher salary<br />\n",
    "3. Education : Higher the grade of education better are the chances to have higher salary<br />\n",
    "4. Occupation : More Critical occupations better are the chances to have higher salary<br />\n",
    "5. Relationship : Single people will have chances of higher savings<br />\n",
    "6. Capital Gain : Higher CG better chances of earning high<br />\n",
    "7. Capital Loss : Lower CL better chances of earning high<br />\n",
    "8. Hrs per week : Higher HPW better chances of earning high<br />\n",
    "9. Country : People living in developed countries have better chances of earning high<br />"
   ]
  },
  {
   "cell_type": "code",
   "execution_count": 1,
   "metadata": {},
   "outputs": [],
   "source": [
    "import pandas as pd\n",
    "import numpy as np\n",
    "import pandas_profiling as pp\n",
    "import seaborn as sns\n",
    "import matplotlib.pyplot as plt\n",
    "%matplotlib inline\n",
    "\n",
    "# Ignoring Warnings\n",
    "\n",
    "import warnings\n",
    "warnings.filterwarnings(\"ignore\")"
   ]
  },
  {
   "cell_type": "code",
   "execution_count": 2,
   "metadata": {},
   "outputs": [],
   "source": [
    "census = pd.read_csv(\"adult.csv\")"
   ]
  },
  {
   "cell_type": "code",
   "execution_count": 3,
   "metadata": {},
   "outputs": [
    {
     "data": {
      "text/html": [
       "<div>\n",
       "<style scoped>\n",
       "    .dataframe tbody tr th:only-of-type {\n",
       "        vertical-align: middle;\n",
       "    }\n",
       "\n",
       "    .dataframe tbody tr th {\n",
       "        vertical-align: top;\n",
       "    }\n",
       "\n",
       "    .dataframe thead th {\n",
       "        text-align: right;\n",
       "    }\n",
       "</style>\n",
       "<table border=\"1\" class=\"dataframe\">\n",
       "  <thead>\n",
       "    <tr style=\"text-align: right;\">\n",
       "      <th></th>\n",
       "      <th>age</th>\n",
       "      <th>workclass</th>\n",
       "      <th>fnlwgt</th>\n",
       "      <th>education</th>\n",
       "      <th>education.num</th>\n",
       "      <th>marital.status</th>\n",
       "      <th>occupation</th>\n",
       "      <th>relationship</th>\n",
       "      <th>race</th>\n",
       "      <th>sex</th>\n",
       "      <th>capital.gain</th>\n",
       "      <th>capital.loss</th>\n",
       "      <th>hours.per.week</th>\n",
       "      <th>native.country</th>\n",
       "      <th>income</th>\n",
       "    </tr>\n",
       "  </thead>\n",
       "  <tbody>\n",
       "    <tr>\n",
       "      <th>0</th>\n",
       "      <td>90</td>\n",
       "      <td>?</td>\n",
       "      <td>77053</td>\n",
       "      <td>HS-grad</td>\n",
       "      <td>9</td>\n",
       "      <td>Widowed</td>\n",
       "      <td>?</td>\n",
       "      <td>Not-in-family</td>\n",
       "      <td>White</td>\n",
       "      <td>Female</td>\n",
       "      <td>0</td>\n",
       "      <td>4356</td>\n",
       "      <td>40</td>\n",
       "      <td>United-States</td>\n",
       "      <td>&lt;=50K</td>\n",
       "    </tr>\n",
       "    <tr>\n",
       "      <th>1</th>\n",
       "      <td>82</td>\n",
       "      <td>Private</td>\n",
       "      <td>132870</td>\n",
       "      <td>HS-grad</td>\n",
       "      <td>9</td>\n",
       "      <td>Widowed</td>\n",
       "      <td>Exec-managerial</td>\n",
       "      <td>Not-in-family</td>\n",
       "      <td>White</td>\n",
       "      <td>Female</td>\n",
       "      <td>0</td>\n",
       "      <td>4356</td>\n",
       "      <td>18</td>\n",
       "      <td>United-States</td>\n",
       "      <td>&lt;=50K</td>\n",
       "    </tr>\n",
       "    <tr>\n",
       "      <th>2</th>\n",
       "      <td>66</td>\n",
       "      <td>?</td>\n",
       "      <td>186061</td>\n",
       "      <td>Some-college</td>\n",
       "      <td>10</td>\n",
       "      <td>Widowed</td>\n",
       "      <td>?</td>\n",
       "      <td>Unmarried</td>\n",
       "      <td>Black</td>\n",
       "      <td>Female</td>\n",
       "      <td>0</td>\n",
       "      <td>4356</td>\n",
       "      <td>40</td>\n",
       "      <td>United-States</td>\n",
       "      <td>&lt;=50K</td>\n",
       "    </tr>\n",
       "    <tr>\n",
       "      <th>3</th>\n",
       "      <td>54</td>\n",
       "      <td>Private</td>\n",
       "      <td>140359</td>\n",
       "      <td>7th-8th</td>\n",
       "      <td>4</td>\n",
       "      <td>Divorced</td>\n",
       "      <td>Machine-op-inspct</td>\n",
       "      <td>Unmarried</td>\n",
       "      <td>White</td>\n",
       "      <td>Female</td>\n",
       "      <td>0</td>\n",
       "      <td>3900</td>\n",
       "      <td>40</td>\n",
       "      <td>United-States</td>\n",
       "      <td>&lt;=50K</td>\n",
       "    </tr>\n",
       "    <tr>\n",
       "      <th>4</th>\n",
       "      <td>41</td>\n",
       "      <td>Private</td>\n",
       "      <td>264663</td>\n",
       "      <td>Some-college</td>\n",
       "      <td>10</td>\n",
       "      <td>Separated</td>\n",
       "      <td>Prof-specialty</td>\n",
       "      <td>Own-child</td>\n",
       "      <td>White</td>\n",
       "      <td>Female</td>\n",
       "      <td>0</td>\n",
       "      <td>3900</td>\n",
       "      <td>40</td>\n",
       "      <td>United-States</td>\n",
       "      <td>&lt;=50K</td>\n",
       "    </tr>\n",
       "  </tbody>\n",
       "</table>\n",
       "</div>"
      ],
      "text/plain": [
       "   age workclass  fnlwgt     education  education.num marital.status  \\\n",
       "0   90         ?   77053       HS-grad              9        Widowed   \n",
       "1   82   Private  132870       HS-grad              9        Widowed   \n",
       "2   66         ?  186061  Some-college             10        Widowed   \n",
       "3   54   Private  140359       7th-8th              4       Divorced   \n",
       "4   41   Private  264663  Some-college             10      Separated   \n",
       "\n",
       "          occupation   relationship   race     sex  capital.gain  \\\n",
       "0                  ?  Not-in-family  White  Female             0   \n",
       "1    Exec-managerial  Not-in-family  White  Female             0   \n",
       "2                  ?      Unmarried  Black  Female             0   \n",
       "3  Machine-op-inspct      Unmarried  White  Female             0   \n",
       "4     Prof-specialty      Own-child  White  Female             0   \n",
       "\n",
       "   capital.loss  hours.per.week native.country income  \n",
       "0          4356              40  United-States  <=50K  \n",
       "1          4356              18  United-States  <=50K  \n",
       "2          4356              40  United-States  <=50K  \n",
       "3          3900              40  United-States  <=50K  \n",
       "4          3900              40  United-States  <=50K  "
      ]
     },
     "execution_count": 3,
     "metadata": {},
     "output_type": "execute_result"
    }
   ],
   "source": [
    "census.head()"
   ]
  },
  {
   "cell_type": "code",
   "execution_count": 4,
   "metadata": {},
   "outputs": [
    {
     "data": {
      "text/plain": [
       "(32561, 15)"
      ]
     },
     "execution_count": 4,
     "metadata": {},
     "output_type": "execute_result"
    }
   ],
   "source": [
    "census.shape"
   ]
  },
  {
   "cell_type": "code",
   "execution_count": 5,
   "metadata": {},
   "outputs": [
    {
     "data": {
      "text/plain": [
       "<=50K    24720\n",
       ">50K      7841\n",
       "Name: income, dtype: int64"
      ]
     },
     "execution_count": 5,
     "metadata": {},
     "output_type": "execute_result"
    }
   ],
   "source": [
    "# Find the distribution of target column to determine if it is a Classification or a Regression Problem\n",
    "\n",
    "census.income.value_counts()"
   ]
  },
  {
   "cell_type": "markdown",
   "metadata": {},
   "source": [
    "<b>Binary Classification</b> Problem"
   ]
  },
  {
   "cell_type": "code",
   "execution_count": 6,
   "metadata": {},
   "outputs": [
    {
     "data": {
      "text/plain": [
       "(32537, 15)"
      ]
     },
     "execution_count": 6,
     "metadata": {},
     "output_type": "execute_result"
    }
   ],
   "source": [
    "# Remove duplicates\n",
    "census=census.drop_duplicates()\n",
    "census.shape"
   ]
  },
  {
   "cell_type": "code",
   "execution_count": 7,
   "metadata": {},
   "outputs": [
    {
     "data": {
      "text/plain": [
       "Series([], dtype: int64)"
      ]
     },
     "execution_count": 7,
     "metadata": {},
     "output_type": "execute_result"
    }
   ],
   "source": [
    "# Find out all variables that contain missing values\n",
    "\n",
    "census_na = census.isna().sum()\n",
    "census_na[census_na.values > 0].sort_values(ascending=False)"
   ]
  },
  {
   "cell_type": "code",
   "execution_count": 8,
   "metadata": {},
   "outputs": [
    {
     "data": {
      "text/plain": [
       "age                int64\n",
       "workclass         object\n",
       "fnlwgt             int64\n",
       "education         object\n",
       "education.num      int64\n",
       "marital.status    object\n",
       "occupation        object\n",
       "relationship      object\n",
       "race              object\n",
       "sex               object\n",
       "capital.gain       int64\n",
       "capital.loss       int64\n",
       "hours.per.week     int64\n",
       "native.country    object\n",
       "income            object\n",
       "dtype: object"
      ]
     },
     "execution_count": 8,
     "metadata": {},
     "output_type": "execute_result"
    }
   ],
   "source": [
    "census.dtypes"
   ]
  },
  {
   "cell_type": "markdown",
   "metadata": {},
   "source": [
    "<b>Observations</b>\n",
    "\n",
    "1. Few duplicates were removed\n",
    "2. No missing values\n",
    "3. Numerical columns are 6 and Categorical columns are 8. Target variable is also Categorical."
   ]
  },
  {
   "cell_type": "markdown",
   "metadata": {},
   "source": [
    "# Univariate Analysis - Numerical columns"
   ]
  },
  {
   "cell_type": "markdown",
   "metadata": {},
   "source": [
    "<b>age</b>"
   ]
  },
  {
   "cell_type": "code",
   "execution_count": 9,
   "metadata": {},
   "outputs": [
    {
     "data": {
      "text/plain": [
       "<matplotlib.axes._subplots.AxesSubplot at 0xaddfac8>"
      ]
     },
     "execution_count": 9,
     "metadata": {},
     "output_type": "execute_result"
    },
    {
     "data": {
      "image/png": "[encoded data removed]",
      "text/plain": [
       "<Figure size 432x288 with 1 Axes>"
      ]
     },
     "metadata": {
      "needs_background": "light"
     },
     "output_type": "display_data"
    }
   ],
   "source": [
    "sns.distplot(census[\"age\"])"
   ]
  },
  {
   "cell_type": "code",
   "execution_count": 10,
   "metadata": {},
   "outputs": [
    {
     "data": {
      "text/plain": [
       "<matplotlib.axes._subplots.AxesSubplot at 0xb98ba58>"
      ]
     },
     "execution_count": 10,
     "metadata": {},
     "output_type": "execute_result"
    },
    {
     "data": {
      "image/png": "[encoded data removed]",
      "text/plain": [
       "<Figure size 432x288 with 1 Axes>"
      ]
     },
     "metadata": {
      "needs_background": "light"
     },
     "output_type": "display_data"
    }
   ],
   "source": [
    "# find outliers\n",
    "sns.boxplot(x=census[\"age\"])"
   ]
  },
  {
   "cell_type": "markdown",
   "metadata": {},
   "source": [
    "No unrealistic age present. But we will scale it."
   ]
  },
  {
   "cell_type": "markdown",
   "metadata": {},
   "source": [
    "<b>fnlwgt</b>"
   ]
  },
  {
   "cell_type": "markdown",
   "metadata": {},
   "source": [
    "fnlwgt is not related to the target variable income. We will drop it"
   ]
  },
  {
   "cell_type": "code",
   "execution_count": 11,
   "metadata": {},
   "outputs": [],
   "source": [
    "census = census.drop('fnlwgt',axis=1)"
   ]
  },
  {
   "cell_type": "markdown",
   "metadata": {},
   "source": [
    "<b>education and education.num</b>"
   ]
  },
  {
   "cell_type": "code",
   "execution_count": 12,
   "metadata": {},
   "outputs": [
    {
     "name": "stdout",
     "output_type": "stream",
     "text": [
      "Unique elements in column \"education\" & \"education.num\" :\n",
      "['HS-grad' 'Some-college' '7th-8th' '10th' 'Doctorate' 'Prof-school'\n",
      " 'Bachelors' 'Masters' '11th' 'Assoc-acdm' 'Assoc-voc' '1st-4th' '5th-6th'\n",
      " '12th' '9th' 'Preschool' 9 10 4 6 16 15 13 14 7 12 11 2 3 8 5 1]\n"
     ]
    }
   ],
   "source": [
    "# Get unique elements in multiple columns i.e. education and education.num\n",
    "uniqueValues = (census['education'].append(census['education.num'])).unique()\n",
    " \n",
    "print('Unique elements in column \"education\" & \"education.num\" :')\n",
    "print(uniqueValues)"
   ]
  },
  {
   "cell_type": "markdown",
   "metadata": {},
   "source": [
    "1 - Preschool<br />\n",
    "2 - 1st-4th<br />\n",
    "3 - 5th-6th<br />\n",
    "4 - 7th-8th<br />\n",
    "5 - 9th<br />\n",
    "6 - 10th<br />\n",
    "7 - 11th<br />\n",
    "8 - 12th<br />\n",
    "9 - HS-grad<br />\n",
    "10 - Some college<br />\n",
    "11 - Assoc-voc<br />\n",
    "12 - Assoc-acdm<br />\n",
    "13 - Bachelors<br />\n",
    "14 - Masters<br />\n",
    "15 - Prof-school<br />\n",
    "16 - Doctorate"
   ]
  },
  {
   "cell_type": "markdown",
   "metadata": {},
   "source": [
    "As you can see these two columns actually represent the same features, but encoded as strings and as numbers. We don’t need the string representation, so we can just delete this column. Note that it is a much better option to delete the Education column as the Education-Num has the important property that the values are ordered: the higher the number, the higher the education that person has."
   ]
  },
  {
   "cell_type": "code",
   "execution_count": 13,
   "metadata": {},
   "outputs": [],
   "source": [
    "census = census.drop('education',axis=1)"
   ]
  },
  {
   "cell_type": "markdown",
   "metadata": {},
   "source": [
    "<b>capital.gain, capital.loss and hours.per.week</b> can be used in visualtization"
   ]
  },
  {
   "cell_type": "markdown",
   "metadata": {},
   "source": [
    "# Univariate Analysis - Categorical columns"
   ]
  },
  {
   "cell_type": "markdown",
   "metadata": {},
   "source": [
    "<b>workclass</b>"
   ]
  },
  {
   "cell_type": "markdown",
   "metadata": {},
   "source": [
    "We saw in top 5 rows that some have \"?\" as value. We need to either impute them or drop them."
   ]
  },
  {
   "cell_type": "code",
   "execution_count": 14,
   "metadata": {},
   "outputs": [
    {
     "data": {
      "text/plain": [
       "Private             22673\n",
       "Self-emp-not-inc     2540\n",
       "Local-gov            2093\n",
       "?                    1836\n",
       "State-gov            1298\n",
       "Self-emp-inc         1116\n",
       "Federal-gov           960\n",
       "Without-pay            14\n",
       "Never-worked            7\n",
       "Name: workclass, dtype: int64"
      ]
     },
     "execution_count": 14,
     "metadata": {},
     "output_type": "execute_result"
    }
   ],
   "source": [
    "census[\"workclass\"].value_counts()"
   ]
  },
  {
   "cell_type": "code",
   "execution_count": 15,
   "metadata": {},
   "outputs": [],
   "source": [
    "# remove records with ? as value\n",
    "census.replace({'workclass': {'?': np.nan}}, inplace=True)\n",
    "census.dropna(axis=0, how='any', inplace=True)"
   ]
  },
  {
   "cell_type": "code",
   "execution_count": 16,
   "metadata": {},
   "outputs": [
    {
     "data": {
      "text/plain": [
       "Private             22673\n",
       "Self-emp-not-inc     2540\n",
       "Local-gov            2093\n",
       "State-gov            1298\n",
       "Self-emp-inc         1116\n",
       "Federal-gov           960\n",
       "Without-pay            14\n",
       "Never-worked            7\n",
       "Name: workclass, dtype: int64"
      ]
     },
     "execution_count": 16,
     "metadata": {},
     "output_type": "execute_result"
    }
   ],
   "source": [
    "census[\"workclass\"].value_counts()"
   ]
  },
  {
   "cell_type": "markdown",
   "metadata": {},
   "source": [
    "<b>marital.status</b>"
   ]
  },
  {
   "cell_type": "code",
   "execution_count": 17,
   "metadata": {},
   "outputs": [
    {
     "data": {
      "text/plain": [
       "Married-civ-spouse       14334\n",
       "Never-married             9901\n",
       "Divorced                  4257\n",
       "Separated                  959\n",
       "Widowed                    840\n",
       "Married-spouse-absent      389\n",
       "Married-AF-spouse           21\n",
       "Name: marital.status, dtype: int64"
      ]
     },
     "execution_count": 17,
     "metadata": {},
     "output_type": "execute_result"
    }
   ],
   "source": [
    "census[\"marital.status\"].value_counts()"
   ]
  },
  {
   "cell_type": "markdown",
   "metadata": {},
   "source": [
    "<b>occupation</b>"
   ]
  },
  {
   "cell_type": "code",
   "execution_count": 18,
   "metadata": {},
   "outputs": [
    {
     "data": {
      "text/plain": [
       "Prof-specialty       4136\n",
       "Craft-repair         4094\n",
       "Exec-managerial      4065\n",
       "Adm-clerical         3768\n",
       "Sales                3650\n",
       "Other-service        3291\n",
       "Machine-op-inspct    2000\n",
       "Transport-moving     1597\n",
       "Handlers-cleaners    1369\n",
       "Farming-fishing       992\n",
       "Tech-support          927\n",
       "Protective-serv       649\n",
       "Priv-house-serv       147\n",
       "Armed-Forces            9\n",
       "?                       7\n",
       "Name: occupation, dtype: int64"
      ]
     },
     "execution_count": 18,
     "metadata": {},
     "output_type": "execute_result"
    }
   ],
   "source": [
    "census[\"occupation\"].value_counts()"
   ]
  },
  {
   "cell_type": "code",
   "execution_count": 19,
   "metadata": {},
   "outputs": [],
   "source": [
    "# remove records with ? as value\n",
    "census.replace({'occupation': {'?': np.nan}}, inplace=True)\n",
    "census.dropna(axis=0, how='any', inplace=True)"
   ]
  },
  {
   "cell_type": "markdown",
   "metadata": {},
   "source": [
    "<b>relationship</b>"
   ]
  },
  {
   "cell_type": "code",
   "execution_count": 20,
   "metadata": {},
   "outputs": [
    {
     "data": {
      "text/plain": [
       "Husband           12698\n",
       "Not-in-family      7852\n",
       "Own-child          4521\n",
       "Unmarried          3270\n",
       "Wife               1435\n",
       "Other-relative      918\n",
       "Name: relationship, dtype: int64"
      ]
     },
     "execution_count": 20,
     "metadata": {},
     "output_type": "execute_result"
    }
   ],
   "source": [
    "census[\"relationship\"].value_counts()"
   ]
  },
  {
   "cell_type": "markdown",
   "metadata": {},
   "source": [
    "<b>sex</b>"
   ]
  },
  {
   "cell_type": "code",
   "execution_count": 21,
   "metadata": {},
   "outputs": [
    {
     "data": {
      "text/plain": [
       "Male      20773\n",
       "Female     9921\n",
       "Name: sex, dtype: int64"
      ]
     },
     "execution_count": 21,
     "metadata": {},
     "output_type": "execute_result"
    }
   ],
   "source": [
    "census[\"sex\"].value_counts()"
   ]
  },
  {
   "cell_type": "markdown",
   "metadata": {},
   "source": [
    "<b>race</b>"
   ]
  },
  {
   "cell_type": "code",
   "execution_count": 22,
   "metadata": {},
   "outputs": [
    {
     "data": {
      "text/plain": [
       "White                 26280\n",
       "Black                  2907\n",
       "Asian-Pac-Islander      973\n",
       "Amer-Indian-Eskimo      286\n",
       "Other                   248\n",
       "Name: race, dtype: int64"
      ]
     },
     "execution_count": 22,
     "metadata": {},
     "output_type": "execute_result"
    }
   ],
   "source": [
    "census[\"race\"].value_counts()"
   ]
  },
  {
   "cell_type": "markdown",
   "metadata": {},
   "source": [
    "<b>native.country</b>"
   ]
  },
  {
   "cell_type": "code",
   "execution_count": 23,
   "metadata": {},
   "outputs": [
    {
     "data": {
      "text/plain": [
       "United-States                 27487\n",
       "Mexico                          606\n",
       "?                               555\n",
       "Philippines                     188\n",
       "Germany                         128\n",
       "Puerto-Rico                     109\n",
       "Canada                          107\n",
       "El-Salvador                     100\n",
       "India                           100\n",
       "Cuba                             92\n",
       "England                          86\n",
       "Jamaica                          80\n",
       "South                            71\n",
       "Italy                            68\n",
       "China                            68\n",
       "Dominican-Republic               67\n",
       "Vietnam                          64\n",
       "Guatemala                        61\n",
       "Japan                            59\n",
       "Columbia                         56\n",
       "Poland                           56\n",
       "Haiti                            42\n",
       "Taiwan                           42\n",
       "Iran                             42\n",
       "Portugal                         34\n",
       "Nicaragua                        33\n",
       "Peru                             30\n",
       "Greece                           29\n",
       "France                           27\n",
       "Ecuador                          27\n",
       "Ireland                          24\n",
       "Hong                             19\n",
       "Cambodia                         18\n",
       "Trinadad&Tobago                  18\n",
       "Laos                             17\n",
       "Thailand                         17\n",
       "Yugoslavia                       16\n",
       "Outlying-US(Guam-USVI-etc)       14\n",
       "Hungary                          13\n",
       "Honduras                         12\n",
       "Scotland                         11\n",
       "Holand-Netherlands                1\n",
       "Name: native.country, dtype: int64"
      ]
     },
     "execution_count": 23,
     "metadata": {},
     "output_type": "execute_result"
    }
   ],
   "source": [
    "census[\"native.country\"].value_counts()"
   ]
  },
  {
   "cell_type": "markdown",
   "metadata": {},
   "source": [
    "Majority data is from United States"
   ]
  },
  {
   "cell_type": "code",
   "execution_count": 24,
   "metadata": {},
   "outputs": [],
   "source": [
    "# remove records with ? as value\n",
    "census.replace({'native.country': {'?': np.nan}}, inplace=True)\n",
    "census.dropna(axis=0, how='any', inplace=True)"
   ]
  },
  {
   "cell_type": "code",
   "execution_count": 25,
   "metadata": {},
   "outputs": [
    {
     "data": {
      "text/plain": [
       "(30139, 13)"
      ]
     },
     "execution_count": 25,
     "metadata": {},
     "output_type": "execute_result"
    }
   ],
   "source": [
    "# check final shape\n",
    "\n",
    "census.shape"
   ]
  },
  {
   "cell_type": "markdown",
   "metadata": {},
   "source": [
    "# Visualizations"
   ]
  },
  {
   "cell_type": "markdown",
   "metadata": {},
   "source": [
    "<b>Age vs Income</b>"
   ]
  },
  {
   "cell_type": "code",
   "execution_count": 26,
   "metadata": {},
   "outputs": [],
   "source": [
    "census_copy = census.copy()"
   ]
  },
  {
   "cell_type": "code",
   "execution_count": 27,
   "metadata": {},
   "outputs": [],
   "source": [
    "# We will create bins of age\n",
    "\n",
    "census_copy['age_by_decade'] = pd.cut(x=census_copy['age'], bins=[20, 29, 39, 49, 59, 69, 79, 89, 99], labels=['20s', '30s', '40s', '50s','60s', '70s','80s','90s'])"
   ]
  },
  {
   "cell_type": "code",
   "execution_count": 28,
   "metadata": {},
   "outputs": [
    {
     "data": {
      "text/plain": [
       "30s    8208\n",
       "40s    6894\n",
       "20s    6778\n",
       "50s    4185\n",
       "60s    1634\n",
       "70s     357\n",
       "80s      56\n",
       "90s      34\n",
       "Name: age_by_decade, dtype: int64"
      ]
     },
     "execution_count": 28,
     "metadata": {},
     "output_type": "execute_result"
    }
   ],
   "source": [
    "census_copy['age_by_decade'].value_counts()"
   ]
  },
  {
   "cell_type": "code",
   "execution_count": 29,
   "metadata": {},
   "outputs": [
    {
     "data": {
      "text/plain": [
       "<matplotlib.axes._subplots.AxesSubplot at 0xb98b128>"
      ]
     },
     "execution_count": 29,
     "metadata": {},
     "output_type": "execute_result"
    },
    {
     "data": {
      "image/png": "[encoded data removed]",
      "text/plain": [
       "<Figure size 720x792 with 1 Axes>"
      ]
     },
     "metadata": {
      "needs_background": "light"
     },
     "output_type": "display_data"
    }
   ],
   "source": [
    "plt.figure(figsize=(10,11))\n",
    "sns.countplot(x='income', hue='age_by_decade', data=census_copy)"
   ]
  },
  {
   "cell_type": "markdown",
   "metadata": {},
   "source": [
    "<b>Age : 30s, 40s, 50s have higher probability to earn more than 20s, 60s and beyond</b>"
   ]
  },
  {
   "cell_type": "markdown",
   "metadata": {},
   "source": [
    "<b>Workclass vs income</b>"
   ]
  },
  {
   "cell_type": "code",
   "execution_count": 30,
   "metadata": {},
   "outputs": [
    {
     "data": {
      "text/plain": [
       "<matplotlib.axes._subplots.AxesSubplot at 0xba26ef0>"
      ]
     },
     "execution_count": 30,
     "metadata": {},
     "output_type": "execute_result"
    },
    {
     "data": {
      "image/png": "[encoded data removed]",
      "text/plain": [
       "<Figure size 720x792 with 1 Axes>"
      ]
     },
     "metadata": {
      "needs_background": "light"
     },
     "output_type": "display_data"
    }
   ],
   "source": [
    "plt.figure(figsize=(10,11))\n",
    "sns.countplot(x='income', hue='workclass', data=census_copy)"
   ]
  },
  {
   "cell_type": "markdown",
   "metadata": {},
   "source": [
    "Workclass : Private employees are majority of data here and clearly show that they tend to earn more than other categories. But we see this imbalance because of lesser records for other types of employees"
   ]
  },
  {
   "cell_type": "markdown",
   "metadata": {},
   "source": [
    "<b>Education vs income</b>"
   ]
  },
  {
   "cell_type": "code",
   "execution_count": 31,
   "metadata": {},
   "outputs": [
    {
     "data": {
      "text/plain": [
       "<matplotlib.axes._subplots.AxesSubplot at 0xbd97eb8>"
      ]
     },
     "execution_count": 31,
     "metadata": {},
     "output_type": "execute_result"
    },
    {
     "data": {
      "image/png": "[encoded data removed]",
      "text/plain": [
       "<Figure size 720x792 with 1 Axes>"
      ]
     },
     "metadata": {
      "needs_background": "light"
     },
     "output_type": "display_data"
    }
   ],
   "source": [
    "plt.figure(figsize=(10,11))\n",
    "sns.countplot(x='income', hue='education.num', data=census_copy)"
   ]
  },
  {
   "cell_type": "markdown",
   "metadata": {},
   "source": [
    "Categories 1-8 : We see that there are insignificant numbers earning > 50k <br />\n",
    "Categories 9-13 : We see have major contributions in <=50k and >50k earning categories <br />\n",
    "Categories 14-16 : We see lesser people earning in <=50k category but more people earning in >50k category<br />\n",
    "\n",
    "Hence in Education : Higher the grade of education better are the chances to have higher salary"
   ]
  },
  {
   "cell_type": "code",
   "execution_count": 32,
   "metadata": {},
   "outputs": [
    {
     "data": {
      "text/plain": [
       "<matplotlib.axes._subplots.AxesSubplot at 0xbdef588>"
      ]
     },
     "execution_count": 32,
     "metadata": {},
     "output_type": "execute_result"
    },
    {
     "data": {
      "image/png": "[encoded data removed]",
      "text/plain": [
       "<Figure size 720x792 with 1 Axes>"
      ]
     },
     "metadata": {
      "needs_background": "light"
     },
     "output_type": "display_data"
    }
   ],
   "source": [
    "plt.figure(figsize=(10,11))\n",
    "sns.countplot(x='education.num', hue='income', data=census_copy)"
   ]
  },
  {
   "cell_type": "markdown",
   "metadata": {},
   "source": [
    "Only a small proportion of people with less than 12 years of education earn more than $50k a year. \n",
    "\n",
    "This proportion increases almost linearly after 12 years of education."
   ]
  },
  {
   "cell_type": "markdown",
   "metadata": {},
   "source": [
    "<b>Occupation vs income</b>"
   ]
  },
  {
   "cell_type": "code",
   "execution_count": 33,
   "metadata": {},
   "outputs": [
    {
     "data": {
      "text/plain": [
       "<matplotlib.axes._subplots.AxesSubplot at 0xbe3b438>"
      ]
     },
     "execution_count": 33,
     "metadata": {},
     "output_type": "execute_result"
    },
    {
     "data": {
      "image/png": "[encoded data removed]",
      "text/plain": [
       "<Figure size 720x792 with 1 Axes>"
      ]
     },
     "metadata": {
      "needs_background": "light"
     },
     "output_type": "display_data"
    }
   ],
   "source": [
    "plt.figure(figsize=(10,11))\n",
    "sns.countplot(x='income', hue='occupation', data=census_copy)"
   ]
  },
  {
   "cell_type": "markdown",
   "metadata": {},
   "source": [
    "Exec-managerial, Armed forces, Prof-spciality have good numbers in both <=50k and >50k earning categories\n",
    "In addition, the percentages for Farming, fishing, Other service and Handlers-cleaners are significantly lower than the rest of the distribution.\n",
    "\n",
    "Hence in Occupation : More Critical occupations better are the chances to have higher salary"
   ]
  },
  {
   "cell_type": "markdown",
   "metadata": {},
   "source": [
    "<b>Relationship vs income</b>"
   ]
  },
  {
   "cell_type": "code",
   "execution_count": 34,
   "metadata": {},
   "outputs": [
    {
     "data": {
      "text/plain": [
       "<matplotlib.axes._subplots.AxesSubplot at 0xc6ee160>"
      ]
     },
     "execution_count": 34,
     "metadata": {},
     "output_type": "execute_result"
    },
    {
     "data": {
      "image/png": "[encoded data removed]",
      "text/plain": [
       "<Figure size 720x792 with 1 Axes>"
      ]
     },
     "metadata": {
      "needs_background": "light"
     },
     "output_type": "display_data"
    }
   ],
   "source": [
    "plt.figure(figsize=(10,11))\n",
    "sns.countplot(x='income', hue='relationship', data=census_copy)"
   ]
  },
  {
   "cell_type": "markdown",
   "metadata": {},
   "source": [
    "Husband and Wife indivudually or combined are holding significant contributions in >50k earnings\n",
    "\n",
    "Hence husband and wife without child have better chances of earning >50k than with kid(s) or without being married"
   ]
  },
  {
   "cell_type": "markdown",
   "metadata": {},
   "source": [
    "<b>sex vs income</b>"
   ]
  },
  {
   "cell_type": "code",
   "execution_count": 35,
   "metadata": {},
   "outputs": [
    {
     "data": {
      "text/plain": [
       "<matplotlib.axes._subplots.AxesSubplot at 0xc788c50>"
      ]
     },
     "execution_count": 35,
     "metadata": {},
     "output_type": "execute_result"
    },
    {
     "data": {
      "image/png": "[encoded data removed]",
      "text/plain": [
       "<Figure size 432x288 with 1 Axes>"
      ]
     },
     "metadata": {
      "needs_background": "light"
     },
     "output_type": "display_data"
    }
   ],
   "source": [
    "sns.countplot(x='income', hue='sex', data=census_copy)"
   ]
  },
  {
   "cell_type": "markdown",
   "metadata": {},
   "source": [
    "Males pre-dominantly hold major share in earning >50k. We need to see in combination with other attributes reasons of this earning gap."
   ]
  },
  {
   "cell_type": "markdown",
   "metadata": {},
   "source": [
    "<b>hours per week vs income<b/>"
   ]
  },
  {
   "cell_type": "code",
   "execution_count": 36,
   "metadata": {},
   "outputs": [
    {
     "data": {
      "text/plain": [
       "<matplotlib.axes._subplots.AxesSubplot at 0xcb4aba8>"
      ]
     },
     "execution_count": 36,
     "metadata": {},
     "output_type": "execute_result"
    },
    {
     "data": {
      "image/png": "[encoded data removed]",
      "text/plain": [
       "<Figure size 720x792 with 1 Axes>"
      ]
     },
     "metadata": {
      "needs_background": "light"
     },
     "output_type": "display_data"
    }
   ],
   "source": [
    "# We will create bins of hours per week\n",
    "plt.figure(figsize=(10,11))\n",
    "census_copy['hrs_per_week'] = pd.cut(x=census_copy['hours.per.week'], bins=[35, 44, 54, 64, 74, 84, 94, 104], labels=['Average hrs per week', 'Above Average hrs per week', 'High', 'Very High','Too much', 'Insane','Fatal'])\n",
    "sns.countplot(x='income', hue='hrs_per_week', data=census_copy)"
   ]
  },
  {
   "cell_type": "markdown",
   "metadata": {},
   "source": [
    "Hence, Average number of hours in US is considered to be 38. Income definitely increases with increase in number of hours per week but our population majorly works around 38 hours per week which is healthy"
   ]
  },
  {
   "cell_type": "markdown",
   "metadata": {},
   "source": [
    "We will still try to find more insights for hours per week and try to answer some questions\n",
    "\n",
    "Average Hours per Week Worked (US) based on :<br />\n",
    "    Age<br />\n",
    "    Marital Status<br />\n",
    "    Gender<br />\n",
    "    Race<br />\n",
    "    Employment Type<br />\n",
    "    Education<br />"
   ]
  },
  {
   "cell_type": "markdown",
   "metadata": {},
   "source": [
    "<b>Capital Gain and Capital Loss vs income</b>"
   ]
  },
  {
   "cell_type": "code",
   "execution_count": 37,
   "metadata": {},
   "outputs": [
    {
     "data": {
      "text/plain": [
       "<matplotlib.axes._subplots.AxesSubplot at 0xce31a20>"
      ]
     },
     "execution_count": 37,
     "metadata": {},
     "output_type": "execute_result"
    },
    {
     "data": {
      "image/png": "[encoded data removed]",
      "text/plain": [
       "<Figure size 720x792 with 1 Axes>"
      ]
     },
     "metadata": {
      "needs_background": "light"
     },
     "output_type": "display_data"
    }
   ],
   "source": [
    "plt.figure(figsize=(10,11))\n",
    "sns.lineplot(x=census_copy['capital.gain'],y=census_copy['capital.loss'],hue=census_copy['income'])"
   ]
  },
  {
   "cell_type": "markdown",
   "metadata": {},
   "source": [
    "We do not get much insights from both attributes"
   ]
  },
  {
   "cell_type": "markdown",
   "metadata": {},
   "source": [
    "<b>Race vs income</b>"
   ]
  },
  {
   "cell_type": "code",
   "execution_count": 38,
   "metadata": {},
   "outputs": [
    {
     "data": {
      "text/plain": [
       "<matplotlib.axes._subplots.AxesSubplot at 0xcc02358>"
      ]
     },
     "execution_count": 38,
     "metadata": {},
     "output_type": "execute_result"
    },
    {
     "data": {
      "image/png": "[encoded data removed]",
      "text/plain": [
       "<Figure size 720x792 with 1 Axes>"
      ]
     },
     "metadata": {
      "needs_background": "light"
     },
     "output_type": "display_data"
    }
   ],
   "source": [
    "plt.figure(figsize=(10,11))\n",
    "sns.countplot(x='income', hue='race', data=census_copy)"
   ]
  },
  {
   "cell_type": "markdown",
   "metadata": {},
   "source": [
    "As expected since it is a United States census data so we would have Whites in majority. As Whites and Asians have a larger percentage of entries greater than >50k than the rest of the races. However, the sample size of Whites in the dataset is disproportionately large in comparison to all other races. The second most represented group is Blacks. This is however imbalanced data."
   ]
  },
  {
   "cell_type": "markdown",
   "metadata": {},
   "source": [
    "<b>Hours per Week distributions</b>"
   ]
  },
  {
   "cell_type": "code",
   "execution_count": 39,
   "metadata": {},
   "outputs": [
    {
     "data": {
      "text/plain": [
       "<matplotlib.axes._subplots.AxesSubplot at 0xcc18320>"
      ]
     },
     "execution_count": 39,
     "metadata": {},
     "output_type": "execute_result"
    },
    {
     "data": {
      "image/png": "[encoded data removed]",
      "text/plain": [
       "<Figure size 1080x792 with 1 Axes>"
      ]
     },
     "metadata": {
      "needs_background": "light"
     },
     "output_type": "display_data"
    }
   ],
   "source": [
    "plt.figure(figsize=(15,11))\n",
    "sns.countplot(x='age_by_decade', hue='hrs_per_week', data=census_copy)"
   ]
  },
  {
   "cell_type": "markdown",
   "metadata": {},
   "source": [
    "People in their 20s, 30s, 40s tend to work more than 50s and beyond which is understandable. People in their 30s do spend majority of hours per week."
   ]
  },
  {
   "cell_type": "code",
   "execution_count": 40,
   "metadata": {},
   "outputs": [
    {
     "data": {
      "text/plain": [
       "<matplotlib.axes._subplots.AxesSubplot at 0xd0ea518>"
      ]
     },
     "execution_count": 40,
     "metadata": {},
     "output_type": "execute_result"
    },
    {
     "data": {
      "image/png": "[encoded data removed]",
      "text/plain": [
       "<Figure size 720x792 with 1 Axes>"
      ]
     },
     "metadata": {
      "needs_background": "light"
     },
     "output_type": "display_data"
    }
   ],
   "source": [
    "plt.figure(figsize=(10,11))\n",
    "sns.countplot(x='sex', hue='hrs_per_week', data=census_copy)"
   ]
  },
  {
   "cell_type": "markdown",
   "metadata": {},
   "source": [
    "Men work longer than women and hence earn more."
   ]
  },
  {
   "cell_type": "markdown",
   "metadata": {},
   "source": [
    "# Scaling and Standardization"
   ]
  },
  {
   "cell_type": "code",
   "execution_count": 41,
   "metadata": {},
   "outputs": [],
   "source": [
    "# We will scale numerical attributes and convert categorical attributes to numerical"
   ]
  },
  {
   "cell_type": "code",
   "execution_count": 42,
   "metadata": {},
   "outputs": [
    {
     "data": {
      "text/plain": [
       "age                int64\n",
       "workclass         object\n",
       "education.num      int64\n",
       "marital.status    object\n",
       "occupation        object\n",
       "relationship      object\n",
       "race              object\n",
       "sex               object\n",
       "capital.gain       int64\n",
       "capital.loss       int64\n",
       "hours.per.week     int64\n",
       "native.country    object\n",
       "income            object\n",
       "dtype: object"
      ]
     },
     "execution_count": 42,
     "metadata": {},
     "output_type": "execute_result"
    }
   ],
   "source": [
    "census.dtypes"
   ]
  },
  {
   "cell_type": "code",
   "execution_count": 43,
   "metadata": {},
   "outputs": [],
   "source": [
    "census['income'] = census['income'].replace(to_replace = \"<=50K\", value = 0)\n",
    "census['income'] = census['income'].replace(to_replace = \">50K\", value = 1)"
   ]
  },
  {
   "cell_type": "code",
   "execution_count": 44,
   "metadata": {},
   "outputs": [],
   "source": [
    "# converting sex to binary\n",
    "census['sex'] = census['sex'].replace(to_replace = \"Male\", value = 1)\n",
    "census['sex'] = census['sex'].replace(to_replace = \"Female\", value = 0)"
   ]
  },
  {
   "cell_type": "code",
   "execution_count": 45,
   "metadata": {},
   "outputs": [],
   "source": [
    "# Replace native.country with United-States = 1 and non-US = 0\n",
    "census['native.country'] = census['native.country'].replace(to_replace =\"United-States\", value = 1)\n",
    "census['native.country'] = census['native.country'].replace(to_replace = [\"Mexico\", \"Greece\", \"Vietnam\", \"China\", \"Taiwan\", \"India\", \"Philippines\", \"Trinadad&Tobago\", \"Canada\", \"South\", \"Holand-Netherlands\", \"Puerto-Rico\", \"Poland\", \"Iran\", \"England\", \"Germany\", \"Italy\", \"Japan\", \"Hong\", \"Honduras\", \"Cuba\", \"Ireland\", \"Cambodia\", \"Peru\", \"Nicaragua\", \"Dominican-Republic\", \"Haiti\", \"Hungary\", \"Columbia\", \"Guatemala\", \"El-Salvador\", \"Jamaica\", \"Ecuador\", \"France\", \"Yugoslavia\", \"Portugal\", \"Laos\", \"Thailand\", \"Outlying-US(Guam-USVI-etc)\", \"Scotland\"], value = 0)"
   ]
  },
  {
   "cell_type": "code",
   "execution_count": 46,
   "metadata": {},
   "outputs": [],
   "source": [
    "# Replace marital.status with Couple = 0 and non-Couple = 1\n",
    "census['marital.status'] = census['marital.status'].replace(to_replace = [\"Divorced\",\"Married-spouse-absent\",\"Never-married\",\"Separated\",\"Widowed\"], value = 1)\n",
    "census['marital.status'] = census['marital.status'].replace(to_replace = [\"Married-AF-spouse\",\"Married-civ-spouse\"], value = 0)"
   ]
  },
  {
   "cell_type": "code",
   "execution_count": 47,
   "metadata": {},
   "outputs": [],
   "source": [
    "# Map relationship with integers\n",
    "\n",
    "rel_map = {'Unmarried':0,'Wife':1,'Husband':2,'Not-in-family':3,'Own-child':4,'Other-relative':5}\n",
    "\n",
    "census['relationship'] = census['relationship'].map(rel_map)"
   ]
  },
  {
   "cell_type": "code",
   "execution_count": 48,
   "metadata": {},
   "outputs": [],
   "source": [
    "# Map race with integers\n",
    "\n",
    "race_map={'White':0,'Amer-Indian-Eskimo':1,'Asian-Pac-Islander':2,'Black':3,'Other':4}\n",
    "\n",
    "census['race']= census['race'].map(race_map)"
   ]
  },
  {
   "cell_type": "code",
   "execution_count": 49,
   "metadata": {},
   "outputs": [],
   "source": [
    "# Map workclass with integers\n",
    "\n",
    "def f(x):\n",
    "    if x['workclass'] == 'Federal-gov' or x['workclass']== 'Local-gov' or x['workclass']=='State-gov': return 'govt'\n",
    "    elif x['workclass'] == 'Private': return 'private'\n",
    "    elif x['workclass'] == 'Self-emp-inc' or x['workclass'] == 'Self-emp-not-inc': return 'self_employed'\n",
    "    else: return 'without_pay'\n",
    "    \n",
    "census['workclass']=census.apply(f, axis=1)\n",
    "\n",
    "workclass_map = {'govt':0,'private':1,'self_employed':2,'without_pay':3}\n",
    "\n",
    "census['workclass'] = census['workclass'].map(workclass_map)"
   ]
  },
  {
   "cell_type": "code",
   "execution_count": 50,
   "metadata": {},
   "outputs": [],
   "source": [
    "# Since workclass is already mapped to govt, private, self-employed and without-pay so occupation is not required\n",
    "# We will drop it\n",
    "\n",
    "census = census.drop('occupation',axis=1)"
   ]
  },
  {
   "cell_type": "code",
   "execution_count": 51,
   "metadata": {},
   "outputs": [
    {
     "data": {
      "text/plain": [
       "age               int64\n",
       "workclass         int64\n",
       "education.num     int64\n",
       "marital.status    int64\n",
       "relationship      int64\n",
       "race              int64\n",
       "sex               int64\n",
       "capital.gain      int64\n",
       "capital.loss      int64\n",
       "hours.per.week    int64\n",
       "native.country    int64\n",
       "income            int64\n",
       "dtype: object"
      ]
     },
     "execution_count": 51,
     "metadata": {},
     "output_type": "execute_result"
    }
   ],
   "source": [
    "census.dtypes"
   ]
  },
  {
   "cell_type": "markdown",
   "metadata": {},
   "source": [
    "<b>!!! Our dataset is transformed to numerical attributes !!!</b>"
   ]
  },
  {
   "cell_type": "code",
   "execution_count": 52,
   "metadata": {},
   "outputs": [
    {
     "data": {
      "text/html": [
       "<div>\n",
       "<style scoped>\n",
       "    .dataframe tbody tr th:only-of-type {\n",
       "        vertical-align: middle;\n",
       "    }\n",
       "\n",
       "    .dataframe tbody tr th {\n",
       "        vertical-align: top;\n",
       "    }\n",
       "\n",
       "    .dataframe thead th {\n",
       "        text-align: right;\n",
       "    }\n",
       "</style>\n",
       "<table border=\"1\" class=\"dataframe\">\n",
       "  <thead>\n",
       "    <tr style=\"text-align: right;\">\n",
       "      <th></th>\n",
       "      <th>age</th>\n",
       "      <th>workclass</th>\n",
       "      <th>education.num</th>\n",
       "      <th>marital.status</th>\n",
       "      <th>relationship</th>\n",
       "      <th>race</th>\n",
       "      <th>sex</th>\n",
       "      <th>capital.gain</th>\n",
       "      <th>capital.loss</th>\n",
       "      <th>hours.per.week</th>\n",
       "      <th>native.country</th>\n",
       "      <th>income</th>\n",
       "    </tr>\n",
       "  </thead>\n",
       "  <tbody>\n",
       "    <tr>\n",
       "      <th>count</th>\n",
       "      <td>30139.000000</td>\n",
       "      <td>30139.000000</td>\n",
       "      <td>30139.000000</td>\n",
       "      <td>30139.000000</td>\n",
       "      <td>30139.000000</td>\n",
       "      <td>30139.000000</td>\n",
       "      <td>30139.000000</td>\n",
       "      <td>30139.000000</td>\n",
       "      <td>30139.000000</td>\n",
       "      <td>30139.000000</td>\n",
       "      <td>30139.000000</td>\n",
       "      <td>30139.000000</td>\n",
       "    </tr>\n",
       "    <tr>\n",
       "      <th>mean</th>\n",
       "      <td>38.441720</td>\n",
       "      <td>0.977139</td>\n",
       "      <td>10.122532</td>\n",
       "      <td>0.532831</td>\n",
       "      <td>2.380802</td>\n",
       "      <td>0.379774</td>\n",
       "      <td>0.675736</td>\n",
       "      <td>1092.841202</td>\n",
       "      <td>88.439928</td>\n",
       "      <td>40.934703</td>\n",
       "      <td>0.912008</td>\n",
       "      <td>0.249046</td>\n",
       "    </tr>\n",
       "    <tr>\n",
       "      <th>std</th>\n",
       "      <td>13.131426</td>\n",
       "      <td>0.512024</td>\n",
       "      <td>2.548738</td>\n",
       "      <td>0.498929</td>\n",
       "      <td>1.200606</td>\n",
       "      <td>0.973385</td>\n",
       "      <td>0.468107</td>\n",
       "      <td>7409.110596</td>\n",
       "      <td>404.445239</td>\n",
       "      <td>11.978753</td>\n",
       "      <td>0.283288</td>\n",
       "      <td>0.432468</td>\n",
       "    </tr>\n",
       "    <tr>\n",
       "      <th>min</th>\n",
       "      <td>17.000000</td>\n",
       "      <td>0.000000</td>\n",
       "      <td>1.000000</td>\n",
       "      <td>0.000000</td>\n",
       "      <td>0.000000</td>\n",
       "      <td>0.000000</td>\n",
       "      <td>0.000000</td>\n",
       "      <td>0.000000</td>\n",
       "      <td>0.000000</td>\n",
       "      <td>1.000000</td>\n",
       "      <td>0.000000</td>\n",
       "      <td>0.000000</td>\n",
       "    </tr>\n",
       "    <tr>\n",
       "      <th>25%</th>\n",
       "      <td>28.000000</td>\n",
       "      <td>1.000000</td>\n",
       "      <td>9.000000</td>\n",
       "      <td>0.000000</td>\n",
       "      <td>2.000000</td>\n",
       "      <td>0.000000</td>\n",
       "      <td>0.000000</td>\n",
       "      <td>0.000000</td>\n",
       "      <td>0.000000</td>\n",
       "      <td>40.000000</td>\n",
       "      <td>1.000000</td>\n",
       "      <td>0.000000</td>\n",
       "    </tr>\n",
       "    <tr>\n",
       "      <th>50%</th>\n",
       "      <td>37.000000</td>\n",
       "      <td>1.000000</td>\n",
       "      <td>10.000000</td>\n",
       "      <td>1.000000</td>\n",
       "      <td>2.000000</td>\n",
       "      <td>0.000000</td>\n",
       "      <td>1.000000</td>\n",
       "      <td>0.000000</td>\n",
       "      <td>0.000000</td>\n",
       "      <td>40.000000</td>\n",
       "      <td>1.000000</td>\n",
       "      <td>0.000000</td>\n",
       "    </tr>\n",
       "    <tr>\n",
       "      <th>75%</th>\n",
       "      <td>47.000000</td>\n",
       "      <td>1.000000</td>\n",
       "      <td>13.000000</td>\n",
       "      <td>1.000000</td>\n",
       "      <td>3.000000</td>\n",
       "      <td>0.000000</td>\n",
       "      <td>1.000000</td>\n",
       "      <td>0.000000</td>\n",
       "      <td>0.000000</td>\n",
       "      <td>45.000000</td>\n",
       "      <td>1.000000</td>\n",
       "      <td>0.000000</td>\n",
       "    </tr>\n",
       "    <tr>\n",
       "      <th>max</th>\n",
       "      <td>90.000000</td>\n",
       "      <td>3.000000</td>\n",
       "      <td>16.000000</td>\n",
       "      <td>1.000000</td>\n",
       "      <td>5.000000</td>\n",
       "      <td>4.000000</td>\n",
       "      <td>1.000000</td>\n",
       "      <td>99999.000000</td>\n",
       "      <td>4356.000000</td>\n",
       "      <td>99.000000</td>\n",
       "      <td>1.000000</td>\n",
       "      <td>1.000000</td>\n",
       "    </tr>\n",
       "  </tbody>\n",
       "</table>\n",
       "</div>"
      ],
      "text/plain": [
       "                age     workclass  education.num  marital.status  \\\n",
       "count  30139.000000  30139.000000   30139.000000    30139.000000   \n",
       "mean      38.441720      0.977139      10.122532        0.532831   \n",
       "std       13.131426      0.512024       2.548738        0.498929   \n",
       "min       17.000000      0.000000       1.000000        0.000000   \n",
       "25%       28.000000      1.000000       9.000000        0.000000   \n",
       "50%       37.000000      1.000000      10.000000        1.000000   \n",
       "75%       47.000000      1.000000      13.000000        1.000000   \n",
       "max       90.000000      3.000000      16.000000        1.000000   \n",
       "\n",
       "       relationship          race           sex  capital.gain  capital.loss  \\\n",
       "count  30139.000000  30139.000000  30139.000000  30139.000000  30139.000000   \n",
       "mean       2.380802      0.379774      0.675736   1092.841202     88.439928   \n",
       "std        1.200606      0.973385      0.468107   7409.110596    404.445239   \n",
       "min        0.000000      0.000000      0.000000      0.000000      0.000000   \n",
       "25%        2.000000      0.000000      0.000000      0.000000      0.000000   \n",
       "50%        2.000000      0.000000      1.000000      0.000000      0.000000   \n",
       "75%        3.000000      0.000000      1.000000      0.000000      0.000000   \n",
       "max        5.000000      4.000000      1.000000  99999.000000   4356.000000   \n",
       "\n",
       "       hours.per.week  native.country        income  \n",
       "count    30139.000000    30139.000000  30139.000000  \n",
       "mean        40.934703        0.912008      0.249046  \n",
       "std         11.978753        0.283288      0.432468  \n",
       "min          1.000000        0.000000      0.000000  \n",
       "25%         40.000000        1.000000      0.000000  \n",
       "50%         40.000000        1.000000      0.000000  \n",
       "75%         45.000000        1.000000      0.000000  \n",
       "max         99.000000        1.000000      1.000000  "
      ]
     },
     "execution_count": 52,
     "metadata": {},
     "output_type": "execute_result"
    }
   ],
   "source": [
    "census.describe()"
   ]
  },
  {
   "cell_type": "code",
   "execution_count": 53,
   "metadata": {},
   "outputs": [],
   "source": [
    "# Now we see the max values of capital.gain and capital.loss\n",
    "# They need scaling"
   ]
  },
  {
   "cell_type": "code",
   "execution_count": 54,
   "metadata": {},
   "outputs": [],
   "source": [
    "from sklearn.preprocessing import MinMaxScaler\n",
    "\n",
    "minmaxscaler = MinMaxScaler()\n",
    "census[[\"capital.gain\",\"capital.loss\"]] = minmaxscaler.fit_transform(census[[\"capital.gain\",\"capital.loss\"]])"
   ]
  },
  {
   "cell_type": "code",
   "execution_count": 55,
   "metadata": {},
   "outputs": [
    {
     "data": {
      "text/html": [
       "<div>\n",
       "<style scoped>\n",
       "    .dataframe tbody tr th:only-of-type {\n",
       "        vertical-align: middle;\n",
       "    }\n",
       "\n",
       "    .dataframe tbody tr th {\n",
       "        vertical-align: top;\n",
       "    }\n",
       "\n",
       "    .dataframe thead th {\n",
       "        text-align: right;\n",
       "    }\n",
       "</style>\n",
       "<table border=\"1\" class=\"dataframe\">\n",
       "  <thead>\n",
       "    <tr style=\"text-align: right;\">\n",
       "      <th></th>\n",
       "      <th>age</th>\n",
       "      <th>workclass</th>\n",
       "      <th>education.num</th>\n",
       "      <th>marital.status</th>\n",
       "      <th>relationship</th>\n",
       "      <th>race</th>\n",
       "      <th>sex</th>\n",
       "      <th>capital.gain</th>\n",
       "      <th>capital.loss</th>\n",
       "      <th>hours.per.week</th>\n",
       "      <th>native.country</th>\n",
       "      <th>income</th>\n",
       "    </tr>\n",
       "  </thead>\n",
       "  <tbody>\n",
       "    <tr>\n",
       "      <th>count</th>\n",
       "      <td>30139.000000</td>\n",
       "      <td>30139.000000</td>\n",
       "      <td>30139.000000</td>\n",
       "      <td>30139.000000</td>\n",
       "      <td>30139.000000</td>\n",
       "      <td>30139.000000</td>\n",
       "      <td>30139.000000</td>\n",
       "      <td>30139.000000</td>\n",
       "      <td>30139.000000</td>\n",
       "      <td>30139.000000</td>\n",
       "      <td>30139.000000</td>\n",
       "      <td>30139.000000</td>\n",
       "    </tr>\n",
       "    <tr>\n",
       "      <th>mean</th>\n",
       "      <td>38.441720</td>\n",
       "      <td>0.977139</td>\n",
       "      <td>10.122532</td>\n",
       "      <td>0.532831</td>\n",
       "      <td>2.380802</td>\n",
       "      <td>0.379774</td>\n",
       "      <td>0.675736</td>\n",
       "      <td>0.010929</td>\n",
       "      <td>0.020303</td>\n",
       "      <td>40.934703</td>\n",
       "      <td>0.912008</td>\n",
       "      <td>0.249046</td>\n",
       "    </tr>\n",
       "    <tr>\n",
       "      <th>std</th>\n",
       "      <td>13.131426</td>\n",
       "      <td>0.512024</td>\n",
       "      <td>2.548738</td>\n",
       "      <td>0.498929</td>\n",
       "      <td>1.200606</td>\n",
       "      <td>0.973385</td>\n",
       "      <td>0.468107</td>\n",
       "      <td>0.074092</td>\n",
       "      <td>0.092848</td>\n",
       "      <td>11.978753</td>\n",
       "      <td>0.283288</td>\n",
       "      <td>0.432468</td>\n",
       "    </tr>\n",
       "    <tr>\n",
       "      <th>min</th>\n",
       "      <td>17.000000</td>\n",
       "      <td>0.000000</td>\n",
       "      <td>1.000000</td>\n",
       "      <td>0.000000</td>\n",
       "      <td>0.000000</td>\n",
       "      <td>0.000000</td>\n",
       "      <td>0.000000</td>\n",
       "      <td>0.000000</td>\n",
       "      <td>0.000000</td>\n",
       "      <td>1.000000</td>\n",
       "      <td>0.000000</td>\n",
       "      <td>0.000000</td>\n",
       "    </tr>\n",
       "    <tr>\n",
       "      <th>25%</th>\n",
       "      <td>28.000000</td>\n",
       "      <td>1.000000</td>\n",
       "      <td>9.000000</td>\n",
       "      <td>0.000000</td>\n",
       "      <td>2.000000</td>\n",
       "      <td>0.000000</td>\n",
       "      <td>0.000000</td>\n",
       "      <td>0.000000</td>\n",
       "      <td>0.000000</td>\n",
       "      <td>40.000000</td>\n",
       "      <td>1.000000</td>\n",
       "      <td>0.000000</td>\n",
       "    </tr>\n",
       "    <tr>\n",
       "      <th>50%</th>\n",
       "      <td>37.000000</td>\n",
       "      <td>1.000000</td>\n",
       "      <td>10.000000</td>\n",
       "      <td>1.000000</td>\n",
       "      <td>2.000000</td>\n",
       "      <td>0.000000</td>\n",
       "      <td>1.000000</td>\n",
       "      <td>0.000000</td>\n",
       "      <td>0.000000</td>\n",
       "      <td>40.000000</td>\n",
       "      <td>1.000000</td>\n",
       "      <td>0.000000</td>\n",
       "    </tr>\n",
       "    <tr>\n",
       "      <th>75%</th>\n",
       "      <td>47.000000</td>\n",
       "      <td>1.000000</td>\n",
       "      <td>13.000000</td>\n",
       "      <td>1.000000</td>\n",
       "      <td>3.000000</td>\n",
       "      <td>0.000000</td>\n",
       "      <td>1.000000</td>\n",
       "      <td>0.000000</td>\n",
       "      <td>0.000000</td>\n",
       "      <td>45.000000</td>\n",
       "      <td>1.000000</td>\n",
       "      <td>0.000000</td>\n",
       "    </tr>\n",
       "    <tr>\n",
       "      <th>max</th>\n",
       "      <td>90.000000</td>\n",
       "      <td>3.000000</td>\n",
       "      <td>16.000000</td>\n",
       "      <td>1.000000</td>\n",
       "      <td>5.000000</td>\n",
       "      <td>4.000000</td>\n",
       "      <td>1.000000</td>\n",
       "      <td>1.000000</td>\n",
       "      <td>1.000000</td>\n",
       "      <td>99.000000</td>\n",
       "      <td>1.000000</td>\n",
       "      <td>1.000000</td>\n",
       "    </tr>\n",
       "  </tbody>\n",
       "</table>\n",
       "</div>"
      ],
      "text/plain": [
       "                age     workclass  education.num  marital.status  \\\n",
       "count  30139.000000  30139.000000   30139.000000    30139.000000   \n",
       "mean      38.441720      0.977139      10.122532        0.532831   \n",
       "std       13.131426      0.512024       2.548738        0.498929   \n",
       "min       17.000000      0.000000       1.000000        0.000000   \n",
       "25%       28.000000      1.000000       9.000000        0.000000   \n",
       "50%       37.000000      1.000000      10.000000        1.000000   \n",
       "75%       47.000000      1.000000      13.000000        1.000000   \n",
       "max       90.000000      3.000000      16.000000        1.000000   \n",
       "\n",
       "       relationship          race           sex  capital.gain  capital.loss  \\\n",
       "count  30139.000000  30139.000000  30139.000000  30139.000000  30139.000000   \n",
       "mean       2.380802      0.379774      0.675736      0.010929      0.020303   \n",
       "std        1.200606      0.973385      0.468107      0.074092      0.092848   \n",
       "min        0.000000      0.000000      0.000000      0.000000      0.000000   \n",
       "25%        2.000000      0.000000      0.000000      0.000000      0.000000   \n",
       "50%        2.000000      0.000000      1.000000      0.000000      0.000000   \n",
       "75%        3.000000      0.000000      1.000000      0.000000      0.000000   \n",
       "max        5.000000      4.000000      1.000000      1.000000      1.000000   \n",
       "\n",
       "       hours.per.week  native.country        income  \n",
       "count    30139.000000    30139.000000  30139.000000  \n",
       "mean        40.934703        0.912008      0.249046  \n",
       "std         11.978753        0.283288      0.432468  \n",
       "min          1.000000        0.000000      0.000000  \n",
       "25%         40.000000        1.000000      0.000000  \n",
       "50%         40.000000        1.000000      0.000000  \n",
       "75%         45.000000        1.000000      0.000000  \n",
       "max         99.000000        1.000000      1.000000  "
      ]
     },
     "execution_count": 55,
     "metadata": {},
     "output_type": "execute_result"
    }
   ],
   "source": [
    "census.describe()"
   ]
  },
  {
   "cell_type": "markdown",
   "metadata": {},
   "source": [
    "# Apply Machine Learning"
   ]
  },
  {
   "cell_type": "code",
   "execution_count": 56,
   "metadata": {},
   "outputs": [],
   "source": [
    "# split into train, test\n",
    "\n",
    "from sklearn.model_selection import train_test_split\n",
    "\n",
    "X= census.drop(['income'],axis=1)\n",
    "y=census['income']\n",
    "\n",
    "split_size=0.2\n",
    "\n",
    "#Creation of Train and Test dataset\n",
    "X_train, X_test, y_train, y_test = train_test_split(X,y,test_size=split_size,random_state=22)\n",
    "\n",
    "#Creation of Train and validation dataset\n",
    "X_train, X_val, y_train, y_val = train_test_split(X_train,y_train,test_size=split_size,random_state=5)"
   ]
  },
  {
   "cell_type": "code",
   "execution_count": 57,
   "metadata": {},
   "outputs": [
    {
     "name": "stdout",
     "output_type": "stream",
     "text": [
      "Train dataset: (19288, 11)(19288,)\n",
      "Validation dataset: (4823, 11)(4823,)\n",
      "Test dataset: (6028, 11)(6028,)\n"
     ]
    }
   ],
   "source": [
    "print (\"Train dataset: {0}{1}\".format(X_train.shape, y_train.shape))\n",
    "print (\"Validation dataset: {0}{1}\".format(X_val.shape, y_val.shape))\n",
    "print (\"Test dataset: {0}{1}\".format(X_test.shape, y_test.shape))"
   ]
  },
  {
   "cell_type": "code",
   "execution_count": 58,
   "metadata": {},
   "outputs": [],
   "source": [
    "# Algorithms to test\n",
    "\n",
    "from sklearn.linear_model import LogisticRegression\n",
    "from sklearn.ensemble import RandomForestClassifier\n",
    "from sklearn.naive_bayes import GaussianNB\n",
    "from sklearn.tree import DecisionTreeClassifier\n",
    "from sklearn.svm import SVC\n",
    "from sklearn.ensemble import GradientBoostingClassifier\n",
    "from xgboost import XGBClassifier"
   ]
  },
  {
   "cell_type": "code",
   "execution_count": 59,
   "metadata": {},
   "outputs": [],
   "source": [
    "models = []\n",
    "names = ['LR','Random Forest','GaussianNB','DecisionTreeClassifier','SVM','Gradient Boosting','XGBoost']\n",
    "\n",
    "models.append((LogisticRegression()))\n",
    "models.append((RandomForestClassifier(n_estimators=100)))\n",
    "models.append((GaussianNB()))\n",
    "models.append((DecisionTreeClassifier()))\n",
    "models.append((SVC()))\n",
    "models.append((GradientBoostingClassifier()))\n",
    "models.append((XGBClassifier()))"
   ]
  },
  {
   "cell_type": "code",
   "execution_count": 60,
   "metadata": {},
   "outputs": [],
   "source": [
    "from sklearn import model_selection\n",
    "from sklearn.metrics import accuracy_score"
   ]
  },
  {
   "cell_type": "code",
   "execution_count": 61,
   "metadata": {},
   "outputs": [
    {
     "name": "stdout",
     "output_type": "stream",
     "text": [
      "----------------------------------------\n",
      "LR: 0.8281152809454696\n",
      "----------------------------------------\n",
      "Random Forest: 0.8314327182251711\n",
      "----------------------------------------\n",
      "GaussianNB: 0.8129794733568318\n",
      "----------------------------------------\n",
      "DecisionTreeClassifier: 0.816089570806552\n",
      "----------------------------------------\n",
      "SVM: 0.8104913953970557\n",
      "----------------------------------------\n",
      "Gradient Boosting: 0.8519593613933236\n",
      "----------------------------------------\n",
      "XGBoost: 0.8538254198631557\n"
     ]
    }
   ],
   "source": [
    "kfold = model_selection.KFold(n_splits=5,random_state=7)\n",
    "\n",
    "for i in range(0,len(models)):    \n",
    "    cv_result = model_selection.cross_val_score(models[i],X_train,y_train,cv=kfold,scoring='accuracy')\n",
    "    score=models[i].fit(X_train,y_train)\n",
    "    prediction = models[i].predict(X_val)\n",
    "    acc_score = accuracy_score(y_val,prediction)     \n",
    "    print ('-'*40)\n",
    "    print ('{0}: {1}'.format(names[i],acc_score))    "
   ]
  },
  {
   "cell_type": "markdown",
   "metadata": {},
   "source": [
    "## Gradient Boosting and XGBoost give high accuracy. We will further analyze our results on test set."
   ]
  },
  {
   "cell_type": "code",
   "execution_count": 62,
   "metadata": {},
   "outputs": [],
   "source": [
    "from sklearn.metrics import classification_report\n",
    "from sklearn.metrics import confusion_matrix\n",
    "from sklearn.metrics import roc_curve\n",
    "from sklearn.metrics import roc_auc_score\n",
    "from sklearn.metrics import mean_squared_error\n",
    "\n",
    "def plot_roc_curve(fpr, tpr):\n",
    "    plt.plot(fpr, tpr, color='orange', label='ROC')\n",
    "    plt.plot([0, 1], [0, 1], color='darkblue', linestyle='--')\n",
    "    plt.xlabel('False Positive Rate')\n",
    "    plt.ylabel('True Positive Rate')\n",
    "    plt.title('Receiver Operating Characteristic (ROC) Curve')\n",
    "    plt.legend()\n",
    "    plt.show()\n",
    "\n",
    "def calc_train_error(X_train, y_train, model):\n",
    "    '''returns in-sample error for already fit model.'''\n",
    "    predictions = model.predict(X_train)\n",
    "    mse = mean_squared_error(y_train, predictions)\n",
    "    rmse = np.sqrt(mse)\n",
    "    return mse\n",
    "    \n",
    "def calc_validation_error(X_test, y_test, model):\n",
    "    '''returns out-of-sample error for already fit model.'''\n",
    "    predictions = model.predict(X_test)\n",
    "    mse = mean_squared_error(y_test, predictions)\n",
    "    rmse = np.sqrt(mse)\n",
    "    return mse\n",
    "    \n",
    "def calc_metrics(X_train, y_train, X_test, y_test, model):\n",
    "    '''fits model and returns the RMSE for in-sample error and out-of-sample error'''\n",
    "    model.fit(X_train, y_train)\n",
    "    train_error = calc_train_error(X_train, y_train, model)\n",
    "    validation_error = calc_validation_error(X_test, y_test, model)\n",
    "    return train_error, validation_error"
   ]
  },
  {
   "cell_type": "code",
   "execution_count": 63,
   "metadata": {},
   "outputs": [
    {
     "name": "stdout",
     "output_type": "stream",
     "text": [
      "----------------------------------------\n",
      "Accuracy score:\n",
      "0.8364299933642999\n",
      "----------------------------------------\n",
      "Confusion Matrix:\n",
      "[[4196  315]\n",
      " [ 671  846]]\n",
      "----------------------------------------\n",
      "Classification Matrix:\n",
      "              precision    recall  f1-score   support\n",
      "\n",
      "           0       0.86      0.93      0.89      4511\n",
      "           1       0.73      0.56      0.63      1517\n",
      "\n",
      "    accuracy                           0.84      6028\n",
      "   macro avg       0.80      0.74      0.76      6028\n",
      "weighted avg       0.83      0.84      0.83      6028\n",
      "\n",
      "----------------------------------------\n",
      "AUC : 0.74\n",
      "----------------------------------------\n",
      "train error: 0.165 | test error: 0.164\n",
      "train/test: 1.0\n",
      "----------------------------------------\n"
     ]
    },
    {
     "data": {
      "image/png": "[encoded data removed]",
      "text/plain": [
       "<Figure size 432x288 with 1 Axes>"
      ]
     },
     "metadata": {
      "needs_background": "light"
     },
     "output_type": "display_data"
    }
   ],
   "source": [
    "# Logistic Regression\n",
    "\n",
    "lr = LogisticRegression()\n",
    "lr.fit(X_train,y_train)\n",
    "prediction = lr.predict(X_test)\n",
    "\n",
    "print ('-'*40)\n",
    "print ('Accuracy score:')\n",
    "print (accuracy_score(y_test,prediction))\n",
    "print ('-'*40)\n",
    "print ('Confusion Matrix:')\n",
    "print (confusion_matrix(y_test,prediction))\n",
    "print ('-'*40)\n",
    "print ('Classification Matrix:')\n",
    "print (classification_report(y_test,prediction))\n",
    "print ('-'*40)\n",
    "auc = roc_auc_score(y_test,prediction)\n",
    "print('AUC : %.2f' %auc)\n",
    "print ('-'*40)\n",
    "train_error, test_error = calc_metrics(X_train, y_train, X_test, y_test, lr)\n",
    "train_error, test_error = round(train_error, 3), round(test_error, 3)\n",
    "print('train error: {} | test error: {}'.format(train_error, test_error))\n",
    "print('train/test: {}'.format(round(test_error/train_error, 1)))\n",
    "print ('-'*40)\n",
    "fpr, tpr, thresholds = roc_curve(y_test, prediction)\n",
    "plot_roc_curve(fpr, tpr)"
   ]
  },
  {
   "cell_type": "code",
   "execution_count": 64,
   "metadata": {},
   "outputs": [
    {
     "name": "stdout",
     "output_type": "stream",
     "text": [
      "----------------------------------------\n",
      "Accuracy score:\n",
      "0.8438951559389516\n",
      "----------------------------------------\n",
      "Confusion Matrix:\n",
      "[[4137  374]\n",
      " [ 567  950]]\n",
      "----------------------------------------\n",
      "Classification Matrix:\n",
      "              precision    recall  f1-score   support\n",
      "\n",
      "           0       0.88      0.92      0.90      4511\n",
      "           1       0.72      0.63      0.67      1517\n",
      "\n",
      "    accuracy                           0.84      6028\n",
      "   macro avg       0.80      0.77      0.78      6028\n",
      "weighted avg       0.84      0.84      0.84      6028\n",
      "\n",
      "----------------------------------------\n",
      "AUC : 0.77\n",
      "----------------------------------------\n",
      "train error: 0.05 | test error: 0.155\n",
      "train/test: 3.1\n",
      "----------------------------------------\n"
     ]
    },
    {
     "data": {
      "image/png": "[encoded data removed]",
      "text/plain": [
       "<Figure size 432x288 with 1 Axes>"
      ]
     },
     "metadata": {
      "needs_background": "light"
     },
     "output_type": "display_data"
    }
   ],
   "source": [
    "# Random Forest\n",
    "\n",
    "randomForest = RandomForestClassifier(n_estimators=100)\n",
    "randomForest.fit(X_train,y_train)\n",
    "prediction = randomForest.predict(X_test)\n",
    "\n",
    "print ('-'*40)\n",
    "print ('Accuracy score:')\n",
    "print (accuracy_score(y_test,prediction))\n",
    "print ('-'*40)\n",
    "print ('Confusion Matrix:')\n",
    "print (confusion_matrix(y_test,prediction))\n",
    "print ('-'*40)\n",
    "print ('Classification Matrix:')\n",
    "print (classification_report(y_test,prediction))\n",
    "print ('-'*40)\n",
    "auc = roc_auc_score(y_test,prediction)\n",
    "print('AUC : %.2f' %auc)\n",
    "print ('-'*40)\n",
    "train_error, test_error = calc_metrics(X_train, y_train, X_test, y_test, randomForest)\n",
    "train_error, test_error = round(train_error, 3), round(test_error, 3)\n",
    "print('train error: {} | test error: {}'.format(train_error, test_error))\n",
    "print('train/test: {}'.format(round(test_error/train_error, 1)))\n",
    "print ('-'*40)\n",
    "fpr, tpr, thresholds = roc_curve(y_test, prediction)\n",
    "plot_roc_curve(fpr, tpr)"
   ]
  },
  {
   "cell_type": "code",
   "execution_count": 65,
   "metadata": {},
   "outputs": [
    {
     "name": "stdout",
     "output_type": "stream",
     "text": [
      "----------------------------------------\n",
      "Accuracy score:\n",
      "0.8158593231585932\n",
      "----------------------------------------\n",
      "Confusion Matrix:\n",
      "[[4241  270]\n",
      " [ 840  677]]\n",
      "----------------------------------------\n",
      "Classification Matrix:\n",
      "              precision    recall  f1-score   support\n",
      "\n",
      "           0       0.83      0.94      0.88      4511\n",
      "           1       0.71      0.45      0.55      1517\n",
      "\n",
      "    accuracy                           0.82      6028\n",
      "   macro avg       0.77      0.69      0.72      6028\n",
      "weighted avg       0.80      0.82      0.80      6028\n",
      "\n",
      "----------------------------------------\n",
      "AUC : 0.69\n",
      "----------------------------------------\n",
      "train error: 0.187 | test error: 0.184\n",
      "train/test: 1.0\n",
      "----------------------------------------\n"
     ]
    },
    {
     "data": {
      "image/png": "[encoded data removed]",
      "text/plain": [
       "<Figure size 432x288 with 1 Axes>"
      ]
     },
     "metadata": {
      "needs_background": "light"
     },
     "output_type": "display_data"
    }
   ],
   "source": [
    "# Gaussian Naive Bayes\n",
    "\n",
    "gnb = GaussianNB()\n",
    "gnb.fit(X_train,y_train)\n",
    "prediction = gnb.predict(X_test)\n",
    "\n",
    "print ('-'*40)\n",
    "print ('Accuracy score:')\n",
    "print (accuracy_score(y_test,prediction))\n",
    "print ('-'*40)\n",
    "print ('Confusion Matrix:')\n",
    "print (confusion_matrix(y_test,prediction))\n",
    "print ('-'*40)\n",
    "print ('Classification Matrix:')\n",
    "print (classification_report(y_test,prediction))\n",
    "print ('-'*40)\n",
    "auc = roc_auc_score(y_test,prediction)\n",
    "print('AUC : %.2f' %auc)\n",
    "print ('-'*40)\n",
    "train_error, test_error = calc_metrics(X_train, y_train, X_test, y_test, gnb)\n",
    "train_error, test_error = round(train_error, 3), round(test_error, 3)\n",
    "print('train error: {} | test error: {}'.format(train_error, test_error))\n",
    "print('train/test: {}'.format(round(test_error/train_error, 1)))\n",
    "print ('-'*40)\n",
    "fpr, tpr, thresholds = roc_curve(y_test, prediction)\n",
    "plot_roc_curve(fpr, tpr)"
   ]
  },
  {
   "cell_type": "code",
   "execution_count": 66,
   "metadata": {},
   "outputs": [
    {
     "name": "stdout",
     "output_type": "stream",
     "text": [
      "----------------------------------------\n",
      "Accuracy score:\n",
      "0.8201725282017253\n",
      "----------------------------------------\n",
      "Confusion Matrix:\n",
      "[[4041  470]\n",
      " [ 614  903]]\n",
      "----------------------------------------\n",
      "Classification Matrix:\n",
      "              precision    recall  f1-score   support\n",
      "\n",
      "           0       0.87      0.90      0.88      4511\n",
      "           1       0.66      0.60      0.62      1517\n",
      "\n",
      "    accuracy                           0.82      6028\n",
      "   macro avg       0.76      0.75      0.75      6028\n",
      "weighted avg       0.82      0.82      0.82      6028\n",
      "\n",
      "----------------------------------------\n",
      "AUC : 0.75\n",
      "----------------------------------------\n",
      "train error: 0.05 | test error: 0.179\n",
      "train/test: 3.6\n",
      "----------------------------------------\n"
     ]
    },
    {
     "data": {
      "image/png": "[encoded data removed]",
      "text/plain": [
       "<Figure size 432x288 with 1 Axes>"
      ]
     },
     "metadata": {
      "needs_background": "light"
     },
     "output_type": "display_data"
    }
   ],
   "source": [
    "# Decision Tree\n",
    "\n",
    "dt = DecisionTreeClassifier()\n",
    "dt.fit(X_train,y_train)\n",
    "prediction = dt.predict(X_test)\n",
    "\n",
    "print ('-'*40)\n",
    "print ('Accuracy score:')\n",
    "print (accuracy_score(y_test,prediction))\n",
    "print ('-'*40)\n",
    "print ('Confusion Matrix:')\n",
    "print (confusion_matrix(y_test,prediction))\n",
    "print ('-'*40)\n",
    "print ('Classification Matrix:')\n",
    "print (classification_report(y_test,prediction))\n",
    "print ('-'*40)\n",
    "auc = roc_auc_score(y_test,prediction)\n",
    "print('AUC : %.2f' %auc)\n",
    "print ('-'*40)\n",
    "train_error, test_error = calc_metrics(X_train, y_train, X_test, y_test, dt)\n",
    "train_error, test_error = round(train_error, 3), round(test_error, 3)\n",
    "print('train error: {} | test error: {}'.format(train_error, test_error))\n",
    "print('train/test: {}'.format(round(test_error/train_error, 1)))\n",
    "print ('-'*40)\n",
    "fpr, tpr, thresholds = roc_curve(y_test, prediction)\n",
    "plot_roc_curve(fpr, tpr)"
   ]
  },
  {
   "cell_type": "code",
   "execution_count": 67,
   "metadata": {},
   "outputs": [
    {
     "name": "stdout",
     "output_type": "stream",
     "text": [
      "----------------------------------------\n",
      "Accuracy score:\n",
      "0.8183477106834771\n",
      "----------------------------------------\n",
      "Confusion Matrix:\n",
      "[[4176  335]\n",
      " [ 760  757]]\n",
      "----------------------------------------\n",
      "Classification Matrix:\n",
      "              precision    recall  f1-score   support\n",
      "\n",
      "           0       0.85      0.93      0.88      4511\n",
      "           1       0.69      0.50      0.58      1517\n",
      "\n",
      "    accuracy                           0.82      6028\n",
      "   macro avg       0.77      0.71      0.73      6028\n",
      "weighted avg       0.81      0.82      0.81      6028\n",
      "\n",
      "----------------------------------------\n",
      "AUC : 0.71\n",
      "----------------------------------------\n",
      "train error: 0.151 | test error: 0.182\n",
      "train/test: 1.2\n",
      "----------------------------------------\n"
     ]
    },
    {
     "data": {
      "image/png": "[encoded data removed]",
      "text/plain": [
       "<Figure size 432x288 with 1 Axes>"
      ]
     },
     "metadata": {
      "needs_background": "light"
     },
     "output_type": "display_data"
    }
   ],
   "source": [
    "# Support Vector Machines\n",
    "\n",
    "svm = SVC()\n",
    "svm.fit(X_train,y_train)\n",
    "prediction = svm.predict(X_test)\n",
    "\n",
    "print ('-'*40)\n",
    "print ('Accuracy score:')\n",
    "print (accuracy_score(y_test,prediction))\n",
    "print ('-'*40)\n",
    "print ('Confusion Matrix:')\n",
    "print (confusion_matrix(y_test,prediction))\n",
    "print ('-'*40)\n",
    "print ('Classification Matrix:')\n",
    "print (classification_report(y_test,prediction))\n",
    "print ('-'*40)\n",
    "auc = roc_auc_score(y_test,prediction)\n",
    "print('AUC : %.2f' %auc)\n",
    "print ('-'*40)\n",
    "train_error, test_error = calc_metrics(X_train, y_train, X_test, y_test, svm)\n",
    "train_error, test_error = round(train_error, 3), round(test_error, 3)\n",
    "print('train error: {} | test error: {}'.format(train_error, test_error))\n",
    "print('train/test: {}'.format(round(test_error/train_error, 1)))\n",
    "print ('-'*40)\n",
    "fpr, tpr, thresholds = roc_curve(y_test, prediction)\n",
    "plot_roc_curve(fpr, tpr)"
   ]
  },
  {
   "cell_type": "code",
   "execution_count": 68,
   "metadata": {},
   "outputs": [
    {
     "name": "stdout",
     "output_type": "stream",
     "text": [
      "----------------------------------------\n",
      "Accuracy score:\n",
      "0.8599867285998672\n",
      "----------------------------------------\n",
      "Confusion Matrix:\n",
      "[[4279  232]\n",
      " [ 612  905]]\n",
      "----------------------------------------\n",
      "Classification Matrix:\n",
      "              precision    recall  f1-score   support\n",
      "\n",
      "           0       0.87      0.95      0.91      4511\n",
      "           1       0.80      0.60      0.68      1517\n",
      "\n",
      "    accuracy                           0.86      6028\n",
      "   macro avg       0.84      0.77      0.80      6028\n",
      "weighted avg       0.86      0.86      0.85      6028\n",
      "\n",
      "----------------------------------------\n",
      "AUC : 0.77\n",
      "----------------------------------------\n",
      "train error: 0.138 | test error: 0.14\n",
      "train/test: 1.0\n",
      "----------------------------------------\n"
     ]
    },
    {
     "data": {
      "image/png": "[encoded data removed]",
      "text/plain": [
       "<Figure size 432x288 with 1 Axes>"
      ]
     },
     "metadata": {
      "needs_background": "light"
     },
     "output_type": "display_data"
    }
   ],
   "source": [
    "# Gradient Boosting Classifier\n",
    "\n",
    "gbc = GradientBoostingClassifier()\n",
    "gbc.fit(X_train, y_train)\n",
    "prediction = gbc.predict(X_test)\n",
    "\n",
    "print ('-'*40)\n",
    "print ('Accuracy score:')\n",
    "print (accuracy_score(y_test,prediction))\n",
    "print ('-'*40)\n",
    "print ('Confusion Matrix:')\n",
    "print (confusion_matrix(y_test,prediction))\n",
    "print ('-'*40)\n",
    "print ('Classification Matrix:')\n",
    "print (classification_report(y_test,prediction))\n",
    "print ('-'*40)\n",
    "auc = roc_auc_score(y_test,prediction)\n",
    "print('AUC : %.2f' %auc)\n",
    "print ('-'*40)\n",
    "train_error, test_error = calc_metrics(X_train, y_train, X_test, y_test, gbc)\n",
    "train_error, test_error = round(train_error, 3), round(test_error, 3)\n",
    "print('train error: {} | test error: {}'.format(train_error, test_error))\n",
    "print('train/test: {}'.format(round(test_error/train_error, 1)))\n",
    "print ('-'*40)\n",
    "fpr, tpr, thresholds = roc_curve(y_test, prediction)\n",
    "plot_roc_curve(fpr, tpr)"
   ]
  },
  {
   "cell_type": "code",
   "execution_count": 69,
   "metadata": {},
   "outputs": [
    {
     "name": "stdout",
     "output_type": "stream",
     "text": [
      "----------------------------------------\n",
      "Accuracy score:\n",
      "0.8576642335766423\n",
      "----------------------------------------\n",
      "Confusion Matrix:\n",
      "[[4267  244]\n",
      " [ 614  903]]\n",
      "----------------------------------------\n",
      "Classification Matrix:\n",
      "              precision    recall  f1-score   support\n",
      "\n",
      "           0       0.87      0.95      0.91      4511\n",
      "           1       0.79      0.60      0.68      1517\n",
      "\n",
      "    accuracy                           0.86      6028\n",
      "   macro avg       0.83      0.77      0.79      6028\n",
      "weighted avg       0.85      0.86      0.85      6028\n",
      "\n",
      "----------------------------------------\n",
      "AUC : 0.77\n",
      "----------------------------------------\n",
      "train error: 0.139 | test error: 0.142\n",
      "train/test: 1.0\n",
      "----------------------------------------\n"
     ]
    },
    {
     "data": {
      "image/png": "[encoded data removed]",
      "text/plain": [
       "<Figure size 432x288 with 1 Axes>"
      ]
     },
     "metadata": {
      "needs_background": "light"
     },
     "output_type": "display_data"
    }
   ],
   "source": [
    "# XGBoost Classifier\n",
    "\n",
    "xgbc = XGBClassifier()\n",
    "xgbc.fit(X_train,y_train)\n",
    "prediction = xgbc.predict(X_test)\n",
    "\n",
    "print ('-'*40)\n",
    "print ('Accuracy score:')\n",
    "print (accuracy_score(y_test,prediction))\n",
    "print ('-'*40)\n",
    "print ('Confusion Matrix:')\n",
    "print (confusion_matrix(y_test,prediction))\n",
    "print ('-'*40)\n",
    "print ('Classification Matrix:')\n",
    "print (classification_report(y_test,prediction))\n",
    "print ('-'*40)\n",
    "auc = roc_auc_score(y_test,prediction)\n",
    "print('AUC : %.2f' %auc)\n",
    "print ('-'*40)\n",
    "train_error, test_error = calc_metrics(X_train, y_train, X_test, y_test, xgbc)\n",
    "train_error, test_error = round(train_error, 3), round(test_error, 3)\n",
    "print('train error: {} | test error: {}'.format(train_error, test_error))\n",
    "print('train/test: {}'.format(round(test_error/train_error, 1)))\n",
    "print ('-'*40)\n",
    "fpr, tpr, thresholds = roc_curve(y_test, prediction)\n",
    "plot_roc_curve(fpr, tpr)"
   ]
  },
  {
   "cell_type": "markdown",
   "metadata": {},
   "source": [
    "## Observing AUC score and other validation values we come to a conclusion that Gradient Boosting gives best accuracy. We will still try to fine tune it."
   ]
  },
  {
   "cell_type": "markdown",
   "metadata": {},
   "source": [
    "# Feature Importance - Gradient Boosting"
   ]
  },
  {
   "cell_type": "code",
   "execution_count": 70,
   "metadata": {},
   "outputs": [
    {
     "data": {
      "image/png": "[encoded data removed]",
      "text/plain": [
       "<Figure size 504x288 with 1 Axes>"
      ]
     },
     "metadata": {
      "needs_background": "light"
     },
     "output_type": "display_data"
    }
   ],
   "source": [
    "tmp = pd.DataFrame({'Feature': X, 'Feature importance': gbc.feature_importances_})\n",
    "tmp = tmp.sort_values(by='Feature importance',ascending=False)\n",
    "plt.figure(figsize = (7,4))\n",
    "plt.title('Features importance',fontsize=14)\n",
    "s = sns.barplot(x='Feature',y='Feature importance',data=tmp)\n",
    "s.set_xticklabels(s.get_xticklabels(),rotation=90)\n",
    "plt.show()  "
   ]
  },
  {
   "cell_type": "markdown",
   "metadata": {},
   "source": [
    "# Feature Importance - XGBoost Classifier"
   ]
  },
  {
   "cell_type": "code",
   "execution_count": 71,
   "metadata": {},
   "outputs": [
    {
     "data": {
      "image/png": "[encoded data removed]",
      "text/plain": [
       "<Figure size 504x288 with 1 Axes>"
      ]
     },
     "metadata": {
      "needs_background": "light"
     },
     "output_type": "display_data"
    }
   ],
   "source": [
    "tmp = pd.DataFrame({'Feature': X, 'Feature importance': xgbc.feature_importances_})\n",
    "tmp = tmp.sort_values(by='Feature importance',ascending=False)\n",
    "plt.figure(figsize = (7,4))\n",
    "plt.title('Features importance',fontsize=14)\n",
    "s = sns.barplot(x='Feature',y='Feature importance',data=tmp)\n",
    "s.set_xticklabels(s.get_xticklabels(),rotation=90)\n",
    "plt.show()  "
   ]
  },
  {
   "cell_type": "markdown",
   "metadata": {},
   "source": [
    "<b>All features are important. We cannot drop any attribute</b>"
   ]
  },
  {
   "cell_type": "markdown",
   "metadata": {},
   "source": [
    "# Hyper Parameter Tuning - Gradient Boosting"
   ]
  },
  {
   "cell_type": "code",
   "execution_count": 72,
   "metadata": {},
   "outputs": [],
   "source": [
    "# We will do series of runs from the values given below\n",
    "\n",
    "#random_state = 42\n",
    "#learning_rates = [1, 0.5, 0.25, 0.1, 0.05, 0.01,0.8]\n",
    "#n_estimators = [1, 2, 4, 8, 16, 32, 64, 100, 200]\n",
    "#max_depth = [1,2,3,4,5,6,7,8,9,10 till 32]\n",
    "#min_samples_split = [0.1 to 1.0] ## degrades the accuracy means it is underfitting so we ignore it\n",
    "#min_samples_leaf = [0.10,0.15 till 0.45,0.50] ## degrades the accuracy means it is underfitting so we ignore it\n",
    "#max_features = [1 till 11] ## since we have 11 features in X_test/train ##we get best accuracy at value=11 which is also the default value"
   ]
  },
  {
   "cell_type": "code",
   "execution_count": 73,
   "metadata": {},
   "outputs": [
    {
     "name": "stdout",
     "output_type": "stream",
     "text": [
      "----------------------------------------\n",
      "Accuracy score:\n",
      "0.8651293961512939\n",
      "----------------------------------------\n",
      "Confusion Matrix:\n",
      "[[4238  273]\n",
      " [ 540  977]]\n",
      "----------------------------------------\n",
      "Classification Matrix:\n",
      "              precision    recall  f1-score   support\n",
      "\n",
      "           0       0.89      0.94      0.91      4511\n",
      "           1       0.78      0.64      0.71      1517\n",
      "\n",
      "    accuracy                           0.87      6028\n",
      "   macro avg       0.83      0.79      0.81      6028\n",
      "weighted avg       0.86      0.87      0.86      6028\n",
      "\n",
      "----------------------------------------\n",
      "AUC : 0.79\n",
      "----------------------------------------\n",
      "train error: 0.128 | test error: 0.135\n",
      "train/test: 1.1\n",
      "----------------------------------------\n"
     ]
    },
    {
     "data": {
      "image/png": "[encoded data removed]",
      "text/plain": [
       "<Figure size 432x288 with 1 Axes>"
      ]
     },
     "metadata": {
      "needs_background": "light"
     },
     "output_type": "display_data"
    }
   ],
   "source": [
    "# Gradient Boosting Classifier\n",
    "# 0.8651293961512939\n",
    "gbc = GradientBoostingClassifier(random_state=42,learning_rate = 0.25,n_estimators=125,max_depth=3) #best values as per iterations\n",
    "gbc.fit(X_train, y_train)\n",
    "prediction = gbc.predict(X_test)\n",
    "print ('-'*40)\n",
    "print ('Accuracy score:')\n",
    "print (accuracy_score(y_test,prediction))\n",
    "print ('-'*40)\n",
    "print ('Confusion Matrix:')\n",
    "print (confusion_matrix(y_test,prediction))\n",
    "print ('-'*40)\n",
    "print ('Classification Matrix:')\n",
    "print (classification_report(y_test,prediction))\n",
    "print ('-'*40)\n",
    "auc = roc_auc_score(y_test,prediction)\n",
    "print('AUC : %.2f' %auc)\n",
    "print ('-'*40)\n",
    "train_error, test_error = calc_metrics(X_train, y_train, X_test, y_test, gbc)\n",
    "train_error, test_error = round(train_error, 3), round(test_error, 3)\n",
    "print('train error: {} | test error: {}'.format(train_error, test_error))\n",
    "print('train/test: {}'.format(round(test_error/train_error, 1)))\n",
    "print ('-'*40)\n",
    "fpr, tpr, thresholds = roc_curve(y_test, prediction)\n",
    "plot_roc_curve(fpr, tpr)"
   ]
  },
  {
   "cell_type": "markdown",
   "metadata": {},
   "source": [
    "# Hyper Parameter Tuning - XGBoost Classifier"
   ]
  },
  {
   "cell_type": "code",
   "execution_count": 74,
   "metadata": {},
   "outputs": [],
   "source": [
    "# We will do series of runs from the values given below\n",
    "\n",
    "#max_depth = [3 to 10]\n",
    "#min_child_weight = [1 to 6]\n",
    "#gamma = [0 to 0.5]\n",
    "#subsample = [0.6,0.7,0.8,0.9]\n",
    "#colsample_bytree = [0.6,0.7,0.8,0.9] ##accuracy degraded so ignored\n",
    "#reg_alpha = [0, 0.001, 0.005, 0.01, 0.05]\n",
    "#learning_rate = [0 to 1]\n",
    "#n_estimators = [0 to 100]"
   ]
  },
  {
   "cell_type": "code",
   "execution_count": 75,
   "metadata": {},
   "outputs": [
    {
     "name": "stdout",
     "output_type": "stream",
     "text": [
      "----------------------------------------\n",
      "Accuracy score:\n",
      "0.8647976111479762\n",
      "----------------------------------------\n",
      "Confusion Matrix:\n",
      "[[4233  278]\n",
      " [ 537  980]]\n",
      "----------------------------------------\n",
      "Classification Matrix:\n",
      "              precision    recall  f1-score   support\n",
      "\n",
      "           0       0.89      0.94      0.91      4511\n",
      "           1       0.78      0.65      0.71      1517\n",
      "\n",
      "    accuracy                           0.86      6028\n",
      "   macro avg       0.83      0.79      0.81      6028\n",
      "weighted avg       0.86      0.86      0.86      6028\n",
      "\n",
      "----------------------------------------\n",
      "AUC : 0.79\n",
      "----------------------------------------\n",
      "train error: 0.13 | test error: 0.135\n",
      "train/test: 1.0\n",
      "----------------------------------------\n"
     ]
    },
    {
     "data": {
      "image/png": "[encoded data removed]",
      "text/plain": [
       "<Figure size 432x288 with 1 Axes>"
      ]
     },
     "metadata": {
      "needs_background": "light"
     },
     "output_type": "display_data"
    }
   ],
   "source": [
    "# XGBoost Classifier\n",
    "#0.8647976111479762\n",
    "xgbc = XGBClassifier(max_depth=5,min_child_weight=1,gamma=0.5,subsample=0.7,objective= 'binary:logistic', \n",
    "                     nthread=4, scale_pos_weight=1,seed=27,reg_alpha=0.05,learning_rate=0.1,n_estimators=100)\n",
    "xgbc.fit(X_train,y_train)\n",
    "prediction = xgbc.predict(X_test)\n",
    "\n",
    "print ('-'*40)\n",
    "print ('Accuracy score:')\n",
    "print (accuracy_score(y_test,prediction))\n",
    "print ('-'*40)\n",
    "print ('Confusion Matrix:')\n",
    "print (confusion_matrix(y_test,prediction))\n",
    "print ('-'*40)\n",
    "print ('Classification Matrix:')\n",
    "print (classification_report(y_test,prediction))\n",
    "print ('-'*40)\n",
    "auc = roc_auc_score(y_test,prediction)\n",
    "print('AUC : %.2f' %auc)\n",
    "print ('-'*40)\n",
    "train_error, test_error = calc_metrics(X_train, y_train, X_test, y_test, xgbc)\n",
    "train_error, test_error = round(train_error, 3), round(test_error, 3)\n",
    "print('train error: {} | test error: {}'.format(train_error, test_error))\n",
    "print('train/test: {}'.format(round(test_error/train_error, 1)))\n",
    "print ('-'*40)\n",
    "fpr, tpr, thresholds = roc_curve(y_test, prediction)\n",
    "plot_roc_curve(fpr, tpr)"
   ]
  },
  {
   "cell_type": "markdown",
   "metadata": {},
   "source": [
    "# Conclusion : After Hyper Parameter tuning Gradient Boosting gives best results . Accuracy is almost 87 %. Train and test error has also reduced."
   ]
  },
  {
   "cell_type": "code",
   "execution_count": null,
   "metadata": {},
   "outputs": [],
   "source": []
  }
 ],
 "metadata": {
  "kernelspec": {
   "display_name": "Python 3",
   "language": "python",
   "name": "python3"
  },
  "language_info": {
   "codemirror_mode": {
    "name": "ipython",
    "version": 3
   },
   "file_extension": ".py",
   "mimetype": "text/x-python",
   "name": "python",
   "nbconvert_exporter": "python",
   "pygments_lexer": "ipython3",
   "version": "3.7.3"
  }
 },
 "nbformat": 4,
 "nbformat_minor": 2
}
